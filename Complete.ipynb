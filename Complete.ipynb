{
 "cells": [
  {
   "cell_type": "markdown",
   "id": "c4bcb16d",
   "metadata": {},
   "source": [
    "# Day-1"
   ]
  },
  {
   "cell_type": "code",
   "execution_count": 1,
   "id": "46234f4b",
   "metadata": {},
   "outputs": [
    {
     "name": "stdout",
     "output_type": "stream",
     "text": [
      "satyakumar\n"
     ]
    }
   ],
   "source": [
    "print(\"satyakumar\")"
   ]
  },
  {
   "cell_type": "code",
   "execution_count": 2,
   "id": "c8c604a5",
   "metadata": {},
   "outputs": [],
   "source": [
    "a=34"
   ]
  },
  {
   "cell_type": "code",
   "execution_count": 3,
   "id": "663bd1ee",
   "metadata": {},
   "outputs": [
    {
     "name": "stdout",
     "output_type": "stream",
     "text": [
      "34\n"
     ]
    }
   ],
   "source": [
    "print(a)"
   ]
  },
  {
   "cell_type": "markdown",
   "id": "82ca7f1f",
   "metadata": {},
   "source": [
    "# variables "
   ]
  },
  {
   "cell_type": "code",
   "execution_count": 4,
   "id": "9ae74cdb",
   "metadata": {},
   "outputs": [],
   "source": [
    "# variable is a data container\n"
   ]
  },
  {
   "cell_type": "code",
   "execution_count": 5,
   "id": "baf69fc4",
   "metadata": {},
   "outputs": [],
   "source": [
    "# variable declaration rules"
   ]
  },
  {
   "cell_type": "code",
   "execution_count": 6,
   "id": "63e93c53",
   "metadata": {},
   "outputs": [],
   "source": [
    "Prog6=89 # valid variable name"
   ]
  },
  {
   "cell_type": "code",
   "execution_count": 7,
   "id": "98c5755a",
   "metadata": {},
   "outputs": [
    {
     "ename": "SyntaxError",
     "evalue": "invalid syntax (<ipython-input-7-bf94cac614c9>, line 1)",
     "output_type": "error",
     "traceback": [
      "\u001b[1;36m  File \u001b[1;32m\"<ipython-input-7-bf94cac614c9>\"\u001b[1;36m, line \u001b[1;32m1\u001b[0m\n\u001b[1;33m    4prg=89\u001b[0m\n\u001b[1;37m     ^\u001b[0m\n\u001b[1;31mSyntaxError\u001b[0m\u001b[1;31m:\u001b[0m invalid syntax\n"
     ]
    }
   ],
   "source": [
    "4prg=89 # invalid variable name"
   ]
  },
  {
   "cell_type": "code",
   "execution_count": 8,
   "id": "71ae0742",
   "metadata": {},
   "outputs": [
    {
     "ename": "SyntaxError",
     "evalue": "invalid syntax (<ipython-input-8-b4c2121d5fec>, line 1)",
     "output_type": "error",
     "traceback": [
      "\u001b[1;36m  File \u001b[1;32m\"<ipython-input-8-b4c2121d5fec>\"\u001b[1;36m, line \u001b[1;32m1\u001b[0m\n\u001b[1;33m    @prog=89\u001b[0m\n\u001b[1;37m         ^\u001b[0m\n\u001b[1;31mSyntaxError\u001b[0m\u001b[1;31m:\u001b[0m invalid syntax\n"
     ]
    }
   ],
   "source": [
    "@prog=89 # invalid variable name"
   ]
  },
  {
   "cell_type": "code",
   "execution_count": 9,
   "id": "04b57b09",
   "metadata": {},
   "outputs": [
    {
     "name": "stderr",
     "output_type": "stream",
     "text": [
      "UsageError: Line magic function `%prog=89` not found.\n"
     ]
    }
   ],
   "source": [
    "%prog=89  # invalid variable name"
   ]
  },
  {
   "cell_type": "code",
   "execution_count": 10,
   "id": "c33091da",
   "metadata": {},
   "outputs": [],
   "source": [
    "_prog=89 # valid variable name"
   ]
  },
  {
   "cell_type": "code",
   "execution_count": 11,
   "id": "7e4c0490",
   "metadata": {},
   "outputs": [],
   "source": [
    "prog_4=89 # valoid variable name"
   ]
  },
  {
   "cell_type": "code",
   "execution_count": 12,
   "id": "ed1860e7",
   "metadata": {},
   "outputs": [
    {
     "ename": "SyntaxError",
     "evalue": "invalid syntax (<ipython-input-12-91e012990b57>, line 1)",
     "output_type": "error",
     "traceback": [
      "\u001b[1;36m  File \u001b[1;32m\"<ipython-input-12-91e012990b57>\"\u001b[1;36m, line \u001b[1;32m1\u001b[0m\n\u001b[1;33m    del =89\u001b[0m\n\u001b[1;37m        ^\u001b[0m\n\u001b[1;31mSyntaxError\u001b[0m\u001b[1;31m:\u001b[0m invalid syntax\n"
     ]
    }
   ],
   "source": [
    "del =89 # invalid variable"
   ]
  },
  {
   "cell_type": "code",
   "execution_count": 13,
   "id": "7345e011",
   "metadata": {},
   "outputs": [
    {
     "ename": "SyntaxError",
     "evalue": "invalid syntax (<ipython-input-13-cc1bb892f82b>, line 1)",
     "output_type": "error",
     "traceback": [
      "\u001b[1;36m  File \u001b[1;32m\"<ipython-input-13-cc1bb892f82b>\"\u001b[1;36m, line \u001b[1;32m1\u001b[0m\n\u001b[1;33m    prog 4=89\u001b[0m\n\u001b[1;37m         ^\u001b[0m\n\u001b[1;31mSyntaxError\u001b[0m\u001b[1;31m:\u001b[0m invalid syntax\n"
     ]
    }
   ],
   "source": [
    "prog 4=89 # invalid variable"
   ]
  },
  {
   "cell_type": "markdown",
   "id": "fea045c6",
   "metadata": {},
   "source": [
    "# variables"
   ]
  },
  {
   "cell_type": "code",
   "execution_count": 14,
   "id": "2ec32b2d",
   "metadata": {},
   "outputs": [],
   "source": [
    "# number type\n",
    "#1. int\n",
    "#2. float\n",
    "#3.complex "
   ]
  },
  {
   "cell_type": "code",
   "execution_count": 15,
   "id": "3f08a92f",
   "metadata": {},
   "outputs": [],
   "source": [
    "a=23"
   ]
  },
  {
   "cell_type": "code",
   "execution_count": 16,
   "id": "29fbb61b",
   "metadata": {},
   "outputs": [],
   "source": [
    "#type() is a function which returns type of data "
   ]
  },
  {
   "cell_type": "code",
   "execution_count": 17,
   "id": "5e7e8d8d",
   "metadata": {},
   "outputs": [
    {
     "data": {
      "text/plain": [
       "int"
      ]
     },
     "execution_count": 17,
     "metadata": {},
     "output_type": "execute_result"
    }
   ],
   "source": [
    "type(a)"
   ]
  },
  {
   "cell_type": "code",
   "execution_count": 18,
   "id": "727c47cf",
   "metadata": {},
   "outputs": [],
   "source": [
    "b=345678923"
   ]
  },
  {
   "cell_type": "code",
   "execution_count": 19,
   "id": "7a929a5e",
   "metadata": {},
   "outputs": [
    {
     "data": {
      "text/plain": [
       "int"
      ]
     },
     "execution_count": 19,
     "metadata": {},
     "output_type": "execute_result"
    }
   ],
   "source": [
    "type(b)"
   ]
  },
  {
   "cell_type": "code",
   "execution_count": 20,
   "id": "ee4d35bf",
   "metadata": {},
   "outputs": [],
   "source": [
    "c=-789"
   ]
  },
  {
   "cell_type": "code",
   "execution_count": 21,
   "id": "bfd8e32d",
   "metadata": {},
   "outputs": [
    {
     "data": {
      "text/plain": [
       "int"
      ]
     },
     "execution_count": 21,
     "metadata": {},
     "output_type": "execute_result"
    }
   ],
   "source": [
    "type(c)"
   ]
  },
  {
   "cell_type": "code",
   "execution_count": 22,
   "id": "cd4b3054",
   "metadata": {},
   "outputs": [],
   "source": [
    "#float"
   ]
  },
  {
   "cell_type": "code",
   "execution_count": 23,
   "id": "dfb72974",
   "metadata": {},
   "outputs": [],
   "source": [
    "a=89.67"
   ]
  },
  {
   "cell_type": "code",
   "execution_count": 24,
   "id": "bd7c20dc",
   "metadata": {},
   "outputs": [
    {
     "data": {
      "text/plain": [
       "float"
      ]
     },
     "execution_count": 24,
     "metadata": {},
     "output_type": "execute_result"
    }
   ],
   "source": [
    "type(a)"
   ]
  },
  {
   "cell_type": "code",
   "execution_count": 25,
   "id": "a4b76e07",
   "metadata": {},
   "outputs": [],
   "source": [
    "b=456.78934567899"
   ]
  },
  {
   "cell_type": "code",
   "execution_count": 26,
   "id": "dda20a0e",
   "metadata": {},
   "outputs": [
    {
     "data": {
      "text/plain": [
       "float"
      ]
     },
     "execution_count": 26,
     "metadata": {},
     "output_type": "execute_result"
    }
   ],
   "source": [
    "type(b)"
   ]
  },
  {
   "cell_type": "code",
   "execution_count": 27,
   "id": "76cd2257",
   "metadata": {},
   "outputs": [],
   "source": [
    "c=-67.9087"
   ]
  },
  {
   "cell_type": "code",
   "execution_count": 28,
   "id": "77a97385",
   "metadata": {},
   "outputs": [
    {
     "data": {
      "text/plain": [
       "float"
      ]
     },
     "execution_count": 28,
     "metadata": {},
     "output_type": "execute_result"
    }
   ],
   "source": [
    "type(c)"
   ]
  },
  {
   "cell_type": "code",
   "execution_count": 29,
   "id": "5fefd5cf",
   "metadata": {},
   "outputs": [],
   "source": [
    "#complex"
   ]
  },
  {
   "cell_type": "code",
   "execution_count": 30,
   "id": "a001524a",
   "metadata": {},
   "outputs": [],
   "source": [
    "a=5+9j\n",
    "b=3-8j\n",
    "c=-9j"
   ]
  },
  {
   "cell_type": "code",
   "execution_count": 31,
   "id": "4488c0e2",
   "metadata": {},
   "outputs": [
    {
     "name": "stdout",
     "output_type": "stream",
     "text": [
      "<class 'complex'>\n",
      "<class 'complex'>\n",
      "<class 'complex'>\n"
     ]
    }
   ],
   "source": [
    "print(type(a))\n",
    "print(type(b))\n",
    "print(type(c))"
   ]
  },
  {
   "cell_type": "code",
   "execution_count": 32,
   "id": "72e15d98",
   "metadata": {},
   "outputs": [],
   "source": [
    "a,b,c=10,20,30"
   ]
  },
  {
   "cell_type": "code",
   "execution_count": 33,
   "id": "5fe589ad",
   "metadata": {},
   "outputs": [
    {
     "name": "stdout",
     "output_type": "stream",
     "text": [
      "10\n"
     ]
    }
   ],
   "source": [
    "print(a)"
   ]
  },
  {
   "cell_type": "code",
   "execution_count": 34,
   "id": "a653f7f1",
   "metadata": {},
   "outputs": [
    {
     "name": "stdout",
     "output_type": "stream",
     "text": [
      "20\n"
     ]
    }
   ],
   "source": [
    "print(b)"
   ]
  },
  {
   "cell_type": "code",
   "execution_count": 35,
   "id": "d466e161",
   "metadata": {},
   "outputs": [
    {
     "name": "stdout",
     "output_type": "stream",
     "text": [
      "30\n"
     ]
    }
   ],
   "source": [
    "print(c)"
   ]
  },
  {
   "cell_type": "code",
   "execution_count": 36,
   "id": "7ffbc59a",
   "metadata": {},
   "outputs": [],
   "source": [
    "#assign same value to multiple variables"
   ]
  },
  {
   "cell_type": "code",
   "execution_count": 38,
   "id": "12fee3e0",
   "metadata": {},
   "outputs": [],
   "source": [
    "a=b=c=89"
   ]
  },
  {
   "cell_type": "code",
   "execution_count": 39,
   "id": "c9d05d85",
   "metadata": {},
   "outputs": [
    {
     "name": "stdout",
     "output_type": "stream",
     "text": [
      "89\n"
     ]
    }
   ],
   "source": [
    "print(a)"
   ]
  },
  {
   "cell_type": "code",
   "execution_count": 40,
   "id": "a54ec3f1",
   "metadata": {},
   "outputs": [
    {
     "name": "stdout",
     "output_type": "stream",
     "text": [
      "89\n"
     ]
    }
   ],
   "source": [
    "print(b)"
   ]
  },
  {
   "cell_type": "code",
   "execution_count": 41,
   "id": "a9b181b8",
   "metadata": {},
   "outputs": [
    {
     "name": "stdout",
     "output_type": "stream",
     "text": [
      "89\n"
     ]
    }
   ],
   "source": [
    "print(c)"
   ]
  },
  {
   "cell_type": "code",
   "execution_count": 42,
   "id": "6de7914e",
   "metadata": {},
   "outputs": [],
   "source": [
    "#string variables"
   ]
  },
  {
   "cell_type": "code",
   "execution_count": 47,
   "id": "48245c6a",
   "metadata": {},
   "outputs": [],
   "source": [
    "a = 'python programming'"
   ]
  },
  {
   "cell_type": "code",
   "execution_count": 48,
   "id": "1a8794ab",
   "metadata": {},
   "outputs": [
    {
     "name": "stdout",
     "output_type": "stream",
     "text": [
      "python programming\n"
     ]
    }
   ],
   "source": [
    "print(a)"
   ]
  },
  {
   "cell_type": "code",
   "execution_count": 49,
   "id": "4a6cff11",
   "metadata": {},
   "outputs": [],
   "source": [
    "b='101'"
   ]
  },
  {
   "cell_type": "code",
   "execution_count": 50,
   "id": "376cf75b",
   "metadata": {},
   "outputs": [
    {
     "data": {
      "text/plain": [
       "str"
      ]
     },
     "execution_count": 50,
     "metadata": {},
     "output_type": "execute_result"
    }
   ],
   "source": [
    "type(b)"
   ]
  },
  {
   "cell_type": "code",
   "execution_count": 51,
   "id": "73893fb3",
   "metadata": {},
   "outputs": [],
   "source": [
    "#operators\n",
    "#1. arthimetic operators"
   ]
  },
  {
   "cell_type": "markdown",
   "id": "4eb4fbac",
   "metadata": {},
   "source": [
    "# operators"
   ]
  },
  {
   "cell_type": "markdown",
   "id": "10bc9091",
   "metadata": {},
   "source": [
    "1. addition +\n",
    "2. sub -\n",
    "3. mul *\n",
    "4. division /\n",
    "5. modulo %\n",
    "6. exponentation **\n",
    "7. floor division //"
   ]
  },
  {
   "cell_type": "code",
   "execution_count": 54,
   "id": "ac7490db",
   "metadata": {},
   "outputs": [],
   "source": [
    "# addition"
   ]
  },
  {
   "cell_type": "code",
   "execution_count": 53,
   "id": "d6897a64",
   "metadata": {},
   "outputs": [],
   "source": [
    "a=34\n",
    "b=78"
   ]
  },
  {
   "cell_type": "code",
   "execution_count": 55,
   "id": "2c76c492",
   "metadata": {},
   "outputs": [
    {
     "data": {
      "text/plain": [
       "112"
      ]
     },
     "execution_count": 55,
     "metadata": {},
     "output_type": "execute_result"
    }
   ],
   "source": [
    "a+b"
   ]
  },
  {
   "cell_type": "code",
   "execution_count": 56,
   "id": "f782d43d",
   "metadata": {},
   "outputs": [
    {
     "data": {
      "text/plain": [
       "-44"
      ]
     },
     "execution_count": 56,
     "metadata": {},
     "output_type": "execute_result"
    }
   ],
   "source": [
    "a-b"
   ]
  },
  {
   "cell_type": "code",
   "execution_count": 57,
   "id": "6473c0a4",
   "metadata": {},
   "outputs": [
    {
     "data": {
      "text/plain": [
       "2652"
      ]
     },
     "execution_count": 57,
     "metadata": {},
     "output_type": "execute_result"
    }
   ],
   "source": [
    "a*b"
   ]
  },
  {
   "cell_type": "code",
   "execution_count": 58,
   "id": "ce055c4a",
   "metadata": {},
   "outputs": [
    {
     "data": {
      "text/plain": [
       "0.4358974358974359"
      ]
     },
     "execution_count": 58,
     "metadata": {},
     "output_type": "execute_result"
    }
   ],
   "source": [
    "a/b"
   ]
  },
  {
   "cell_type": "code",
   "execution_count": 59,
   "id": "b7d57762",
   "metadata": {},
   "outputs": [],
   "source": [
    "#exponentation"
   ]
  },
  {
   "cell_type": "code",
   "execution_count": 60,
   "id": "f591ff95",
   "metadata": {},
   "outputs": [
    {
     "data": {
      "text/plain": [
       "285335317058486027411405324166464744463360460002598071329967949465250689557820764970048082035633315075321399848988573696"
      ]
     },
     "execution_count": 60,
     "metadata": {},
     "output_type": "execute_result"
    }
   ],
   "source": [
    "a**b"
   ]
  },
  {
   "cell_type": "code",
   "execution_count": 61,
   "id": "7e1e2e01",
   "metadata": {},
   "outputs": [
    {
     "data": {
      "text/plain": [
       "1336336"
      ]
     },
     "execution_count": 61,
     "metadata": {},
     "output_type": "execute_result"
    }
   ],
   "source": [
    "a**4"
   ]
  },
  {
   "cell_type": "code",
   "execution_count": 62,
   "id": "fae56765",
   "metadata": {},
   "outputs": [],
   "source": [
    "#floor division"
   ]
  },
  {
   "cell_type": "code",
   "execution_count": 63,
   "id": "9fde39c8",
   "metadata": {},
   "outputs": [],
   "source": [
    "# it returns previous whole number -- floor(lower bounds) --ceil (upper bounds )"
   ]
  },
  {
   "cell_type": "code",
   "execution_count": 64,
   "id": "d39338b5",
   "metadata": {},
   "outputs": [
    {
     "data": {
      "text/plain": [
       "0.4358974358974359"
      ]
     },
     "execution_count": 64,
     "metadata": {},
     "output_type": "execute_result"
    }
   ],
   "source": [
    "a/b"
   ]
  },
  {
   "cell_type": "code",
   "execution_count": 65,
   "id": "8b0d358f",
   "metadata": {},
   "outputs": [
    {
     "data": {
      "text/plain": [
       "2.2941176470588234"
      ]
     },
     "execution_count": 65,
     "metadata": {},
     "output_type": "execute_result"
    }
   ],
   "source": [
    "b/a"
   ]
  },
  {
   "cell_type": "code",
   "execution_count": 66,
   "id": "b0208f7a",
   "metadata": {},
   "outputs": [
    {
     "data": {
      "text/plain": [
       "2"
      ]
     },
     "execution_count": 66,
     "metadata": {},
     "output_type": "execute_result"
    }
   ],
   "source": [
    "b//a"
   ]
  },
  {
   "cell_type": "markdown",
   "id": "eb9de334",
   "metadata": {},
   "source": [
    "# Day-2"
   ]
  },
  {
   "cell_type": "markdown",
   "id": "9e7167c3",
   "metadata": {},
   "source": [
    "# comparision operators"
   ]
  },
  {
   "cell_type": "markdown",
   "id": "3e5e746b",
   "metadata": {},
   "source": [
    "1. Less than <\n",
    "2. Greater than >\n",
    "3. less than or equal to <=\n",
    "4. greater than or equal to >=\n",
    "5. equal to\n",
    "6. not equal to"
   ]
  },
  {
   "cell_type": "code",
   "execution_count": 68,
   "id": "3bd9a474",
   "metadata": {},
   "outputs": [],
   "source": [
    "# less than \n",
    "a=45\n",
    "b=78"
   ]
  },
  {
   "cell_type": "code",
   "execution_count": 118,
   "id": "efff7bb5",
   "metadata": {},
   "outputs": [
    {
     "data": {
      "text/plain": [
       "False"
      ]
     },
     "execution_count": 118,
     "metadata": {},
     "output_type": "execute_result"
    }
   ],
   "source": [
    "a==b"
   ]
  },
  {
   "cell_type": "code",
   "execution_count": 119,
   "id": "c065bdc7",
   "metadata": {},
   "outputs": [
    {
     "data": {
      "text/plain": [
       "True"
      ]
     },
     "execution_count": 119,
     "metadata": {},
     "output_type": "execute_result"
    }
   ],
   "source": [
    "a!=b"
   ]
  },
  {
   "cell_type": "code",
   "execution_count": 71,
   "id": "422b50a9",
   "metadata": {},
   "outputs": [
    {
     "data": {
      "text/plain": [
       "True"
      ]
     },
     "execution_count": 71,
     "metadata": {},
     "output_type": "execute_result"
    }
   ],
   "source": [
    "a<b"
   ]
  },
  {
   "cell_type": "code",
   "execution_count": 72,
   "id": "32faf359",
   "metadata": {},
   "outputs": [
    {
     "data": {
      "text/plain": [
       "False"
      ]
     },
     "execution_count": 72,
     "metadata": {},
     "output_type": "execute_result"
    }
   ],
   "source": [
    "# greater than \n",
    "a>b"
   ]
  },
  {
   "cell_type": "code",
   "execution_count": 75,
   "id": "50dd8092",
   "metadata": {},
   "outputs": [],
   "source": [
    "# less than or equal\n",
    "a=12\n",
    "b=36"
   ]
  },
  {
   "cell_type": "code",
   "execution_count": 76,
   "id": "a7981557",
   "metadata": {},
   "outputs": [
    {
     "data": {
      "text/plain": [
       "True"
      ]
     },
     "execution_count": 76,
     "metadata": {},
     "output_type": "execute_result"
    }
   ],
   "source": [
    "a<=b"
   ]
  },
  {
   "cell_type": "code",
   "execution_count": 77,
   "id": "ad31fa9e",
   "metadata": {},
   "outputs": [
    {
     "data": {
      "text/plain": [
       "True"
      ]
     },
     "execution_count": 77,
     "metadata": {},
     "output_type": "execute_result"
    }
   ],
   "source": [
    "b>=a"
   ]
  },
  {
   "cell_type": "code",
   "execution_count": 78,
   "id": "e40e9ae9",
   "metadata": {},
   "outputs": [],
   "source": [
    "a=56\n",
    "b=56"
   ]
  },
  {
   "cell_type": "code",
   "execution_count": 79,
   "id": "0120c6d7",
   "metadata": {},
   "outputs": [
    {
     "data": {
      "text/plain": [
       "True"
      ]
     },
     "execution_count": 79,
     "metadata": {},
     "output_type": "execute_result"
    }
   ],
   "source": [
    "a<=b"
   ]
  },
  {
   "cell_type": "markdown",
   "id": "1d701f2d",
   "metadata": {},
   "source": [
    "# logical operators"
   ]
  },
  {
   "cell_type": "markdown",
   "id": "84c64d9c",
   "metadata": {},
   "source": [
    "1.and\n",
    "2.or\n",
    "3.not"
   ]
  },
  {
   "cell_type": "code",
   "execution_count": 80,
   "id": "55e4033f",
   "metadata": {},
   "outputs": [],
   "source": [
    "# and - if at all if 2 condition are true - output will be true "
   ]
  },
  {
   "cell_type": "code",
   "execution_count": 81,
   "id": "db9f1fa7",
   "metadata": {},
   "outputs": [],
   "source": [
    "a=45\n",
    "b=78"
   ]
  },
  {
   "cell_type": "code",
   "execution_count": 82,
   "id": "371dc1c6",
   "metadata": {},
   "outputs": [
    {
     "data": {
      "text/plain": [
       "True"
      ]
     },
     "execution_count": 82,
     "metadata": {},
     "output_type": "execute_result"
    }
   ],
   "source": [
    "#and operator\n",
    "a<56 and b<100"
   ]
  },
  {
   "cell_type": "code",
   "execution_count": 83,
   "id": "17c878f3",
   "metadata": {},
   "outputs": [
    {
     "data": {
      "text/plain": [
       "False"
      ]
     },
     "execution_count": 83,
     "metadata": {},
     "output_type": "execute_result"
    }
   ],
   "source": [
    "a>56 and b<100"
   ]
  },
  {
   "cell_type": "code",
   "execution_count": 84,
   "id": "cff688ac",
   "metadata": {},
   "outputs": [
    {
     "data": {
      "text/plain": [
       "False"
      ]
     },
     "execution_count": 84,
     "metadata": {},
     "output_type": "execute_result"
    }
   ],
   "source": [
    "a<56 and b>100"
   ]
  },
  {
   "cell_type": "code",
   "execution_count": 85,
   "id": "553664f7",
   "metadata": {},
   "outputs": [
    {
     "data": {
      "text/plain": [
       "False"
      ]
     },
     "execution_count": 85,
     "metadata": {},
     "output_type": "execute_result"
    }
   ],
   "source": [
    "a>56 and b>100"
   ]
  },
  {
   "cell_type": "code",
   "execution_count": 87,
   "id": "aa38b3e7",
   "metadata": {},
   "outputs": [
    {
     "data": {
      "text/plain": [
       "45"
      ]
     },
     "execution_count": 87,
     "metadata": {},
     "output_type": "execute_result"
    }
   ],
   "source": [
    "# or \n",
    "a\n"
   ]
  },
  {
   "cell_type": "code",
   "execution_count": 88,
   "id": "ba915151",
   "metadata": {},
   "outputs": [
    {
     "data": {
      "text/plain": [
       "78"
      ]
     },
     "execution_count": 88,
     "metadata": {},
     "output_type": "execute_result"
    }
   ],
   "source": [
    "b"
   ]
  },
  {
   "cell_type": "code",
   "execution_count": 89,
   "id": "5d302116",
   "metadata": {},
   "outputs": [
    {
     "data": {
      "text/plain": [
       "True"
      ]
     },
     "execution_count": 89,
     "metadata": {},
     "output_type": "execute_result"
    }
   ],
   "source": [
    "a>56 or b<100"
   ]
  },
  {
   "cell_type": "code",
   "execution_count": 90,
   "id": "d6181a02",
   "metadata": {},
   "outputs": [
    {
     "data": {
      "text/plain": [
       "True"
      ]
     },
     "execution_count": 90,
     "metadata": {},
     "output_type": "execute_result"
    }
   ],
   "source": [
    "a<50 or b<100"
   ]
  },
  {
   "cell_type": "code",
   "execution_count": 91,
   "id": "6f753099",
   "metadata": {},
   "outputs": [
    {
     "data": {
      "text/plain": [
       "False"
      ]
     },
     "execution_count": 91,
     "metadata": {},
     "output_type": "execute_result"
    }
   ],
   "source": [
    "a>50 or b>100"
   ]
  },
  {
   "cell_type": "code",
   "execution_count": 92,
   "id": "9b9ca809",
   "metadata": {},
   "outputs": [
    {
     "data": {
      "text/plain": [
       "True"
      ]
     },
     "execution_count": 92,
     "metadata": {},
     "output_type": "execute_result"
    }
   ],
   "source": [
    "a>30 or b>100"
   ]
  },
  {
   "cell_type": "code",
   "execution_count": 93,
   "id": "0c69a896",
   "metadata": {},
   "outputs": [],
   "source": [
    "# not operator"
   ]
  },
  {
   "cell_type": "code",
   "execution_count": 94,
   "id": "c1f78df1",
   "metadata": {},
   "outputs": [
    {
     "data": {
      "text/plain": [
       "True"
      ]
     },
     "execution_count": 94,
     "metadata": {},
     "output_type": "execute_result"
    }
   ],
   "source": [
    "not(a>56)"
   ]
  },
  {
   "cell_type": "code",
   "execution_count": 95,
   "id": "6ff0bbff",
   "metadata": {},
   "outputs": [
    {
     "data": {
      "text/plain": [
       "False"
      ]
     },
     "execution_count": 95,
     "metadata": {},
     "output_type": "execute_result"
    }
   ],
   "source": [
    "not (a>20)"
   ]
  },
  {
   "cell_type": "markdown",
   "id": "b873f200",
   "metadata": {},
   "source": [
    "# identity operators"
   ]
  },
  {
   "cell_type": "code",
   "execution_count": 96,
   "id": "b8fbf1d5",
   "metadata": {},
   "outputs": [],
   "source": [
    "# is , is not "
   ]
  },
  {
   "cell_type": "code",
   "execution_count": 97,
   "id": "17514029",
   "metadata": {},
   "outputs": [],
   "source": [
    "a=20\n",
    "b=20\n",
    "c=30\n"
   ]
  },
  {
   "cell_type": "code",
   "execution_count": 98,
   "id": "faaa0b99",
   "metadata": {},
   "outputs": [
    {
     "data": {
      "text/plain": [
       "True"
      ]
     },
     "execution_count": 98,
     "metadata": {},
     "output_type": "execute_result"
    }
   ],
   "source": [
    "a is b"
   ]
  },
  {
   "cell_type": "code",
   "execution_count": 99,
   "id": "cf73c8f2",
   "metadata": {},
   "outputs": [
    {
     "data": {
      "text/plain": [
       "False"
      ]
     },
     "execution_count": 99,
     "metadata": {},
     "output_type": "execute_result"
    }
   ],
   "source": [
    "a is not b"
   ]
  },
  {
   "cell_type": "code",
   "execution_count": 100,
   "id": "291343d3",
   "metadata": {},
   "outputs": [
    {
     "data": {
      "text/plain": [
       "True"
      ]
     },
     "execution_count": 100,
     "metadata": {},
     "output_type": "execute_result"
    }
   ],
   "source": [
    "a is not c"
   ]
  },
  {
   "cell_type": "code",
   "execution_count": 101,
   "id": "03b482f2",
   "metadata": {},
   "outputs": [
    {
     "data": {
      "text/plain": [
       "True"
      ]
     },
     "execution_count": 101,
     "metadata": {},
     "output_type": "execute_result"
    }
   ],
   "source": [
    "a='satya'\n",
    "b='satya'\n",
    "a is b"
   ]
  },
  {
   "cell_type": "code",
   "execution_count": 102,
   "id": "5880b2c9",
   "metadata": {},
   "outputs": [],
   "source": [
    "c='vamsi'"
   ]
  },
  {
   "cell_type": "code",
   "execution_count": 103,
   "id": "30572fae",
   "metadata": {},
   "outputs": [
    {
     "data": {
      "text/plain": [
       "False"
      ]
     },
     "execution_count": 103,
     "metadata": {},
     "output_type": "execute_result"
    }
   ],
   "source": [
    "a is c"
   ]
  },
  {
   "cell_type": "code",
   "execution_count": 104,
   "id": "59073a99",
   "metadata": {},
   "outputs": [
    {
     "data": {
      "text/plain": [
       "True"
      ]
     },
     "execution_count": 104,
     "metadata": {},
     "output_type": "execute_result"
    }
   ],
   "source": [
    "a is not c"
   ]
  },
  {
   "cell_type": "markdown",
   "id": "74ceed21",
   "metadata": {},
   "source": [
    "# membership operators"
   ]
  },
  {
   "cell_type": "code",
   "execution_count": 105,
   "id": "f493788c",
   "metadata": {},
   "outputs": [],
   "source": [
    " # in , not in "
   ]
  },
  {
   "cell_type": "code",
   "execution_count": 106,
   "id": "99c38b2f",
   "metadata": {},
   "outputs": [],
   "source": [
    "a=\"python programming\""
   ]
  },
  {
   "cell_type": "code",
   "execution_count": 107,
   "id": "ccdb314c",
   "metadata": {},
   "outputs": [
    {
     "data": {
      "text/plain": [
       "True"
      ]
     },
     "execution_count": 107,
     "metadata": {},
     "output_type": "execute_result"
    }
   ],
   "source": [
    "\"python\" in a"
   ]
  },
  {
   "cell_type": "code",
   "execution_count": 108,
   "id": "94eeaa12",
   "metadata": {},
   "outputs": [
    {
     "data": {
      "text/plain": [
       "False"
      ]
     },
     "execution_count": 108,
     "metadata": {},
     "output_type": "execute_result"
    }
   ],
   "source": [
    "'satya' in a"
   ]
  },
  {
   "cell_type": "code",
   "execution_count": 109,
   "id": "5af998e5",
   "metadata": {},
   "outputs": [
    {
     "data": {
      "text/plain": [
       "True"
      ]
     },
     "execution_count": 109,
     "metadata": {},
     "output_type": "execute_result"
    }
   ],
   "source": [
    "'py' in a"
   ]
  },
  {
   "cell_type": "code",
   "execution_count": 110,
   "id": "fb572e05",
   "metadata": {},
   "outputs": [
    {
     "data": {
      "text/plain": [
       "True"
      ]
     },
     "execution_count": 110,
     "metadata": {},
     "output_type": "execute_result"
    }
   ],
   "source": [
    "'gra' in a"
   ]
  },
  {
   "cell_type": "code",
   "execution_count": 111,
   "id": "a2e1d45a",
   "metadata": {},
   "outputs": [],
   "source": [
    "b=[34,56,78,89]\n"
   ]
  },
  {
   "cell_type": "code",
   "execution_count": 112,
   "id": "93714340",
   "metadata": {},
   "outputs": [
    {
     "data": {
      "text/plain": [
       "True"
      ]
     },
     "execution_count": 112,
     "metadata": {},
     "output_type": "execute_result"
    }
   ],
   "source": [
    "34 in b"
   ]
  },
  {
   "cell_type": "code",
   "execution_count": 113,
   "id": "69bb21d4",
   "metadata": {},
   "outputs": [
    {
     "data": {
      "text/plain": [
       "True"
      ]
     },
     "execution_count": 113,
     "metadata": {},
     "output_type": "execute_result"
    }
   ],
   "source": [
    "'satya' not in a"
   ]
  },
  {
   "cell_type": "code",
   "execution_count": 114,
   "id": "6d196759",
   "metadata": {},
   "outputs": [
    {
     "data": {
      "text/plain": [
       "'python programming'"
      ]
     },
     "execution_count": 114,
     "metadata": {},
     "output_type": "execute_result"
    }
   ],
   "source": [
    "a"
   ]
  },
  {
   "cell_type": "code",
   "execution_count": 115,
   "id": "e7bfe97c",
   "metadata": {},
   "outputs": [
    {
     "data": {
      "text/plain": [
       "[34, 56, 78, 89]"
      ]
     },
     "execution_count": 115,
     "metadata": {},
     "output_type": "execute_result"
    }
   ],
   "source": [
    "b"
   ]
  },
  {
   "cell_type": "code",
   "execution_count": 116,
   "id": "a6f2f40d",
   "metadata": {},
   "outputs": [
    {
     "data": {
      "text/plain": [
       "True"
      ]
     },
     "execution_count": 116,
     "metadata": {},
     "output_type": "execute_result"
    }
   ],
   "source": [
    "100 not in b"
   ]
  },
  {
   "cell_type": "code",
   "execution_count": 117,
   "id": "731c7a7a",
   "metadata": {},
   "outputs": [
    {
     "data": {
      "text/plain": [
       "False"
      ]
     },
     "execution_count": 117,
     "metadata": {},
     "output_type": "execute_result"
    }
   ],
   "source": [
    "100 in b"
   ]
  },
  {
   "cell_type": "markdown",
   "id": "1f97399e",
   "metadata": {},
   "source": [
    "# strings"
   ]
  },
  {
   "cell_type": "code",
   "execution_count": 120,
   "id": "d1612c9c",
   "metadata": {},
   "outputs": [],
   "source": [
    "# collection of characters - strings are also called arrays"
   ]
  },
  {
   "cell_type": "code",
   "execution_count": 121,
   "id": "f2983c95",
   "metadata": {},
   "outputs": [],
   "source": [
    "a = \"python\""
   ]
  },
  {
   "cell_type": "code",
   "execution_count": 122,
   "id": "b759db3d",
   "metadata": {},
   "outputs": [
    {
     "name": "stdout",
     "output_type": "stream",
     "text": [
      "python\n"
     ]
    }
   ],
   "source": [
    "print(a)"
   ]
  },
  {
   "cell_type": "code",
   "execution_count": 123,
   "id": "d837870d",
   "metadata": {},
   "outputs": [],
   "source": [
    "#len- function which returns length of a string"
   ]
  },
  {
   "cell_type": "code",
   "execution_count": 124,
   "id": "bbcdd1da",
   "metadata": {},
   "outputs": [
    {
     "data": {
      "text/plain": [
       "6"
      ]
     },
     "execution_count": 124,
     "metadata": {},
     "output_type": "execute_result"
    }
   ],
   "source": [
    "len(a)"
   ]
  },
  {
   "cell_type": "code",
   "execution_count": 125,
   "id": "cf8a1ceb",
   "metadata": {},
   "outputs": [],
   "source": [
    "#index - location where element located"
   ]
  },
  {
   "cell_type": "code",
   "execution_count": 126,
   "id": "3ec99b09",
   "metadata": {},
   "outputs": [],
   "source": [
    "# aceesing string elements- we can access string elements\n",
    "# by referring to their index "
   ]
  },
  {
   "cell_type": "code",
   "execution_count": 128,
   "id": "1e0082fe",
   "metadata": {},
   "outputs": [
    {
     "data": {
      "text/plain": [
       "'python'"
      ]
     },
     "execution_count": 128,
     "metadata": {},
     "output_type": "execute_result"
    }
   ],
   "source": [
    "a"
   ]
  },
  {
   "cell_type": "code",
   "execution_count": 129,
   "id": "d4fe113d",
   "metadata": {},
   "outputs": [
    {
     "data": {
      "text/plain": [
       "'p'"
      ]
     },
     "execution_count": 129,
     "metadata": {},
     "output_type": "execute_result"
    }
   ],
   "source": [
    "a[0]"
   ]
  },
  {
   "cell_type": "code",
   "execution_count": 130,
   "id": "f6baeffa",
   "metadata": {},
   "outputs": [
    {
     "data": {
      "text/plain": [
       "'y'"
      ]
     },
     "execution_count": 130,
     "metadata": {},
     "output_type": "execute_result"
    }
   ],
   "source": [
    "a[1]"
   ]
  },
  {
   "cell_type": "code",
   "execution_count": 131,
   "id": "4e43061c",
   "metadata": {},
   "outputs": [
    {
     "data": {
      "text/plain": [
       "'t'"
      ]
     },
     "execution_count": 131,
     "metadata": {},
     "output_type": "execute_result"
    }
   ],
   "source": [
    "a[2]"
   ]
  },
  {
   "cell_type": "code",
   "execution_count": 132,
   "id": "54585ebe",
   "metadata": {},
   "outputs": [
    {
     "data": {
      "text/plain": [
       "'n'"
      ]
     },
     "execution_count": 132,
     "metadata": {},
     "output_type": "execute_result"
    }
   ],
   "source": [
    "a[-1]"
   ]
  },
  {
   "cell_type": "code",
   "execution_count": 134,
   "id": "c17336d1",
   "metadata": {},
   "outputs": [
    {
     "data": {
      "text/plain": [
       "'o'"
      ]
     },
     "execution_count": 134,
     "metadata": {},
     "output_type": "execute_result"
    }
   ],
   "source": [
    "a[-2]"
   ]
  },
  {
   "cell_type": "code",
   "execution_count": 135,
   "id": "cbf03342",
   "metadata": {},
   "outputs": [
    {
     "data": {
      "text/plain": [
       "'h'"
      ]
     },
     "execution_count": 135,
     "metadata": {},
     "output_type": "execute_result"
    }
   ],
   "source": [
    "a[-3]"
   ]
  },
  {
   "cell_type": "code",
   "execution_count": 136,
   "id": "c3a6c134",
   "metadata": {},
   "outputs": [],
   "source": [
    "# string slicing -(range of indexes)\n",
    "# [startindex : endindex] ----note: end index is not included"
   ]
  },
  {
   "cell_type": "code",
   "execution_count": 137,
   "id": "437dad1c",
   "metadata": {},
   "outputs": [
    {
     "data": {
      "text/plain": [
       "'pyt'"
      ]
     },
     "execution_count": 137,
     "metadata": {},
     "output_type": "execute_result"
    }
   ],
   "source": [
    "a[0:3]"
   ]
  },
  {
   "cell_type": "code",
   "execution_count": 138,
   "id": "50d371ee",
   "metadata": {},
   "outputs": [
    {
     "data": {
      "text/plain": [
       "'tho'"
      ]
     },
     "execution_count": 138,
     "metadata": {},
     "output_type": "execute_result"
    }
   ],
   "source": [
    "a[2:5]"
   ]
  },
  {
   "cell_type": "code",
   "execution_count": 139,
   "id": "624fd74b",
   "metadata": {},
   "outputs": [
    {
     "data": {
      "text/plain": [
       "'tho'"
      ]
     },
     "execution_count": 139,
     "metadata": {},
     "output_type": "execute_result"
    }
   ],
   "source": [
    "a[-4:-1]"
   ]
  },
  {
   "cell_type": "code",
   "execution_count": 140,
   "id": "bda96286",
   "metadata": {},
   "outputs": [
    {
     "data": {
      "text/plain": [
       "'python'"
      ]
     },
     "execution_count": 140,
     "metadata": {},
     "output_type": "execute_result"
    }
   ],
   "source": [
    "a[:]"
   ]
  },
  {
   "cell_type": "code",
   "execution_count": 141,
   "id": "6ff474ba",
   "metadata": {},
   "outputs": [
    {
     "data": {
      "text/plain": [
       "'nohtyp'"
      ]
     },
     "execution_count": 141,
     "metadata": {},
     "output_type": "execute_result"
    }
   ],
   "source": [
    "a[::-1]"
   ]
  },
  {
   "cell_type": "code",
   "execution_count": 142,
   "id": "9651e3b2",
   "metadata": {},
   "outputs": [],
   "source": [
    "#implied zero"
   ]
  },
  {
   "cell_type": "code",
   "execution_count": 143,
   "id": "34a581c1",
   "metadata": {},
   "outputs": [
    {
     "data": {
      "text/plain": [
       "'pyth'"
      ]
     },
     "execution_count": 143,
     "metadata": {},
     "output_type": "execute_result"
    }
   ],
   "source": [
    "a[:4]# a[0:4]"
   ]
  },
  {
   "cell_type": "code",
   "execution_count": 144,
   "id": "6577f0e1",
   "metadata": {},
   "outputs": [],
   "source": [
    "#implied end "
   ]
  },
  {
   "cell_type": "code",
   "execution_count": 145,
   "id": "67670f85",
   "metadata": {},
   "outputs": [
    {
     "data": {
      "text/plain": [
       "'ython'"
      ]
     },
     "execution_count": 145,
     "metadata": {},
     "output_type": "execute_result"
    }
   ],
   "source": [
    "a[1:] # a[1:end of the string]"
   ]
  },
  {
   "cell_type": "code",
   "execution_count": 146,
   "id": "b5a6aeae",
   "metadata": {},
   "outputs": [
    {
     "data": {
      "text/plain": [
       "'python'"
      ]
     },
     "execution_count": 146,
     "metadata": {},
     "output_type": "execute_result"
    }
   ],
   "source": [
    "a[:]"
   ]
  },
  {
   "cell_type": "code",
   "execution_count": 148,
   "id": "f8eeb7fa",
   "metadata": {},
   "outputs": [
    {
     "data": {
      "text/plain": [
       "'python'"
      ]
     },
     "execution_count": 148,
     "metadata": {},
     "output_type": "execute_result"
    }
   ],
   "source": [
    "a[::]"
   ]
  },
  {
   "cell_type": "markdown",
   "id": "716b2ca1",
   "metadata": {},
   "source": [
    "# "
   ]
  },
  {
   "cell_type": "code",
   "execution_count": 149,
   "id": "ea41ec77",
   "metadata": {},
   "outputs": [
    {
     "data": {
      "text/plain": [
       "'nohtyp'"
      ]
     },
     "execution_count": 149,
     "metadata": {},
     "output_type": "execute_result"
    }
   ],
   "source": [
    "a[::-1]"
   ]
  },
  {
   "cell_type": "code",
   "execution_count": 150,
   "id": "f94ef73e",
   "metadata": {},
   "outputs": [
    {
     "data": {
      "text/plain": [
       "'pto'"
      ]
     },
     "execution_count": 150,
     "metadata": {},
     "output_type": "execute_result"
    }
   ],
   "source": [
    "a[::2]"
   ]
  },
  {
   "cell_type": "code",
   "execution_count": 151,
   "id": "4fa8a7f7",
   "metadata": {},
   "outputs": [
    {
     "data": {
      "text/plain": [
       "'ph'"
      ]
     },
     "execution_count": 151,
     "metadata": {},
     "output_type": "execute_result"
    }
   ],
   "source": [
    "a[::3]"
   ]
  },
  {
   "cell_type": "code",
   "execution_count": 152,
   "id": "31662441",
   "metadata": {},
   "outputs": [
    {
     "data": {
      "text/plain": [
       "'nhy'"
      ]
     },
     "execution_count": 152,
     "metadata": {},
     "output_type": "execute_result"
    }
   ],
   "source": [
    "a[::-2]"
   ]
  },
  {
   "cell_type": "code",
   "execution_count": 153,
   "id": "fce01b54",
   "metadata": {},
   "outputs": [],
   "source": [
    "# loop throuh a string"
   ]
  },
  {
   "cell_type": "code",
   "execution_count": 154,
   "id": "4982503c",
   "metadata": {},
   "outputs": [
    {
     "name": "stdout",
     "output_type": "stream",
     "text": [
      "p\n",
      "y\n",
      "t\n",
      "h\n",
      "o\n",
      "n\n"
     ]
    }
   ],
   "source": [
    "for i in a:\n",
    "    print(i)"
   ]
  },
  {
   "cell_type": "code",
   "execution_count": 155,
   "id": "6f8b7fa6",
   "metadata": {},
   "outputs": [
    {
     "data": {
      "text/plain": [
       "6"
      ]
     },
     "execution_count": 155,
     "metadata": {},
     "output_type": "execute_result"
    }
   ],
   "source": [
    "len(a)"
   ]
  },
  {
   "cell_type": "markdown",
   "id": "6eceecbb",
   "metadata": {},
   "source": [
    "# Day-3"
   ]
  },
  {
   "cell_type": "markdown",
   "id": "9778a8bf",
   "metadata": {},
   "source": [
    "# string methods"
   ]
  },
  {
   "cell_type": "code",
   "execution_count": 156,
   "id": "29f4d564",
   "metadata": {},
   "outputs": [],
   "source": [
    "#1. length of a string - len()- returns length of a string"
   ]
  },
  {
   "cell_type": "code",
   "execution_count": 157,
   "id": "db496927",
   "metadata": {},
   "outputs": [
    {
     "name": "stdout",
     "output_type": "stream",
     "text": [
      "python programming is good\n"
     ]
    }
   ],
   "source": [
    "a = 'python programming is good'\n",
    "print(a)"
   ]
  },
  {
   "cell_type": "code",
   "execution_count": 158,
   "id": "1b08aac3",
   "metadata": {},
   "outputs": [
    {
     "data": {
      "text/plain": [
       "26"
      ]
     },
     "execution_count": 158,
     "metadata": {},
     "output_type": "execute_result"
    }
   ],
   "source": [
    "len(a)"
   ]
  },
  {
   "cell_type": "code",
   "execution_count": 159,
   "id": "50fd8a80",
   "metadata": {},
   "outputs": [
    {
     "name": "stdout",
     "output_type": "stream",
     "text": [
      "26\n"
     ]
    }
   ],
   "source": [
    "print(len(a))"
   ]
  },
  {
   "cell_type": "code",
   "execution_count": 160,
   "id": "03bc27d0",
   "metadata": {},
   "outputs": [
    {
     "name": "stdout",
     "output_type": "stream",
     "text": [
      "Length of a given string is : 26\n"
     ]
    }
   ],
   "source": [
    "print('Length of a given string is :', len(a))"
   ]
  },
  {
   "cell_type": "code",
   "execution_count": 161,
   "id": "1800068e",
   "metadata": {},
   "outputs": [],
   "source": [
    "#input()- it takes input from user"
   ]
  },
  {
   "cell_type": "code",
   "execution_count": 162,
   "id": "9090f2a7",
   "metadata": {},
   "outputs": [
    {
     "name": "stdout",
     "output_type": "stream",
     "text": [
      "Enter your string: python programming\n"
     ]
    }
   ],
   "source": [
    "a = input('Enter your string: ')"
   ]
  },
  {
   "cell_type": "code",
   "execution_count": 163,
   "id": "7e8147cc",
   "metadata": {},
   "outputs": [
    {
     "data": {
      "text/plain": [
       "'python programming'"
      ]
     },
     "execution_count": 163,
     "metadata": {},
     "output_type": "execute_result"
    }
   ],
   "source": [
    "a"
   ]
  },
  {
   "cell_type": "code",
   "execution_count": 164,
   "id": "9e1840a9",
   "metadata": {},
   "outputs": [
    {
     "name": "stdout",
     "output_type": "stream",
     "text": [
      "Enter your string : python programming\n",
      "Reverse of a given string is :  gnimmargorp nohtyp\n",
      "Length of a given string is :  18\n"
     ]
    }
   ],
   "source": [
    "a=input('Enter your string : ')\n",
    "print('Reverse of a given string is : ',a[::-1])\n",
    "print('Length of a given string is : ',len(a))"
   ]
  },
  {
   "cell_type": "code",
   "execution_count": 165,
   "id": "9d11289e",
   "metadata": {},
   "outputs": [],
   "source": [
    "#upper()- it converts all string elements into uppercase"
   ]
  },
  {
   "cell_type": "code",
   "execution_count": 166,
   "id": "26226a51",
   "metadata": {},
   "outputs": [
    {
     "data": {
      "text/plain": [
       "'python programming'"
      ]
     },
     "execution_count": 166,
     "metadata": {},
     "output_type": "execute_result"
    }
   ],
   "source": [
    "a"
   ]
  },
  {
   "cell_type": "code",
   "execution_count": 167,
   "id": "2726f958",
   "metadata": {},
   "outputs": [
    {
     "data": {
      "text/plain": [
       "'PYTHON PROGRAMMING'"
      ]
     },
     "execution_count": 167,
     "metadata": {},
     "output_type": "execute_result"
    }
   ],
   "source": [
    "a.upper()"
   ]
  },
  {
   "cell_type": "code",
   "execution_count": 169,
   "id": "f0905f4f",
   "metadata": {},
   "outputs": [
    {
     "name": "stdout",
     "output_type": "stream",
     "text": [
      "Enter your string : programming\n",
      "Reverse of a given string is :  gnimmargorp\n",
      "Length of a given string is :  11\n",
      "Uppercase of given string is :  PROGRAMMING\n"
     ]
    }
   ],
   "source": [
    "a=input('Enter your string : ')\n",
    "print('Reverse of a given string is : ',a[::-1])\n",
    "print('Length of a given string is : ',len(a))\n",
    "print('Uppercase of given string is : ',a.upper())"
   ]
  },
  {
   "cell_type": "code",
   "execution_count": 170,
   "id": "7482b89a",
   "metadata": {},
   "outputs": [],
   "source": [
    "#lower()- converts all string elements into lowercase"
   ]
  },
  {
   "cell_type": "code",
   "execution_count": 171,
   "id": "ccf6da80",
   "metadata": {},
   "outputs": [
    {
     "data": {
      "text/plain": [
       "'programming'"
      ]
     },
     "execution_count": 171,
     "metadata": {},
     "output_type": "execute_result"
    }
   ],
   "source": [
    "a.lower()"
   ]
  },
  {
   "cell_type": "code",
   "execution_count": 172,
   "id": "f74f3add",
   "metadata": {},
   "outputs": [
    {
     "name": "stdout",
     "output_type": "stream",
     "text": [
      "Enter your string : PROGRAMMING\n",
      "Reverse of a given string is :  GNIMMARGORP\n",
      "Length of a given string is :  11\n",
      "Uppercase of given string is :  programming\n"
     ]
    }
   ],
   "source": [
    "a=input('Enter your string : ')\n",
    "print('Reverse of a given string is : ',a[::-1])\n",
    "print('Length of a given string is : ',len(a))\n",
    "print('Uppercase of given string is : ',a.lower())"
   ]
  },
  {
   "cell_type": "code",
   "execution_count": 174,
   "id": "656d59f9",
   "metadata": {},
   "outputs": [],
   "source": [
    "#capitalize()-it capitalises first character of a given string"
   ]
  },
  {
   "cell_type": "code",
   "execution_count": 175,
   "id": "cd5b6920",
   "metadata": {},
   "outputs": [],
   "source": [
    "a = 'programming'\n"
   ]
  },
  {
   "cell_type": "code",
   "execution_count": 176,
   "id": "630e3fc1",
   "metadata": {},
   "outputs": [
    {
     "data": {
      "text/plain": [
       "'Programming'"
      ]
     },
     "execution_count": 176,
     "metadata": {},
     "output_type": "execute_result"
    }
   ],
   "source": [
    "a.capitalize()"
   ]
  },
  {
   "cell_type": "code",
   "execution_count": 177,
   "id": "23c46e96",
   "metadata": {},
   "outputs": [
    {
     "name": "stdout",
     "output_type": "stream",
     "text": [
      "Capitalised string is :  Programming\n"
     ]
    }
   ],
   "source": [
    "print('Capitalised string is : ',a.capitalize())"
   ]
  },
  {
   "cell_type": "code",
   "execution_count": 178,
   "id": "ede70572",
   "metadata": {},
   "outputs": [],
   "source": [
    "a = 'python programming'"
   ]
  },
  {
   "cell_type": "code",
   "execution_count": 179,
   "id": "4ab9e5e3",
   "metadata": {},
   "outputs": [
    {
     "data": {
      "text/plain": [
       "'python programming'"
      ]
     },
     "execution_count": 179,
     "metadata": {},
     "output_type": "execute_result"
    }
   ],
   "source": [
    "a"
   ]
  },
  {
   "cell_type": "code",
   "execution_count": 180,
   "id": "f2338670",
   "metadata": {},
   "outputs": [
    {
     "data": {
      "text/plain": [
       "'Python programming'"
      ]
     },
     "execution_count": 180,
     "metadata": {},
     "output_type": "execute_result"
    }
   ],
   "source": [
    "a.capitalize()"
   ]
  },
  {
   "cell_type": "code",
   "execution_count": 181,
   "id": "e07d7289",
   "metadata": {},
   "outputs": [],
   "source": [
    "#title()- it capitalizes first charcter of each word in a given string"
   ]
  },
  {
   "cell_type": "code",
   "execution_count": 182,
   "id": "4d86a1e9",
   "metadata": {},
   "outputs": [],
   "source": [
    "a = 'python programming'"
   ]
  },
  {
   "cell_type": "code",
   "execution_count": 183,
   "id": "9ac0a776",
   "metadata": {},
   "outputs": [
    {
     "data": {
      "text/plain": [
       "'Python Programming'"
      ]
     },
     "execution_count": 183,
     "metadata": {},
     "output_type": "execute_result"
    }
   ],
   "source": [
    "a.title()"
   ]
  },
  {
   "cell_type": "code",
   "execution_count": 184,
   "id": "2b61a4db",
   "metadata": {},
   "outputs": [],
   "source": [
    "#count- its returns how many times a given word/phrase/character is occured in a given string"
   ]
  },
  {
   "cell_type": "code",
   "execution_count": 185,
   "id": "eead0032",
   "metadata": {},
   "outputs": [],
   "source": [
    " a = 'python programming is good programming language. python is platform independent '"
   ]
  },
  {
   "cell_type": "code",
   "execution_count": 186,
   "id": "020f37c0",
   "metadata": {},
   "outputs": [
    {
     "data": {
      "text/plain": [
       "2"
      ]
     },
     "execution_count": 186,
     "metadata": {},
     "output_type": "execute_result"
    }
   ],
   "source": [
    "a.count('python')"
   ]
  },
  {
   "cell_type": "code",
   "execution_count": 187,
   "id": "287019d9",
   "metadata": {},
   "outputs": [
    {
     "data": {
      "text/plain": [
       "6"
      ]
     },
     "execution_count": 187,
     "metadata": {},
     "output_type": "execute_result"
    }
   ],
   "source": [
    "a.count('p')"
   ]
  },
  {
   "cell_type": "code",
   "execution_count": 188,
   "id": "0f64cc5d",
   "metadata": {},
   "outputs": [
    {
     "data": {
      "text/plain": [
       "2"
      ]
     },
     "execution_count": 188,
     "metadata": {},
     "output_type": "execute_result"
    }
   ],
   "source": [
    "a.count('pr')"
   ]
  },
  {
   "cell_type": "code",
   "execution_count": 189,
   "id": "b28504e7",
   "metadata": {},
   "outputs": [],
   "source": [
    "#index()- it returns index of a given character"
   ]
  },
  {
   "cell_type": "code",
   "execution_count": 191,
   "id": "8c249210",
   "metadata": {},
   "outputs": [],
   "source": [
    "a = 'programming'"
   ]
  },
  {
   "cell_type": "code",
   "execution_count": 192,
   "id": "82f8d8b6",
   "metadata": {},
   "outputs": [
    {
     "data": {
      "text/plain": [
       "'programming'"
      ]
     },
     "execution_count": 192,
     "metadata": {},
     "output_type": "execute_result"
    }
   ],
   "source": [
    "a"
   ]
  },
  {
   "cell_type": "code",
   "execution_count": 193,
   "id": "518c237d",
   "metadata": {},
   "outputs": [
    {
     "data": {
      "text/plain": [
       "0"
      ]
     },
     "execution_count": 193,
     "metadata": {},
     "output_type": "execute_result"
    }
   ],
   "source": [
    "a.index('p')"
   ]
  },
  {
   "cell_type": "code",
   "execution_count": 194,
   "id": "569787b3",
   "metadata": {},
   "outputs": [
    {
     "data": {
      "text/plain": [
       "6"
      ]
     },
     "execution_count": 194,
     "metadata": {},
     "output_type": "execute_result"
    }
   ],
   "source": [
    "a.index('m')"
   ]
  },
  {
   "cell_type": "code",
   "execution_count": 195,
   "id": "8bace8a9",
   "metadata": {},
   "outputs": [],
   "source": [
    "#split()- splits the given string into list of strings"
   ]
  },
  {
   "cell_type": "code",
   "execution_count": 196,
   "id": "75b903fe",
   "metadata": {},
   "outputs": [],
   "source": [
    "a = 'python program is good'"
   ]
  },
  {
   "cell_type": "code",
   "execution_count": 197,
   "id": "a7fad871",
   "metadata": {},
   "outputs": [
    {
     "data": {
      "text/plain": [
       "['python', 'program', 'is', 'good']"
      ]
     },
     "execution_count": 197,
     "metadata": {},
     "output_type": "execute_result"
    }
   ],
   "source": [
    "a.split()"
   ]
  },
  {
   "cell_type": "code",
   "execution_count": 198,
   "id": "d4b84928",
   "metadata": {},
   "outputs": [],
   "source": [
    "a = 'python|programming|isgood'"
   ]
  },
  {
   "cell_type": "code",
   "execution_count": 199,
   "id": "ceee07c9",
   "metadata": {},
   "outputs": [
    {
     "data": {
      "text/plain": [
       "['python', 'programming', 'isgood']"
      ]
     },
     "execution_count": 199,
     "metadata": {},
     "output_type": "execute_result"
    }
   ],
   "source": [
    "a.split('|')"
   ]
  },
  {
   "cell_type": "code",
   "execution_count": 200,
   "id": "e46536c5",
   "metadata": {},
   "outputs": [
    {
     "data": {
      "text/plain": [
       "['', 'ython|', 'rogramming|isgood']"
      ]
     },
     "execution_count": 200,
     "metadata": {},
     "output_type": "execute_result"
    }
   ],
   "source": [
    "a.split('p')"
   ]
  },
  {
   "cell_type": "code",
   "execution_count": 201,
   "id": "6ff667ee",
   "metadata": {},
   "outputs": [
    {
     "data": {
      "text/plain": [
       "['python|programming|isgood']"
      ]
     },
     "execution_count": 201,
     "metadata": {},
     "output_type": "execute_result"
    }
   ],
   "source": [
    "a.split(',')"
   ]
  },
  {
   "cell_type": "code",
   "execution_count": 202,
   "id": "707c6145",
   "metadata": {},
   "outputs": [
    {
     "data": {
      "text/plain": [
       "'python|programming|isgood'"
      ]
     },
     "execution_count": 202,
     "metadata": {},
     "output_type": "execute_result"
    }
   ],
   "source": [
    "a"
   ]
  },
  {
   "cell_type": "code",
   "execution_count": 203,
   "id": "1611c4d7",
   "metadata": {},
   "outputs": [
    {
     "data": {
      "text/plain": [
       "['python|programming|isgood']"
      ]
     },
     "execution_count": 203,
     "metadata": {},
     "output_type": "execute_result"
    }
   ],
   "source": [
    "a.split('z')"
   ]
  },
  {
   "cell_type": "code",
   "execution_count": 204,
   "id": "fa326125",
   "metadata": {},
   "outputs": [
    {
     "data": {
      "text/plain": [
       "['python progra', '', 'ing']"
      ]
     },
     "execution_count": 204,
     "metadata": {},
     "output_type": "execute_result"
    }
   ],
   "source": [
    "a = 'python programming'\n",
    "a.split('m')"
   ]
  },
  {
   "cell_type": "code",
   "execution_count": 205,
   "id": "1d5f3464",
   "metadata": {},
   "outputs": [],
   "source": [
    "a = 'python prppogrammingp'"
   ]
  },
  {
   "cell_type": "code",
   "execution_count": 207,
   "id": "99da1046",
   "metadata": {},
   "outputs": [
    {
     "data": {
      "text/plain": [
       "['', 'ython ', 'r', '', 'ogramming', '']"
      ]
     },
     "execution_count": 207,
     "metadata": {},
     "output_type": "execute_result"
    }
   ],
   "source": [
    "a.split('p')"
   ]
  },
  {
   "cell_type": "code",
   "execution_count": 208,
   "id": "e054ee09",
   "metadata": {},
   "outputs": [
    {
     "data": {
      "text/plain": [
       "'python prppogrammingp'"
      ]
     },
     "execution_count": 208,
     "metadata": {},
     "output_type": "execute_result"
    }
   ],
   "source": [
    "a"
   ]
  },
  {
   "cell_type": "code",
   "execution_count": 209,
   "id": "2f4b2473",
   "metadata": {},
   "outputs": [
    {
     "data": {
      "text/plain": [
       "['', ' prppogrammingp']"
      ]
     },
     "execution_count": 209,
     "metadata": {},
     "output_type": "execute_result"
    }
   ],
   "source": [
    "a.split('python')"
   ]
  },
  {
   "cell_type": "code",
   "execution_count": 210,
   "id": "aaa1d8b9",
   "metadata": {},
   "outputs": [],
   "source": [
    "#stratswith()"
   ]
  },
  {
   "cell_type": "code",
   "execution_count": 211,
   "id": "83a4a82f",
   "metadata": {},
   "outputs": [],
   "source": [
    "a = 'python programming'\n"
   ]
  },
  {
   "cell_type": "code",
   "execution_count": 212,
   "id": "ce7fa951",
   "metadata": {},
   "outputs": [
    {
     "data": {
      "text/plain": [
       "True"
      ]
     },
     "execution_count": 212,
     "metadata": {},
     "output_type": "execute_result"
    }
   ],
   "source": [
    "a.startswith('p')"
   ]
  },
  {
   "cell_type": "code",
   "execution_count": 213,
   "id": "cebafcef",
   "metadata": {},
   "outputs": [
    {
     "data": {
      "text/plain": [
       "True"
      ]
     },
     "execution_count": 213,
     "metadata": {},
     "output_type": "execute_result"
    }
   ],
   "source": [
    "a.startswith('py')"
   ]
  },
  {
   "cell_type": "code",
   "execution_count": 214,
   "id": "e346de85",
   "metadata": {},
   "outputs": [
    {
     "data": {
      "text/plain": [
       "False"
      ]
     },
     "execution_count": 214,
     "metadata": {},
     "output_type": "execute_result"
    }
   ],
   "source": [
    "a.startswith('sa')"
   ]
  },
  {
   "cell_type": "code",
   "execution_count": 215,
   "id": "2bf1305c",
   "metadata": {},
   "outputs": [],
   "source": [
    "#endswith()"
   ]
  },
  {
   "cell_type": "code",
   "execution_count": 216,
   "id": "30dcf6d8",
   "metadata": {},
   "outputs": [
    {
     "data": {
      "text/plain": [
       "'python programming'"
      ]
     },
     "execution_count": 216,
     "metadata": {},
     "output_type": "execute_result"
    }
   ],
   "source": [
    "a"
   ]
  },
  {
   "cell_type": "code",
   "execution_count": 217,
   "id": "e16ff0b9",
   "metadata": {},
   "outputs": [
    {
     "data": {
      "text/plain": [
       "True"
      ]
     },
     "execution_count": 217,
     "metadata": {},
     "output_type": "execute_result"
    }
   ],
   "source": [
    "a.endswith('g')"
   ]
  },
  {
   "cell_type": "code",
   "execution_count": 218,
   "id": "cbc63fec",
   "metadata": {},
   "outputs": [
    {
     "data": {
      "text/plain": [
       "True"
      ]
     },
     "execution_count": 218,
     "metadata": {},
     "output_type": "execute_result"
    }
   ],
   "source": [
    "a.endswith('ng')"
   ]
  },
  {
   "cell_type": "code",
   "execution_count": 219,
   "id": "e9bf7bd8",
   "metadata": {},
   "outputs": [
    {
     "data": {
      "text/plain": [
       "False"
      ]
     },
     "execution_count": 219,
     "metadata": {},
     "output_type": "execute_result"
    }
   ],
   "source": [
    "a.endswith('s')"
   ]
  },
  {
   "cell_type": "markdown",
   "id": "251dd5ad",
   "metadata": {},
   "source": [
    " input--- python pgrogramming is good, is very simple , platform independent\n",
    "\n",
    "1. print reverse of a string\n",
    "2. print upper case of a string\n",
    "3. split a string with ',' separator\n",
    "4. find occurances of word 'python'\n",
    "5. print occurances of 'p' in given string\n",
    "6. check whether given string starts with 'p'\n",
    "7. print index of characte 'm'"
   ]
  },
  {
   "cell_type": "code",
   "execution_count": 221,
   "id": "f0933123",
   "metadata": {},
   "outputs": [
    {
     "name": "stdout",
     "output_type": "stream",
     "text": [
      "Enter your stringpython pgrogramming is good, is very simple , platform independent\n",
      "Reverse of a given string is :  tnednepedni mroftalp , elpmis yrev si ,doog si gnimmargorgp nohtyp\n",
      "uppercase of a given string is :  PYTHON PGROGRAMMING IS GOOD, IS VERY SIMPLE , PLATFORM INDEPENDENT\n",
      "string split with , : ['python pgrogramming is good', ' is very simple ', ' platform independent']\n",
      "occurances of word python :  1\n",
      "occurances of p in a given string:  5\n",
      "Given string starts with p : True\n",
      "index of characte m is :  14\n"
     ]
    }
   ],
   "source": [
    "a = input('Enter your string')\n",
    "print('Reverse of a given string is : ',a[::-1])\n",
    "print('uppercase of a given string is : ',a.upper())\n",
    "print('string split with , :', a.split(','))\n",
    "print('occurances of word python : ',a.count('python'))\n",
    "print('occurances of p in a given string: ',a.count('p'))\n",
    "print('Given string starts with p :',a.startswith('p'))\n",
    "print('index of characte m is : ',a.index('m'))"
   ]
  },
  {
   "cell_type": "markdown",
   "id": "910166ad",
   "metadata": {},
   "source": [
    "Write a python program to take two inputs(integers) and perform\n",
    "all arthimetic operation on those inputs and print results with discription."
   ]
  },
  {
   "cell_type": "code",
   "execution_count": 224,
   "id": "1275639a",
   "metadata": {},
   "outputs": [
    {
     "name": "stdout",
     "output_type": "stream",
     "text": [
      "first Input: 5\n",
      "second input: 2\n",
      "Addition output is :  7\n",
      "subtraction output is :  3\n",
      "Multiplication output is:  10\n",
      "Division output is : 2.5\n",
      "modulo division output is : 1\n",
      "exponentation result is:  25\n",
      "floor division result is : 2\n"
     ]
    }
   ],
   "source": [
    "a = int(input('first Input: '))\n",
    "b = int(input('second input: '))\n",
    "\n",
    "print('Addition output is : ',a+b)\n",
    "print('subtraction output is : ',a-b)\n",
    "print('Multiplication output is: ',a*b)\n",
    "print('Division output is :',a/b)\n",
    "print('modulo division output is :',a%b)\n",
    "print('exponentation result is: ',a**b)\n",
    "print('floor division result is :',a//b)"
   ]
  },
  {
   "cell_type": "markdown",
   "id": "a2c84eea",
   "metadata": {},
   "source": [
    "# Day-4"
   ]
  },
  {
   "cell_type": "markdown",
   "id": "131a5652",
   "metadata": {},
   "source": [
    "# Type casting (or)type conversion"
   ]
  },
  {
   "cell_type": "code",
   "execution_count": null,
   "id": "77c91729",
   "metadata": {},
   "outputs": [],
   "source": []
  },
  {
   "cell_type": "code",
   "execution_count": 225,
   "id": "1653e22c",
   "metadata": {},
   "outputs": [],
   "source": [
    "#data type conversion"
   ]
  },
  {
   "cell_type": "markdown",
   "id": "45e445df",
   "metadata": {},
   "source": [
    "1. int to float & string\n",
    "2. float to int & string\n",
    "3.String to int & float"
   ]
  },
  {
   "cell_type": "code",
   "execution_count": 226,
   "id": "e768a3f8",
   "metadata": {},
   "outputs": [],
   "source": [
    "# int to float"
   ]
  },
  {
   "cell_type": "code",
   "execution_count": 227,
   "id": "84ddf7da",
   "metadata": {},
   "outputs": [
    {
     "data": {
      "text/plain": [
       "int"
      ]
     },
     "execution_count": 227,
     "metadata": {},
     "output_type": "execute_result"
    }
   ],
   "source": [
    "a = 10\n",
    "type(a)"
   ]
  },
  {
   "cell_type": "code",
   "execution_count": 228,
   "id": "3465ab63",
   "metadata": {},
   "outputs": [],
   "source": [
    "b=float(a)"
   ]
  },
  {
   "cell_type": "code",
   "execution_count": 229,
   "id": "e1e7553a",
   "metadata": {},
   "outputs": [
    {
     "data": {
      "text/plain": [
       "float"
      ]
     },
     "execution_count": 229,
     "metadata": {},
     "output_type": "execute_result"
    }
   ],
   "source": [
    "type(b)"
   ]
  },
  {
   "cell_type": "code",
   "execution_count": 230,
   "id": "44463d86",
   "metadata": {},
   "outputs": [],
   "source": [
    "#int to string"
   ]
  },
  {
   "cell_type": "code",
   "execution_count": 231,
   "id": "30f16165",
   "metadata": {},
   "outputs": [
    {
     "data": {
      "text/plain": [
       "10"
      ]
     },
     "execution_count": 231,
     "metadata": {},
     "output_type": "execute_result"
    }
   ],
   "source": [
    "a"
   ]
  },
  {
   "cell_type": "code",
   "execution_count": 232,
   "id": "34a17c07",
   "metadata": {},
   "outputs": [
    {
     "data": {
      "text/plain": [
       "int"
      ]
     },
     "execution_count": 232,
     "metadata": {},
     "output_type": "execute_result"
    }
   ],
   "source": [
    "type(a)"
   ]
  },
  {
   "cell_type": "code",
   "execution_count": 233,
   "id": "a2635b7c",
   "metadata": {},
   "outputs": [],
   "source": [
    "c = str(a)"
   ]
  },
  {
   "cell_type": "code",
   "execution_count": 234,
   "id": "d2138690",
   "metadata": {},
   "outputs": [
    {
     "data": {
      "text/plain": [
       "str"
      ]
     },
     "execution_count": 234,
     "metadata": {},
     "output_type": "execute_result"
    }
   ],
   "source": [
    "type(c)"
   ]
  },
  {
   "cell_type": "code",
   "execution_count": 235,
   "id": "0c346b6f",
   "metadata": {},
   "outputs": [
    {
     "data": {
      "text/plain": [
       "'10'"
      ]
     },
     "execution_count": 235,
     "metadata": {},
     "output_type": "execute_result"
    }
   ],
   "source": [
    "c"
   ]
  },
  {
   "cell_type": "code",
   "execution_count": 236,
   "id": "8e0a535f",
   "metadata": {},
   "outputs": [],
   "source": [
    "# float to int"
   ]
  },
  {
   "cell_type": "code",
   "execution_count": 237,
   "id": "3151d832",
   "metadata": {},
   "outputs": [],
   "source": [
    "a = 45.78"
   ]
  },
  {
   "cell_type": "code",
   "execution_count": 238,
   "id": "a3cb059e",
   "metadata": {},
   "outputs": [
    {
     "data": {
      "text/plain": [
       "float"
      ]
     },
     "execution_count": 238,
     "metadata": {},
     "output_type": "execute_result"
    }
   ],
   "source": [
    "type(a)"
   ]
  },
  {
   "cell_type": "code",
   "execution_count": 239,
   "id": "a7b2388c",
   "metadata": {},
   "outputs": [],
   "source": [
    "b = int(a)"
   ]
  },
  {
   "cell_type": "code",
   "execution_count": 240,
   "id": "60034f76",
   "metadata": {},
   "outputs": [
    {
     "data": {
      "text/plain": [
       "int"
      ]
     },
     "execution_count": 240,
     "metadata": {},
     "output_type": "execute_result"
    }
   ],
   "source": [
    "type(b)"
   ]
  },
  {
   "cell_type": "code",
   "execution_count": 241,
   "id": "0b7d62b0",
   "metadata": {},
   "outputs": [
    {
     "data": {
      "text/plain": [
       "45"
      ]
     },
     "execution_count": 241,
     "metadata": {},
     "output_type": "execute_result"
    }
   ],
   "source": [
    "b"
   ]
  },
  {
   "cell_type": "code",
   "execution_count": 242,
   "id": "4f8f0ee8",
   "metadata": {},
   "outputs": [],
   "source": [
    "# float to str"
   ]
  },
  {
   "cell_type": "code",
   "execution_count": 243,
   "id": "fb007941",
   "metadata": {},
   "outputs": [
    {
     "data": {
      "text/plain": [
       "45.78"
      ]
     },
     "execution_count": 243,
     "metadata": {},
     "output_type": "execute_result"
    }
   ],
   "source": [
    "a"
   ]
  },
  {
   "cell_type": "code",
   "execution_count": 244,
   "id": "2b11abfe",
   "metadata": {},
   "outputs": [],
   "source": [
    "b = str(a)"
   ]
  },
  {
   "cell_type": "code",
   "execution_count": 245,
   "id": "51f92560",
   "metadata": {},
   "outputs": [
    {
     "data": {
      "text/plain": [
       "'45.78'"
      ]
     },
     "execution_count": 245,
     "metadata": {},
     "output_type": "execute_result"
    }
   ],
   "source": [
    "b"
   ]
  },
  {
   "cell_type": "code",
   "execution_count": 246,
   "id": "b0abb03d",
   "metadata": {},
   "outputs": [
    {
     "data": {
      "text/plain": [
       "str"
      ]
     },
     "execution_count": 246,
     "metadata": {},
     "output_type": "execute_result"
    }
   ],
   "source": [
    "type(b)"
   ]
  },
  {
   "cell_type": "code",
   "execution_count": 247,
   "id": "30597d8a",
   "metadata": {},
   "outputs": [],
   "source": [
    "# str to int"
   ]
  },
  {
   "cell_type": "code",
   "execution_count": 248,
   "id": "c9e20b47",
   "metadata": {},
   "outputs": [],
   "source": [
    "a = 'satya'"
   ]
  },
  {
   "cell_type": "code",
   "execution_count": 249,
   "id": "b42c6e0a",
   "metadata": {},
   "outputs": [],
   "source": [
    "b = '10'"
   ]
  },
  {
   "cell_type": "code",
   "execution_count": 250,
   "id": "53819591",
   "metadata": {},
   "outputs": [
    {
     "data": {
      "text/plain": [
       "str"
      ]
     },
     "execution_count": 250,
     "metadata": {},
     "output_type": "execute_result"
    }
   ],
   "source": [
    "type(b)"
   ]
  },
  {
   "cell_type": "code",
   "execution_count": 251,
   "id": "35a156fc",
   "metadata": {},
   "outputs": [],
   "source": [
    "c = int(b) # if string literal is equivalent to any numerical value then str to int (or) str to float is possible"
   ]
  },
  {
   "cell_type": "code",
   "execution_count": 252,
   "id": "d4cdda84",
   "metadata": {},
   "outputs": [
    {
     "data": {
      "text/plain": [
       "10"
      ]
     },
     "execution_count": 252,
     "metadata": {},
     "output_type": "execute_result"
    }
   ],
   "source": [
    "c"
   ]
  },
  {
   "cell_type": "code",
   "execution_count": 253,
   "id": "8a6c19e4",
   "metadata": {},
   "outputs": [
    {
     "data": {
      "text/plain": [
       "int"
      ]
     },
     "execution_count": 253,
     "metadata": {},
     "output_type": "execute_result"
    }
   ],
   "source": [
    "type(c)"
   ]
  },
  {
   "cell_type": "code",
   "execution_count": 254,
   "id": "02ddef01",
   "metadata": {},
   "outputs": [],
   "source": [
    "a = '89.23'"
   ]
  },
  {
   "cell_type": "code",
   "execution_count": 255,
   "id": "ac307a02",
   "metadata": {},
   "outputs": [
    {
     "data": {
      "text/plain": [
       "str"
      ]
     },
     "execution_count": 255,
     "metadata": {},
     "output_type": "execute_result"
    }
   ],
   "source": [
    "type(a)"
   ]
  },
  {
   "cell_type": "code",
   "execution_count": 256,
   "id": "38b30c6c",
   "metadata": {},
   "outputs": [],
   "source": [
    "b = float(a)"
   ]
  },
  {
   "cell_type": "code",
   "execution_count": 257,
   "id": "94c8cd30",
   "metadata": {},
   "outputs": [
    {
     "data": {
      "text/plain": [
       "89.23"
      ]
     },
     "execution_count": 257,
     "metadata": {},
     "output_type": "execute_result"
    }
   ],
   "source": [
    "b"
   ]
  },
  {
   "cell_type": "code",
   "execution_count": 258,
   "id": "a26f7e8f",
   "metadata": {},
   "outputs": [
    {
     "data": {
      "text/plain": [
       "float"
      ]
     },
     "execution_count": 258,
     "metadata": {},
     "output_type": "execute_result"
    }
   ],
   "source": [
    "type(b)"
   ]
  },
  {
   "cell_type": "markdown",
   "id": "a3022cff",
   "metadata": {},
   "source": [
    "# Conditional Statements"
   ]
  },
  {
   "cell_type": "markdown",
   "id": "d48bd438",
   "metadata": {},
   "source": [
    "1. simple if \n",
    "2. if -else\n",
    "3. nested if - else \n"
   ]
  },
  {
   "cell_type": "markdown",
   "id": "9956afef",
   "metadata": {},
   "source": [
    "# Indentation"
   ]
  },
  {
   "cell_type": "code",
   "execution_count": 259,
   "id": "6e99a3ac",
   "metadata": {},
   "outputs": [],
   "source": [
    "# the space we give at the begining of the code line is called indentation\n",
    "# space is upto you, but alteast one space required"
   ]
  },
  {
   "cell_type": "code",
   "execution_count": 260,
   "id": "d0d38885",
   "metadata": {},
   "outputs": [],
   "source": [
    "# simple if "
   ]
  },
  {
   "cell_type": "code",
   "execution_count": 261,
   "id": "ab4d3d3b",
   "metadata": {},
   "outputs": [],
   "source": [
    "a=45\n",
    "b=89"
   ]
  },
  {
   "cell_type": "code",
   "execution_count": 262,
   "id": "2cb6c211",
   "metadata": {},
   "outputs": [
    {
     "name": "stdout",
     "output_type": "stream",
     "text": [
      " a is small\n"
     ]
    }
   ],
   "source": [
    "if a<b :\n",
    "    print(' a is small')"
   ]
  },
  {
   "cell_type": "code",
   "execution_count": 263,
   "id": "73887a5a",
   "metadata": {},
   "outputs": [
    {
     "name": "stdout",
     "output_type": "stream",
     "text": [
      " a is small\n"
     ]
    }
   ],
   "source": [
    "if a<b :\n",
    " print(' a is small')"
   ]
  },
  {
   "cell_type": "code",
   "execution_count": 264,
   "id": "b7ff5158",
   "metadata": {},
   "outputs": [
    {
     "name": "stdout",
     "output_type": "stream",
     "text": [
      " a is small\n"
     ]
    }
   ],
   "source": [
    "if a<b :\n",
    "  print(' a is small')"
   ]
  },
  {
   "cell_type": "code",
   "execution_count": 265,
   "id": "83bb2102",
   "metadata": {},
   "outputs": [
    {
     "name": "stdout",
     "output_type": "stream",
     "text": [
      " a is small\n"
     ]
    }
   ],
   "source": [
    "if a<b :\n",
    "   print(' a is small')"
   ]
  },
  {
   "cell_type": "code",
   "execution_count": 266,
   "id": "78bbdb80",
   "metadata": {},
   "outputs": [
    {
     "name": "stdout",
     "output_type": "stream",
     "text": [
      " a is small\n"
     ]
    }
   ],
   "source": [
    "if a<b :\n",
    "                       print(' a is small')"
   ]
  },
  {
   "cell_type": "code",
   "execution_count": 268,
   "id": "b9ec8cc0",
   "metadata": {},
   "outputs": [
    {
     "name": "stdout",
     "output_type": "stream",
     "text": [
      " a is small\n",
      "execution done\n",
      "successful\n"
     ]
    }
   ],
   "source": [
    "if a<b :\n",
    "    print(' a is small')\n",
    "    print('execution done')\n",
    "    print('successful')"
   ]
  },
  {
   "cell_type": "code",
   "execution_count": 299,
   "id": "e024a3d4",
   "metadata": {},
   "outputs": [
    {
     "ename": "IndentationError",
     "evalue": "unexpected indent (<ipython-input-299-07f13cbeedf6>, line 4)",
     "output_type": "error",
     "traceback": [
      "\u001b[1;36m  File \u001b[1;32m\"<ipython-input-299-07f13cbeedf6>\"\u001b[1;36m, line \u001b[1;32m4\u001b[0m\n\u001b[1;33m    print('successful')  # indentation error\u001b[0m\n\u001b[1;37m    ^\u001b[0m\n\u001b[1;31mIndentationError\u001b[0m\u001b[1;31m:\u001b[0m unexpected indent\n"
     ]
    }
   ],
   "source": [
    "if a<b :\n",
    "    print(' a is small')\n",
    "    print('execution done')\n",
    "     print('successful')  # indentation error"
   ]
  },
  {
   "cell_type": "code",
   "execution_count": 272,
   "id": "09b10480",
   "metadata": {},
   "outputs": [],
   "source": [
    "if a>b:\n",
    "    print('a is big')"
   ]
  },
  {
   "cell_type": "code",
   "execution_count": 273,
   "id": "baf083e2",
   "metadata": {},
   "outputs": [],
   "source": [
    "#if - else "
   ]
  },
  {
   "cell_type": "code",
   "execution_count": 274,
   "id": "be43d412",
   "metadata": {},
   "outputs": [
    {
     "name": "stdout",
     "output_type": "stream",
     "text": [
      "a is small\n",
      "execution done\n"
     ]
    }
   ],
   "source": [
    "if a>b:\n",
    "    print(' a is big')\n",
    "    print('execution is done')\n",
    "else:\n",
    "    print('a is small')\n",
    "    print('execution done')"
   ]
  },
  {
   "cell_type": "code",
   "execution_count": 275,
   "id": "87cf560d",
   "metadata": {},
   "outputs": [],
   "source": [
    "#if -elif -else"
   ]
  },
  {
   "cell_type": "code",
   "execution_count": 278,
   "id": "40d92c7b",
   "metadata": {},
   "outputs": [],
   "source": [
    "a = 34\n",
    "b = 34"
   ]
  },
  {
   "cell_type": "code",
   "execution_count": 279,
   "id": "f5653f9f",
   "metadata": {},
   "outputs": [
    {
     "name": "stdout",
     "output_type": "stream",
     "text": [
      "both are same\n",
      "execution is done\n"
     ]
    }
   ],
   "source": [
    "if a>b:\n",
    "    print('a is big')\n",
    "    print('execution is done')\n",
    "elif b>a:\n",
    "    print('b is big')\n",
    "    print('execution is done')\n",
    "elif a == b:\n",
    "    print('both are same')\n",
    "    print('execution is done')\n",
    "else:\n",
    "    print('no condition is true')\n",
    "    print('execution is done')"
   ]
  },
  {
   "cell_type": "code",
   "execution_count": 281,
   "id": "a763f0bb",
   "metadata": {},
   "outputs": [
    {
     "name": "stdout",
     "output_type": "stream",
     "text": [
      "enter input-1: 78\n",
      "enter input-2: 45\n",
      "a is big\n",
      "execution is done\n"
     ]
    }
   ],
   "source": [
    "a = int(input('enter input-1: '))\n",
    "b = int(input('enter input-2: '))\n",
    "if a>b:\n",
    "    print('a is big')\n",
    "    print('execution is done')\n",
    "elif b>a:\n",
    "    print('b is big')\n",
    "    print('execution is done')\n",
    "elif a == b:\n",
    "    print('both are same')\n",
    "    print('execution is done')\n",
    "else:\n",
    "    print('no condition is true')\n",
    "    print('execution is done')\n",
    "    "
   ]
  },
  {
   "cell_type": "code",
   "execution_count": 284,
   "id": "db93de6b",
   "metadata": {},
   "outputs": [
    {
     "name": "stdout",
     "output_type": "stream",
     "text": [
      "enter input-1: 20\n",
      "enter input-2: 10\n",
      "enter input-3: 80\n",
      "The bigger number is c:  80\n"
     ]
    }
   ],
   "source": [
    "a = int(input('enter input-1: '))\n",
    "b = int(input('enter input-2: '))\n",
    "c = int(input('enter input-3: '))\n",
    "if a>b and a>c:\n",
    "    print('The bigger number is a: ',a)\n",
    "elif b>a and b>c:\n",
    "    print('The bigger number is b: ',b)\n",
    "else:\n",
    "    print('The bigger number is c: ',c)"
   ]
  },
  {
   "cell_type": "markdown",
   "id": "94d55deb",
   "metadata": {},
   "source": [
    "# for loop"
   ]
  },
  {
   "cell_type": "code",
   "execution_count": 288,
   "id": "46d3c01d",
   "metadata": {},
   "outputs": [],
   "source": [
    "# range function"
   ]
  },
  {
   "cell_type": "code",
   "execution_count": 289,
   "id": "7cbdf770",
   "metadata": {},
   "outputs": [
    {
     "data": {
      "text/plain": [
       "range(0, 10)"
      ]
     },
     "execution_count": 289,
     "metadata": {},
     "output_type": "execute_result"
    }
   ],
   "source": [
    "range(10)"
   ]
  },
  {
   "cell_type": "code",
   "execution_count": 290,
   "id": "514081bd",
   "metadata": {},
   "outputs": [
    {
     "name": "stdout",
     "output_type": "stream",
     "text": [
      "range(0, 10)\n"
     ]
    }
   ],
   "source": [
    "print(range(10))"
   ]
  },
  {
   "cell_type": "code",
   "execution_count": 291,
   "id": "0fe963c3",
   "metadata": {},
   "outputs": [
    {
     "data": {
      "text/plain": [
       "range(0, 10)"
      ]
     },
     "execution_count": 291,
     "metadata": {},
     "output_type": "execute_result"
    }
   ],
   "source": [
    "range(0,10)"
   ]
  },
  {
   "cell_type": "code",
   "execution_count": 292,
   "id": "addb5625",
   "metadata": {},
   "outputs": [
    {
     "data": {
      "text/plain": [
       "range(15, 20)"
      ]
     },
     "execution_count": 292,
     "metadata": {},
     "output_type": "execute_result"
    }
   ],
   "source": [
    "range(15,20)"
   ]
  },
  {
   "cell_type": "code",
   "execution_count": 294,
   "id": "d1238d69",
   "metadata": {},
   "outputs": [
    {
     "name": "stdout",
     "output_type": "stream",
     "text": [
      "10\n",
      "11\n",
      "12\n",
      "13\n",
      "14\n",
      "15\n",
      "16\n",
      "17\n",
      "18\n",
      "19\n"
     ]
    }
   ],
   "source": [
    "a=10\n",
    "for i in range(0,10):\n",
    "    b = a+i\n",
    "    print(b)"
   ]
  },
  {
   "cell_type": "code",
   "execution_count": 295,
   "id": "1376147d",
   "metadata": {},
   "outputs": [
    {
     "name": "stdout",
     "output_type": "stream",
     "text": [
      "25\n",
      "26\n",
      "27\n",
      "28\n",
      "29\n"
     ]
    }
   ],
   "source": [
    "a=10\n",
    "for k in range(15,20):\n",
    "    b = a+k\n",
    "    print(b)"
   ]
  },
  {
   "cell_type": "code",
   "execution_count": 296,
   "id": "f2b2570e",
   "metadata": {},
   "outputs": [
    {
     "name": "stdout",
     "output_type": "stream",
     "text": [
      "10\n",
      "12\n",
      "14\n",
      "16\n",
      "18\n"
     ]
    }
   ],
   "source": [
    "a=10\n",
    "for k in range(0,10,2):\n",
    "    b = a+k\n",
    "    print(b)"
   ]
  },
  {
   "cell_type": "code",
   "execution_count": 298,
   "id": "13859800",
   "metadata": {},
   "outputs": [
    {
     "name": "stdout",
     "output_type": "stream",
     "text": [
      "110\n",
      "100\n",
      "90\n",
      "80\n",
      "70\n",
      "60\n",
      "50\n",
      "40\n",
      "30\n"
     ]
    }
   ],
   "source": [
    "a=10\n",
    "for k in range(100,10,-10):\n",
    "    b = a+k\n",
    "    print(b)"
   ]
  },
  {
   "cell_type": "markdown",
   "id": "e06eb6e8",
   "metadata": {},
   "source": [
    "# Day-5"
   ]
  },
  {
   "cell_type": "code",
   "execution_count": 300,
   "id": "ded86cb9",
   "metadata": {},
   "outputs": [],
   "source": [
    "#w.p.p to print your name 10 times using for loop"
   ]
  },
  {
   "cell_type": "code",
   "execution_count": 301,
   "id": "8b4bfa9f",
   "metadata": {},
   "outputs": [
    {
     "name": "stdout",
     "output_type": "stream",
     "text": [
      "satya\n",
      "satya\n",
      "satya\n",
      "satya\n",
      "satya\n"
     ]
    }
   ],
   "source": [
    "for i in range(5):\n",
    "    print('satya')"
   ]
  },
  {
   "cell_type": "code",
   "execution_count": 306,
   "id": "62a4aa3e",
   "metadata": {
    "scrolled": true
   },
   "outputs": [
    {
     "name": "stdout",
     "output_type": "stream",
     "text": [
      "The Character is:  i index is:  0\n",
      "The Character is:  n index is:  1\n",
      "The Character is:  n index is:  1\n",
      "The Character is:  o index is:  3\n",
      "The Character is:  m index is:  4\n",
      "The Character is:  a index is:  5\n",
      "The Character is:  t index is:  6\n",
      "The Character is:  i index is:  0\n",
      "The Character is:  c index is:  8\n",
      "The Character is:  s index is:  9\n"
     ]
    }
   ],
   "source": [
    "a = 'innomatics'\n",
    "for i in a:\n",
    "    print('The Character is: ',i,'index is: ',a.index(i))"
   ]
  },
  {
   "cell_type": "code",
   "execution_count": 310,
   "id": "8b5a74b0",
   "metadata": {},
   "outputs": [
    {
     "ename": "SyntaxError",
     "evalue": "unexpected EOF while parsing (<ipython-input-310-911ef81c6421>, line 2)",
     "output_type": "error",
     "traceback": [
      "\u001b[1;36m  File \u001b[1;32m\"<ipython-input-310-911ef81c6421>\"\u001b[1;36m, line \u001b[1;32m2\u001b[0m\n\u001b[1;33m    for i in a:\u001b[0m\n\u001b[1;37m               ^\u001b[0m\n\u001b[1;31mSyntaxError\u001b[0m\u001b[1;31m:\u001b[0m unexpected EOF while parsing\n"
     ]
    }
   ],
   "source": [
    "a = 'innomatics'\n",
    "for i in a:"
   ]
  },
  {
   "cell_type": "code",
   "execution_count": 311,
   "id": "3e86e70e",
   "metadata": {},
   "outputs": [
    {
     "data": {
      "text/plain": [
       "'innomatics'"
      ]
     },
     "execution_count": 311,
     "metadata": {},
     "output_type": "execute_result"
    }
   ],
   "source": [
    "a"
   ]
  },
  {
   "cell_type": "code",
   "execution_count": 312,
   "id": "2205f6cb",
   "metadata": {},
   "outputs": [
    {
     "data": {
      "text/plain": [
       "'i'"
      ]
     },
     "execution_count": 312,
     "metadata": {},
     "output_type": "execute_result"
    }
   ],
   "source": [
    "a[0]"
   ]
  },
  {
   "cell_type": "code",
   "execution_count": 313,
   "id": "02d52dd7",
   "metadata": {},
   "outputs": [
    {
     "data": {
      "text/plain": [
       "'n'"
      ]
     },
     "execution_count": 313,
     "metadata": {},
     "output_type": "execute_result"
    }
   ],
   "source": [
    "a[1]"
   ]
  },
  {
   "cell_type": "code",
   "execution_count": 315,
   "id": "13835f5d",
   "metadata": {},
   "outputs": [
    {
     "name": "stdout",
     "output_type": "stream",
     "text": [
      "The Character is:  i index is:  0\n",
      "The Character is:  n index is:  1\n",
      "The Character is:  n index is:  2\n",
      "The Character is:  o index is:  3\n",
      "The Character is:  m index is:  4\n",
      "The Character is:  a index is:  5\n",
      "The Character is:  t index is:  6\n",
      "The Character is:  i index is:  7\n",
      "The Character is:  c index is:  8\n",
      "The Character is:  s index is:  9\n"
     ]
    }
   ],
   "source": [
    "a = 'innomatics'\n",
    "for i in range(len(a)):\n",
    "    print('The Character is: ',a[i],'index is: ',i)"
   ]
  },
  {
   "cell_type": "code",
   "execution_count": 317,
   "id": "12f871fe",
   "metadata": {},
   "outputs": [
    {
     "name": "stdout",
     "output_type": "stream",
     "text": [
      "s\n",
      "c\n",
      "i\n",
      "t\n",
      "a\n",
      "m\n",
      "o\n",
      "n\n",
      "n\n",
      "i\n"
     ]
    }
   ],
   "source": [
    "for i in a[::-1]:\n",
    "    print(i)"
   ]
  },
  {
   "cell_type": "code",
   "execution_count": 324,
   "id": "f5e4cf36",
   "metadata": {},
   "outputs": [
    {
     "name": "stdout",
     "output_type": "stream",
     "text": [
      "s 9\n",
      "c 8\n",
      "i 7\n",
      "t 6\n",
      "a 5\n",
      "m 4\n",
      "o 3\n",
      "n 2\n",
      "n 1\n",
      "i 0\n"
     ]
    }
   ],
   "source": [
    "for i in range(len(a)-1,-1,-1):\n",
    "    print(a[i],i)"
   ]
  },
  {
   "cell_type": "code",
   "execution_count": 325,
   "id": "0985d47b",
   "metadata": {},
   "outputs": [
    {
     "data": {
      "text/plain": [
       "10"
      ]
     },
     "execution_count": 325,
     "metadata": {},
     "output_type": "execute_result"
    }
   ],
   "source": [
    "len(a)"
   ]
  },
  {
   "cell_type": "code",
   "execution_count": 326,
   "id": "64940e91",
   "metadata": {},
   "outputs": [
    {
     "name": "stdout",
     "output_type": "stream",
     "text": [
      "Enter temperature32C\n"
     ]
    }
   ],
   "source": [
    "temp = input('Enter temperature')"
   ]
  },
  {
   "cell_type": "code",
   "execution_count": 327,
   "id": "0326a554",
   "metadata": {},
   "outputs": [
    {
     "data": {
      "text/plain": [
       "'32C'"
      ]
     },
     "execution_count": 327,
     "metadata": {},
     "output_type": "execute_result"
    }
   ],
   "source": [
    "temp"
   ]
  },
  {
   "cell_type": "code",
   "execution_count": 328,
   "id": "8e94f448",
   "metadata": {},
   "outputs": [],
   "source": [
    "degree=temp[-1]"
   ]
  },
  {
   "cell_type": "code",
   "execution_count": 329,
   "id": "e3ff027b",
   "metadata": {},
   "outputs": [
    {
     "data": {
      "text/plain": [
       "'C'"
      ]
     },
     "execution_count": 329,
     "metadata": {},
     "output_type": "execute_result"
    }
   ],
   "source": [
    "degree"
   ]
  },
  {
   "cell_type": "code",
   "execution_count": 330,
   "id": "18d166ff",
   "metadata": {},
   "outputs": [
    {
     "data": {
      "text/plain": [
       "'32'"
      ]
     },
     "execution_count": 330,
     "metadata": {},
     "output_type": "execute_result"
    }
   ],
   "source": [
    "temp[:2]"
   ]
  },
  {
   "cell_type": "code",
   "execution_count": 332,
   "id": "266b24c2",
   "metadata": {},
   "outputs": [],
   "source": [
    "temp=int(temp[:2])"
   ]
  },
  {
   "cell_type": "code",
   "execution_count": 333,
   "id": "34431e1a",
   "metadata": {},
   "outputs": [
    {
     "data": {
      "text/plain": [
       "32"
      ]
     },
     "execution_count": 333,
     "metadata": {},
     "output_type": "execute_result"
    }
   ],
   "source": [
    "temp"
   ]
  },
  {
   "cell_type": "code",
   "execution_count": 355,
   "id": "5aa4ea1c",
   "metadata": {},
   "outputs": [
    {
     "name": "stdout",
     "output_type": "stream",
     "text": [
      "Enter Input Temparature: 89F\n",
      "Temparature in F is : 89 F\n",
      "Temparature in C is : 31.666666666666668 C\n"
     ]
    }
   ],
   "source": [
    "Temp=input('Enter Input Temparature: ')\n",
    "degree = Temp[-1]\n",
    "degree = degree.upper()\n",
    "temp_value=int(Temp[:-1])\n",
    "if degree == 'C':\n",
    "    out = ((9/5)*temp_value)+32\n",
    "    print(\"Temparature in C is :\",temp_value,\"C\")\n",
    "    print(\"Temparature in F is :\",out,\"F\")\n",
    "elif degree == 'F':\n",
    "    out = (5/9)*(temp_value-32)\n",
    "    print(\"Temparature in F is :\",temp_value,\"F\")\n",
    "    print(\"Temparature in C is :\",out,\"C\")\n",
    "else:\n",
    "    print('Give input in predefined format')\n",
    "\n",
    "    "
   ]
  },
  {
   "cell_type": "code",
   "execution_count": 345,
   "id": "84d5761c",
   "metadata": {},
   "outputs": [
    {
     "data": {
      "text/plain": [
       "'a'"
      ]
     },
     "execution_count": 345,
     "metadata": {},
     "output_type": "execute_result"
    }
   ],
   "source": [
    "a='satya'\n",
    "a[-1:]"
   ]
  },
  {
   "cell_type": "code",
   "execution_count": 346,
   "id": "b977736f",
   "metadata": {},
   "outputs": [
    {
     "data": {
      "text/plain": [
       "'saty'"
      ]
     },
     "execution_count": 346,
     "metadata": {},
     "output_type": "execute_result"
    }
   ],
   "source": [
    "a[:-1]"
   ]
  },
  {
   "cell_type": "code",
   "execution_count": 357,
   "id": "a0c66440",
   "metadata": {},
   "outputs": [
    {
     "name": "stdout",
     "output_type": "stream",
     "text": [
      "enter a number: 56\n",
      "Given number is even\n"
     ]
    }
   ],
   "source": [
    "n = int(input('enter a number: '))\n",
    "if n%2 == 0:\n",
    "    print('Given number is even')\n",
    "else:\n",
    "    print('Given number is odd')"
   ]
  },
  {
   "cell_type": "code",
   "execution_count": 358,
   "id": "eab123e0",
   "metadata": {},
   "outputs": [
    {
     "name": "stdout",
     "output_type": "stream",
     "text": [
      "100\n",
      "102\n",
      "104\n",
      "106\n",
      "108\n",
      "110\n",
      "112\n",
      "114\n",
      "116\n",
      "118\n",
      "120\n",
      "122\n",
      "124\n",
      "126\n",
      "128\n",
      "130\n",
      "132\n",
      "134\n",
      "136\n",
      "138\n",
      "140\n",
      "142\n",
      "144\n",
      "146\n",
      "148\n",
      "150\n",
      "152\n",
      "154\n",
      "156\n",
      "158\n",
      "160\n",
      "162\n",
      "164\n",
      "166\n",
      "168\n",
      "170\n",
      "172\n",
      "174\n",
      "176\n",
      "178\n",
      "180\n",
      "182\n",
      "184\n",
      "186\n",
      "188\n",
      "190\n",
      "192\n",
      "194\n",
      "196\n",
      "198\n",
      "200\n"
     ]
    }
   ],
   "source": [
    "for i in range(100,201):\n",
    "    if i % 2 == 0:\n",
    "        print(i)"
   ]
  },
  {
   "cell_type": "code",
   "execution_count": null,
   "id": "c781fb2c",
   "metadata": {},
   "outputs": [],
   "source": []
  }
 ],
 "metadata": {
  "kernelspec": {
   "display_name": "Python 3 (ipykernel)",
   "language": "python",
   "name": "python3"
  },
  "language_info": {
   "codemirror_mode": {
    "name": "ipython",
    "version": 3
   },
   "file_extension": ".py",
   "mimetype": "text/x-python",
   "name": "python",
   "nbconvert_exporter": "python",
   "pygments_lexer": "ipython3",
   "version": "3.9.12"
  }
 },
 "nbformat": 4,
 "nbformat_minor": 5
}
