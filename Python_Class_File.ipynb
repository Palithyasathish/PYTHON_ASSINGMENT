{
 "cells": [
  {
   "cell_type": "markdown",
   "id": "fc3245a8",
   "metadata": {},
   "source": [
    "# Day-1"
   ]
  },
  {
   "cell_type": "code",
   "execution_count": 1,
   "id": "46234f4b",
   "metadata": {},
   "outputs": [
    {
     "name": "stdout",
     "output_type": "stream",
     "text": [
      "satyakumar\n"
     ]
    }
   ],
   "source": [
    "print(\"satyakumar\")"
   ]
  },
  {
   "cell_type": "code",
   "execution_count": 2,
   "id": "c8c604a5",
   "metadata": {},
   "outputs": [],
   "source": [
    "a=34"
   ]
  },
  {
   "cell_type": "code",
   "execution_count": 3,
   "id": "663bd1ee",
   "metadata": {},
   "outputs": [
    {
     "name": "stdout",
     "output_type": "stream",
     "text": [
      "34\n"
     ]
    }
   ],
   "source": [
    "print(a)"
   ]
  },
  {
   "cell_type": "markdown",
   "id": "82ca7f1f",
   "metadata": {},
   "source": [
    "# variables "
   ]
  },
  {
   "cell_type": "code",
   "execution_count": 4,
   "id": "9ae74cdb",
   "metadata": {},
   "outputs": [],
   "source": [
    "# variable is a data container\n"
   ]
  },
  {
   "cell_type": "code",
   "execution_count": 5,
   "id": "baf69fc4",
   "metadata": {},
   "outputs": [],
   "source": [
    "# variable declaration rules"
   ]
  },
  {
   "cell_type": "code",
   "execution_count": 6,
   "id": "63e93c53",
   "metadata": {},
   "outputs": [],
   "source": [
    "Prog6=89 # valid variable name"
   ]
  },
  {
   "cell_type": "code",
   "execution_count": 7,
   "id": "98c5755a",
   "metadata": {},
   "outputs": [
    {
     "ename": "SyntaxError",
     "evalue": "invalid syntax (<ipython-input-7-bf94cac614c9>, line 1)",
     "output_type": "error",
     "traceback": [
      "\u001b[1;36m  File \u001b[1;32m\"<ipython-input-7-bf94cac614c9>\"\u001b[1;36m, line \u001b[1;32m1\u001b[0m\n\u001b[1;33m    4prg=89\u001b[0m\n\u001b[1;37m     ^\u001b[0m\n\u001b[1;31mSyntaxError\u001b[0m\u001b[1;31m:\u001b[0m invalid syntax\n"
     ]
    }
   ],
   "source": [
    "4prg=89 # invalid variable name"
   ]
  },
  {
   "cell_type": "code",
   "execution_count": 8,
   "id": "71ae0742",
   "metadata": {},
   "outputs": [
    {
     "ename": "SyntaxError",
     "evalue": "invalid syntax (<ipython-input-8-b4c2121d5fec>, line 1)",
     "output_type": "error",
     "traceback": [
      "\u001b[1;36m  File \u001b[1;32m\"<ipython-input-8-b4c2121d5fec>\"\u001b[1;36m, line \u001b[1;32m1\u001b[0m\n\u001b[1;33m    @prog=89\u001b[0m\n\u001b[1;37m         ^\u001b[0m\n\u001b[1;31mSyntaxError\u001b[0m\u001b[1;31m:\u001b[0m invalid syntax\n"
     ]
    }
   ],
   "source": [
    "@prog=89 # invalid variable name"
   ]
  },
  {
   "cell_type": "code",
   "execution_count": 9,
   "id": "04b57b09",
   "metadata": {},
   "outputs": [
    {
     "name": "stderr",
     "output_type": "stream",
     "text": [
      "UsageError: Line magic function `%prog=89` not found.\n"
     ]
    }
   ],
   "source": [
    "%prog=89  # invalid variable name"
   ]
  },
  {
   "cell_type": "code",
   "execution_count": 10,
   "id": "c33091da",
   "metadata": {},
   "outputs": [],
   "source": [
    "_prog=89 # valid variable name"
   ]
  },
  {
   "cell_type": "code",
   "execution_count": 11,
   "id": "7e4c0490",
   "metadata": {},
   "outputs": [],
   "source": [
    "prog_4=89 # valoid variable name"
   ]
  },
  {
   "cell_type": "code",
   "execution_count": 12,
   "id": "ed1860e7",
   "metadata": {},
   "outputs": [
    {
     "ename": "SyntaxError",
     "evalue": "invalid syntax (<ipython-input-12-91e012990b57>, line 1)",
     "output_type": "error",
     "traceback": [
      "\u001b[1;36m  File \u001b[1;32m\"<ipython-input-12-91e012990b57>\"\u001b[1;36m, line \u001b[1;32m1\u001b[0m\n\u001b[1;33m    del =89\u001b[0m\n\u001b[1;37m        ^\u001b[0m\n\u001b[1;31mSyntaxError\u001b[0m\u001b[1;31m:\u001b[0m invalid syntax\n"
     ]
    }
   ],
   "source": [
    "del =89 # invalid variable"
   ]
  },
  {
   "cell_type": "code",
   "execution_count": 13,
   "id": "7345e011",
   "metadata": {},
   "outputs": [
    {
     "ename": "SyntaxError",
     "evalue": "invalid syntax (<ipython-input-13-cc1bb892f82b>, line 1)",
     "output_type": "error",
     "traceback": [
      "\u001b[1;36m  File \u001b[1;32m\"<ipython-input-13-cc1bb892f82b>\"\u001b[1;36m, line \u001b[1;32m1\u001b[0m\n\u001b[1;33m    prog 4=89\u001b[0m\n\u001b[1;37m         ^\u001b[0m\n\u001b[1;31mSyntaxError\u001b[0m\u001b[1;31m:\u001b[0m invalid syntax\n"
     ]
    }
   ],
   "source": [
    "prog 4=89 # invalid variable"
   ]
  },
  {
   "cell_type": "markdown",
   "id": "fea045c6",
   "metadata": {},
   "source": [
    "# variables"
   ]
  },
  {
   "cell_type": "code",
   "execution_count": 14,
   "id": "2ec32b2d",
   "metadata": {},
   "outputs": [],
   "source": [
    "# number type\n",
    "#1. int\n",
    "#2. float\n",
    "#3.complex "
   ]
  },
  {
   "cell_type": "code",
   "execution_count": 15,
   "id": "3f08a92f",
   "metadata": {},
   "outputs": [],
   "source": [
    "a=23"
   ]
  },
  {
   "cell_type": "code",
   "execution_count": 16,
   "id": "29fbb61b",
   "metadata": {},
   "outputs": [],
   "source": [
    "#type() is a function which returns type of data "
   ]
  },
  {
   "cell_type": "code",
   "execution_count": 17,
   "id": "5e7e8d8d",
   "metadata": {},
   "outputs": [
    {
     "data": {
      "text/plain": [
       "int"
      ]
     },
     "execution_count": 17,
     "metadata": {},
     "output_type": "execute_result"
    }
   ],
   "source": [
    "type(a)"
   ]
  },
  {
   "cell_type": "code",
   "execution_count": 18,
   "id": "727c47cf",
   "metadata": {},
   "outputs": [],
   "source": [
    "b=345678923"
   ]
  },
  {
   "cell_type": "code",
   "execution_count": 19,
   "id": "7a929a5e",
   "metadata": {},
   "outputs": [
    {
     "data": {
      "text/plain": [
       "int"
      ]
     },
     "execution_count": 19,
     "metadata": {},
     "output_type": "execute_result"
    }
   ],
   "source": [
    "type(b)"
   ]
  },
  {
   "cell_type": "code",
   "execution_count": 20,
   "id": "ee4d35bf",
   "metadata": {},
   "outputs": [],
   "source": [
    "c=-789"
   ]
  },
  {
   "cell_type": "code",
   "execution_count": 21,
   "id": "bfd8e32d",
   "metadata": {},
   "outputs": [
    {
     "data": {
      "text/plain": [
       "int"
      ]
     },
     "execution_count": 21,
     "metadata": {},
     "output_type": "execute_result"
    }
   ],
   "source": [
    "type(c)"
   ]
  },
  {
   "cell_type": "code",
   "execution_count": 22,
   "id": "cd4b3054",
   "metadata": {},
   "outputs": [],
   "source": [
    "#float"
   ]
  },
  {
   "cell_type": "code",
   "execution_count": 23,
   "id": "dfb72974",
   "metadata": {},
   "outputs": [],
   "source": [
    "a=89.67"
   ]
  },
  {
   "cell_type": "code",
   "execution_count": 24,
   "id": "bd7c20dc",
   "metadata": {},
   "outputs": [
    {
     "data": {
      "text/plain": [
       "float"
      ]
     },
     "execution_count": 24,
     "metadata": {},
     "output_type": "execute_result"
    }
   ],
   "source": [
    "type(a)"
   ]
  },
  {
   "cell_type": "code",
   "execution_count": 25,
   "id": "a4b76e07",
   "metadata": {},
   "outputs": [],
   "source": [
    "b=456.78934567899"
   ]
  },
  {
   "cell_type": "code",
   "execution_count": 26,
   "id": "dda20a0e",
   "metadata": {},
   "outputs": [
    {
     "data": {
      "text/plain": [
       "float"
      ]
     },
     "execution_count": 26,
     "metadata": {},
     "output_type": "execute_result"
    }
   ],
   "source": [
    "type(b)"
   ]
  },
  {
   "cell_type": "code",
   "execution_count": 27,
   "id": "76cd2257",
   "metadata": {},
   "outputs": [],
   "source": [
    "c=-67.9087"
   ]
  },
  {
   "cell_type": "code",
   "execution_count": 28,
   "id": "77a97385",
   "metadata": {},
   "outputs": [
    {
     "data": {
      "text/plain": [
       "float"
      ]
     },
     "execution_count": 28,
     "metadata": {},
     "output_type": "execute_result"
    }
   ],
   "source": [
    "type(c)"
   ]
  },
  {
   "cell_type": "code",
   "execution_count": 29,
   "id": "5fefd5cf",
   "metadata": {},
   "outputs": [],
   "source": [
    "#complex"
   ]
  },
  {
   "cell_type": "code",
   "execution_count": 30,
   "id": "a001524a",
   "metadata": {},
   "outputs": [],
   "source": [
    "a=5+9j\n",
    "b=3-8j\n",
    "c=-9j"
   ]
  },
  {
   "cell_type": "code",
   "execution_count": 31,
   "id": "4488c0e2",
   "metadata": {},
   "outputs": [
    {
     "name": "stdout",
     "output_type": "stream",
     "text": [
      "<class 'complex'>\n",
      "<class 'complex'>\n",
      "<class 'complex'>\n"
     ]
    }
   ],
   "source": [
    "print(type(a))\n",
    "print(type(b))\n",
    "print(type(c))"
   ]
  },
  {
   "cell_type": "code",
   "execution_count": 32,
   "id": "72e15d98",
   "metadata": {},
   "outputs": [],
   "source": [
    "a,b,c=10,20,30"
   ]
  },
  {
   "cell_type": "code",
   "execution_count": 33,
   "id": "5fe589ad",
   "metadata": {},
   "outputs": [
    {
     "name": "stdout",
     "output_type": "stream",
     "text": [
      "10\n"
     ]
    }
   ],
   "source": [
    "print(a)"
   ]
  },
  {
   "cell_type": "code",
   "execution_count": 34,
   "id": "a653f7f1",
   "metadata": {},
   "outputs": [
    {
     "name": "stdout",
     "output_type": "stream",
     "text": [
      "20\n"
     ]
    }
   ],
   "source": [
    "print(b)"
   ]
  },
  {
   "cell_type": "code",
   "execution_count": 35,
   "id": "d466e161",
   "metadata": {},
   "outputs": [
    {
     "name": "stdout",
     "output_type": "stream",
     "text": [
      "30\n"
     ]
    }
   ],
   "source": [
    "print(c)"
   ]
  },
  {
   "cell_type": "code",
   "execution_count": 36,
   "id": "7ffbc59a",
   "metadata": {},
   "outputs": [],
   "source": [
    "#assign same value to multiple variables"
   ]
  },
  {
   "cell_type": "code",
   "execution_count": 38,
   "id": "12fee3e0",
   "metadata": {},
   "outputs": [],
   "source": [
    "a=b=c=89"
   ]
  },
  {
   "cell_type": "code",
   "execution_count": 39,
   "id": "c9d05d85",
   "metadata": {},
   "outputs": [
    {
     "name": "stdout",
     "output_type": "stream",
     "text": [
      "89\n"
     ]
    }
   ],
   "source": [
    "print(a)"
   ]
  },
  {
   "cell_type": "code",
   "execution_count": 40,
   "id": "a54ec3f1",
   "metadata": {},
   "outputs": [
    {
     "name": "stdout",
     "output_type": "stream",
     "text": [
      "89\n"
     ]
    }
   ],
   "source": [
    "print(b)"
   ]
  },
  {
   "cell_type": "code",
   "execution_count": 41,
   "id": "a9b181b8",
   "metadata": {},
   "outputs": [
    {
     "name": "stdout",
     "output_type": "stream",
     "text": [
      "89\n"
     ]
    }
   ],
   "source": [
    "print(c)"
   ]
  },
  {
   "cell_type": "code",
   "execution_count": 42,
   "id": "6de7914e",
   "metadata": {},
   "outputs": [],
   "source": [
    "#string variables"
   ]
  },
  {
   "cell_type": "code",
   "execution_count": 47,
   "id": "48245c6a",
   "metadata": {},
   "outputs": [],
   "source": [
    "a = 'python programming'"
   ]
  },
  {
   "cell_type": "code",
   "execution_count": 48,
   "id": "1a8794ab",
   "metadata": {},
   "outputs": [
    {
     "name": "stdout",
     "output_type": "stream",
     "text": [
      "python programming\n"
     ]
    }
   ],
   "source": [
    "print(a)"
   ]
  },
  {
   "cell_type": "code",
   "execution_count": 49,
   "id": "4a6cff11",
   "metadata": {},
   "outputs": [],
   "source": [
    "b='101'"
   ]
  },
  {
   "cell_type": "code",
   "execution_count": 50,
   "id": "376cf75b",
   "metadata": {},
   "outputs": [
    {
     "data": {
      "text/plain": [
       "str"
      ]
     },
     "execution_count": 50,
     "metadata": {},
     "output_type": "execute_result"
    }
   ],
   "source": [
    "type(b)"
   ]
  },
  {
   "cell_type": "code",
   "execution_count": 51,
   "id": "73893fb3",
   "metadata": {},
   "outputs": [],
   "source": [
    "#operators\n",
    "#1. arthimetic operators"
   ]
  },
  {
   "cell_type": "markdown",
   "id": "4eb4fbac",
   "metadata": {},
   "source": [
    "# operators"
   ]
  },
  {
   "cell_type": "markdown",
   "id": "10bc9091",
   "metadata": {},
   "source": [
    "1. addition +\n",
    "2. sub -\n",
    "3. mul *\n",
    "4. division /\n",
    "5. modulo %\n",
    "6. exponentation **\n",
    "7. floor division //"
   ]
  },
  {
   "cell_type": "code",
   "execution_count": 54,
   "id": "ac7490db",
   "metadata": {},
   "outputs": [],
   "source": [
    "# addition"
   ]
  },
  {
   "cell_type": "code",
   "execution_count": 53,
   "id": "d6897a64",
   "metadata": {},
   "outputs": [],
   "source": [
    "a=34\n",
    "b=78"
   ]
  },
  {
   "cell_type": "code",
   "execution_count": 55,
   "id": "2c76c492",
   "metadata": {},
   "outputs": [
    {
     "data": {
      "text/plain": [
       "112"
      ]
     },
     "execution_count": 55,
     "metadata": {},
     "output_type": "execute_result"
    }
   ],
   "source": [
    "a+b"
   ]
  },
  {
   "cell_type": "code",
   "execution_count": 56,
   "id": "f782d43d",
   "metadata": {},
   "outputs": [
    {
     "data": {
      "text/plain": [
       "-44"
      ]
     },
     "execution_count": 56,
     "metadata": {},
     "output_type": "execute_result"
    }
   ],
   "source": [
    "a-b"
   ]
  },
  {
   "cell_type": "code",
   "execution_count": 57,
   "id": "6473c0a4",
   "metadata": {},
   "outputs": [
    {
     "data": {
      "text/plain": [
       "2652"
      ]
     },
     "execution_count": 57,
     "metadata": {},
     "output_type": "execute_result"
    }
   ],
   "source": [
    "a*b"
   ]
  },
  {
   "cell_type": "code",
   "execution_count": 58,
   "id": "ce055c4a",
   "metadata": {},
   "outputs": [
    {
     "data": {
      "text/plain": [
       "0.4358974358974359"
      ]
     },
     "execution_count": 58,
     "metadata": {},
     "output_type": "execute_result"
    }
   ],
   "source": [
    "a/b"
   ]
  },
  {
   "cell_type": "code",
   "execution_count": 59,
   "id": "b7d57762",
   "metadata": {},
   "outputs": [],
   "source": [
    "#exponentation"
   ]
  },
  {
   "cell_type": "code",
   "execution_count": 60,
   "id": "f591ff95",
   "metadata": {},
   "outputs": [
    {
     "data": {
      "text/plain": [
       "285335317058486027411405324166464744463360460002598071329967949465250689557820764970048082035633315075321399848988573696"
      ]
     },
     "execution_count": 60,
     "metadata": {},
     "output_type": "execute_result"
    }
   ],
   "source": [
    "a**b"
   ]
  },
  {
   "cell_type": "code",
   "execution_count": 61,
   "id": "7e1e2e01",
   "metadata": {},
   "outputs": [
    {
     "data": {
      "text/plain": [
       "1336336"
      ]
     },
     "execution_count": 61,
     "metadata": {},
     "output_type": "execute_result"
    }
   ],
   "source": [
    "a**4"
   ]
  },
  {
   "cell_type": "code",
   "execution_count": 62,
   "id": "fae56765",
   "metadata": {},
   "outputs": [],
   "source": [
    "#floor division"
   ]
  },
  {
   "cell_type": "code",
   "execution_count": 63,
   "id": "9fde39c8",
   "metadata": {},
   "outputs": [],
   "source": [
    "# it returns previous whole number -- floor(lower bounds) --ceil (upper bounds )"
   ]
  },
  {
   "cell_type": "code",
   "execution_count": 64,
   "id": "d39338b5",
   "metadata": {},
   "outputs": [
    {
     "data": {
      "text/plain": [
       "0.4358974358974359"
      ]
     },
     "execution_count": 64,
     "metadata": {},
     "output_type": "execute_result"
    }
   ],
   "source": [
    "a/b"
   ]
  },
  {
   "cell_type": "code",
   "execution_count": 65,
   "id": "8b0d358f",
   "metadata": {},
   "outputs": [
    {
     "data": {
      "text/plain": [
       "2.2941176470588234"
      ]
     },
     "execution_count": 65,
     "metadata": {},
     "output_type": "execute_result"
    }
   ],
   "source": [
    "b/a"
   ]
  },
  {
   "cell_type": "code",
   "execution_count": 66,
   "id": "b0208f7a",
   "metadata": {},
   "outputs": [
    {
     "data": {
      "text/plain": [
       "2"
      ]
     },
     "execution_count": 66,
     "metadata": {},
     "output_type": "execute_result"
    }
   ],
   "source": [
    "b//a"
   ]
  },
  {
   "cell_type": "markdown",
   "id": "da4e5f19",
   "metadata": {},
   "source": [
    "# Day-2"
   ]
  },
  {
   "cell_type": "markdown",
   "id": "9e7167c3",
   "metadata": {},
   "source": [
    "# comparision operators"
   ]
  },
  {
   "cell_type": "markdown",
   "id": "3e5e746b",
   "metadata": {},
   "source": [
    "1. Less than <\n",
    "2. Greater than >\n",
    "3. less than or equal to <=\n",
    "4. greater than or equal to >=\n",
    "5. equal to\n",
    "6. not equal to"
   ]
  },
  {
   "cell_type": "code",
   "execution_count": 68,
   "id": "3bd9a474",
   "metadata": {},
   "outputs": [],
   "source": [
    "# less than \n",
    "a=45\n",
    "b=78"
   ]
  },
  {
   "cell_type": "code",
   "execution_count": 118,
   "id": "efff7bb5",
   "metadata": {},
   "outputs": [
    {
     "data": {
      "text/plain": [
       "False"
      ]
     },
     "execution_count": 118,
     "metadata": {},
     "output_type": "execute_result"
    }
   ],
   "source": [
    "a==b"
   ]
  },
  {
   "cell_type": "code",
   "execution_count": 119,
   "id": "c065bdc7",
   "metadata": {},
   "outputs": [
    {
     "data": {
      "text/plain": [
       "True"
      ]
     },
     "execution_count": 119,
     "metadata": {},
     "output_type": "execute_result"
    }
   ],
   "source": [
    "a!=b"
   ]
  },
  {
   "cell_type": "code",
   "execution_count": 71,
   "id": "422b50a9",
   "metadata": {},
   "outputs": [
    {
     "data": {
      "text/plain": [
       "True"
      ]
     },
     "execution_count": 71,
     "metadata": {},
     "output_type": "execute_result"
    }
   ],
   "source": [
    "a<b"
   ]
  },
  {
   "cell_type": "code",
   "execution_count": 72,
   "id": "32faf359",
   "metadata": {},
   "outputs": [
    {
     "data": {
      "text/plain": [
       "False"
      ]
     },
     "execution_count": 72,
     "metadata": {},
     "output_type": "execute_result"
    }
   ],
   "source": [
    "# greater than \n",
    "a>b"
   ]
  },
  {
   "cell_type": "code",
   "execution_count": 75,
   "id": "50dd8092",
   "metadata": {},
   "outputs": [],
   "source": [
    "# less than or equal\n",
    "a=12\n",
    "b=36"
   ]
  },
  {
   "cell_type": "code",
   "execution_count": 76,
   "id": "a7981557",
   "metadata": {},
   "outputs": [
    {
     "data": {
      "text/plain": [
       "True"
      ]
     },
     "execution_count": 76,
     "metadata": {},
     "output_type": "execute_result"
    }
   ],
   "source": [
    "a<=b"
   ]
  },
  {
   "cell_type": "code",
   "execution_count": 77,
   "id": "ad31fa9e",
   "metadata": {},
   "outputs": [
    {
     "data": {
      "text/plain": [
       "True"
      ]
     },
     "execution_count": 77,
     "metadata": {},
     "output_type": "execute_result"
    }
   ],
   "source": [
    "b>=a"
   ]
  },
  {
   "cell_type": "code",
   "execution_count": 78,
   "id": "e40e9ae9",
   "metadata": {},
   "outputs": [],
   "source": [
    "a=56\n",
    "b=56"
   ]
  },
  {
   "cell_type": "code",
   "execution_count": 79,
   "id": "0120c6d7",
   "metadata": {},
   "outputs": [
    {
     "data": {
      "text/plain": [
       "True"
      ]
     },
     "execution_count": 79,
     "metadata": {},
     "output_type": "execute_result"
    }
   ],
   "source": [
    "a<=b"
   ]
  },
  {
   "cell_type": "markdown",
   "id": "1d701f2d",
   "metadata": {},
   "source": [
    "# logical operators"
   ]
  },
  {
   "cell_type": "markdown",
   "id": "84c64d9c",
   "metadata": {},
   "source": [
    "1.and\n",
    "2.or\n",
    "3.not"
   ]
  },
  {
   "cell_type": "code",
   "execution_count": 80,
   "id": "55e4033f",
   "metadata": {},
   "outputs": [],
   "source": [
    "# and - if at all if 2 condition are true - output will be true "
   ]
  },
  {
   "cell_type": "code",
   "execution_count": 81,
   "id": "db9f1fa7",
   "metadata": {},
   "outputs": [],
   "source": [
    "a=45\n",
    "b=78"
   ]
  },
  {
   "cell_type": "code",
   "execution_count": 82,
   "id": "371dc1c6",
   "metadata": {},
   "outputs": [
    {
     "data": {
      "text/plain": [
       "True"
      ]
     },
     "execution_count": 82,
     "metadata": {},
     "output_type": "execute_result"
    }
   ],
   "source": [
    "#and operator\n",
    "a<56 and b<100"
   ]
  },
  {
   "cell_type": "code",
   "execution_count": 83,
   "id": "17c878f3",
   "metadata": {},
   "outputs": [
    {
     "data": {
      "text/plain": [
       "False"
      ]
     },
     "execution_count": 83,
     "metadata": {},
     "output_type": "execute_result"
    }
   ],
   "source": [
    "a>56 and b<100"
   ]
  },
  {
   "cell_type": "code",
   "execution_count": 84,
   "id": "cff688ac",
   "metadata": {},
   "outputs": [
    {
     "data": {
      "text/plain": [
       "False"
      ]
     },
     "execution_count": 84,
     "metadata": {},
     "output_type": "execute_result"
    }
   ],
   "source": [
    "a<56 and b>100"
   ]
  },
  {
   "cell_type": "code",
   "execution_count": 85,
   "id": "553664f7",
   "metadata": {},
   "outputs": [
    {
     "data": {
      "text/plain": [
       "False"
      ]
     },
     "execution_count": 85,
     "metadata": {},
     "output_type": "execute_result"
    }
   ],
   "source": [
    "a>56 and b>100"
   ]
  },
  {
   "cell_type": "code",
   "execution_count": 87,
   "id": "aa38b3e7",
   "metadata": {},
   "outputs": [
    {
     "data": {
      "text/plain": [
       "45"
      ]
     },
     "execution_count": 87,
     "metadata": {},
     "output_type": "execute_result"
    }
   ],
   "source": [
    "# or \n",
    "a\n"
   ]
  },
  {
   "cell_type": "code",
   "execution_count": 88,
   "id": "ba915151",
   "metadata": {},
   "outputs": [
    {
     "data": {
      "text/plain": [
       "78"
      ]
     },
     "execution_count": 88,
     "metadata": {},
     "output_type": "execute_result"
    }
   ],
   "source": [
    "b"
   ]
  },
  {
   "cell_type": "code",
   "execution_count": 89,
   "id": "5d302116",
   "metadata": {},
   "outputs": [
    {
     "data": {
      "text/plain": [
       "True"
      ]
     },
     "execution_count": 89,
     "metadata": {},
     "output_type": "execute_result"
    }
   ],
   "source": [
    "a>56 or b<100"
   ]
  },
  {
   "cell_type": "code",
   "execution_count": 90,
   "id": "d6181a02",
   "metadata": {},
   "outputs": [
    {
     "data": {
      "text/plain": [
       "True"
      ]
     },
     "execution_count": 90,
     "metadata": {},
     "output_type": "execute_result"
    }
   ],
   "source": [
    "a<50 or b<100"
   ]
  },
  {
   "cell_type": "code",
   "execution_count": 91,
   "id": "6f753099",
   "metadata": {},
   "outputs": [
    {
     "data": {
      "text/plain": [
       "False"
      ]
     },
     "execution_count": 91,
     "metadata": {},
     "output_type": "execute_result"
    }
   ],
   "source": [
    "a>50 or b>100"
   ]
  },
  {
   "cell_type": "code",
   "execution_count": 92,
   "id": "9b9ca809",
   "metadata": {},
   "outputs": [
    {
     "data": {
      "text/plain": [
       "True"
      ]
     },
     "execution_count": 92,
     "metadata": {},
     "output_type": "execute_result"
    }
   ],
   "source": [
    "a>30 or b>100"
   ]
  },
  {
   "cell_type": "code",
   "execution_count": 93,
   "id": "0c69a896",
   "metadata": {},
   "outputs": [],
   "source": [
    "# not operator"
   ]
  },
  {
   "cell_type": "code",
   "execution_count": 94,
   "id": "c1f78df1",
   "metadata": {},
   "outputs": [
    {
     "data": {
      "text/plain": [
       "True"
      ]
     },
     "execution_count": 94,
     "metadata": {},
     "output_type": "execute_result"
    }
   ],
   "source": [
    "not(a>56)"
   ]
  },
  {
   "cell_type": "code",
   "execution_count": 95,
   "id": "6ff0bbff",
   "metadata": {},
   "outputs": [
    {
     "data": {
      "text/plain": [
       "False"
      ]
     },
     "execution_count": 95,
     "metadata": {},
     "output_type": "execute_result"
    }
   ],
   "source": [
    "not (a>20)"
   ]
  },
  {
   "cell_type": "markdown",
   "id": "b873f200",
   "metadata": {},
   "source": [
    "# identity operators"
   ]
  },
  {
   "cell_type": "code",
   "execution_count": 96,
   "id": "b8fbf1d5",
   "metadata": {},
   "outputs": [],
   "source": [
    "# is , is not "
   ]
  },
  {
   "cell_type": "code",
   "execution_count": 97,
   "id": "17514029",
   "metadata": {},
   "outputs": [],
   "source": [
    "a=20\n",
    "b=20\n",
    "c=30\n"
   ]
  },
  {
   "cell_type": "code",
   "execution_count": 98,
   "id": "faaa0b99",
   "metadata": {},
   "outputs": [
    {
     "data": {
      "text/plain": [
       "True"
      ]
     },
     "execution_count": 98,
     "metadata": {},
     "output_type": "execute_result"
    }
   ],
   "source": [
    "a is b"
   ]
  },
  {
   "cell_type": "code",
   "execution_count": 99,
   "id": "cf73c8f2",
   "metadata": {},
   "outputs": [
    {
     "data": {
      "text/plain": [
       "False"
      ]
     },
     "execution_count": 99,
     "metadata": {},
     "output_type": "execute_result"
    }
   ],
   "source": [
    "a is not b"
   ]
  },
  {
   "cell_type": "code",
   "execution_count": 100,
   "id": "291343d3",
   "metadata": {},
   "outputs": [
    {
     "data": {
      "text/plain": [
       "True"
      ]
     },
     "execution_count": 100,
     "metadata": {},
     "output_type": "execute_result"
    }
   ],
   "source": [
    "a is not c"
   ]
  },
  {
   "cell_type": "code",
   "execution_count": 101,
   "id": "03b482f2",
   "metadata": {},
   "outputs": [
    {
     "data": {
      "text/plain": [
       "True"
      ]
     },
     "execution_count": 101,
     "metadata": {},
     "output_type": "execute_result"
    }
   ],
   "source": [
    "a='satya'\n",
    "b='satya'\n",
    "a is b"
   ]
  },
  {
   "cell_type": "code",
   "execution_count": 102,
   "id": "5880b2c9",
   "metadata": {},
   "outputs": [],
   "source": [
    "c='vamsi'"
   ]
  },
  {
   "cell_type": "code",
   "execution_count": 103,
   "id": "30572fae",
   "metadata": {},
   "outputs": [
    {
     "data": {
      "text/plain": [
       "False"
      ]
     },
     "execution_count": 103,
     "metadata": {},
     "output_type": "execute_result"
    }
   ],
   "source": [
    "a is c"
   ]
  },
  {
   "cell_type": "code",
   "execution_count": 104,
   "id": "59073a99",
   "metadata": {},
   "outputs": [
    {
     "data": {
      "text/plain": [
       "True"
      ]
     },
     "execution_count": 104,
     "metadata": {},
     "output_type": "execute_result"
    }
   ],
   "source": [
    "a is not c"
   ]
  },
  {
   "cell_type": "markdown",
   "id": "74ceed21",
   "metadata": {},
   "source": [
    "# membership operators"
   ]
  },
  {
   "cell_type": "code",
   "execution_count": 105,
   "id": "f493788c",
   "metadata": {},
   "outputs": [],
   "source": [
    " # in , not in "
   ]
  },
  {
   "cell_type": "code",
   "execution_count": 106,
   "id": "99c38b2f",
   "metadata": {},
   "outputs": [],
   "source": [
    "a=\"python programming\""
   ]
  },
  {
   "cell_type": "code",
   "execution_count": 107,
   "id": "ccdb314c",
   "metadata": {},
   "outputs": [
    {
     "data": {
      "text/plain": [
       "True"
      ]
     },
     "execution_count": 107,
     "metadata": {},
     "output_type": "execute_result"
    }
   ],
   "source": [
    "\"python\" in a"
   ]
  },
  {
   "cell_type": "code",
   "execution_count": 108,
   "id": "94eeaa12",
   "metadata": {},
   "outputs": [
    {
     "data": {
      "text/plain": [
       "False"
      ]
     },
     "execution_count": 108,
     "metadata": {},
     "output_type": "execute_result"
    }
   ],
   "source": [
    "'satya' in a"
   ]
  },
  {
   "cell_type": "code",
   "execution_count": 109,
   "id": "5af998e5",
   "metadata": {},
   "outputs": [
    {
     "data": {
      "text/plain": [
       "True"
      ]
     },
     "execution_count": 109,
     "metadata": {},
     "output_type": "execute_result"
    }
   ],
   "source": [
    "'py' in a"
   ]
  },
  {
   "cell_type": "code",
   "execution_count": 110,
   "id": "fb572e05",
   "metadata": {},
   "outputs": [
    {
     "data": {
      "text/plain": [
       "True"
      ]
     },
     "execution_count": 110,
     "metadata": {},
     "output_type": "execute_result"
    }
   ],
   "source": [
    "'gra' in a"
   ]
  },
  {
   "cell_type": "code",
   "execution_count": 111,
   "id": "a2e1d45a",
   "metadata": {},
   "outputs": [],
   "source": [
    "b=[34,56,78,89]\n"
   ]
  },
  {
   "cell_type": "code",
   "execution_count": 112,
   "id": "93714340",
   "metadata": {},
   "outputs": [
    {
     "data": {
      "text/plain": [
       "True"
      ]
     },
     "execution_count": 112,
     "metadata": {},
     "output_type": "execute_result"
    }
   ],
   "source": [
    "34 in b"
   ]
  },
  {
   "cell_type": "code",
   "execution_count": 113,
   "id": "69bb21d4",
   "metadata": {},
   "outputs": [
    {
     "data": {
      "text/plain": [
       "True"
      ]
     },
     "execution_count": 113,
     "metadata": {},
     "output_type": "execute_result"
    }
   ],
   "source": [
    "'satya' not in a"
   ]
  },
  {
   "cell_type": "code",
   "execution_count": 114,
   "id": "6d196759",
   "metadata": {},
   "outputs": [
    {
     "data": {
      "text/plain": [
       "'python programming'"
      ]
     },
     "execution_count": 114,
     "metadata": {},
     "output_type": "execute_result"
    }
   ],
   "source": [
    "a"
   ]
  },
  {
   "cell_type": "code",
   "execution_count": 115,
   "id": "e7bfe97c",
   "metadata": {},
   "outputs": [
    {
     "data": {
      "text/plain": [
       "[34, 56, 78, 89]"
      ]
     },
     "execution_count": 115,
     "metadata": {},
     "output_type": "execute_result"
    }
   ],
   "source": [
    "b"
   ]
  },
  {
   "cell_type": "code",
   "execution_count": 116,
   "id": "a6f2f40d",
   "metadata": {},
   "outputs": [
    {
     "data": {
      "text/plain": [
       "True"
      ]
     },
     "execution_count": 116,
     "metadata": {},
     "output_type": "execute_result"
    }
   ],
   "source": [
    "100 not in b"
   ]
  },
  {
   "cell_type": "code",
   "execution_count": 117,
   "id": "731c7a7a",
   "metadata": {},
   "outputs": [
    {
     "data": {
      "text/plain": [
       "False"
      ]
     },
     "execution_count": 117,
     "metadata": {},
     "output_type": "execute_result"
    }
   ],
   "source": [
    "100 in b"
   ]
  },
  {
   "cell_type": "markdown",
   "id": "1f97399e",
   "metadata": {},
   "source": [
    "# strings"
   ]
  },
  {
   "cell_type": "code",
   "execution_count": 120,
   "id": "d1612c9c",
   "metadata": {},
   "outputs": [],
   "source": [
    "# collection of characters - strings are also called arrays"
   ]
  },
  {
   "cell_type": "code",
   "execution_count": 121,
   "id": "f2983c95",
   "metadata": {},
   "outputs": [],
   "source": [
    "a = \"python\""
   ]
  },
  {
   "cell_type": "code",
   "execution_count": 122,
   "id": "b759db3d",
   "metadata": {},
   "outputs": [
    {
     "name": "stdout",
     "output_type": "stream",
     "text": [
      "python\n"
     ]
    }
   ],
   "source": [
    "print(a)"
   ]
  },
  {
   "cell_type": "code",
   "execution_count": 123,
   "id": "d837870d",
   "metadata": {},
   "outputs": [],
   "source": [
    "#len- function which returns length of a string"
   ]
  },
  {
   "cell_type": "code",
   "execution_count": 124,
   "id": "bbcdd1da",
   "metadata": {},
   "outputs": [
    {
     "data": {
      "text/plain": [
       "6"
      ]
     },
     "execution_count": 124,
     "metadata": {},
     "output_type": "execute_result"
    }
   ],
   "source": [
    "len(a)"
   ]
  },
  {
   "cell_type": "code",
   "execution_count": 125,
   "id": "cf8a1ceb",
   "metadata": {},
   "outputs": [],
   "source": [
    "#index - location where element located"
   ]
  },
  {
   "cell_type": "code",
   "execution_count": 126,
   "id": "3ec99b09",
   "metadata": {},
   "outputs": [],
   "source": [
    "# aceesing string elements- we can access string elements\n",
    "# by referring to their index "
   ]
  },
  {
   "cell_type": "code",
   "execution_count": 128,
   "id": "1e0082fe",
   "metadata": {},
   "outputs": [
    {
     "data": {
      "text/plain": [
       "'python'"
      ]
     },
     "execution_count": 128,
     "metadata": {},
     "output_type": "execute_result"
    }
   ],
   "source": [
    "a"
   ]
  },
  {
   "cell_type": "code",
   "execution_count": 129,
   "id": "d4fe113d",
   "metadata": {},
   "outputs": [
    {
     "data": {
      "text/plain": [
       "'p'"
      ]
     },
     "execution_count": 129,
     "metadata": {},
     "output_type": "execute_result"
    }
   ],
   "source": [
    "a[0]"
   ]
  },
  {
   "cell_type": "code",
   "execution_count": 130,
   "id": "f6baeffa",
   "metadata": {},
   "outputs": [
    {
     "data": {
      "text/plain": [
       "'y'"
      ]
     },
     "execution_count": 130,
     "metadata": {},
     "output_type": "execute_result"
    }
   ],
   "source": [
    "a[1]"
   ]
  },
  {
   "cell_type": "code",
   "execution_count": 131,
   "id": "4e43061c",
   "metadata": {},
   "outputs": [
    {
     "data": {
      "text/plain": [
       "'t'"
      ]
     },
     "execution_count": 131,
     "metadata": {},
     "output_type": "execute_result"
    }
   ],
   "source": [
    "a[2]"
   ]
  },
  {
   "cell_type": "code",
   "execution_count": 132,
   "id": "54585ebe",
   "metadata": {},
   "outputs": [
    {
     "data": {
      "text/plain": [
       "'n'"
      ]
     },
     "execution_count": 132,
     "metadata": {},
     "output_type": "execute_result"
    }
   ],
   "source": [
    "a[-1]"
   ]
  },
  {
   "cell_type": "code",
   "execution_count": 134,
   "id": "c17336d1",
   "metadata": {},
   "outputs": [
    {
     "data": {
      "text/plain": [
       "'o'"
      ]
     },
     "execution_count": 134,
     "metadata": {},
     "output_type": "execute_result"
    }
   ],
   "source": [
    "a[-2]"
   ]
  },
  {
   "cell_type": "code",
   "execution_count": 135,
   "id": "cbf03342",
   "metadata": {},
   "outputs": [
    {
     "data": {
      "text/plain": [
       "'h'"
      ]
     },
     "execution_count": 135,
     "metadata": {},
     "output_type": "execute_result"
    }
   ],
   "source": [
    "a[-3]"
   ]
  },
  {
   "cell_type": "code",
   "execution_count": 136,
   "id": "c3a6c134",
   "metadata": {},
   "outputs": [],
   "source": [
    "# string slicing -(range of indexes)\n",
    "# [startindex : endindex] ----note: end index is not included"
   ]
  },
  {
   "cell_type": "code",
   "execution_count": 137,
   "id": "437dad1c",
   "metadata": {},
   "outputs": [
    {
     "data": {
      "text/plain": [
       "'pyt'"
      ]
     },
     "execution_count": 137,
     "metadata": {},
     "output_type": "execute_result"
    }
   ],
   "source": [
    "a[0:3]"
   ]
  },
  {
   "cell_type": "code",
   "execution_count": 138,
   "id": "50d371ee",
   "metadata": {},
   "outputs": [
    {
     "data": {
      "text/plain": [
       "'tho'"
      ]
     },
     "execution_count": 138,
     "metadata": {},
     "output_type": "execute_result"
    }
   ],
   "source": [
    "a[2:5]"
   ]
  },
  {
   "cell_type": "code",
   "execution_count": 139,
   "id": "624fd74b",
   "metadata": {},
   "outputs": [
    {
     "data": {
      "text/plain": [
       "'tho'"
      ]
     },
     "execution_count": 139,
     "metadata": {},
     "output_type": "execute_result"
    }
   ],
   "source": [
    "a[-4:-1]"
   ]
  },
  {
   "cell_type": "code",
   "execution_count": 140,
   "id": "bda96286",
   "metadata": {},
   "outputs": [
    {
     "data": {
      "text/plain": [
       "'python'"
      ]
     },
     "execution_count": 140,
     "metadata": {},
     "output_type": "execute_result"
    }
   ],
   "source": [
    "a[:]"
   ]
  },
  {
   "cell_type": "code",
   "execution_count": 141,
   "id": "6ff474ba",
   "metadata": {},
   "outputs": [
    {
     "data": {
      "text/plain": [
       "'nohtyp'"
      ]
     },
     "execution_count": 141,
     "metadata": {},
     "output_type": "execute_result"
    }
   ],
   "source": [
    "a[::-1]"
   ]
  },
  {
   "cell_type": "code",
   "execution_count": 142,
   "id": "9651e3b2",
   "metadata": {},
   "outputs": [],
   "source": [
    "#implied zero"
   ]
  },
  {
   "cell_type": "code",
   "execution_count": 143,
   "id": "34a581c1",
   "metadata": {},
   "outputs": [
    {
     "data": {
      "text/plain": [
       "'pyth'"
      ]
     },
     "execution_count": 143,
     "metadata": {},
     "output_type": "execute_result"
    }
   ],
   "source": [
    "a[:4]# a[0:4]"
   ]
  },
  {
   "cell_type": "code",
   "execution_count": 144,
   "id": "6577f0e1",
   "metadata": {},
   "outputs": [],
   "source": [
    "#implied end "
   ]
  },
  {
   "cell_type": "code",
   "execution_count": 145,
   "id": "67670f85",
   "metadata": {},
   "outputs": [
    {
     "data": {
      "text/plain": [
       "'ython'"
      ]
     },
     "execution_count": 145,
     "metadata": {},
     "output_type": "execute_result"
    }
   ],
   "source": [
    "a[1:] # a[1:end of the string]"
   ]
  },
  {
   "cell_type": "code",
   "execution_count": 146,
   "id": "b5a6aeae",
   "metadata": {},
   "outputs": [
    {
     "data": {
      "text/plain": [
       "'python'"
      ]
     },
     "execution_count": 146,
     "metadata": {},
     "output_type": "execute_result"
    }
   ],
   "source": [
    "a[:]"
   ]
  },
  {
   "cell_type": "code",
   "execution_count": 148,
   "id": "f8eeb7fa",
   "metadata": {},
   "outputs": [
    {
     "data": {
      "text/plain": [
       "'python'"
      ]
     },
     "execution_count": 148,
     "metadata": {},
     "output_type": "execute_result"
    }
   ],
   "source": [
    "a[::]"
   ]
  },
  {
   "cell_type": "markdown",
   "id": "716b2ca1",
   "metadata": {},
   "source": [
    "# "
   ]
  },
  {
   "cell_type": "code",
   "execution_count": 149,
   "id": "ea41ec77",
   "metadata": {},
   "outputs": [
    {
     "data": {
      "text/plain": [
       "'nohtyp'"
      ]
     },
     "execution_count": 149,
     "metadata": {},
     "output_type": "execute_result"
    }
   ],
   "source": [
    "a[::-1]"
   ]
  },
  {
   "cell_type": "code",
   "execution_count": 150,
   "id": "f94ef73e",
   "metadata": {},
   "outputs": [
    {
     "data": {
      "text/plain": [
       "'pto'"
      ]
     },
     "execution_count": 150,
     "metadata": {},
     "output_type": "execute_result"
    }
   ],
   "source": [
    "a[::2]"
   ]
  },
  {
   "cell_type": "code",
   "execution_count": 151,
   "id": "4fa8a7f7",
   "metadata": {},
   "outputs": [
    {
     "data": {
      "text/plain": [
       "'ph'"
      ]
     },
     "execution_count": 151,
     "metadata": {},
     "output_type": "execute_result"
    }
   ],
   "source": [
    "a[::3]"
   ]
  },
  {
   "cell_type": "code",
   "execution_count": 152,
   "id": "31662441",
   "metadata": {},
   "outputs": [
    {
     "data": {
      "text/plain": [
       "'nhy'"
      ]
     },
     "execution_count": 152,
     "metadata": {},
     "output_type": "execute_result"
    }
   ],
   "source": [
    "a[::-2]"
   ]
  },
  {
   "cell_type": "code",
   "execution_count": 153,
   "id": "fce01b54",
   "metadata": {},
   "outputs": [],
   "source": [
    "# loop throuh a string"
   ]
  },
  {
   "cell_type": "code",
   "execution_count": 154,
   "id": "4982503c",
   "metadata": {},
   "outputs": [
    {
     "name": "stdout",
     "output_type": "stream",
     "text": [
      "p\n",
      "y\n",
      "t\n",
      "h\n",
      "o\n",
      "n\n"
     ]
    }
   ],
   "source": [
    "for i in a:\n",
    "    print(i)"
   ]
  },
  {
   "cell_type": "code",
   "execution_count": 155,
   "id": "6f8b7fa6",
   "metadata": {},
   "outputs": [
    {
     "data": {
      "text/plain": [
       "6"
      ]
     },
     "execution_count": 155,
     "metadata": {},
     "output_type": "execute_result"
    }
   ],
   "source": [
    "len(a)"
   ]
  },
  {
   "cell_type": "markdown",
   "id": "6f0858d7",
   "metadata": {},
   "source": [
    "# Day-3"
   ]
  },
  {
   "cell_type": "markdown",
   "id": "5ee4e658",
   "metadata": {},
   "source": [
    "# string methods"
   ]
  },
  {
   "cell_type": "code",
   "execution_count": 156,
   "id": "86d231ba",
   "metadata": {},
   "outputs": [],
   "source": [
    "#1. length of a string - len()- returns length of a string"
   ]
  },
  {
   "cell_type": "code",
   "execution_count": 157,
   "id": "c95db667",
   "metadata": {},
   "outputs": [
    {
     "name": "stdout",
     "output_type": "stream",
     "text": [
      "python programming is good\n"
     ]
    }
   ],
   "source": [
    "a = 'python programming is good'\n",
    "print(a)"
   ]
  },
  {
   "cell_type": "code",
   "execution_count": 158,
   "id": "3a9ee74b",
   "metadata": {},
   "outputs": [
    {
     "data": {
      "text/plain": [
       "26"
      ]
     },
     "execution_count": 158,
     "metadata": {},
     "output_type": "execute_result"
    }
   ],
   "source": [
    "len(a)"
   ]
  },
  {
   "cell_type": "code",
   "execution_count": 159,
   "id": "92e964d6",
   "metadata": {},
   "outputs": [
    {
     "name": "stdout",
     "output_type": "stream",
     "text": [
      "26\n"
     ]
    }
   ],
   "source": [
    "print(len(a))"
   ]
  },
  {
   "cell_type": "code",
   "execution_count": 160,
   "id": "7f0406dd",
   "metadata": {},
   "outputs": [
    {
     "name": "stdout",
     "output_type": "stream",
     "text": [
      "Length of a given string is : 26\n"
     ]
    }
   ],
   "source": [
    "print('Length of a given string is :', len(a))"
   ]
  },
  {
   "cell_type": "code",
   "execution_count": 161,
   "id": "cd4b7ce5",
   "metadata": {},
   "outputs": [],
   "source": [
    "#input()- it takes input from user"
   ]
  },
  {
   "cell_type": "code",
   "execution_count": 162,
   "id": "e60c0f5e",
   "metadata": {},
   "outputs": [
    {
     "name": "stdout",
     "output_type": "stream",
     "text": [
      "Enter your string: python programming\n"
     ]
    }
   ],
   "source": [
    "a = input('Enter your string: ')"
   ]
  },
  {
   "cell_type": "code",
   "execution_count": 163,
   "id": "672bf1c4",
   "metadata": {},
   "outputs": [
    {
     "data": {
      "text/plain": [
       "'python programming'"
      ]
     },
     "execution_count": 163,
     "metadata": {},
     "output_type": "execute_result"
    }
   ],
   "source": [
    "a"
   ]
  },
  {
   "cell_type": "code",
   "execution_count": 164,
   "id": "c828c1e3",
   "metadata": {},
   "outputs": [
    {
     "name": "stdout",
     "output_type": "stream",
     "text": [
      "Enter your string : python programming\n",
      "Reverse of a given string is :  gnimmargorp nohtyp\n",
      "Length of a given string is :  18\n"
     ]
    }
   ],
   "source": [
    "a=input('Enter your string : ')\n",
    "print('Reverse of a given string is : ',a[::-1])\n",
    "print('Length of a given string is : ',len(a))"
   ]
  },
  {
   "cell_type": "code",
   "execution_count": 165,
   "id": "7e807b83",
   "metadata": {},
   "outputs": [],
   "source": [
    "#upper()- it converts all string elements into uppercase"
   ]
  },
  {
   "cell_type": "code",
   "execution_count": 166,
   "id": "b5ca58aa",
   "metadata": {},
   "outputs": [
    {
     "data": {
      "text/plain": [
       "'python programming'"
      ]
     },
     "execution_count": 166,
     "metadata": {},
     "output_type": "execute_result"
    }
   ],
   "source": [
    "a"
   ]
  },
  {
   "cell_type": "code",
   "execution_count": 167,
   "id": "fa96ff85",
   "metadata": {},
   "outputs": [
    {
     "data": {
      "text/plain": [
       "'PYTHON PROGRAMMING'"
      ]
     },
     "execution_count": 167,
     "metadata": {},
     "output_type": "execute_result"
    }
   ],
   "source": [
    "a.upper()"
   ]
  },
  {
   "cell_type": "code",
   "execution_count": 169,
   "id": "05f363a7",
   "metadata": {},
   "outputs": [
    {
     "name": "stdout",
     "output_type": "stream",
     "text": [
      "Enter your string : programming\n",
      "Reverse of a given string is :  gnimmargorp\n",
      "Length of a given string is :  11\n",
      "Uppercase of given string is :  PROGRAMMING\n"
     ]
    }
   ],
   "source": [
    "a=input('Enter your string : ')\n",
    "print('Reverse of a given string is : ',a[::-1])\n",
    "print('Length of a given string is : ',len(a))\n",
    "print('Uppercase of given string is : ',a.upper())"
   ]
  },
  {
   "cell_type": "code",
   "execution_count": 170,
   "id": "7fcfaf8d",
   "metadata": {},
   "outputs": [],
   "source": [
    "#lower()- converts all string elements into lowercase"
   ]
  },
  {
   "cell_type": "code",
   "execution_count": 171,
   "id": "dc14656c",
   "metadata": {},
   "outputs": [
    {
     "data": {
      "text/plain": [
       "'programming'"
      ]
     },
     "execution_count": 171,
     "metadata": {},
     "output_type": "execute_result"
    }
   ],
   "source": [
    "a.lower()"
   ]
  },
  {
   "cell_type": "code",
   "execution_count": 172,
   "id": "27c7fe14",
   "metadata": {},
   "outputs": [
    {
     "name": "stdout",
     "output_type": "stream",
     "text": [
      "Enter your string : PROGRAMMING\n",
      "Reverse of a given string is :  GNIMMARGORP\n",
      "Length of a given string is :  11\n",
      "Uppercase of given string is :  programming\n"
     ]
    }
   ],
   "source": [
    "a=input('Enter your string : ')\n",
    "print('Reverse of a given string is : ',a[::-1])\n",
    "print('Length of a given string is : ',len(a))\n",
    "print('Uppercase of given string is : ',a.lower())"
   ]
  },
  {
   "cell_type": "code",
   "execution_count": 174,
   "id": "31eeea5c",
   "metadata": {},
   "outputs": [],
   "source": [
    "#capitalize()-it capitalises first character of a given string"
   ]
  },
  {
   "cell_type": "code",
   "execution_count": 175,
   "id": "185617a3",
   "metadata": {},
   "outputs": [],
   "source": [
    "a = 'programming'\n"
   ]
  },
  {
   "cell_type": "code",
   "execution_count": 176,
   "id": "1890f148",
   "metadata": {},
   "outputs": [
    {
     "data": {
      "text/plain": [
       "'Programming'"
      ]
     },
     "execution_count": 176,
     "metadata": {},
     "output_type": "execute_result"
    }
   ],
   "source": [
    "a.capitalize()"
   ]
  },
  {
   "cell_type": "code",
   "execution_count": 177,
   "id": "4ef2aba4",
   "metadata": {},
   "outputs": [
    {
     "name": "stdout",
     "output_type": "stream",
     "text": [
      "Capitalised string is :  Programming\n"
     ]
    }
   ],
   "source": [
    "print('Capitalised string is : ',a.capitalize())"
   ]
  },
  {
   "cell_type": "code",
   "execution_count": 178,
   "id": "22e2a5e6",
   "metadata": {},
   "outputs": [],
   "source": [
    "a = 'python programming'"
   ]
  },
  {
   "cell_type": "code",
   "execution_count": 179,
   "id": "4b81e6e1",
   "metadata": {},
   "outputs": [
    {
     "data": {
      "text/plain": [
       "'python programming'"
      ]
     },
     "execution_count": 179,
     "metadata": {},
     "output_type": "execute_result"
    }
   ],
   "source": [
    "a"
   ]
  },
  {
   "cell_type": "code",
   "execution_count": 180,
   "id": "e5e85fb1",
   "metadata": {},
   "outputs": [
    {
     "data": {
      "text/plain": [
       "'Python programming'"
      ]
     },
     "execution_count": 180,
     "metadata": {},
     "output_type": "execute_result"
    }
   ],
   "source": [
    "a.capitalize()"
   ]
  },
  {
   "cell_type": "code",
   "execution_count": 181,
   "id": "63253e78",
   "metadata": {},
   "outputs": [],
   "source": [
    "#title()- it capitalizes first charcter of each word in a given string"
   ]
  },
  {
   "cell_type": "code",
   "execution_count": 182,
   "id": "caa45ff8",
   "metadata": {},
   "outputs": [],
   "source": [
    "a = 'python programming'"
   ]
  },
  {
   "cell_type": "code",
   "execution_count": 183,
   "id": "25921d47",
   "metadata": {},
   "outputs": [
    {
     "data": {
      "text/plain": [
       "'Python Programming'"
      ]
     },
     "execution_count": 183,
     "metadata": {},
     "output_type": "execute_result"
    }
   ],
   "source": [
    "a.title()"
   ]
  },
  {
   "cell_type": "code",
   "execution_count": 184,
   "id": "4d1d105b",
   "metadata": {},
   "outputs": [],
   "source": [
    "#count- its returns how many times a given word/phrase/character is occured in a given string"
   ]
  },
  {
   "cell_type": "code",
   "execution_count": 185,
   "id": "084831de",
   "metadata": {},
   "outputs": [],
   "source": [
    " a = 'python programming is good programming language. python is platform independent '"
   ]
  },
  {
   "cell_type": "code",
   "execution_count": 186,
   "id": "8a4e5484",
   "metadata": {},
   "outputs": [
    {
     "data": {
      "text/plain": [
       "2"
      ]
     },
     "execution_count": 186,
     "metadata": {},
     "output_type": "execute_result"
    }
   ],
   "source": [
    "a.count('python')"
   ]
  },
  {
   "cell_type": "code",
   "execution_count": 187,
   "id": "6cb814d0",
   "metadata": {},
   "outputs": [
    {
     "data": {
      "text/plain": [
       "6"
      ]
     },
     "execution_count": 187,
     "metadata": {},
     "output_type": "execute_result"
    }
   ],
   "source": [
    "a.count('p')"
   ]
  },
  {
   "cell_type": "code",
   "execution_count": 188,
   "id": "c90368d2",
   "metadata": {},
   "outputs": [
    {
     "data": {
      "text/plain": [
       "2"
      ]
     },
     "execution_count": 188,
     "metadata": {},
     "output_type": "execute_result"
    }
   ],
   "source": [
    "a.count('pr')"
   ]
  },
  {
   "cell_type": "code",
   "execution_count": 189,
   "id": "da8e95ed",
   "metadata": {},
   "outputs": [],
   "source": [
    "#index()- it returns index of a given character"
   ]
  },
  {
   "cell_type": "code",
   "execution_count": 191,
   "id": "fe2d21cb",
   "metadata": {},
   "outputs": [],
   "source": [
    "a = 'programming'"
   ]
  },
  {
   "cell_type": "code",
   "execution_count": 192,
   "id": "cf4eefb6",
   "metadata": {},
   "outputs": [
    {
     "data": {
      "text/plain": [
       "'programming'"
      ]
     },
     "execution_count": 192,
     "metadata": {},
     "output_type": "execute_result"
    }
   ],
   "source": [
    "a"
   ]
  },
  {
   "cell_type": "code",
   "execution_count": 193,
   "id": "9ef2fc02",
   "metadata": {},
   "outputs": [
    {
     "data": {
      "text/plain": [
       "0"
      ]
     },
     "execution_count": 193,
     "metadata": {},
     "output_type": "execute_result"
    }
   ],
   "source": [
    "a.index('p')"
   ]
  },
  {
   "cell_type": "code",
   "execution_count": 194,
   "id": "da0fbd03",
   "metadata": {},
   "outputs": [
    {
     "data": {
      "text/plain": [
       "6"
      ]
     },
     "execution_count": 194,
     "metadata": {},
     "output_type": "execute_result"
    }
   ],
   "source": [
    "a.index('m')"
   ]
  },
  {
   "cell_type": "code",
   "execution_count": 195,
   "id": "44ad6cbc",
   "metadata": {},
   "outputs": [],
   "source": [
    "#split()- splits the given string into list of strings"
   ]
  },
  {
   "cell_type": "code",
   "execution_count": 196,
   "id": "300b5d74",
   "metadata": {},
   "outputs": [],
   "source": [
    "a = 'python program is good'"
   ]
  },
  {
   "cell_type": "code",
   "execution_count": 197,
   "id": "53c73577",
   "metadata": {},
   "outputs": [
    {
     "data": {
      "text/plain": [
       "['python', 'program', 'is', 'good']"
      ]
     },
     "execution_count": 197,
     "metadata": {},
     "output_type": "execute_result"
    }
   ],
   "source": [
    "a.split()"
   ]
  },
  {
   "cell_type": "code",
   "execution_count": 198,
   "id": "d8400210",
   "metadata": {},
   "outputs": [],
   "source": [
    "a = 'python|programming|isgood'"
   ]
  },
  {
   "cell_type": "code",
   "execution_count": 199,
   "id": "315a6b24",
   "metadata": {},
   "outputs": [
    {
     "data": {
      "text/plain": [
       "['python', 'programming', 'isgood']"
      ]
     },
     "execution_count": 199,
     "metadata": {},
     "output_type": "execute_result"
    }
   ],
   "source": [
    "a.split('|')"
   ]
  },
  {
   "cell_type": "code",
   "execution_count": 200,
   "id": "a110a8aa",
   "metadata": {},
   "outputs": [
    {
     "data": {
      "text/plain": [
       "['', 'ython|', 'rogramming|isgood']"
      ]
     },
     "execution_count": 200,
     "metadata": {},
     "output_type": "execute_result"
    }
   ],
   "source": [
    "a.split('p')"
   ]
  },
  {
   "cell_type": "code",
   "execution_count": 201,
   "id": "a5e4e970",
   "metadata": {},
   "outputs": [
    {
     "data": {
      "text/plain": [
       "['python|programming|isgood']"
      ]
     },
     "execution_count": 201,
     "metadata": {},
     "output_type": "execute_result"
    }
   ],
   "source": [
    "a.split(',')"
   ]
  },
  {
   "cell_type": "code",
   "execution_count": 202,
   "id": "ff754747",
   "metadata": {},
   "outputs": [
    {
     "data": {
      "text/plain": [
       "'python|programming|isgood'"
      ]
     },
     "execution_count": 202,
     "metadata": {},
     "output_type": "execute_result"
    }
   ],
   "source": [
    "a"
   ]
  },
  {
   "cell_type": "code",
   "execution_count": 203,
   "id": "baf3235b",
   "metadata": {},
   "outputs": [
    {
     "data": {
      "text/plain": [
       "['python|programming|isgood']"
      ]
     },
     "execution_count": 203,
     "metadata": {},
     "output_type": "execute_result"
    }
   ],
   "source": [
    "a.split('z')"
   ]
  },
  {
   "cell_type": "code",
   "execution_count": 204,
   "id": "7382a956",
   "metadata": {},
   "outputs": [
    {
     "data": {
      "text/plain": [
       "['python progra', '', 'ing']"
      ]
     },
     "execution_count": 204,
     "metadata": {},
     "output_type": "execute_result"
    }
   ],
   "source": [
    "a = 'python programming'\n",
    "a.split('m')"
   ]
  },
  {
   "cell_type": "code",
   "execution_count": 205,
   "id": "d5677b81",
   "metadata": {},
   "outputs": [],
   "source": [
    "a = 'python prppogrammingp'"
   ]
  },
  {
   "cell_type": "code",
   "execution_count": 207,
   "id": "316c26df",
   "metadata": {},
   "outputs": [
    {
     "data": {
      "text/plain": [
       "['', 'ython ', 'r', '', 'ogramming', '']"
      ]
     },
     "execution_count": 207,
     "metadata": {},
     "output_type": "execute_result"
    }
   ],
   "source": [
    "a.split('p')"
   ]
  },
  {
   "cell_type": "code",
   "execution_count": 208,
   "id": "924640f7",
   "metadata": {},
   "outputs": [
    {
     "data": {
      "text/plain": [
       "'python prppogrammingp'"
      ]
     },
     "execution_count": 208,
     "metadata": {},
     "output_type": "execute_result"
    }
   ],
   "source": [
    "a"
   ]
  },
  {
   "cell_type": "code",
   "execution_count": 209,
   "id": "d82833da",
   "metadata": {},
   "outputs": [
    {
     "data": {
      "text/plain": [
       "['', ' prppogrammingp']"
      ]
     },
     "execution_count": 209,
     "metadata": {},
     "output_type": "execute_result"
    }
   ],
   "source": [
    "a.split('python')"
   ]
  },
  {
   "cell_type": "code",
   "execution_count": 210,
   "id": "1417fee9",
   "metadata": {},
   "outputs": [],
   "source": [
    "#stratswith()"
   ]
  },
  {
   "cell_type": "code",
   "execution_count": 211,
   "id": "53e2d7a4",
   "metadata": {},
   "outputs": [],
   "source": [
    "a = 'python programming'\n"
   ]
  },
  {
   "cell_type": "code",
   "execution_count": 212,
   "id": "7e0da74b",
   "metadata": {},
   "outputs": [
    {
     "data": {
      "text/plain": [
       "True"
      ]
     },
     "execution_count": 212,
     "metadata": {},
     "output_type": "execute_result"
    }
   ],
   "source": [
    "a.startswith('p')"
   ]
  },
  {
   "cell_type": "code",
   "execution_count": 213,
   "id": "22305c94",
   "metadata": {},
   "outputs": [
    {
     "data": {
      "text/plain": [
       "True"
      ]
     },
     "execution_count": 213,
     "metadata": {},
     "output_type": "execute_result"
    }
   ],
   "source": [
    "a.startswith('py')"
   ]
  },
  {
   "cell_type": "code",
   "execution_count": 214,
   "id": "371f1e28",
   "metadata": {},
   "outputs": [
    {
     "data": {
      "text/plain": [
       "False"
      ]
     },
     "execution_count": 214,
     "metadata": {},
     "output_type": "execute_result"
    }
   ],
   "source": [
    "a.startswith('sa')"
   ]
  },
  {
   "cell_type": "code",
   "execution_count": 215,
   "id": "516a688f",
   "metadata": {},
   "outputs": [],
   "source": [
    "#endswith()"
   ]
  },
  {
   "cell_type": "code",
   "execution_count": 216,
   "id": "4129901f",
   "metadata": {},
   "outputs": [
    {
     "data": {
      "text/plain": [
       "'python programming'"
      ]
     },
     "execution_count": 216,
     "metadata": {},
     "output_type": "execute_result"
    }
   ],
   "source": [
    "a"
   ]
  },
  {
   "cell_type": "code",
   "execution_count": 217,
   "id": "d216d928",
   "metadata": {},
   "outputs": [
    {
     "data": {
      "text/plain": [
       "True"
      ]
     },
     "execution_count": 217,
     "metadata": {},
     "output_type": "execute_result"
    }
   ],
   "source": [
    "a.endswith('g')"
   ]
  },
  {
   "cell_type": "code",
   "execution_count": 218,
   "id": "0ba7e438",
   "metadata": {},
   "outputs": [
    {
     "data": {
      "text/plain": [
       "True"
      ]
     },
     "execution_count": 218,
     "metadata": {},
     "output_type": "execute_result"
    }
   ],
   "source": [
    "a.endswith('ng')"
   ]
  },
  {
   "cell_type": "code",
   "execution_count": 219,
   "id": "46097ff8",
   "metadata": {},
   "outputs": [
    {
     "data": {
      "text/plain": [
       "False"
      ]
     },
     "execution_count": 219,
     "metadata": {},
     "output_type": "execute_result"
    }
   ],
   "source": [
    "a.endswith('s')"
   ]
  },
  {
   "cell_type": "markdown",
   "id": "cd6dcc51",
   "metadata": {},
   "source": [
    " input--- python pgrogramming is good, is very simple , platform independent\n",
    "\n",
    "1. print reverse of a string\n",
    "2. print upper case of a string\n",
    "3. split a string with ',' separator\n",
    "4. find occurances of word 'python'\n",
    "5. print occurances of 'p' in given string\n",
    "6. check whether given string starts with 'p'\n",
    "7. print index of characte 'm'"
   ]
  },
  {
   "cell_type": "code",
   "execution_count": 221,
   "id": "f3fa5fc6",
   "metadata": {},
   "outputs": [
    {
     "name": "stdout",
     "output_type": "stream",
     "text": [
      "Enter your stringpython pgrogramming is good, is very simple , platform independent\n",
      "Reverse of a given string is :  tnednepedni mroftalp , elpmis yrev si ,doog si gnimmargorgp nohtyp\n",
      "uppercase of a given string is :  PYTHON PGROGRAMMING IS GOOD, IS VERY SIMPLE , PLATFORM INDEPENDENT\n",
      "string split with , : ['python pgrogramming is good', ' is very simple ', ' platform independent']\n",
      "occurances of word python :  1\n",
      "occurances of p in a given string:  5\n",
      "Given string starts with p : True\n",
      "index of characte m is :  14\n"
     ]
    }
   ],
   "source": [
    "a = input('Enter your string')\n",
    "print('Reverse of a given string is : ',a[::-1])\n",
    "print('uppercase of a given string is : ',a.upper())\n",
    "print('string split with , :', a.split(','))\n",
    "print('occurances of word python : ',a.count('python'))\n",
    "print('occurances of p in a given string: ',a.count('p'))\n",
    "print('Given string starts with p :',a.startswith('p'))\n",
    "print('index of characte m is : ',a.index('m'))"
   ]
  },
  {
   "cell_type": "markdown",
   "id": "b8302698",
   "metadata": {},
   "source": [
    "Write a python program to take two inputs(integers) and perform\n",
    "all arthimetic operation on those inputs and print results with discription."
   ]
  },
  {
   "cell_type": "code",
   "execution_count": 224,
   "id": "2fdbadb3",
   "metadata": {},
   "outputs": [
    {
     "name": "stdout",
     "output_type": "stream",
     "text": [
      "first Input: 5\n",
      "second input: 2\n",
      "Addition output is :  7\n",
      "subtraction output is :  3\n",
      "Multiplication output is:  10\n",
      "Division output is : 2.5\n",
      "modulo division output is : 1\n",
      "exponentation result is:  25\n",
      "floor division result is : 2\n"
     ]
    }
   ],
   "source": [
    "a = int(input('first Input: '))\n",
    "b = int(input('second input: '))\n",
    "\n",
    "print('Addition output is : ',a+b)\n",
    "print('subtraction output is : ',a-b)\n",
    "print('Multiplication output is: ',a*b)\n",
    "print('Division output is :',a/b)\n",
    "print('modulo division output is :',a%b)\n",
    "print('exponentation result is: ',a**b)\n",
    "print('floor division result is :',a//b)"
   ]
  },
  {
   "cell_type": "markdown",
   "id": "fc13e07e",
   "metadata": {},
   "source": [
    "# Day-4"
   ]
  },
  {
   "cell_type": "markdown",
   "id": "382fdc32",
   "metadata": {},
   "source": [
    "# Type casting (or)type conversion"
   ]
  },
  {
   "cell_type": "code",
   "execution_count": null,
   "id": "8d99fb41",
   "metadata": {},
   "outputs": [],
   "source": []
  },
  {
   "cell_type": "code",
   "execution_count": 225,
   "id": "490a6c5d",
   "metadata": {},
   "outputs": [],
   "source": [
    "#data type conversion"
   ]
  },
  {
   "cell_type": "markdown",
   "id": "27958485",
   "metadata": {},
   "source": [
    "1. int to float & string\n",
    "2. float to int & string\n",
    "3.String to int & float"
   ]
  },
  {
   "cell_type": "code",
   "execution_count": 226,
   "id": "9081ae38",
   "metadata": {},
   "outputs": [],
   "source": [
    "# int to float"
   ]
  },
  {
   "cell_type": "code",
   "execution_count": 227,
   "id": "8a596273",
   "metadata": {},
   "outputs": [
    {
     "data": {
      "text/plain": [
       "int"
      ]
     },
     "execution_count": 227,
     "metadata": {},
     "output_type": "execute_result"
    }
   ],
   "source": [
    "a = 10\n",
    "type(a)"
   ]
  },
  {
   "cell_type": "code",
   "execution_count": 228,
   "id": "ff46f9f1",
   "metadata": {},
   "outputs": [],
   "source": [
    "b=float(a)"
   ]
  },
  {
   "cell_type": "code",
   "execution_count": 229,
   "id": "429aded0",
   "metadata": {},
   "outputs": [
    {
     "data": {
      "text/plain": [
       "float"
      ]
     },
     "execution_count": 229,
     "metadata": {},
     "output_type": "execute_result"
    }
   ],
   "source": [
    "type(b)"
   ]
  },
  {
   "cell_type": "code",
   "execution_count": 230,
   "id": "93a6f2ef",
   "metadata": {},
   "outputs": [],
   "source": [
    "#int to string"
   ]
  },
  {
   "cell_type": "code",
   "execution_count": 231,
   "id": "3baddb8f",
   "metadata": {},
   "outputs": [
    {
     "data": {
      "text/plain": [
       "10"
      ]
     },
     "execution_count": 231,
     "metadata": {},
     "output_type": "execute_result"
    }
   ],
   "source": [
    "a"
   ]
  },
  {
   "cell_type": "code",
   "execution_count": 232,
   "id": "1c1315e2",
   "metadata": {},
   "outputs": [
    {
     "data": {
      "text/plain": [
       "int"
      ]
     },
     "execution_count": 232,
     "metadata": {},
     "output_type": "execute_result"
    }
   ],
   "source": [
    "type(a)"
   ]
  },
  {
   "cell_type": "code",
   "execution_count": 233,
   "id": "d6b8d033",
   "metadata": {},
   "outputs": [],
   "source": [
    "c = str(a)"
   ]
  },
  {
   "cell_type": "code",
   "execution_count": 234,
   "id": "ff8e2b54",
   "metadata": {},
   "outputs": [
    {
     "data": {
      "text/plain": [
       "str"
      ]
     },
     "execution_count": 234,
     "metadata": {},
     "output_type": "execute_result"
    }
   ],
   "source": [
    "type(c)"
   ]
  },
  {
   "cell_type": "code",
   "execution_count": 235,
   "id": "caebfb13",
   "metadata": {},
   "outputs": [
    {
     "data": {
      "text/plain": [
       "'10'"
      ]
     },
     "execution_count": 235,
     "metadata": {},
     "output_type": "execute_result"
    }
   ],
   "source": [
    "c"
   ]
  },
  {
   "cell_type": "code",
   "execution_count": 236,
   "id": "92d40cb8",
   "metadata": {},
   "outputs": [],
   "source": [
    "# float to int"
   ]
  },
  {
   "cell_type": "code",
   "execution_count": 237,
   "id": "d97b84d3",
   "metadata": {},
   "outputs": [],
   "source": [
    "a = 45.78"
   ]
  },
  {
   "cell_type": "code",
   "execution_count": 238,
   "id": "44d60c18",
   "metadata": {},
   "outputs": [
    {
     "data": {
      "text/plain": [
       "float"
      ]
     },
     "execution_count": 238,
     "metadata": {},
     "output_type": "execute_result"
    }
   ],
   "source": [
    "type(a)"
   ]
  },
  {
   "cell_type": "code",
   "execution_count": 239,
   "id": "28e6e336",
   "metadata": {},
   "outputs": [],
   "source": [
    "b = int(a)"
   ]
  },
  {
   "cell_type": "code",
   "execution_count": 240,
   "id": "31ccf80b",
   "metadata": {},
   "outputs": [
    {
     "data": {
      "text/plain": [
       "int"
      ]
     },
     "execution_count": 240,
     "metadata": {},
     "output_type": "execute_result"
    }
   ],
   "source": [
    "type(b)"
   ]
  },
  {
   "cell_type": "code",
   "execution_count": 241,
   "id": "3f111e03",
   "metadata": {},
   "outputs": [
    {
     "data": {
      "text/plain": [
       "45"
      ]
     },
     "execution_count": 241,
     "metadata": {},
     "output_type": "execute_result"
    }
   ],
   "source": [
    "b"
   ]
  },
  {
   "cell_type": "code",
   "execution_count": 242,
   "id": "cc7ff862",
   "metadata": {},
   "outputs": [],
   "source": [
    "# float to str"
   ]
  },
  {
   "cell_type": "code",
   "execution_count": 243,
   "id": "4eeedb97",
   "metadata": {},
   "outputs": [
    {
     "data": {
      "text/plain": [
       "45.78"
      ]
     },
     "execution_count": 243,
     "metadata": {},
     "output_type": "execute_result"
    }
   ],
   "source": [
    "a"
   ]
  },
  {
   "cell_type": "code",
   "execution_count": 244,
   "id": "317b90e6",
   "metadata": {},
   "outputs": [],
   "source": [
    "b = str(a)"
   ]
  },
  {
   "cell_type": "code",
   "execution_count": 245,
   "id": "f5ebab1f",
   "metadata": {},
   "outputs": [
    {
     "data": {
      "text/plain": [
       "'45.78'"
      ]
     },
     "execution_count": 245,
     "metadata": {},
     "output_type": "execute_result"
    }
   ],
   "source": [
    "b"
   ]
  },
  {
   "cell_type": "code",
   "execution_count": 246,
   "id": "c24265dc",
   "metadata": {},
   "outputs": [
    {
     "data": {
      "text/plain": [
       "str"
      ]
     },
     "execution_count": 246,
     "metadata": {},
     "output_type": "execute_result"
    }
   ],
   "source": [
    "type(b)"
   ]
  },
  {
   "cell_type": "code",
   "execution_count": 247,
   "id": "792e654f",
   "metadata": {},
   "outputs": [],
   "source": [
    "# str to int"
   ]
  },
  {
   "cell_type": "code",
   "execution_count": 248,
   "id": "ae17be3b",
   "metadata": {},
   "outputs": [],
   "source": [
    "a = 'satya'"
   ]
  },
  {
   "cell_type": "code",
   "execution_count": 249,
   "id": "dd855dde",
   "metadata": {},
   "outputs": [],
   "source": [
    "b = '10'"
   ]
  },
  {
   "cell_type": "code",
   "execution_count": 250,
   "id": "e71eb1ee",
   "metadata": {},
   "outputs": [
    {
     "data": {
      "text/plain": [
       "str"
      ]
     },
     "execution_count": 250,
     "metadata": {},
     "output_type": "execute_result"
    }
   ],
   "source": [
    "type(b)"
   ]
  },
  {
   "cell_type": "code",
   "execution_count": 251,
   "id": "ecad552f",
   "metadata": {},
   "outputs": [],
   "source": [
    "c = int(b) # if string literal is equivalent to any numerical value then str to int (or) str to float is possible"
   ]
  },
  {
   "cell_type": "code",
   "execution_count": 252,
   "id": "a8eec6e7",
   "metadata": {},
   "outputs": [
    {
     "data": {
      "text/plain": [
       "10"
      ]
     },
     "execution_count": 252,
     "metadata": {},
     "output_type": "execute_result"
    }
   ],
   "source": [
    "c"
   ]
  },
  {
   "cell_type": "code",
   "execution_count": 253,
   "id": "dffa94c2",
   "metadata": {},
   "outputs": [
    {
     "data": {
      "text/plain": [
       "int"
      ]
     },
     "execution_count": 253,
     "metadata": {},
     "output_type": "execute_result"
    }
   ],
   "source": [
    "type(c)"
   ]
  },
  {
   "cell_type": "code",
   "execution_count": 254,
   "id": "f9233c50",
   "metadata": {},
   "outputs": [],
   "source": [
    "a = '89.23'"
   ]
  },
  {
   "cell_type": "code",
   "execution_count": 255,
   "id": "1b8cde53",
   "metadata": {},
   "outputs": [
    {
     "data": {
      "text/plain": [
       "str"
      ]
     },
     "execution_count": 255,
     "metadata": {},
     "output_type": "execute_result"
    }
   ],
   "source": [
    "type(a)"
   ]
  },
  {
   "cell_type": "code",
   "execution_count": 256,
   "id": "cbbc4357",
   "metadata": {},
   "outputs": [],
   "source": [
    "b = float(a)"
   ]
  },
  {
   "cell_type": "code",
   "execution_count": 257,
   "id": "7a88f206",
   "metadata": {},
   "outputs": [
    {
     "data": {
      "text/plain": [
       "89.23"
      ]
     },
     "execution_count": 257,
     "metadata": {},
     "output_type": "execute_result"
    }
   ],
   "source": [
    "b"
   ]
  },
  {
   "cell_type": "code",
   "execution_count": 258,
   "id": "a622a14d",
   "metadata": {},
   "outputs": [
    {
     "data": {
      "text/plain": [
       "float"
      ]
     },
     "execution_count": 258,
     "metadata": {},
     "output_type": "execute_result"
    }
   ],
   "source": [
    "type(b)"
   ]
  },
  {
   "cell_type": "markdown",
   "id": "ae8a84c7",
   "metadata": {},
   "source": [
    "# Conditional Statements"
   ]
  },
  {
   "cell_type": "markdown",
   "id": "010623de",
   "metadata": {},
   "source": [
    "1. simple if \n",
    "2. if -else\n",
    "3. nested if - else \n"
   ]
  },
  {
   "cell_type": "markdown",
   "id": "6728ea5c",
   "metadata": {},
   "source": [
    "# Indentation"
   ]
  },
  {
   "cell_type": "code",
   "execution_count": 259,
   "id": "891bdb19",
   "metadata": {},
   "outputs": [],
   "source": [
    "# the space we give at the begining of the code line is called indentation\n",
    "# space is upto you, but alteast one space required"
   ]
  },
  {
   "cell_type": "code",
   "execution_count": 260,
   "id": "0a4b4dfb",
   "metadata": {},
   "outputs": [],
   "source": [
    "# simple if "
   ]
  },
  {
   "cell_type": "code",
   "execution_count": 261,
   "id": "c616b073",
   "metadata": {},
   "outputs": [],
   "source": [
    "a=45\n",
    "b=89"
   ]
  },
  {
   "cell_type": "code",
   "execution_count": 262,
   "id": "84c1b7fd",
   "metadata": {},
   "outputs": [
    {
     "name": "stdout",
     "output_type": "stream",
     "text": [
      " a is small\n"
     ]
    }
   ],
   "source": [
    "if a<b :\n",
    "    print(' a is small')"
   ]
  },
  {
   "cell_type": "code",
   "execution_count": 263,
   "id": "6870715d",
   "metadata": {},
   "outputs": [
    {
     "name": "stdout",
     "output_type": "stream",
     "text": [
      " a is small\n"
     ]
    }
   ],
   "source": [
    "if a<b :\n",
    " print(' a is small')"
   ]
  },
  {
   "cell_type": "code",
   "execution_count": 264,
   "id": "22f81142",
   "metadata": {},
   "outputs": [
    {
     "name": "stdout",
     "output_type": "stream",
     "text": [
      " a is small\n"
     ]
    }
   ],
   "source": [
    "if a<b :\n",
    "  print(' a is small')"
   ]
  },
  {
   "cell_type": "code",
   "execution_count": 265,
   "id": "77747c45",
   "metadata": {},
   "outputs": [
    {
     "name": "stdout",
     "output_type": "stream",
     "text": [
      " a is small\n"
     ]
    }
   ],
   "source": [
    "if a<b :\n",
    "   print(' a is small')"
   ]
  },
  {
   "cell_type": "code",
   "execution_count": 266,
   "id": "a62526e7",
   "metadata": {},
   "outputs": [
    {
     "name": "stdout",
     "output_type": "stream",
     "text": [
      " a is small\n"
     ]
    }
   ],
   "source": [
    "if a<b :\n",
    "                       print(' a is small')"
   ]
  },
  {
   "cell_type": "code",
   "execution_count": 268,
   "id": "4bd19b20",
   "metadata": {},
   "outputs": [
    {
     "name": "stdout",
     "output_type": "stream",
     "text": [
      " a is small\n",
      "execution done\n",
      "successful\n"
     ]
    }
   ],
   "source": [
    "if a<b :\n",
    "    print(' a is small')\n",
    "    print('execution done')\n",
    "    print('successful')"
   ]
  },
  {
   "cell_type": "code",
   "execution_count": 299,
   "id": "7a4b9e46",
   "metadata": {},
   "outputs": [
    {
     "ename": "IndentationError",
     "evalue": "unexpected indent (<ipython-input-299-07f13cbeedf6>, line 4)",
     "output_type": "error",
     "traceback": [
      "\u001b[1;36m  File \u001b[1;32m\"<ipython-input-299-07f13cbeedf6>\"\u001b[1;36m, line \u001b[1;32m4\u001b[0m\n\u001b[1;33m    print('successful')  # indentation error\u001b[0m\n\u001b[1;37m    ^\u001b[0m\n\u001b[1;31mIndentationError\u001b[0m\u001b[1;31m:\u001b[0m unexpected indent\n"
     ]
    }
   ],
   "source": [
    "if a<b :\n",
    "    print(' a is small')\n",
    "    print('execution done')\n",
    "     print('successful')  # indentation error"
   ]
  },
  {
   "cell_type": "code",
   "execution_count": 272,
   "id": "d79286c6",
   "metadata": {},
   "outputs": [],
   "source": [
    "if a>b:\n",
    "    print('a is big')"
   ]
  },
  {
   "cell_type": "code",
   "execution_count": 273,
   "id": "9c016782",
   "metadata": {},
   "outputs": [],
   "source": [
    "#if - else "
   ]
  },
  {
   "cell_type": "code",
   "execution_count": 274,
   "id": "db28ef90",
   "metadata": {},
   "outputs": [
    {
     "name": "stdout",
     "output_type": "stream",
     "text": [
      "a is small\n",
      "execution done\n"
     ]
    }
   ],
   "source": [
    "if a>b:\n",
    "    print(' a is big')\n",
    "    print('execution is done')\n",
    "else:\n",
    "    print('a is small')\n",
    "    print('execution done')"
   ]
  },
  {
   "cell_type": "code",
   "execution_count": 275,
   "id": "ac172a83",
   "metadata": {},
   "outputs": [],
   "source": [
    "#if -elif -else"
   ]
  },
  {
   "cell_type": "code",
   "execution_count": 278,
   "id": "a335c225",
   "metadata": {},
   "outputs": [],
   "source": [
    "a = 34\n",
    "b = 34"
   ]
  },
  {
   "cell_type": "code",
   "execution_count": 279,
   "id": "a4921e2e",
   "metadata": {},
   "outputs": [
    {
     "name": "stdout",
     "output_type": "stream",
     "text": [
      "both are same\n",
      "execution is done\n"
     ]
    }
   ],
   "source": [
    "if a>b:\n",
    "    print('a is big')\n",
    "    print('execution is done')\n",
    "elif b>a:\n",
    "    print('b is big')\n",
    "    print('execution is done')\n",
    "elif a == b:\n",
    "    print('both are same')\n",
    "    print('execution is done')\n",
    "else:\n",
    "    print('no condition is true')\n",
    "    print('execution is done')"
   ]
  },
  {
   "cell_type": "code",
   "execution_count": 281,
   "id": "592d0a03",
   "metadata": {},
   "outputs": [
    {
     "name": "stdout",
     "output_type": "stream",
     "text": [
      "enter input-1: 78\n",
      "enter input-2: 45\n",
      "a is big\n",
      "execution is done\n"
     ]
    }
   ],
   "source": [
    "a = int(input('enter input-1: '))\n",
    "b = int(input('enter input-2: '))\n",
    "if a>b:\n",
    "    print('a is big')\n",
    "    print('execution is done')\n",
    "elif b>a:\n",
    "    print('b is big')\n",
    "    print('execution is done')\n",
    "elif a == b:\n",
    "    print('both are same')\n",
    "    print('execution is done')\n",
    "else:\n",
    "    print('no condition is true')\n",
    "    print('execution is done')\n",
    "    "
   ]
  },
  {
   "cell_type": "code",
   "execution_count": 284,
   "id": "9a4eb1f9",
   "metadata": {},
   "outputs": [
    {
     "name": "stdout",
     "output_type": "stream",
     "text": [
      "enter input-1: 20\n",
      "enter input-2: 10\n",
      "enter input-3: 80\n",
      "The bigger number is c:  80\n"
     ]
    }
   ],
   "source": [
    "a = int(input('enter input-1: '))\n",
    "b = int(input('enter input-2: '))\n",
    "c = int(input('enter input-3: '))\n",
    "if a>b and a>c:\n",
    "    print('The bigger number is a: ',a)\n",
    "elif b>a and b>c:\n",
    "    print('The bigger number is b: ',b)\n",
    "else:\n",
    "    print('The bigger number is c: ',c)"
   ]
  },
  {
   "cell_type": "markdown",
   "id": "71e25b01",
   "metadata": {},
   "source": [
    "# for loop"
   ]
  },
  {
   "cell_type": "code",
   "execution_count": 288,
   "id": "e148889b",
   "metadata": {},
   "outputs": [],
   "source": [
    "# range function"
   ]
  },
  {
   "cell_type": "code",
   "execution_count": 289,
   "id": "de23cecd",
   "metadata": {},
   "outputs": [
    {
     "data": {
      "text/plain": [
       "range(0, 10)"
      ]
     },
     "execution_count": 289,
     "metadata": {},
     "output_type": "execute_result"
    }
   ],
   "source": [
    "range(10)"
   ]
  },
  {
   "cell_type": "code",
   "execution_count": 290,
   "id": "5c08499f",
   "metadata": {},
   "outputs": [
    {
     "name": "stdout",
     "output_type": "stream",
     "text": [
      "range(0, 10)\n"
     ]
    }
   ],
   "source": [
    "print(range(10))"
   ]
  },
  {
   "cell_type": "code",
   "execution_count": 291,
   "id": "6b0e04f0",
   "metadata": {},
   "outputs": [
    {
     "data": {
      "text/plain": [
       "range(0, 10)"
      ]
     },
     "execution_count": 291,
     "metadata": {},
     "output_type": "execute_result"
    }
   ],
   "source": [
    "range(0,10)"
   ]
  },
  {
   "cell_type": "code",
   "execution_count": 292,
   "id": "3081fdb7",
   "metadata": {},
   "outputs": [
    {
     "data": {
      "text/plain": [
       "range(15, 20)"
      ]
     },
     "execution_count": 292,
     "metadata": {},
     "output_type": "execute_result"
    }
   ],
   "source": [
    "range(15,20)"
   ]
  },
  {
   "cell_type": "code",
   "execution_count": 294,
   "id": "91266744",
   "metadata": {},
   "outputs": [
    {
     "name": "stdout",
     "output_type": "stream",
     "text": [
      "10\n",
      "11\n",
      "12\n",
      "13\n",
      "14\n",
      "15\n",
      "16\n",
      "17\n",
      "18\n",
      "19\n"
     ]
    }
   ],
   "source": [
    "a=10\n",
    "for i in range(0,10):\n",
    "    b = a+i\n",
    "    print(b)"
   ]
  },
  {
   "cell_type": "code",
   "execution_count": 295,
   "id": "881a01cc",
   "metadata": {},
   "outputs": [
    {
     "name": "stdout",
     "output_type": "stream",
     "text": [
      "25\n",
      "26\n",
      "27\n",
      "28\n",
      "29\n"
     ]
    }
   ],
   "source": [
    "a=10\n",
    "for k in range(15,20):\n",
    "    b = a+k\n",
    "    print(b)"
   ]
  },
  {
   "cell_type": "code",
   "execution_count": 296,
   "id": "6c1b116b",
   "metadata": {},
   "outputs": [
    {
     "name": "stdout",
     "output_type": "stream",
     "text": [
      "10\n",
      "12\n",
      "14\n",
      "16\n",
      "18\n"
     ]
    }
   ],
   "source": [
    "a=10\n",
    "for k in range(0,10,2):\n",
    "    b = a+k\n",
    "    print(b)"
   ]
  },
  {
   "cell_type": "code",
   "execution_count": 298,
   "id": "179638a8",
   "metadata": {},
   "outputs": [
    {
     "name": "stdout",
     "output_type": "stream",
     "text": [
      "110\n",
      "100\n",
      "90\n",
      "80\n",
      "70\n",
      "60\n",
      "50\n",
      "40\n",
      "30\n"
     ]
    }
   ],
   "source": [
    "a=10\n",
    "for k in range(100,10,-10):\n",
    "    b = a+k\n",
    "    print(b)"
   ]
  },
  {
   "cell_type": "markdown",
   "id": "10187cbc",
   "metadata": {},
   "source": [
    "# Day-5"
   ]
  },
  {
   "cell_type": "code",
   "execution_count": 300,
   "id": "08377889",
   "metadata": {},
   "outputs": [],
   "source": [
    "#w.p.p to print your name 10 times using for loop"
   ]
  },
  {
   "cell_type": "code",
   "execution_count": 301,
   "id": "1e9066a9",
   "metadata": {},
   "outputs": [
    {
     "name": "stdout",
     "output_type": "stream",
     "text": [
      "satya\n",
      "satya\n",
      "satya\n",
      "satya\n",
      "satya\n"
     ]
    }
   ],
   "source": [
    "for i in range(5):\n",
    "    print('satya')"
   ]
  },
  {
   "cell_type": "code",
   "execution_count": 306,
   "id": "334bda7f",
   "metadata": {
    "scrolled": true
   },
   "outputs": [
    {
     "name": "stdout",
     "output_type": "stream",
     "text": [
      "The Character is:  i index is:  0\n",
      "The Character is:  n index is:  1\n",
      "The Character is:  n index is:  1\n",
      "The Character is:  o index is:  3\n",
      "The Character is:  m index is:  4\n",
      "The Character is:  a index is:  5\n",
      "The Character is:  t index is:  6\n",
      "The Character is:  i index is:  0\n",
      "The Character is:  c index is:  8\n",
      "The Character is:  s index is:  9\n"
     ]
    }
   ],
   "source": [
    "a = 'innomatics'\n",
    "for i in a:\n",
    "    print('The Character is: ',i,'index is: ',a.index(i))"
   ]
  },
  {
   "cell_type": "code",
   "execution_count": 310,
   "id": "1232113a",
   "metadata": {},
   "outputs": [
    {
     "ename": "SyntaxError",
     "evalue": "unexpected EOF while parsing (<ipython-input-310-911ef81c6421>, line 2)",
     "output_type": "error",
     "traceback": [
      "\u001b[1;36m  File \u001b[1;32m\"<ipython-input-310-911ef81c6421>\"\u001b[1;36m, line \u001b[1;32m2\u001b[0m\n\u001b[1;33m    for i in a:\u001b[0m\n\u001b[1;37m               ^\u001b[0m\n\u001b[1;31mSyntaxError\u001b[0m\u001b[1;31m:\u001b[0m unexpected EOF while parsing\n"
     ]
    }
   ],
   "source": [
    "a = 'innomatics'\n",
    "for i in a:"
   ]
  },
  {
   "cell_type": "code",
   "execution_count": 311,
   "id": "576144d9",
   "metadata": {},
   "outputs": [
    {
     "data": {
      "text/plain": [
       "'innomatics'"
      ]
     },
     "execution_count": 311,
     "metadata": {},
     "output_type": "execute_result"
    }
   ],
   "source": [
    "a"
   ]
  },
  {
   "cell_type": "code",
   "execution_count": 312,
   "id": "e606bc86",
   "metadata": {},
   "outputs": [
    {
     "data": {
      "text/plain": [
       "'i'"
      ]
     },
     "execution_count": 312,
     "metadata": {},
     "output_type": "execute_result"
    }
   ],
   "source": [
    "a[0]"
   ]
  },
  {
   "cell_type": "code",
   "execution_count": 313,
   "id": "bd4e8fea",
   "metadata": {},
   "outputs": [
    {
     "data": {
      "text/plain": [
       "'n'"
      ]
     },
     "execution_count": 313,
     "metadata": {},
     "output_type": "execute_result"
    }
   ],
   "source": [
    "a[1]"
   ]
  },
  {
   "cell_type": "code",
   "execution_count": 315,
   "id": "a8900ad6",
   "metadata": {},
   "outputs": [
    {
     "name": "stdout",
     "output_type": "stream",
     "text": [
      "The Character is:  i index is:  0\n",
      "The Character is:  n index is:  1\n",
      "The Character is:  n index is:  2\n",
      "The Character is:  o index is:  3\n",
      "The Character is:  m index is:  4\n",
      "The Character is:  a index is:  5\n",
      "The Character is:  t index is:  6\n",
      "The Character is:  i index is:  7\n",
      "The Character is:  c index is:  8\n",
      "The Character is:  s index is:  9\n"
     ]
    }
   ],
   "source": [
    "a = 'innomatics'\n",
    "for i in range(len(a)):\n",
    "    print('The Character is: ',a[i],'index is: ',i)"
   ]
  },
  {
   "cell_type": "code",
   "execution_count": 317,
   "id": "35d55f47",
   "metadata": {},
   "outputs": [
    {
     "name": "stdout",
     "output_type": "stream",
     "text": [
      "s\n",
      "c\n",
      "i\n",
      "t\n",
      "a\n",
      "m\n",
      "o\n",
      "n\n",
      "n\n",
      "i\n"
     ]
    }
   ],
   "source": [
    "for i in a[::-1]:\n",
    "    print(i)"
   ]
  },
  {
   "cell_type": "code",
   "execution_count": 324,
   "id": "ae0b1dc7",
   "metadata": {},
   "outputs": [
    {
     "name": "stdout",
     "output_type": "stream",
     "text": [
      "s 9\n",
      "c 8\n",
      "i 7\n",
      "t 6\n",
      "a 5\n",
      "m 4\n",
      "o 3\n",
      "n 2\n",
      "n 1\n",
      "i 0\n"
     ]
    }
   ],
   "source": [
    "for i in range(len(a)-1,-1,-1):\n",
    "    print(a[i],i)"
   ]
  },
  {
   "cell_type": "code",
   "execution_count": 325,
   "id": "2e876ca8",
   "metadata": {},
   "outputs": [
    {
     "data": {
      "text/plain": [
       "10"
      ]
     },
     "execution_count": 325,
     "metadata": {},
     "output_type": "execute_result"
    }
   ],
   "source": [
    "len(a)"
   ]
  },
  {
   "cell_type": "code",
   "execution_count": 326,
   "id": "28b58bb4",
   "metadata": {},
   "outputs": [
    {
     "name": "stdout",
     "output_type": "stream",
     "text": [
      "Enter temperature32C\n"
     ]
    }
   ],
   "source": [
    "temp = input('Enter temperature')"
   ]
  },
  {
   "cell_type": "code",
   "execution_count": 327,
   "id": "3b000404",
   "metadata": {},
   "outputs": [
    {
     "data": {
      "text/plain": [
       "'32C'"
      ]
     },
     "execution_count": 327,
     "metadata": {},
     "output_type": "execute_result"
    }
   ],
   "source": [
    "temp"
   ]
  },
  {
   "cell_type": "code",
   "execution_count": 328,
   "id": "3155c81f",
   "metadata": {},
   "outputs": [],
   "source": [
    "degree=temp[-1]"
   ]
  },
  {
   "cell_type": "code",
   "execution_count": 329,
   "id": "59ee265d",
   "metadata": {},
   "outputs": [
    {
     "data": {
      "text/plain": [
       "'C'"
      ]
     },
     "execution_count": 329,
     "metadata": {},
     "output_type": "execute_result"
    }
   ],
   "source": [
    "degree"
   ]
  },
  {
   "cell_type": "code",
   "execution_count": 330,
   "id": "f21d85ed",
   "metadata": {},
   "outputs": [
    {
     "data": {
      "text/plain": [
       "'32'"
      ]
     },
     "execution_count": 330,
     "metadata": {},
     "output_type": "execute_result"
    }
   ],
   "source": [
    "temp[:2]"
   ]
  },
  {
   "cell_type": "code",
   "execution_count": 332,
   "id": "dd618681",
   "metadata": {},
   "outputs": [],
   "source": [
    "temp=int(temp[:2])"
   ]
  },
  {
   "cell_type": "code",
   "execution_count": 333,
   "id": "c50d9dd5",
   "metadata": {},
   "outputs": [
    {
     "data": {
      "text/plain": [
       "32"
      ]
     },
     "execution_count": 333,
     "metadata": {},
     "output_type": "execute_result"
    }
   ],
   "source": [
    "temp"
   ]
  },
  {
   "cell_type": "code",
   "execution_count": 355,
   "id": "9b778c66",
   "metadata": {},
   "outputs": [
    {
     "name": "stdout",
     "output_type": "stream",
     "text": [
      "Enter Input Temparature: 89F\n",
      "Temparature in F is : 89 F\n",
      "Temparature in C is : 31.666666666666668 C\n"
     ]
    }
   ],
   "source": [
    "Temp=input('Enter Input Temparature: ')\n",
    "degree = Temp[-1]\n",
    "degree = degree.upper()\n",
    "temp_value=int(Temp[:-1])\n",
    "if degree == 'C':\n",
    "    out = ((9/5)*temp_value)+32\n",
    "    print(\"Temparature in C is :\",temp_value,\"C\")\n",
    "    print(\"Temparature in F is :\",out,\"F\")\n",
    "elif degree == 'F':\n",
    "    out = (5/9)*(temp_value-32)\n",
    "    print(\"Temparature in F is :\",temp_value,\"F\")\n",
    "    print(\"Temparature in C is :\",out,\"C\")\n",
    "else:\n",
    "    print('Give input in predefined format')\n",
    "\n",
    "    "
   ]
  },
  {
   "cell_type": "code",
   "execution_count": 345,
   "id": "ce045365",
   "metadata": {},
   "outputs": [
    {
     "data": {
      "text/plain": [
       "'a'"
      ]
     },
     "execution_count": 345,
     "metadata": {},
     "output_type": "execute_result"
    }
   ],
   "source": [
    "a='satya'\n",
    "a[-1:]"
   ]
  },
  {
   "cell_type": "code",
   "execution_count": 346,
   "id": "6720784c",
   "metadata": {},
   "outputs": [
    {
     "data": {
      "text/plain": [
       "'saty'"
      ]
     },
     "execution_count": 346,
     "metadata": {},
     "output_type": "execute_result"
    }
   ],
   "source": [
    "a[:-1]"
   ]
  },
  {
   "cell_type": "code",
   "execution_count": 357,
   "id": "cf1366df",
   "metadata": {},
   "outputs": [
    {
     "name": "stdout",
     "output_type": "stream",
     "text": [
      "enter a number: 56\n",
      "Given number is even\n"
     ]
    }
   ],
   "source": [
    "n = int(input('enter a number: '))\n",
    "if n%2 == 0:\n",
    "    print('Given number is even')\n",
    "else:\n",
    "    print('Given number is odd')"
   ]
  },
  {
   "cell_type": "code",
   "execution_count": 358,
   "id": "79798135",
   "metadata": {},
   "outputs": [
    {
     "name": "stdout",
     "output_type": "stream",
     "text": [
      "100\n",
      "102\n",
      "104\n",
      "106\n",
      "108\n",
      "110\n",
      "112\n",
      "114\n",
      "116\n",
      "118\n",
      "120\n",
      "122\n",
      "124\n",
      "126\n",
      "128\n",
      "130\n",
      "132\n",
      "134\n",
      "136\n",
      "138\n",
      "140\n",
      "142\n",
      "144\n",
      "146\n",
      "148\n",
      "150\n",
      "152\n",
      "154\n",
      "156\n",
      "158\n",
      "160\n",
      "162\n",
      "164\n",
      "166\n",
      "168\n",
      "170\n",
      "172\n",
      "174\n",
      "176\n",
      "178\n",
      "180\n",
      "182\n",
      "184\n",
      "186\n",
      "188\n",
      "190\n",
      "192\n",
      "194\n",
      "196\n",
      "198\n",
      "200\n"
     ]
    }
   ],
   "source": [
    "for i in range(100,201):\n",
    "    if i % 2 == 0:\n",
    "        print(i)"
   ]
  },
  {
   "cell_type": "markdown",
   "id": "b66c3568",
   "metadata": {},
   "source": [
    "# Day -6"
   ]
  },
  {
   "cell_type": "code",
   "execution_count": 1,
   "id": "9249d8c3",
   "metadata": {},
   "outputs": [
    {
     "name": "stdout",
     "output_type": "stream",
     "text": [
      "11\n",
      "12\n",
      "13\n",
      "14\n",
      "16\n",
      "17\n"
     ]
    }
   ],
   "source": [
    "a=10\n",
    "i= 1\n",
    "while i <= 7:\n",
    "    c=a+i\n",
    "    i=i+1\n",
    "    if c == 15:\n",
    "        continue\n",
    "    print(c)\n",
    "   "
   ]
  },
  {
   "cell_type": "markdown",
   "id": "186e92c4",
   "metadata": {},
   "source": [
    "# Day -7"
   ]
  },
  {
   "cell_type": "code",
   "execution_count": 2,
   "id": "d2e1965a",
   "metadata": {},
   "outputs": [],
   "source": [
    "# List - List is collection of hetrogeneous items which are indexed and mutable"
   ]
  },
  {
   "cell_type": "code",
   "execution_count": 3,
   "id": "9df3c8fc",
   "metadata": {},
   "outputs": [],
   "source": [
    "L = ['apple','Banana','Kiwi','Grapes','Mango','Cherry']"
   ]
  },
  {
   "cell_type": "code",
   "execution_count": 4,
   "id": "346674bc",
   "metadata": {},
   "outputs": [
    {
     "data": {
      "text/plain": [
       "['apple', 'Banana', 'Kiwi', 'Grapes', 'Mango', 'Cherry']"
      ]
     },
     "execution_count": 4,
     "metadata": {},
     "output_type": "execute_result"
    }
   ],
   "source": [
    "L"
   ]
  },
  {
   "cell_type": "code",
   "execution_count": 5,
   "id": "b05507d2",
   "metadata": {},
   "outputs": [],
   "source": [
    "# access items of litems"
   ]
  },
  {
   "cell_type": "code",
   "execution_count": 6,
   "id": "6d69a30b",
   "metadata": {},
   "outputs": [
    {
     "data": {
      "text/plain": [
       "'apple'"
      ]
     },
     "execution_count": 6,
     "metadata": {},
     "output_type": "execute_result"
    }
   ],
   "source": [
    "L[0]"
   ]
  },
  {
   "cell_type": "code",
   "execution_count": 7,
   "id": "0af5a36c",
   "metadata": {},
   "outputs": [
    {
     "data": {
      "text/plain": [
       "'Kiwi'"
      ]
     },
     "execution_count": 7,
     "metadata": {},
     "output_type": "execute_result"
    }
   ],
   "source": [
    "L[2]"
   ]
  },
  {
   "cell_type": "code",
   "execution_count": 9,
   "id": "f868b10e",
   "metadata": {},
   "outputs": [
    {
     "data": {
      "text/plain": [
       "'Cherry'"
      ]
     },
     "execution_count": 9,
     "metadata": {},
     "output_type": "execute_result"
    }
   ],
   "source": [
    "L[5]"
   ]
  },
  {
   "cell_type": "code",
   "execution_count": 10,
   "id": "8969cc99",
   "metadata": {},
   "outputs": [
    {
     "data": {
      "text/plain": [
       "'Cherry'"
      ]
     },
     "execution_count": 10,
     "metadata": {},
     "output_type": "execute_result"
    }
   ],
   "source": [
    "L[-1]"
   ]
  },
  {
   "cell_type": "code",
   "execution_count": 11,
   "id": "395e6e67",
   "metadata": {},
   "outputs": [
    {
     "data": {
      "text/plain": [
       "'Mango'"
      ]
     },
     "execution_count": 11,
     "metadata": {},
     "output_type": "execute_result"
    }
   ],
   "source": [
    "L[-2]"
   ]
  },
  {
   "cell_type": "code",
   "execution_count": 12,
   "id": "2d76e669",
   "metadata": {},
   "outputs": [
    {
     "data": {
      "text/plain": [
       "'Banana'"
      ]
     },
     "execution_count": 12,
     "metadata": {},
     "output_type": "execute_result"
    }
   ],
   "source": [
    "L[-5]"
   ]
  },
  {
   "cell_type": "code",
   "execution_count": 13,
   "id": "e0aa2b82",
   "metadata": {},
   "outputs": [],
   "source": [
    "#List slicing"
   ]
  },
  {
   "cell_type": "code",
   "execution_count": 14,
   "id": "992dbbdc",
   "metadata": {},
   "outputs": [
    {
     "data": {
      "text/plain": [
       "['apple', 'Banana', 'Kiwi', 'Grapes', 'Mango', 'Cherry']"
      ]
     },
     "execution_count": 14,
     "metadata": {},
     "output_type": "execute_result"
    }
   ],
   "source": [
    "L"
   ]
  },
  {
   "cell_type": "code",
   "execution_count": 15,
   "id": "7746bd7b",
   "metadata": {},
   "outputs": [
    {
     "data": {
      "text/plain": [
       "['apple', 'Banana', 'Kiwi']"
      ]
     },
     "execution_count": 15,
     "metadata": {},
     "output_type": "execute_result"
    }
   ],
   "source": [
    "L[0:3]"
   ]
  },
  {
   "cell_type": "code",
   "execution_count": 17,
   "id": "ff8fb8e0",
   "metadata": {},
   "outputs": [
    {
     "data": {
      "text/plain": [
       "['Kiwi', 'Grapes', 'Mango', 'Cherry']"
      ]
     },
     "execution_count": 17,
     "metadata": {},
     "output_type": "execute_result"
    }
   ],
   "source": [
    "L[2:6]"
   ]
  },
  {
   "cell_type": "code",
   "execution_count": 22,
   "id": "b13c8a01",
   "metadata": {},
   "outputs": [
    {
     "data": {
      "text/plain": [
       "['Grapes', 'Mango', 'Cherry']"
      ]
     },
     "execution_count": 22,
     "metadata": {},
     "output_type": "execute_result"
    }
   ],
   "source": [
    "L[-3:]"
   ]
  },
  {
   "cell_type": "code",
   "execution_count": 23,
   "id": "bf5abab1",
   "metadata": {},
   "outputs": [
    {
     "data": {
      "text/plain": [
       "['Kiwi', 'Grapes', 'Mango', 'Cherry']"
      ]
     },
     "execution_count": 23,
     "metadata": {},
     "output_type": "execute_result"
    }
   ],
   "source": [
    "L[2:]"
   ]
  },
  {
   "cell_type": "code",
   "execution_count": 24,
   "id": "6c7064c8",
   "metadata": {},
   "outputs": [
    {
     "data": {
      "text/plain": [
       "['apple', 'Banana', 'Kiwi', 'Grapes', 'Mango', 'Cherry']"
      ]
     },
     "execution_count": 24,
     "metadata": {},
     "output_type": "execute_result"
    }
   ],
   "source": [
    "L"
   ]
  },
  {
   "cell_type": "code",
   "execution_count": 25,
   "id": "53c67f6c",
   "metadata": {},
   "outputs": [],
   "source": [
    "L[0] = 46"
   ]
  },
  {
   "cell_type": "code",
   "execution_count": 26,
   "id": "b82a43ae",
   "metadata": {},
   "outputs": [
    {
     "data": {
      "text/plain": [
       "[46, 'Banana', 'Kiwi', 'Grapes', 'Mango', 'Cherry']"
      ]
     },
     "execution_count": 26,
     "metadata": {},
     "output_type": "execute_result"
    }
   ],
   "source": [
    "L"
   ]
  },
  {
   "cell_type": "code",
   "execution_count": 27,
   "id": "d1f7a354",
   "metadata": {},
   "outputs": [],
   "source": [
    "L[3] = 100"
   ]
  },
  {
   "cell_type": "code",
   "execution_count": 28,
   "id": "d7da34d9",
   "metadata": {},
   "outputs": [
    {
     "data": {
      "text/plain": [
       "[46, 'Banana', 'Kiwi', 100, 'Mango', 'Cherry']"
      ]
     },
     "execution_count": 28,
     "metadata": {},
     "output_type": "execute_result"
    }
   ],
   "source": [
    "L"
   ]
  },
  {
   "cell_type": "code",
   "execution_count": 29,
   "id": "2722a5b7",
   "metadata": {},
   "outputs": [],
   "source": [
    "# adding an item to a list"
   ]
  },
  {
   "cell_type": "code",
   "execution_count": 30,
   "id": "cd3d32f2",
   "metadata": {},
   "outputs": [],
   "source": [
    "# append() - it appends an item at the end of the list"
   ]
  },
  {
   "cell_type": "code",
   "execution_count": 31,
   "id": "8d4ec7ea",
   "metadata": {},
   "outputs": [],
   "source": [
    "# add an item 500 to a list"
   ]
  },
  {
   "cell_type": "code",
   "execution_count": 32,
   "id": "cc62438f",
   "metadata": {},
   "outputs": [],
   "source": [
    "L.append(500)"
   ]
  },
  {
   "cell_type": "code",
   "execution_count": 33,
   "id": "674fc638",
   "metadata": {},
   "outputs": [
    {
     "data": {
      "text/plain": [
       "[46, 'Banana', 'Kiwi', 100, 'Mango', 'Cherry', 500]"
      ]
     },
     "execution_count": 33,
     "metadata": {},
     "output_type": "execute_result"
    }
   ],
   "source": [
    "L"
   ]
  },
  {
   "cell_type": "code",
   "execution_count": 34,
   "id": "d733b672",
   "metadata": {},
   "outputs": [],
   "source": [
    "L.append(1000)"
   ]
  },
  {
   "cell_type": "code",
   "execution_count": 35,
   "id": "fff99e73",
   "metadata": {},
   "outputs": [
    {
     "data": {
      "text/plain": [
       "[46, 'Banana', 'Kiwi', 100, 'Mango', 'Cherry', 500, 1000]"
      ]
     },
     "execution_count": 35,
     "metadata": {},
     "output_type": "execute_result"
    }
   ],
   "source": [
    "L"
   ]
  },
  {
   "cell_type": "code",
   "execution_count": 36,
   "id": "15c46f24",
   "metadata": {},
   "outputs": [],
   "source": [
    "#insert()"
   ]
  },
  {
   "cell_type": "code",
   "execution_count": 37,
   "id": "9f0bfedf",
   "metadata": {},
   "outputs": [],
   "source": [
    "L.insert(2,789)"
   ]
  },
  {
   "cell_type": "code",
   "execution_count": 38,
   "id": "e9088bac",
   "metadata": {},
   "outputs": [
    {
     "data": {
      "text/plain": [
       "[46, 'Banana', 789, 'Kiwi', 100, 'Mango', 'Cherry', 500, 1000]"
      ]
     },
     "execution_count": 38,
     "metadata": {},
     "output_type": "execute_result"
    }
   ],
   "source": [
    "L"
   ]
  },
  {
   "cell_type": "code",
   "execution_count": 39,
   "id": "69f29d13",
   "metadata": {},
   "outputs": [],
   "source": [
    "L.insert(6,1200)"
   ]
  },
  {
   "cell_type": "code",
   "execution_count": 40,
   "id": "afd0fb05",
   "metadata": {},
   "outputs": [
    {
     "data": {
      "text/plain": [
       "[46, 'Banana', 789, 'Kiwi', 100, 'Mango', 1200, 'Cherry', 500, 1000]"
      ]
     },
     "execution_count": 40,
     "metadata": {},
     "output_type": "execute_result"
    }
   ],
   "source": [
    "L"
   ]
  },
  {
   "cell_type": "code",
   "execution_count": 41,
   "id": "5ff96e3d",
   "metadata": {},
   "outputs": [],
   "source": [
    "# extend()- it extends a list - add multiple items to a list"
   ]
  },
  {
   "cell_type": "code",
   "execution_count": 42,
   "id": "484ae112",
   "metadata": {},
   "outputs": [
    {
     "data": {
      "text/plain": [
       "[46, 'Banana', 789, 'Kiwi', 100, 'Mango', 1200, 'Cherry', 500, 1000]"
      ]
     },
     "execution_count": 42,
     "metadata": {},
     "output_type": "execute_result"
    }
   ],
   "source": [
    "L"
   ]
  },
  {
   "cell_type": "code",
   "execution_count": 43,
   "id": "6047c566",
   "metadata": {},
   "outputs": [],
   "source": [
    "L.extend([9,10,11])"
   ]
  },
  {
   "cell_type": "code",
   "execution_count": 44,
   "id": "1a681ef7",
   "metadata": {},
   "outputs": [
    {
     "data": {
      "text/plain": [
       "[46, 'Banana', 789, 'Kiwi', 100, 'Mango', 1200, 'Cherry', 500, 1000, 9, 10, 11]"
      ]
     },
     "execution_count": 44,
     "metadata": {},
     "output_type": "execute_result"
    }
   ],
   "source": [
    "L"
   ]
  },
  {
   "cell_type": "code",
   "execution_count": 45,
   "id": "efe2857c",
   "metadata": {},
   "outputs": [],
   "source": [
    "L.extend(['onion','brinjal'])"
   ]
  },
  {
   "cell_type": "code",
   "execution_count": 46,
   "id": "74e22b05",
   "metadata": {},
   "outputs": [
    {
     "data": {
      "text/plain": [
       "[46,\n",
       " 'Banana',\n",
       " 789,\n",
       " 'Kiwi',\n",
       " 100,\n",
       " 'Mango',\n",
       " 1200,\n",
       " 'Cherry',\n",
       " 500,\n",
       " 1000,\n",
       " 9,\n",
       " 10,\n",
       " 11,\n",
       " 'onion',\n",
       " 'brinjal']"
      ]
     },
     "execution_count": 46,
     "metadata": {},
     "output_type": "execute_result"
    }
   ],
   "source": [
    "L"
   ]
  },
  {
   "cell_type": "code",
   "execution_count": 47,
   "id": "36f20a65",
   "metadata": {},
   "outputs": [],
   "source": [
    "# remove() - removes an item from list "
   ]
  },
  {
   "cell_type": "code",
   "execution_count": 48,
   "id": "5e50f798",
   "metadata": {},
   "outputs": [],
   "source": [
    "L.remove('Mango')"
   ]
  },
  {
   "cell_type": "code",
   "execution_count": 49,
   "id": "7e01de8c",
   "metadata": {},
   "outputs": [
    {
     "data": {
      "text/plain": [
       "[46,\n",
       " 'Banana',\n",
       " 789,\n",
       " 'Kiwi',\n",
       " 100,\n",
       " 1200,\n",
       " 'Cherry',\n",
       " 500,\n",
       " 1000,\n",
       " 9,\n",
       " 10,\n",
       " 11,\n",
       " 'onion',\n",
       " 'brinjal']"
      ]
     },
     "execution_count": 49,
     "metadata": {},
     "output_type": "execute_result"
    }
   ],
   "source": [
    "L"
   ]
  },
  {
   "cell_type": "code",
   "execution_count": 50,
   "id": "fca45da8",
   "metadata": {},
   "outputs": [],
   "source": [
    "L.remove('onion')"
   ]
  },
  {
   "cell_type": "code",
   "execution_count": 51,
   "id": "5c98dca7",
   "metadata": {},
   "outputs": [
    {
     "data": {
      "text/plain": [
       "[46,\n",
       " 'Banana',\n",
       " 789,\n",
       " 'Kiwi',\n",
       " 100,\n",
       " 1200,\n",
       " 'Cherry',\n",
       " 500,\n",
       " 1000,\n",
       " 9,\n",
       " 10,\n",
       " 11,\n",
       " 'brinjal']"
      ]
     },
     "execution_count": 51,
     "metadata": {},
     "output_type": "execute_result"
    }
   ],
   "source": [
    "L"
   ]
  },
  {
   "cell_type": "code",
   "execution_count": 52,
   "id": "9aa78ae6",
   "metadata": {},
   "outputs": [],
   "source": [
    "L.remove(10)"
   ]
  },
  {
   "cell_type": "code",
   "execution_count": 53,
   "id": "a6978977",
   "metadata": {},
   "outputs": [
    {
     "data": {
      "text/plain": [
       "[46, 'Banana', 789, 'Kiwi', 100, 1200, 'Cherry', 500, 1000, 9, 11, 'brinjal']"
      ]
     },
     "execution_count": 53,
     "metadata": {},
     "output_type": "execute_result"
    }
   ],
   "source": [
    "L"
   ]
  },
  {
   "cell_type": "code",
   "execution_count": 54,
   "id": "c480e5f7",
   "metadata": {},
   "outputs": [],
   "source": [
    "# pop() -it removes an item from list and returns removed item"
   ]
  },
  {
   "cell_type": "code",
   "execution_count": 55,
   "id": "28cee3a1",
   "metadata": {},
   "outputs": [
    {
     "data": {
      "text/plain": [
       "[46, 'Banana', 789, 'Kiwi', 100, 1200, 'Cherry', 500, 1000, 9, 11, 'brinjal']"
      ]
     },
     "execution_count": 55,
     "metadata": {},
     "output_type": "execute_result"
    }
   ],
   "source": [
    "L"
   ]
  },
  {
   "cell_type": "code",
   "execution_count": 56,
   "id": "74ca4930",
   "metadata": {},
   "outputs": [
    {
     "data": {
      "text/plain": [
       "'brinjal'"
      ]
     },
     "execution_count": 56,
     "metadata": {},
     "output_type": "execute_result"
    }
   ],
   "source": [
    "L.pop()"
   ]
  },
  {
   "cell_type": "code",
   "execution_count": 57,
   "id": "a268c6fd",
   "metadata": {},
   "outputs": [
    {
     "data": {
      "text/plain": [
       "11"
      ]
     },
     "execution_count": 57,
     "metadata": {},
     "output_type": "execute_result"
    }
   ],
   "source": [
    "L.pop()"
   ]
  },
  {
   "cell_type": "code",
   "execution_count": 58,
   "id": "31237444",
   "metadata": {},
   "outputs": [
    {
     "data": {
      "text/plain": [
       "[46, 'Banana', 789, 'Kiwi', 100, 1200, 'Cherry', 500, 1000, 9]"
      ]
     },
     "execution_count": 58,
     "metadata": {},
     "output_type": "execute_result"
    }
   ],
   "source": [
    "L"
   ]
  },
  {
   "cell_type": "code",
   "execution_count": 59,
   "id": "28a53d91",
   "metadata": {},
   "outputs": [
    {
     "data": {
      "text/plain": [
       "100"
      ]
     },
     "execution_count": 59,
     "metadata": {},
     "output_type": "execute_result"
    }
   ],
   "source": [
    "L.pop(4)"
   ]
  },
  {
   "cell_type": "code",
   "execution_count": 60,
   "id": "3a1d056d",
   "metadata": {},
   "outputs": [
    {
     "data": {
      "text/plain": [
       "[46, 'Banana', 789, 'Kiwi', 1200, 'Cherry', 500, 1000, 9]"
      ]
     },
     "execution_count": 60,
     "metadata": {},
     "output_type": "execute_result"
    }
   ],
   "source": [
    "L"
   ]
  },
  {
   "cell_type": "code",
   "execution_count": 61,
   "id": "1ef85641",
   "metadata": {},
   "outputs": [
    {
     "data": {
      "text/plain": [
       "789"
      ]
     },
     "execution_count": 61,
     "metadata": {},
     "output_type": "execute_result"
    }
   ],
   "source": [
    "L.pop(2)"
   ]
  },
  {
   "cell_type": "code",
   "execution_count": 62,
   "id": "cc95f5cd",
   "metadata": {},
   "outputs": [
    {
     "data": {
      "text/plain": [
       "[46, 'Banana', 'Kiwi', 1200, 'Cherry', 500, 1000, 9]"
      ]
     },
     "execution_count": 62,
     "metadata": {},
     "output_type": "execute_result"
    }
   ],
   "source": [
    "L"
   ]
  },
  {
   "cell_type": "code",
   "execution_count": 63,
   "id": "f75e8663",
   "metadata": {},
   "outputs": [],
   "source": [
    "# reverse()"
   ]
  },
  {
   "cell_type": "code",
   "execution_count": 64,
   "id": "ff8f8b30",
   "metadata": {},
   "outputs": [],
   "source": [
    "L.reverse()"
   ]
  },
  {
   "cell_type": "code",
   "execution_count": 65,
   "id": "d5f5f51f",
   "metadata": {},
   "outputs": [
    {
     "data": {
      "text/plain": [
       "[9, 1000, 500, 'Cherry', 1200, 'Kiwi', 'Banana', 46]"
      ]
     },
     "execution_count": 65,
     "metadata": {},
     "output_type": "execute_result"
    }
   ],
   "source": [
    "L"
   ]
  },
  {
   "cell_type": "code",
   "execution_count": 66,
   "id": "d746629f",
   "metadata": {},
   "outputs": [],
   "source": [
    "#index()- returns index of given item"
   ]
  },
  {
   "cell_type": "code",
   "execution_count": 67,
   "id": "f23bf205",
   "metadata": {},
   "outputs": [
    {
     "data": {
      "text/plain": [
       "3"
      ]
     },
     "execution_count": 67,
     "metadata": {},
     "output_type": "execute_result"
    }
   ],
   "source": [
    "L.index('Cherry')"
   ]
  },
  {
   "cell_type": "code",
   "execution_count": 68,
   "id": "332fffed",
   "metadata": {},
   "outputs": [
    {
     "data": {
      "text/plain": [
       "1"
      ]
     },
     "execution_count": 68,
     "metadata": {},
     "output_type": "execute_result"
    }
   ],
   "source": [
    "L.index(1000)"
   ]
  },
  {
   "cell_type": "code",
   "execution_count": 69,
   "id": "fac9fef9",
   "metadata": {},
   "outputs": [],
   "source": [
    "#count() - returns a number (no of occurances of given item)"
   ]
  },
  {
   "cell_type": "code",
   "execution_count": 70,
   "id": "40bdbbe9",
   "metadata": {},
   "outputs": [
    {
     "data": {
      "text/plain": [
       "[9, 1000, 500, 'Cherry', 1200, 'Kiwi', 'Banana', 46]"
      ]
     },
     "execution_count": 70,
     "metadata": {},
     "output_type": "execute_result"
    }
   ],
   "source": [
    "L"
   ]
  },
  {
   "cell_type": "code",
   "execution_count": 71,
   "id": "0c982121",
   "metadata": {},
   "outputs": [],
   "source": [
    "L.append('Banana')"
   ]
  },
  {
   "cell_type": "code",
   "execution_count": 72,
   "id": "9519d5c5",
   "metadata": {},
   "outputs": [
    {
     "data": {
      "text/plain": [
       "[9, 1000, 500, 'Cherry', 1200, 'Kiwi', 'Banana', 46, 'Banana']"
      ]
     },
     "execution_count": 72,
     "metadata": {},
     "output_type": "execute_result"
    }
   ],
   "source": [
    "L"
   ]
  },
  {
   "cell_type": "code",
   "execution_count": 73,
   "id": "e561ec7c",
   "metadata": {},
   "outputs": [
    {
     "data": {
      "text/plain": [
       "2"
      ]
     },
     "execution_count": 73,
     "metadata": {},
     "output_type": "execute_result"
    }
   ],
   "source": [
    "L.count('Banana')"
   ]
  },
  {
   "cell_type": "code",
   "execution_count": 74,
   "id": "6f3fb57e",
   "metadata": {},
   "outputs": [
    {
     "data": {
      "text/plain": [
       "1"
      ]
     },
     "execution_count": 74,
     "metadata": {},
     "output_type": "execute_result"
    }
   ],
   "source": [
    "L.count(9)"
   ]
  },
  {
   "cell_type": "code",
   "execution_count": 75,
   "id": "f7274f9a",
   "metadata": {},
   "outputs": [
    {
     "data": {
      "text/plain": [
       "1"
      ]
     },
     "execution_count": 75,
     "metadata": {},
     "output_type": "execute_result"
    }
   ],
   "source": [
    "L.count(1000)"
   ]
  },
  {
   "cell_type": "code",
   "execution_count": 76,
   "id": "6f2ecbe9",
   "metadata": {},
   "outputs": [
    {
     "data": {
      "text/plain": [
       "[9, 1000, 500, 'Cherry', 1200, 'Kiwi', 'Banana', 46, 'Banana']"
      ]
     },
     "execution_count": 76,
     "metadata": {},
     "output_type": "execute_result"
    }
   ],
   "source": [
    "L"
   ]
  },
  {
   "cell_type": "code",
   "execution_count": 77,
   "id": "04777874",
   "metadata": {},
   "outputs": [],
   "source": [
    "#copy() - copies a list to another variable"
   ]
  },
  {
   "cell_type": "code",
   "execution_count": 79,
   "id": "2ebcf177",
   "metadata": {},
   "outputs": [],
   "source": [
    "L2 = L.copy()"
   ]
  },
  {
   "cell_type": "code",
   "execution_count": 80,
   "id": "393ae995",
   "metadata": {},
   "outputs": [
    {
     "data": {
      "text/plain": [
       "[9, 1000, 500, 'Cherry', 1200, 'Kiwi', 'Banana', 46, 'Banana']"
      ]
     },
     "execution_count": 80,
     "metadata": {},
     "output_type": "execute_result"
    }
   ],
   "source": [
    "L2"
   ]
  },
  {
   "cell_type": "code",
   "execution_count": 81,
   "id": "b1e89c5e",
   "metadata": {},
   "outputs": [
    {
     "data": {
      "text/plain": [
       "[9, 1000, 500, 'Cherry', 1200, 'Kiwi', 'Banana', 46, 'Banana']"
      ]
     },
     "execution_count": 81,
     "metadata": {},
     "output_type": "execute_result"
    }
   ],
   "source": [
    "L"
   ]
  },
  {
   "cell_type": "code",
   "execution_count": 82,
   "id": "6412434e",
   "metadata": {},
   "outputs": [],
   "source": [
    "#list addition"
   ]
  },
  {
   "cell_type": "code",
   "execution_count": 83,
   "id": "36e0d6d2",
   "metadata": {},
   "outputs": [],
   "source": [
    "L1 = [12,45,67,89,23]\n",
    "L2 = [45,78,96,90,45]"
   ]
  },
  {
   "cell_type": "code",
   "execution_count": 84,
   "id": "7dbb6420",
   "metadata": {},
   "outputs": [
    {
     "data": {
      "text/plain": [
       "[12, 45, 67, 89, 23]"
      ]
     },
     "execution_count": 84,
     "metadata": {},
     "output_type": "execute_result"
    }
   ],
   "source": [
    "L1"
   ]
  },
  {
   "cell_type": "code",
   "execution_count": 85,
   "id": "68871ef3",
   "metadata": {},
   "outputs": [
    {
     "data": {
      "text/plain": [
       "[45, 78, 96, 90, 45]"
      ]
     },
     "execution_count": 85,
     "metadata": {},
     "output_type": "execute_result"
    }
   ],
   "source": [
    "L2"
   ]
  },
  {
   "cell_type": "code",
   "execution_count": 86,
   "id": "52861c79",
   "metadata": {},
   "outputs": [
    {
     "data": {
      "text/plain": [
       "[12, 45, 67, 89, 23, 45, 78, 96, 90, 45]"
      ]
     },
     "execution_count": 86,
     "metadata": {},
     "output_type": "execute_result"
    }
   ],
   "source": [
    "L1+L2"
   ]
  },
  {
   "cell_type": "code",
   "execution_count": 87,
   "id": "22bae1ea",
   "metadata": {},
   "outputs": [],
   "source": [
    "# loop through a list"
   ]
  },
  {
   "cell_type": "code",
   "execution_count": 88,
   "id": "178f92bb",
   "metadata": {},
   "outputs": [
    {
     "name": "stdout",
     "output_type": "stream",
     "text": [
      "9\n",
      "1000\n",
      "500\n",
      "Cherry\n",
      "1200\n",
      "Kiwi\n",
      "Banana\n",
      "46\n",
      "Banana\n"
     ]
    }
   ],
   "source": [
    "for i in L:\n",
    "    print(i)"
   ]
  },
  {
   "cell_type": "code",
   "execution_count": 89,
   "id": "a9e1a7f4",
   "metadata": {},
   "outputs": [
    {
     "name": "stdout",
     "output_type": "stream",
     "text": [
      "Banana\n",
      "46\n",
      "Banana\n",
      "Kiwi\n",
      "1200\n",
      "Cherry\n",
      "500\n",
      "1000\n",
      "9\n"
     ]
    }
   ],
   "source": [
    "for i in L[::-1]:\n",
    "    print(i)"
   ]
  },
  {
   "cell_type": "code",
   "execution_count": 91,
   "id": "6e38959b",
   "metadata": {},
   "outputs": [
    {
     "name": "stdout",
     "output_type": "stream",
     "text": [
      "9\n",
      "1000\n",
      "500\n"
     ]
    }
   ],
   "source": [
    "for i in L:\n",
    "    if i == 'Cherry':\n",
    "        break\n",
    "    print(i)"
   ]
  },
  {
   "cell_type": "code",
   "execution_count": 92,
   "id": "3c7b5abc",
   "metadata": {},
   "outputs": [],
   "source": [
    "L.reverse()"
   ]
  },
  {
   "cell_type": "code",
   "execution_count": 93,
   "id": "552d3593",
   "metadata": {},
   "outputs": [
    {
     "name": "stdout",
     "output_type": "stream",
     "text": [
      "Banana\n",
      "46\n",
      "Banana\n",
      "Kiwi\n",
      "1200\n"
     ]
    }
   ],
   "source": [
    "for i in L:\n",
    "    if i == 'Cherry':\n",
    "        break\n",
    "    print(i)"
   ]
  },
  {
   "cell_type": "code",
   "execution_count": 94,
   "id": "e50c8551",
   "metadata": {},
   "outputs": [
    {
     "data": {
      "text/plain": [
       "['Banana', 46, 'Banana', 'Kiwi', 1200, 'Cherry', 500, 1000, 9]"
      ]
     },
     "execution_count": 94,
     "metadata": {},
     "output_type": "execute_result"
    }
   ],
   "source": [
    "L"
   ]
  },
  {
   "cell_type": "code",
   "execution_count": 95,
   "id": "dba1bb77",
   "metadata": {},
   "outputs": [],
   "source": [
    "# loop through a list and print all items of a list except 'Kiwi'"
   ]
  },
  {
   "cell_type": "code",
   "execution_count": 96,
   "id": "4a8e2a89",
   "metadata": {},
   "outputs": [],
   "source": [
    "L = [23,56,78,90,45,36,79,23,67,89]"
   ]
  },
  {
   "cell_type": "code",
   "execution_count": 97,
   "id": "fee84fa2",
   "metadata": {},
   "outputs": [],
   "source": [
    "# w.a.p to add 4th element to 6th element in a given list L"
   ]
  },
  {
   "cell_type": "code",
   "execution_count": 98,
   "id": "3f6e6f80",
   "metadata": {},
   "outputs": [
    {
     "data": {
      "text/plain": [
       "[23, 56, 78, 90, 45, 36, 79, 23, 67, 89]"
      ]
     },
     "execution_count": 98,
     "metadata": {},
     "output_type": "execute_result"
    }
   ],
   "source": [
    "L"
   ]
  },
  {
   "cell_type": "code",
   "execution_count": 101,
   "id": "b16fcba2",
   "metadata": {},
   "outputs": [
    {
     "name": "stdout",
     "output_type": "stream",
     "text": [
      "586\n"
     ]
    }
   ],
   "source": [
    "sum = 0\n",
    "for i in L:\n",
    "    sum = sum +i\n",
    "print(sum)"
   ]
  },
  {
   "cell_type": "code",
   "execution_count": 102,
   "id": "45d3b710",
   "metadata": {},
   "outputs": [],
   "source": [
    "L = [34,67,88,89,45,34,22,11,12,78,99,54]"
   ]
  },
  {
   "cell_type": "code",
   "execution_count": 103,
   "id": "e5f067a5",
   "metadata": {},
   "outputs": [],
   "source": [
    "a = 'python programming is good program'"
   ]
  },
  {
   "cell_type": "code",
   "execution_count": 104,
   "id": "d93d7d4a",
   "metadata": {},
   "outputs": [
    {
     "data": {
      "text/plain": [
       "['python', 'programming', 'is', 'good', 'program']"
      ]
     },
     "execution_count": 104,
     "metadata": {},
     "output_type": "execute_result"
    }
   ],
   "source": [
    "a.split()"
   ]
  },
  {
   "cell_type": "code",
   "execution_count": 105,
   "id": "c377bc98",
   "metadata": {},
   "outputs": [],
   "source": [
    "L= a.split()"
   ]
  },
  {
   "cell_type": "code",
   "execution_count": 106,
   "id": "985efc54",
   "metadata": {},
   "outputs": [
    {
     "data": {
      "text/plain": [
       "['python', 'programming', 'is', 'good', 'program']"
      ]
     },
     "execution_count": 106,
     "metadata": {},
     "output_type": "execute_result"
    }
   ],
   "source": [
    "L"
   ]
  },
  {
   "cell_type": "code",
   "execution_count": 107,
   "id": "7b2101e5",
   "metadata": {},
   "outputs": [
    {
     "name": "stdout",
     "output_type": "stream",
     "text": [
      "python\n",
      "programming\n",
      "program\n"
     ]
    }
   ],
   "source": [
    "for i in L:\n",
    "    if i.startswith('p') == True:\n",
    "        print(i)"
   ]
  },
  {
   "cell_type": "code",
   "execution_count": 108,
   "id": "dcb18a4c",
   "metadata": {},
   "outputs": [
    {
     "data": {
      "text/plain": [
       "'python programming is good program'"
      ]
     },
     "execution_count": 108,
     "metadata": {},
     "output_type": "execute_result"
    }
   ],
   "source": [
    "a"
   ]
  },
  {
   "cell_type": "code",
   "execution_count": 109,
   "id": "94ccdf30",
   "metadata": {},
   "outputs": [],
   "source": [
    "a = a.lower()"
   ]
  },
  {
   "cell_type": "code",
   "execution_count": 112,
   "id": "069bb622",
   "metadata": {},
   "outputs": [],
   "source": [
    "a = 'Python Programming is good program'"
   ]
  },
  {
   "cell_type": "code",
   "execution_count": 113,
   "id": "a882cf1c",
   "metadata": {},
   "outputs": [
    {
     "name": "stdout",
     "output_type": "stream",
     "text": [
      "python\n",
      "programming\n",
      "program\n"
     ]
    }
   ],
   "source": [
    "for i in L:\n",
    "    if i.startswith('p') or i.startswith('P')  == True:\n",
    "        print(i)"
   ]
  },
  {
   "cell_type": "code",
   "execution_count": 114,
   "id": "51f73c9e",
   "metadata": {},
   "outputs": [
    {
     "data": {
      "text/plain": [
       "'Python Programming is good program'"
      ]
     },
     "execution_count": 114,
     "metadata": {},
     "output_type": "execute_result"
    }
   ],
   "source": [
    "a"
   ]
  },
  {
   "cell_type": "code",
   "execution_count": 115,
   "id": "b6d9a8cf",
   "metadata": {},
   "outputs": [
    {
     "data": {
      "text/plain": [
       "'python programming is good program'"
      ]
     },
     "execution_count": 115,
     "metadata": {},
     "output_type": "execute_result"
    }
   ],
   "source": [
    "a.lower()"
   ]
  },
  {
   "cell_type": "code",
   "execution_count": 116,
   "id": "be1ea7d8",
   "metadata": {},
   "outputs": [
    {
     "name": "stdout",
     "output_type": "stream",
     "text": [
      "python\n",
      "programming\n",
      "program\n"
     ]
    }
   ],
   "source": [
    "for i in L:\n",
    "    if i.startswith('p') == True:\n",
    "        print(i)"
   ]
  },
  {
   "cell_type": "markdown",
   "id": "b5583651",
   "metadata": {},
   "source": [
    "# Day-8"
   ]
  },
  {
   "cell_type": "code",
   "execution_count": 1,
   "id": "ced6adb5",
   "metadata": {},
   "outputs": [],
   "source": [
    "L = [34,56,78,90,23,45]"
   ]
  },
  {
   "cell_type": "code",
   "execution_count": 2,
   "id": "4b14e14c",
   "metadata": {},
   "outputs": [
    {
     "data": {
      "text/plain": [
       "[34, 56, 78, 90, 23, 45]"
      ]
     },
     "execution_count": 2,
     "metadata": {},
     "output_type": "execute_result"
    }
   ],
   "source": [
    "L"
   ]
  },
  {
   "cell_type": "code",
   "execution_count": 3,
   "id": "625975b6",
   "metadata": {},
   "outputs": [],
   "source": [
    "# delete a list"
   ]
  },
  {
   "cell_type": "code",
   "execution_count": 4,
   "id": "892daf1c",
   "metadata": {},
   "outputs": [],
   "source": [
    "del L"
   ]
  },
  {
   "cell_type": "code",
   "execution_count": 5,
   "id": "db1108c7",
   "metadata": {},
   "outputs": [
    {
     "ename": "NameError",
     "evalue": "name 'L' is not defined",
     "output_type": "error",
     "traceback": [
      "\u001b[1;31m---------------------------------------------------------------------------\u001b[0m",
      "\u001b[1;31mNameError\u001b[0m                                 Traceback (most recent call last)",
      "\u001b[1;32m<ipython-input-5-a9dfae9159c1>\u001b[0m in \u001b[0;36m<module>\u001b[1;34m\u001b[0m\n\u001b[1;32m----> 1\u001b[1;33m \u001b[0mL\u001b[0m\u001b[1;33m\u001b[0m\u001b[1;33m\u001b[0m\u001b[0m\n\u001b[0m",
      "\u001b[1;31mNameError\u001b[0m: name 'L' is not defined"
     ]
    }
   ],
   "source": [
    "L"
   ]
  },
  {
   "cell_type": "code",
   "execution_count": 6,
   "id": "2b5c1b79",
   "metadata": {},
   "outputs": [],
   "source": [
    "L1 = [34,56,78,90,23,45]"
   ]
  },
  {
   "cell_type": "code",
   "execution_count": 7,
   "id": "16765073",
   "metadata": {},
   "outputs": [
    {
     "data": {
      "text/plain": [
       "[34, 56, 78, 90, 23, 45]"
      ]
     },
     "execution_count": 7,
     "metadata": {},
     "output_type": "execute_result"
    }
   ],
   "source": [
    "L1"
   ]
  },
  {
   "cell_type": "code",
   "execution_count": 8,
   "id": "c50901c7",
   "metadata": {},
   "outputs": [],
   "source": [
    "L1.clear()"
   ]
  },
  {
   "cell_type": "code",
   "execution_count": 9,
   "id": "7a7bd66d",
   "metadata": {},
   "outputs": [
    {
     "data": {
      "text/plain": [
       "[]"
      ]
     },
     "execution_count": 9,
     "metadata": {},
     "output_type": "execute_result"
    }
   ],
   "source": [
    "L1"
   ]
  },
  {
   "cell_type": "code",
   "execution_count": 10,
   "id": "a3f18e25",
   "metadata": {},
   "outputs": [
    {
     "data": {
      "text/plain": [
       "[]"
      ]
     },
     "execution_count": 10,
     "metadata": {},
     "output_type": "execute_result"
    }
   ],
   "source": [
    "L1"
   ]
  },
  {
   "cell_type": "code",
   "execution_count": 11,
   "id": "456899a2",
   "metadata": {},
   "outputs": [],
   "source": [
    "L1 = [34,56,78,90,23,45]"
   ]
  },
  {
   "cell_type": "code",
   "execution_count": 15,
   "id": "f5234f15",
   "metadata": {},
   "outputs": [],
   "source": [
    "L1.sort()"
   ]
  },
  {
   "cell_type": "code",
   "execution_count": 16,
   "id": "19b8a2b5",
   "metadata": {},
   "outputs": [
    {
     "data": {
      "text/plain": [
       "[90, 78, 56, 45, 34, 23]"
      ]
     },
     "execution_count": 16,
     "metadata": {},
     "output_type": "execute_result"
    }
   ],
   "source": [
    "L1[::-1]"
   ]
  },
  {
   "cell_type": "code",
   "execution_count": 17,
   "id": "7be244a4",
   "metadata": {},
   "outputs": [],
   "source": [
    "L1.reverse()"
   ]
  },
  {
   "cell_type": "code",
   "execution_count": 18,
   "id": "42c03667",
   "metadata": {},
   "outputs": [
    {
     "data": {
      "text/plain": [
       "[90, 78, 56, 45, 34, 23]"
      ]
     },
     "execution_count": 18,
     "metadata": {},
     "output_type": "execute_result"
    }
   ],
   "source": [
    "L1"
   ]
  },
  {
   "cell_type": "code",
   "execution_count": 19,
   "id": "bac539e6",
   "metadata": {},
   "outputs": [],
   "source": [
    "L2 = ['kiwi','mango','banana','apple']"
   ]
  },
  {
   "cell_type": "code",
   "execution_count": 20,
   "id": "251786ec",
   "metadata": {},
   "outputs": [
    {
     "data": {
      "text/plain": [
       "['kiwi', 'mango', 'banana', 'apple']"
      ]
     },
     "execution_count": 20,
     "metadata": {},
     "output_type": "execute_result"
    }
   ],
   "source": [
    "L2"
   ]
  },
  {
   "cell_type": "code",
   "execution_count": 21,
   "id": "59045703",
   "metadata": {},
   "outputs": [],
   "source": [
    "L2.sort()"
   ]
  },
  {
   "cell_type": "code",
   "execution_count": 22,
   "id": "23a5ef3c",
   "metadata": {},
   "outputs": [
    {
     "data": {
      "text/plain": [
       "['apple', 'banana', 'kiwi', 'mango']"
      ]
     },
     "execution_count": 22,
     "metadata": {},
     "output_type": "execute_result"
    }
   ],
   "source": [
    "L2"
   ]
  },
  {
   "cell_type": "code",
   "execution_count": 23,
   "id": "9dfef541",
   "metadata": {},
   "outputs": [],
   "source": [
    "L2.append('bracoli')"
   ]
  },
  {
   "cell_type": "code",
   "execution_count": 24,
   "id": "ebc334f6",
   "metadata": {},
   "outputs": [
    {
     "data": {
      "text/plain": [
       "['apple', 'banana', 'kiwi', 'mango', 'bracoli']"
      ]
     },
     "execution_count": 24,
     "metadata": {},
     "output_type": "execute_result"
    }
   ],
   "source": [
    "L2"
   ]
  },
  {
   "cell_type": "code",
   "execution_count": 25,
   "id": "b378abbb",
   "metadata": {},
   "outputs": [],
   "source": [
    "L2.sort()"
   ]
  },
  {
   "cell_type": "code",
   "execution_count": 26,
   "id": "4d381867",
   "metadata": {},
   "outputs": [
    {
     "data": {
      "text/plain": [
       "['apple', 'banana', 'bracoli', 'kiwi', 'mango']"
      ]
     },
     "execution_count": 26,
     "metadata": {},
     "output_type": "execute_result"
    }
   ],
   "source": [
    "L2"
   ]
  },
  {
   "cell_type": "code",
   "execution_count": 27,
   "id": "f9f989f2",
   "metadata": {},
   "outputs": [],
   "source": [
    "L3 = ['satya',56,90,45,'apple','banana','kiwi',500]"
   ]
  },
  {
   "cell_type": "code",
   "execution_count": 28,
   "id": "ce125135",
   "metadata": {},
   "outputs": [
    {
     "ename": "TypeError",
     "evalue": "'<' not supported between instances of 'int' and 'str'",
     "output_type": "error",
     "traceback": [
      "\u001b[1;31m---------------------------------------------------------------------------\u001b[0m",
      "\u001b[1;31mTypeError\u001b[0m                                 Traceback (most recent call last)",
      "\u001b[1;32m<ipython-input-28-462be411e6f9>\u001b[0m in \u001b[0;36m<module>\u001b[1;34m\u001b[0m\n\u001b[1;32m----> 1\u001b[1;33m \u001b[0mL3\u001b[0m\u001b[1;33m.\u001b[0m\u001b[0msort\u001b[0m\u001b[1;33m(\u001b[0m\u001b[1;33m)\u001b[0m\u001b[1;33m\u001b[0m\u001b[1;33m\u001b[0m\u001b[0m\n\u001b[0m",
      "\u001b[1;31mTypeError\u001b[0m: '<' not supported between instances of 'int' and 'str'"
     ]
    }
   ],
   "source": [
    "L3.sort()"
   ]
  },
  {
   "cell_type": "markdown",
   "id": "cdeb8d85",
   "metadata": {},
   "source": [
    "# tuple"
   ]
  },
  {
   "cell_type": "code",
   "execution_count": 29,
   "id": "a59b0b70",
   "metadata": {},
   "outputs": [],
   "source": [
    "#tuple - collection of items which are ordered(indexed) and immutable(unchangable)\n",
    "#we can not add/remove an item to/from a tuple\n",
    "# tuple items are enclosed with ()"
   ]
  },
  {
   "cell_type": "code",
   "execution_count": 30,
   "id": "4a8d029f",
   "metadata": {},
   "outputs": [],
   "source": [
    "T = ('apple','banana','mango','kiwi','grapes')"
   ]
  },
  {
   "cell_type": "code",
   "execution_count": 31,
   "id": "f1480800",
   "metadata": {},
   "outputs": [
    {
     "data": {
      "text/plain": [
       "('apple', 'banana', 'mango', 'kiwi', 'grapes')"
      ]
     },
     "execution_count": 31,
     "metadata": {},
     "output_type": "execute_result"
    }
   ],
   "source": [
    "T"
   ]
  },
  {
   "cell_type": "code",
   "execution_count": 32,
   "id": "4296fab5",
   "metadata": {},
   "outputs": [],
   "source": [
    "# accesing tuple items"
   ]
  },
  {
   "cell_type": "code",
   "execution_count": 33,
   "id": "e3829d3f",
   "metadata": {},
   "outputs": [
    {
     "data": {
      "text/plain": [
       "'apple'"
      ]
     },
     "execution_count": 33,
     "metadata": {},
     "output_type": "execute_result"
    }
   ],
   "source": [
    "T[0]"
   ]
  },
  {
   "cell_type": "code",
   "execution_count": 34,
   "id": "462ac285",
   "metadata": {},
   "outputs": [
    {
     "data": {
      "text/plain": [
       "'banana'"
      ]
     },
     "execution_count": 34,
     "metadata": {},
     "output_type": "execute_result"
    }
   ],
   "source": [
    "T[1]"
   ]
  },
  {
   "cell_type": "code",
   "execution_count": 35,
   "id": "546c5362",
   "metadata": {},
   "outputs": [
    {
     "data": {
      "text/plain": [
       "'mango'"
      ]
     },
     "execution_count": 35,
     "metadata": {},
     "output_type": "execute_result"
    }
   ],
   "source": [
    "T[2]"
   ]
  },
  {
   "cell_type": "code",
   "execution_count": 36,
   "id": "33f91d52",
   "metadata": {},
   "outputs": [
    {
     "data": {
      "text/plain": [
       "('apple', 'banana', 'mango')"
      ]
     },
     "execution_count": 36,
     "metadata": {},
     "output_type": "execute_result"
    }
   ],
   "source": [
    "T[0:3]"
   ]
  },
  {
   "cell_type": "code",
   "execution_count": 37,
   "id": "efb697eb",
   "metadata": {},
   "outputs": [
    {
     "data": {
      "text/plain": [
       "('apple', 'banana', 'mango', 'kiwi')"
      ]
     },
     "execution_count": 37,
     "metadata": {},
     "output_type": "execute_result"
    }
   ],
   "source": [
    "T[0:4]"
   ]
  },
  {
   "cell_type": "code",
   "execution_count": 38,
   "id": "6cd1b184",
   "metadata": {},
   "outputs": [
    {
     "data": {
      "text/plain": [
       "'grapes'"
      ]
     },
     "execution_count": 38,
     "metadata": {},
     "output_type": "execute_result"
    }
   ],
   "source": [
    "T[-1]"
   ]
  },
  {
   "cell_type": "code",
   "execution_count": 39,
   "id": "823529e7",
   "metadata": {},
   "outputs": [
    {
     "data": {
      "text/plain": [
       "'kiwi'"
      ]
     },
     "execution_count": 39,
     "metadata": {},
     "output_type": "execute_result"
    }
   ],
   "source": [
    "T[-2]"
   ]
  },
  {
   "cell_type": "code",
   "execution_count": 40,
   "id": "23a417e0",
   "metadata": {},
   "outputs": [
    {
     "data": {
      "text/plain": [
       "('apple', 'banana', 'mango', 'kiwi', 'grapes')"
      ]
     },
     "execution_count": 40,
     "metadata": {},
     "output_type": "execute_result"
    }
   ],
   "source": [
    "T"
   ]
  },
  {
   "cell_type": "code",
   "execution_count": 41,
   "id": "61ab061f",
   "metadata": {},
   "outputs": [],
   "source": [
    "L = list(T)"
   ]
  },
  {
   "cell_type": "code",
   "execution_count": 42,
   "id": "20decfc6",
   "metadata": {},
   "outputs": [
    {
     "data": {
      "text/plain": [
       "['apple', 'banana', 'mango', 'kiwi', 'grapes']"
      ]
     },
     "execution_count": 42,
     "metadata": {},
     "output_type": "execute_result"
    }
   ],
   "source": [
    "L"
   ]
  },
  {
   "cell_type": "code",
   "execution_count": 43,
   "id": "23852b61",
   "metadata": {},
   "outputs": [],
   "source": [
    "L.append(100)"
   ]
  },
  {
   "cell_type": "code",
   "execution_count": 44,
   "id": "f45b6a7e",
   "metadata": {},
   "outputs": [
    {
     "data": {
      "text/plain": [
       "['apple', 'banana', 'mango', 'kiwi', 'grapes', 100]"
      ]
     },
     "execution_count": 44,
     "metadata": {},
     "output_type": "execute_result"
    }
   ],
   "source": [
    "L"
   ]
  },
  {
   "cell_type": "code",
   "execution_count": 45,
   "id": "3fb3494e",
   "metadata": {},
   "outputs": [],
   "source": [
    "T = tuple(L)"
   ]
  },
  {
   "cell_type": "code",
   "execution_count": 46,
   "id": "7f00b987",
   "metadata": {},
   "outputs": [
    {
     "data": {
      "text/plain": [
       "('apple', 'banana', 'mango', 'kiwi', 'grapes', 100)"
      ]
     },
     "execution_count": 46,
     "metadata": {},
     "output_type": "execute_result"
    }
   ],
   "source": [
    "T"
   ]
  },
  {
   "cell_type": "code",
   "execution_count": 47,
   "id": "82fb3c93",
   "metadata": {},
   "outputs": [
    {
     "data": {
      "text/plain": [
       "tuple"
      ]
     },
     "execution_count": 47,
     "metadata": {},
     "output_type": "execute_result"
    }
   ],
   "source": [
    "type(T)"
   ]
  },
  {
   "cell_type": "code",
   "execution_count": 48,
   "id": "1536c243",
   "metadata": {},
   "outputs": [],
   "source": [
    "# loop through a tuple"
   ]
  },
  {
   "cell_type": "code",
   "execution_count": 49,
   "id": "43a9ad94",
   "metadata": {},
   "outputs": [
    {
     "name": "stdout",
     "output_type": "stream",
     "text": [
      "apple\n",
      "banana\n",
      "mango\n",
      "kiwi\n",
      "grapes\n",
      "100\n"
     ]
    }
   ],
   "source": [
    "for i in T:\n",
    "    print(i)"
   ]
  },
  {
   "cell_type": "code",
   "execution_count": 50,
   "id": "f13b2f2f",
   "metadata": {},
   "outputs": [
    {
     "name": "stdout",
     "output_type": "stream",
     "text": [
      "100\n",
      "grapes\n",
      "kiwi\n",
      "mango\n",
      "banana\n",
      "apple\n"
     ]
    }
   ],
   "source": [
    "for i in T[::-1]:\n",
    "    print(i)"
   ]
  },
  {
   "cell_type": "code",
   "execution_count": 51,
   "id": "d3ac61f4",
   "metadata": {},
   "outputs": [],
   "source": [
    "#count()"
   ]
  },
  {
   "cell_type": "code",
   "execution_count": 52,
   "id": "21ce43b1",
   "metadata": {},
   "outputs": [
    {
     "data": {
      "text/plain": [
       "1"
      ]
     },
     "execution_count": 52,
     "metadata": {},
     "output_type": "execute_result"
    }
   ],
   "source": [
    "T.count(100)"
   ]
  },
  {
   "cell_type": "code",
   "execution_count": 53,
   "id": "68c20bd5",
   "metadata": {},
   "outputs": [],
   "source": [
    "#index() - returns index of a given item"
   ]
  },
  {
   "cell_type": "code",
   "execution_count": 54,
   "id": "99b58b38",
   "metadata": {},
   "outputs": [
    {
     "data": {
      "text/plain": [
       "('apple', 'banana', 'mango', 'kiwi', 'grapes', 100)"
      ]
     },
     "execution_count": 54,
     "metadata": {},
     "output_type": "execute_result"
    }
   ],
   "source": [
    "T"
   ]
  },
  {
   "cell_type": "code",
   "execution_count": 55,
   "id": "2c2fd548",
   "metadata": {},
   "outputs": [
    {
     "data": {
      "text/plain": [
       "1"
      ]
     },
     "execution_count": 55,
     "metadata": {},
     "output_type": "execute_result"
    }
   ],
   "source": [
    "T.index('banana')"
   ]
  },
  {
   "cell_type": "code",
   "execution_count": 56,
   "id": "cb647864",
   "metadata": {},
   "outputs": [
    {
     "data": {
      "text/plain": [
       "True"
      ]
     },
     "execution_count": 56,
     "metadata": {},
     "output_type": "execute_result"
    }
   ],
   "source": [
    "'mango' in T"
   ]
  },
  {
   "cell_type": "code",
   "execution_count": 57,
   "id": "1b5cf07f",
   "metadata": {},
   "outputs": [],
   "source": [
    "#deleting a tuple"
   ]
  },
  {
   "cell_type": "code",
   "execution_count": 58,
   "id": "fed17cea",
   "metadata": {},
   "outputs": [],
   "source": [
    "del T"
   ]
  },
  {
   "cell_type": "code",
   "execution_count": 59,
   "id": "526b02ce",
   "metadata": {},
   "outputs": [
    {
     "ename": "NameError",
     "evalue": "name 'T' is not defined",
     "output_type": "error",
     "traceback": [
      "\u001b[1;31m---------------------------------------------------------------------------\u001b[0m",
      "\u001b[1;31mNameError\u001b[0m                                 Traceback (most recent call last)",
      "\u001b[1;32m<ipython-input-59-29704cb91324>\u001b[0m in \u001b[0;36m<module>\u001b[1;34m\u001b[0m\n\u001b[1;32m----> 1\u001b[1;33m \u001b[0mT\u001b[0m\u001b[1;33m\u001b[0m\u001b[1;33m\u001b[0m\u001b[0m\n\u001b[0m",
      "\u001b[1;31mNameError\u001b[0m: name 'T' is not defined"
     ]
    }
   ],
   "source": [
    "T"
   ]
  },
  {
   "cell_type": "markdown",
   "id": "fa51a5f9",
   "metadata": {},
   "source": [
    "# Sets"
   ]
  },
  {
   "cell_type": "code",
   "execution_count": 60,
   "id": "8499afa3",
   "metadata": {},
   "outputs": [],
   "source": [
    "#set() - collection of items which are unordered( no index to items) and mutable\n",
    "#set items are enclosed with {}"
   ]
  },
  {
   "cell_type": "code",
   "execution_count": 61,
   "id": "64a0afea",
   "metadata": {},
   "outputs": [],
   "source": [
    "S = {1,2,3,4,5,6,7,8,'satya','apple','banana'}"
   ]
  },
  {
   "cell_type": "code",
   "execution_count": 62,
   "id": "61d2d4ca",
   "metadata": {},
   "outputs": [
    {
     "data": {
      "text/plain": [
       "{1, 2, 3, 4, 5, 6, 7, 8, 'apple', 'banana', 'satya'}"
      ]
     },
     "execution_count": 62,
     "metadata": {},
     "output_type": "execute_result"
    }
   ],
   "source": [
    "S"
   ]
  },
  {
   "cell_type": "code",
   "execution_count": 64,
   "id": "8c46327a",
   "metadata": {},
   "outputs": [
    {
     "name": "stdout",
     "output_type": "stream",
     "text": [
      "1\n",
      "2\n",
      "3\n",
      "4\n",
      "5\n",
      "6\n",
      "7\n",
      "8\n",
      "apple\n",
      "satya\n",
      "banana\n"
     ]
    }
   ],
   "source": [
    "for i in S:\n",
    "    print(i)"
   ]
  },
  {
   "cell_type": "code",
   "execution_count": 65,
   "id": "b9f6d09b",
   "metadata": {},
   "outputs": [],
   "source": [
    "# add an item to set"
   ]
  },
  {
   "cell_type": "code",
   "execution_count": 66,
   "id": "6d4e765d",
   "metadata": {},
   "outputs": [],
   "source": [
    "# add() - adds an item to a set"
   ]
  },
  {
   "cell_type": "code",
   "execution_count": 67,
   "id": "3e21ae9d",
   "metadata": {},
   "outputs": [],
   "source": [
    "S.add(100)"
   ]
  },
  {
   "cell_type": "code",
   "execution_count": 68,
   "id": "f8161f3c",
   "metadata": {},
   "outputs": [
    {
     "data": {
      "text/plain": [
       "{1, 100, 2, 3, 4, 5, 6, 7, 8, 'apple', 'banana', 'satya'}"
      ]
     },
     "execution_count": 68,
     "metadata": {},
     "output_type": "execute_result"
    }
   ],
   "source": [
    "S"
   ]
  },
  {
   "cell_type": "code",
   "execution_count": 69,
   "id": "98ac1cc8",
   "metadata": {},
   "outputs": [],
   "source": [
    "S.add('mango')"
   ]
  },
  {
   "cell_type": "code",
   "execution_count": 70,
   "id": "db1b6edb",
   "metadata": {},
   "outputs": [
    {
     "data": {
      "text/plain": [
       "{1, 100, 2, 3, 4, 5, 6, 7, 8, 'apple', 'banana', 'mango', 'satya'}"
      ]
     },
     "execution_count": 70,
     "metadata": {},
     "output_type": "execute_result"
    }
   ],
   "source": [
    "S"
   ]
  },
  {
   "cell_type": "code",
   "execution_count": 71,
   "id": "5aa431f6",
   "metadata": {},
   "outputs": [],
   "source": [
    "#adding multiple items to a set"
   ]
  },
  {
   "cell_type": "code",
   "execution_count": 72,
   "id": "b12d4bb9",
   "metadata": {},
   "outputs": [],
   "source": [
    "#update() - update a list "
   ]
  },
  {
   "cell_type": "code",
   "execution_count": 73,
   "id": "969f7bab",
   "metadata": {},
   "outputs": [],
   "source": [
    "S.update([12,45,67,900])"
   ]
  },
  {
   "cell_type": "code",
   "execution_count": 74,
   "id": "c890f2ae",
   "metadata": {},
   "outputs": [
    {
     "data": {
      "text/plain": [
       "{1,\n",
       " 100,\n",
       " 12,\n",
       " 2,\n",
       " 3,\n",
       " 4,\n",
       " 45,\n",
       " 5,\n",
       " 6,\n",
       " 67,\n",
       " 7,\n",
       " 8,\n",
       " 900,\n",
       " 'apple',\n",
       " 'banana',\n",
       " 'mango',\n",
       " 'satya'}"
      ]
     },
     "execution_count": 74,
     "metadata": {},
     "output_type": "execute_result"
    }
   ],
   "source": [
    "S"
   ]
  },
  {
   "cell_type": "code",
   "execution_count": 75,
   "id": "4a206a2b",
   "metadata": {},
   "outputs": [],
   "source": [
    "#remove an item from a set\n",
    "#remove()"
   ]
  },
  {
   "cell_type": "code",
   "execution_count": 76,
   "id": "691d7052",
   "metadata": {},
   "outputs": [],
   "source": [
    "S.remove('satya')"
   ]
  },
  {
   "cell_type": "code",
   "execution_count": 77,
   "id": "abb10665",
   "metadata": {},
   "outputs": [
    {
     "data": {
      "text/plain": [
       "{1, 100, 12, 2, 3, 4, 45, 5, 6, 67, 7, 8, 900, 'apple', 'banana', 'mango'}"
      ]
     },
     "execution_count": 77,
     "metadata": {},
     "output_type": "execute_result"
    }
   ],
   "source": [
    "S"
   ]
  },
  {
   "cell_type": "code",
   "execution_count": 78,
   "id": "e709e2fb",
   "metadata": {},
   "outputs": [],
   "source": [
    "S.remove(12)"
   ]
  },
  {
   "cell_type": "code",
   "execution_count": 79,
   "id": "efd02fdd",
   "metadata": {},
   "outputs": [
    {
     "data": {
      "text/plain": [
       "{1, 100, 2, 3, 4, 45, 5, 6, 67, 7, 8, 900, 'apple', 'banana', 'mango'}"
      ]
     },
     "execution_count": 79,
     "metadata": {},
     "output_type": "execute_result"
    }
   ],
   "source": [
    "S"
   ]
  },
  {
   "cell_type": "code",
   "execution_count": 80,
   "id": "db7863ca",
   "metadata": {},
   "outputs": [],
   "source": [
    "#discard () discards an item"
   ]
  },
  {
   "cell_type": "code",
   "execution_count": 81,
   "id": "250b55c6",
   "metadata": {},
   "outputs": [
    {
     "data": {
      "text/plain": [
       "{1, 100, 2, 3, 4, 45, 5, 6, 67, 7, 8, 900, 'apple', 'banana', 'mango'}"
      ]
     },
     "execution_count": 81,
     "metadata": {},
     "output_type": "execute_result"
    }
   ],
   "source": [
    "S"
   ]
  },
  {
   "cell_type": "code",
   "execution_count": 82,
   "id": "ee9f02e3",
   "metadata": {},
   "outputs": [],
   "source": [
    "S.discard('apple')"
   ]
  },
  {
   "cell_type": "code",
   "execution_count": 83,
   "id": "62c792b6",
   "metadata": {},
   "outputs": [
    {
     "data": {
      "text/plain": [
       "{1, 100, 2, 3, 4, 45, 5, 6, 67, 7, 8, 900, 'banana', 'mango'}"
      ]
     },
     "execution_count": 83,
     "metadata": {},
     "output_type": "execute_result"
    }
   ],
   "source": [
    "S"
   ]
  },
  {
   "cell_type": "code",
   "execution_count": 84,
   "id": "eca30a64",
   "metadata": {},
   "outputs": [
    {
     "ename": "KeyError",
     "evalue": "'apple'",
     "output_type": "error",
     "traceback": [
      "\u001b[1;31m---------------------------------------------------------------------------\u001b[0m",
      "\u001b[1;31mKeyError\u001b[0m                                  Traceback (most recent call last)",
      "\u001b[1;32m<ipython-input-84-ed650d3a2660>\u001b[0m in \u001b[0;36m<module>\u001b[1;34m\u001b[0m\n\u001b[1;32m----> 1\u001b[1;33m \u001b[0mS\u001b[0m\u001b[1;33m.\u001b[0m\u001b[0mremove\u001b[0m\u001b[1;33m(\u001b[0m\u001b[1;34m'apple'\u001b[0m\u001b[1;33m)\u001b[0m\u001b[1;33m\u001b[0m\u001b[1;33m\u001b[0m\u001b[0m\n\u001b[0m",
      "\u001b[1;31mKeyError\u001b[0m: 'apple'"
     ]
    }
   ],
   "source": [
    "S.remove('apple')"
   ]
  },
  {
   "cell_type": "code",
   "execution_count": 85,
   "id": "1e11ab3f",
   "metadata": {},
   "outputs": [],
   "source": [
    "S.discard('apple')"
   ]
  },
  {
   "cell_type": "code",
   "execution_count": 89,
   "id": "3450eb4b",
   "metadata": {},
   "outputs": [],
   "source": [
    "# adding sets\n",
    "S1 = {23,56,78,93}\n",
    "S2 = {'apple','banana','mango','kiwi',93}"
   ]
  },
  {
   "cell_type": "code",
   "execution_count": 90,
   "id": "66a7f63e",
   "metadata": {},
   "outputs": [
    {
     "data": {
      "text/plain": [
       "{23, 56, 78, 93}"
      ]
     },
     "execution_count": 90,
     "metadata": {},
     "output_type": "execute_result"
    }
   ],
   "source": [
    "S1"
   ]
  },
  {
   "cell_type": "code",
   "execution_count": 91,
   "id": "fcca6b96",
   "metadata": {},
   "outputs": [
    {
     "data": {
      "text/plain": [
       "{93, 'apple', 'banana', 'kiwi', 'mango'}"
      ]
     },
     "execution_count": 91,
     "metadata": {},
     "output_type": "execute_result"
    }
   ],
   "source": [
    "S2"
   ]
  },
  {
   "cell_type": "code",
   "execution_count": 92,
   "id": "b50e38a9",
   "metadata": {},
   "outputs": [],
   "source": [
    "# union() -"
   ]
  },
  {
   "cell_type": "code",
   "execution_count": 93,
   "id": "b65b808f",
   "metadata": {},
   "outputs": [
    {
     "data": {
      "text/plain": [
       "{23, 56, 78, 93, 'apple', 'banana', 'kiwi', 'mango'}"
      ]
     },
     "execution_count": 93,
     "metadata": {},
     "output_type": "execute_result"
    }
   ],
   "source": [
    "S1.union(S2)"
   ]
  },
  {
   "cell_type": "code",
   "execution_count": 94,
   "id": "e1bb4f3d",
   "metadata": {},
   "outputs": [
    {
     "data": {
      "text/plain": [
       "{23, 56, 78, 93, 'apple', 'banana', 'kiwi', 'mango'}"
      ]
     },
     "execution_count": 94,
     "metadata": {},
     "output_type": "execute_result"
    }
   ],
   "source": [
    "S2.union(S1)"
   ]
  },
  {
   "cell_type": "code",
   "execution_count": 95,
   "id": "68173fe2",
   "metadata": {},
   "outputs": [],
   "source": [
    "S3 ={45.78,90.56,34.78,23.67}"
   ]
  },
  {
   "cell_type": "code",
   "execution_count": 97,
   "id": "d589842a",
   "metadata": {},
   "outputs": [
    {
     "data": {
      "text/plain": [
       "{23,\n",
       " 23.67,\n",
       " 34.78,\n",
       " 45.78,\n",
       " 56,\n",
       " 78,\n",
       " 90.56,\n",
       " 93,\n",
       " 'apple',\n",
       " 'banana',\n",
       " 'kiwi',\n",
       " 'mango'}"
      ]
     },
     "execution_count": 97,
     "metadata": {},
     "output_type": "execute_result"
    }
   ],
   "source": [
    "S1.union(S2,S3)"
   ]
  },
  {
   "cell_type": "code",
   "execution_count": 98,
   "id": "35556ad9",
   "metadata": {},
   "outputs": [
    {
     "data": {
      "text/plain": [
       "True"
      ]
     },
     "execution_count": 98,
     "metadata": {},
     "output_type": "execute_result"
    }
   ],
   "source": [
    "'mango' in S2"
   ]
  },
  {
   "cell_type": "code",
   "execution_count": 99,
   "id": "c374fc1e",
   "metadata": {},
   "outputs": [],
   "source": [
    "#loop through a set"
   ]
  },
  {
   "cell_type": "code",
   "execution_count": 100,
   "id": "09cf2992",
   "metadata": {},
   "outputs": [
    {
     "name": "stdout",
     "output_type": "stream",
     "text": [
      "56\n",
      "93\n",
      "78\n",
      "23\n"
     ]
    }
   ],
   "source": [
    "for i in S1:\n",
    "    print(i)"
   ]
  },
  {
   "cell_type": "code",
   "execution_count": 101,
   "id": "613031a2",
   "metadata": {},
   "outputs": [],
   "source": [
    "L1 = [34,56,78,90]\n",
    "L2 = ['apple','banana','kiwi']"
   ]
  },
  {
   "cell_type": "code",
   "execution_count": 102,
   "id": "f112ea78",
   "metadata": {},
   "outputs": [
    {
     "data": {
      "text/plain": [
       "[34, 56, 78, 90, 'apple', 'banana', 'kiwi']"
      ]
     },
     "execution_count": 102,
     "metadata": {},
     "output_type": "execute_result"
    }
   ],
   "source": [
    "L1+L2"
   ]
  },
  {
   "cell_type": "code",
   "execution_count": 105,
   "id": "6f6059a4",
   "metadata": {},
   "outputs": [],
   "source": [
    "for i in L2:\n",
    "    L1.append(i)\n",
    "    if i == 'banana':\n",
    "        break\n",
    "    "
   ]
  },
  {
   "cell_type": "code",
   "execution_count": 106,
   "id": "4479de2e",
   "metadata": {},
   "outputs": [
    {
     "data": {
      "text/plain": [
       "[34, 56, 78, 90, 'apple', 'banana', 'kiwi', 'apple', 'banana']"
      ]
     },
     "execution_count": 106,
     "metadata": {},
     "output_type": "execute_result"
    }
   ],
   "source": [
    "L1"
   ]
  },
  {
   "cell_type": "code",
   "execution_count": 107,
   "id": "efdc4a0a",
   "metadata": {},
   "outputs": [],
   "source": [
    "L3 = [34,56,78,90]\n",
    "L4 = ['apple','banana','kiwi']"
   ]
  },
  {
   "cell_type": "code",
   "execution_count": 108,
   "id": "06183bb9",
   "metadata": {},
   "outputs": [],
   "source": [
    "for i in L4:\n",
    "    L3.append(i)\n",
    "    if i == 'banana':\n",
    "        break\n",
    "    "
   ]
  },
  {
   "cell_type": "code",
   "execution_count": 109,
   "id": "d21c0e3e",
   "metadata": {},
   "outputs": [
    {
     "data": {
      "text/plain": [
       "[34, 56, 78, 90, 'apple', 'banana']"
      ]
     },
     "execution_count": 109,
     "metadata": {},
     "output_type": "execute_result"
    }
   ],
   "source": [
    "L3"
   ]
  },
  {
   "cell_type": "code",
   "execution_count": 110,
   "id": "361e4608",
   "metadata": {},
   "outputs": [],
   "source": [
    "# w.a.p to print sum& average of all elements in a list -- dont use sum()method"
   ]
  },
  {
   "cell_type": "code",
   "execution_count": 111,
   "id": "7bd01d3c",
   "metadata": {},
   "outputs": [],
   "source": [
    "L = [45,78,12,78,45,63,98,78,14]"
   ]
  },
  {
   "cell_type": "code",
   "execution_count": 112,
   "id": "ae6be41f",
   "metadata": {},
   "outputs": [
    {
     "name": "stdout",
     "output_type": "stream",
     "text": [
      "Sum of items is :  511\n",
      "Average is :  56.77777777777778\n"
     ]
    }
   ],
   "source": [
    "summ = 0\n",
    "for i in L:\n",
    "    summ = summ+i\n",
    "avg = summ/len(L)\n",
    "print('Sum of items is : ',summ)\n",
    "print('Average is : ',avg)\n",
    "    "
   ]
  },
  {
   "cell_type": "code",
   "execution_count": 113,
   "id": "fad10db8",
   "metadata": {},
   "outputs": [],
   "source": [
    "#w.a.p to print sum and count of all even numbers in a list"
   ]
  },
  {
   "cell_type": "code",
   "execution_count": 114,
   "id": "b12509bd",
   "metadata": {},
   "outputs": [],
   "source": [
    "L = [12,34,53,21,67,89,88,78,67,56,45,42,41,89,90,24,68]"
   ]
  },
  {
   "cell_type": "code",
   "execution_count": 117,
   "id": "90d4baf7",
   "metadata": {},
   "outputs": [
    {
     "name": "stdout",
     "output_type": "stream",
     "text": [
      "Sum of all even numbers is:  492\n",
      "Cont of even numbers is:  9\n"
     ]
    }
   ],
   "source": [
    "S = 0\n",
    "count = 0\n",
    "for i in L:\n",
    "    if i % 2 == 0:\n",
    "        S = S+i\n",
    "        count = count+1\n",
    "print('Sum of all even numbers is: ',S)\n",
    "print('Cont of even numbers is: ',count)    "
   ]
  },
  {
   "cell_type": "code",
   "execution_count": 118,
   "id": "f130c328",
   "metadata": {},
   "outputs": [
    {
     "data": {
      "text/plain": [
       "[12, 34, 53, 21, 67, 89, 88, 78, 67, 56, 45, 42, 41, 89, 90, 24, 68]"
      ]
     },
     "execution_count": 118,
     "metadata": {},
     "output_type": "execute_result"
    }
   ],
   "source": [
    "L"
   ]
  },
  {
   "cell_type": "code",
   "execution_count": 119,
   "id": "ea38e7c5",
   "metadata": {},
   "outputs": [],
   "source": [
    "del L[2:6]"
   ]
  },
  {
   "cell_type": "code",
   "execution_count": 120,
   "id": "3e67d2be",
   "metadata": {},
   "outputs": [
    {
     "data": {
      "text/plain": [
       "[12, 34, 88, 78, 67, 56, 45, 42, 41, 89, 90, 24, 68]"
      ]
     },
     "execution_count": 120,
     "metadata": {},
     "output_type": "execute_result"
    }
   ],
   "source": [
    "L"
   ]
  },
  {
   "cell_type": "code",
   "execution_count": 121,
   "id": "e8e0c703",
   "metadata": {},
   "outputs": [],
   "source": [
    "# w.a.p to count positive and negative numbers in a given list"
   ]
  },
  {
   "cell_type": "code",
   "execution_count": 122,
   "id": "f1845a1b",
   "metadata": {},
   "outputs": [],
   "source": [
    "L = [23,56,-78,43,-90,-45,-99,23,-12,-34,-56,89,47,87]"
   ]
  },
  {
   "cell_type": "code",
   "execution_count": 123,
   "id": "a442f39a",
   "metadata": {},
   "outputs": [
    {
     "name": "stdout",
     "output_type": "stream",
     "text": [
      "Count of positive numbers is:  7\n",
      "count of negative numbers is:  7\n"
     ]
    }
   ],
   "source": [
    "pos_count = 0\n",
    "neg_count = 0\n",
    "\n",
    "for i in L:\n",
    "    if i > 0:\n",
    "        pos_count = pos_count+1\n",
    "    else:\n",
    "        neg_count = neg_count+1\n",
    "print('Count of positive numbers is: ',pos_count)\n",
    "print('count of negative numbers is: ',neg_count)"
   ]
  },
  {
   "cell_type": "code",
   "execution_count": 124,
   "id": "7e8d2b0e",
   "metadata": {},
   "outputs": [
    {
     "data": {
      "text/plain": [
       "[23, 56, -78, 43, -90, -45, -99, 23, -12, -34, -56, 89, 47, 87]"
      ]
     },
     "execution_count": 124,
     "metadata": {},
     "output_type": "execute_result"
    }
   ],
   "source": [
    "L"
   ]
  },
  {
   "cell_type": "code",
   "execution_count": 125,
   "id": "2bbab200",
   "metadata": {},
   "outputs": [
    {
     "data": {
      "text/plain": [
       "[34, 56, 78, 90, 'apple', 'banana', 'kiwi', 'apple', 'banana']"
      ]
     },
     "execution_count": 125,
     "metadata": {},
     "output_type": "execute_result"
    }
   ],
   "source": [
    "L1"
   ]
  },
  {
   "cell_type": "code",
   "execution_count": 126,
   "id": "5e61af86",
   "metadata": {},
   "outputs": [],
   "source": [
    "L = L1"
   ]
  },
  {
   "cell_type": "code",
   "execution_count": 127,
   "id": "6e2eb526",
   "metadata": {},
   "outputs": [
    {
     "data": {
      "text/plain": [
       "[34, 56, 78, 90, 'apple', 'banana', 'kiwi', 'apple', 'banana']"
      ]
     },
     "execution_count": 127,
     "metadata": {},
     "output_type": "execute_result"
    }
   ],
   "source": [
    "L"
   ]
  },
  {
   "cell_type": "code",
   "execution_count": 128,
   "id": "f288df8b",
   "metadata": {},
   "outputs": [
    {
     "data": {
      "text/plain": [
       "[34, 56, 78, 90, 'apple', 'banana', 'kiwi', 'apple', 'banana']"
      ]
     },
     "execution_count": 128,
     "metadata": {},
     "output_type": "execute_result"
    }
   ],
   "source": [
    "L1"
   ]
  },
  {
   "cell_type": "code",
   "execution_count": 129,
   "id": "0d65ec19",
   "metadata": {},
   "outputs": [],
   "source": [
    "L = L+L1"
   ]
  },
  {
   "cell_type": "code",
   "execution_count": 131,
   "id": "3cc81e18",
   "metadata": {},
   "outputs": [
    {
     "data": {
      "text/plain": [
       "[34,\n",
       " 56,\n",
       " 78,\n",
       " 90,\n",
       " 'apple',\n",
       " 'banana',\n",
       " 'kiwi',\n",
       " 'apple',\n",
       " 'banana',\n",
       " 34,\n",
       " 56,\n",
       " 78,\n",
       " 90,\n",
       " 'apple',\n",
       " 'banana',\n",
       " 'kiwi',\n",
       " 'apple',\n",
       " 'banana']"
      ]
     },
     "execution_count": 131,
     "metadata": {},
     "output_type": "execute_result"
    }
   ],
   "source": [
    "L"
   ]
  },
  {
   "cell_type": "code",
   "execution_count": 132,
   "id": "250b3bac",
   "metadata": {},
   "outputs": [],
   "source": [
    "L = [12,45,67]\n",
    "L1= [78,89,90]\n",
    "L2= [99,88,65]"
   ]
  },
  {
   "cell_type": "code",
   "execution_count": 133,
   "id": "dfc7bb07",
   "metadata": {},
   "outputs": [
    {
     "data": {
      "text/plain": [
       "[12, 45, 67]"
      ]
     },
     "execution_count": 133,
     "metadata": {},
     "output_type": "execute_result"
    }
   ],
   "source": [
    "L"
   ]
  },
  {
   "cell_type": "code",
   "execution_count": 134,
   "id": "deda9600",
   "metadata": {},
   "outputs": [
    {
     "data": {
      "text/plain": [
       "[78, 89, 90]"
      ]
     },
     "execution_count": 134,
     "metadata": {},
     "output_type": "execute_result"
    }
   ],
   "source": [
    "L1"
   ]
  },
  {
   "cell_type": "code",
   "execution_count": 135,
   "id": "8eea1d24",
   "metadata": {},
   "outputs": [
    {
     "data": {
      "text/plain": [
       "[99, 88, 65]"
      ]
     },
     "execution_count": 135,
     "metadata": {},
     "output_type": "execute_result"
    }
   ],
   "source": [
    "L2"
   ]
  },
  {
   "cell_type": "code",
   "execution_count": 136,
   "id": "ebc9059b",
   "metadata": {},
   "outputs": [],
   "source": [
    "text = 'python programming is very good program and it have good usages in industry'"
   ]
  },
  {
   "cell_type": "code",
   "execution_count": 137,
   "id": "79ea5666",
   "metadata": {},
   "outputs": [
    {
     "data": {
      "text/plain": [
       "'python programming is very good program and it have good usages in industry'"
      ]
     },
     "execution_count": 137,
     "metadata": {},
     "output_type": "execute_result"
    }
   ],
   "source": [
    "text"
   ]
  },
  {
   "cell_type": "code",
   "execution_count": 138,
   "id": "6e57d92d",
   "metadata": {},
   "outputs": [],
   "source": [
    "L = text.split()"
   ]
  },
  {
   "cell_type": "code",
   "execution_count": 140,
   "id": "d3666c2f",
   "metadata": {},
   "outputs": [
    {
     "data": {
      "text/plain": [
       "['python',\n",
       " 'programming',\n",
       " 'is',\n",
       " 'very',\n",
       " 'good',\n",
       " 'program',\n",
       " 'and',\n",
       " 'it',\n",
       " 'have',\n",
       " 'good',\n",
       " 'usages',\n",
       " 'in',\n",
       " 'industry']"
      ]
     },
     "execution_count": 140,
     "metadata": {},
     "output_type": "execute_result"
    }
   ],
   "source": [
    "L"
   ]
  },
  {
   "cell_type": "code",
   "execution_count": 147,
   "id": "4c44add6",
   "metadata": {},
   "outputs": [
    {
     "name": "stdout",
     "output_type": "stream",
     "text": [
      "{'good'}\n"
     ]
    }
   ],
   "source": [
    "res = []\n",
    "K = 'g'\n",
    "for i in L:\n",
    "    if i[0].lower() == K.lower():\n",
    "        res.append(i)\n",
    "print(set(res))"
   ]
  },
  {
   "cell_type": "code",
   "execution_count": 154,
   "id": "cb841452",
   "metadata": {},
   "outputs": [
    {
     "name": "stdout",
     "output_type": "stream",
     "text": [
      "{'python', 'programming', 'program'}\n"
     ]
    }
   ],
   "source": [
    "R =[]\n",
    "L = text.lower().split()\n",
    "for i in L:\n",
    "    if i[0] == 'p':\n",
    "        R.append(i)\n",
    "print(set(R))\n"
   ]
  },
  {
   "cell_type": "markdown",
   "id": "4e03040a",
   "metadata": {},
   "source": [
    "# Dictionaries"
   ]
  },
  {
   "cell_type": "code",
   "execution_count": 155,
   "id": "0465a2b6",
   "metadata": {},
   "outputs": [],
   "source": [
    "#collection of items , each item is a key and value pair\n",
    "#defined with {}"
   ]
  },
  {
   "cell_type": "code",
   "execution_count": 156,
   "id": "f126034f",
   "metadata": {},
   "outputs": [],
   "source": [
    "D = {'Brand':'Benz',\n",
    "    'Model':'Premium',\n",
    "    'Year':2020,\n",
    "    'Color':'Blue'}"
   ]
  },
  {
   "cell_type": "code",
   "execution_count": 157,
   "id": "ef5552fc",
   "metadata": {},
   "outputs": [
    {
     "data": {
      "text/plain": [
       "{'Brand': 'Benz', 'Model': 'Premium', 'Year': 2020, 'Color': 'Blue'}"
      ]
     },
     "execution_count": 157,
     "metadata": {},
     "output_type": "execute_result"
    }
   ],
   "source": [
    "D"
   ]
  },
  {
   "cell_type": "code",
   "execution_count": 158,
   "id": "0c58b97f",
   "metadata": {},
   "outputs": [],
   "source": [
    "# accessing dictionary items by referring to key "
   ]
  },
  {
   "cell_type": "code",
   "execution_count": 159,
   "id": "2a2275d5",
   "metadata": {},
   "outputs": [
    {
     "data": {
      "text/plain": [
       "'Benz'"
      ]
     },
     "execution_count": 159,
     "metadata": {},
     "output_type": "execute_result"
    }
   ],
   "source": [
    "D['Brand']"
   ]
  },
  {
   "cell_type": "code",
   "execution_count": 161,
   "id": "0c626391",
   "metadata": {},
   "outputs": [
    {
     "data": {
      "text/plain": [
       "'Premium'"
      ]
     },
     "execution_count": 161,
     "metadata": {},
     "output_type": "execute_result"
    }
   ],
   "source": [
    "D['Model']"
   ]
  },
  {
   "cell_type": "code",
   "execution_count": 162,
   "id": "1ee1f867",
   "metadata": {},
   "outputs": [
    {
     "data": {
      "text/plain": [
       "2020"
      ]
     },
     "execution_count": 162,
     "metadata": {},
     "output_type": "execute_result"
    }
   ],
   "source": [
    "D['Year']"
   ]
  },
  {
   "cell_type": "code",
   "execution_count": 163,
   "id": "9b1827f8",
   "metadata": {},
   "outputs": [
    {
     "data": {
      "text/plain": [
       "dict_keys(['Brand', 'Model', 'Year', 'Color'])"
      ]
     },
     "execution_count": 163,
     "metadata": {},
     "output_type": "execute_result"
    }
   ],
   "source": [
    "D.keys()"
   ]
  },
  {
   "cell_type": "code",
   "execution_count": 164,
   "id": "80d9e3ab",
   "metadata": {},
   "outputs": [
    {
     "data": {
      "text/plain": [
       "dict_values(['Benz', 'Premium', 2020, 'Blue'])"
      ]
     },
     "execution_count": 164,
     "metadata": {},
     "output_type": "execute_result"
    }
   ],
   "source": [
    "D.values()"
   ]
  },
  {
   "cell_type": "code",
   "execution_count": 165,
   "id": "6112ba7f",
   "metadata": {},
   "outputs": [
    {
     "data": {
      "text/plain": [
       "dict_items([('Brand', 'Benz'), ('Model', 'Premium'), ('Year', 2020), ('Color', 'Blue')])"
      ]
     },
     "execution_count": 165,
     "metadata": {},
     "output_type": "execute_result"
    }
   ],
   "source": [
    "D.items()"
   ]
  },
  {
   "cell_type": "code",
   "execution_count": 166,
   "id": "8cf3d864",
   "metadata": {},
   "outputs": [],
   "source": [
    "# loop through a dictionary"
   ]
  },
  {
   "cell_type": "code",
   "execution_count": 167,
   "id": "af9e66ee",
   "metadata": {},
   "outputs": [
    {
     "name": "stdout",
     "output_type": "stream",
     "text": [
      "Brand\n",
      "Model\n",
      "Year\n",
      "Color\n"
     ]
    }
   ],
   "source": [
    "for i in D:\n",
    "    print(i)"
   ]
  },
  {
   "cell_type": "code",
   "execution_count": 168,
   "id": "a2a031e8",
   "metadata": {},
   "outputs": [
    {
     "name": "stdout",
     "output_type": "stream",
     "text": [
      "Benz\n",
      "Premium\n",
      "2020\n",
      "Blue\n"
     ]
    }
   ],
   "source": [
    "for i in D.values():\n",
    "    print(i)"
   ]
  },
  {
   "cell_type": "code",
   "execution_count": 169,
   "id": "05c04196",
   "metadata": {},
   "outputs": [
    {
     "name": "stdout",
     "output_type": "stream",
     "text": [
      "('Brand', 'Benz')\n",
      "('Model', 'Premium')\n",
      "('Year', 2020)\n",
      "('Color', 'Blue')\n"
     ]
    }
   ],
   "source": [
    "for i in D.items():\n",
    "    print(i)"
   ]
  },
  {
   "cell_type": "code",
   "execution_count": 170,
   "id": "1e10ce88",
   "metadata": {},
   "outputs": [],
   "source": [
    "# Adding an item to adictionary"
   ]
  },
  {
   "cell_type": "code",
   "execution_count": 171,
   "id": "c8a5d8c9",
   "metadata": {},
   "outputs": [],
   "source": [
    "D['Speed'] = 120"
   ]
  },
  {
   "cell_type": "code",
   "execution_count": 172,
   "id": "818102b8",
   "metadata": {},
   "outputs": [
    {
     "data": {
      "text/plain": [
       "{'Brand': 'Benz',\n",
       " 'Model': 'Premium',\n",
       " 'Year': 2020,\n",
       " 'Color': 'Blue',\n",
       " 'Speed': 120}"
      ]
     },
     "execution_count": 172,
     "metadata": {},
     "output_type": "execute_result"
    }
   ],
   "source": [
    "D"
   ]
  },
  {
   "cell_type": "code",
   "execution_count": 173,
   "id": "587024aa",
   "metadata": {},
   "outputs": [],
   "source": [
    "# delete an item from dictionary\n",
    "#pop()\n",
    "#poitem()"
   ]
  },
  {
   "cell_type": "code",
   "execution_count": 175,
   "id": "11fd8b07",
   "metadata": {},
   "outputs": [
    {
     "data": {
      "text/plain": [
       "'Benz'"
      ]
     },
     "execution_count": 175,
     "metadata": {},
     "output_type": "execute_result"
    }
   ],
   "source": [
    "D.pop('Brand')"
   ]
  },
  {
   "cell_type": "code",
   "execution_count": 176,
   "id": "c1c92273",
   "metadata": {},
   "outputs": [
    {
     "data": {
      "text/plain": [
       "('Speed', 120)"
      ]
     },
     "execution_count": 176,
     "metadata": {},
     "output_type": "execute_result"
    }
   ],
   "source": [
    "D.popitem()"
   ]
  },
  {
   "cell_type": "code",
   "execution_count": 177,
   "id": "aed9ee77",
   "metadata": {},
   "outputs": [],
   "source": [
    "D = {'Brand':'Benz',\n",
    "    'Model':'Premium',\n",
    "    'Year':2020,\n",
    "    'Color':'Blue'}"
   ]
  },
  {
   "cell_type": "code",
   "execution_count": 178,
   "id": "2cdf6799",
   "metadata": {},
   "outputs": [],
   "source": [
    "D['speed'] = 120"
   ]
  },
  {
   "cell_type": "code",
   "execution_count": 179,
   "id": "3d15bb40",
   "metadata": {},
   "outputs": [
    {
     "data": {
      "text/plain": [
       "{'Brand': 'Benz',\n",
       " 'Model': 'Premium',\n",
       " 'Year': 2020,\n",
       " 'Color': 'Blue',\n",
       " 'speed': 120}"
      ]
     },
     "execution_count": 179,
     "metadata": {},
     "output_type": "execute_result"
    }
   ],
   "source": [
    "D"
   ]
  },
  {
   "cell_type": "code",
   "execution_count": 180,
   "id": "8b0cac56",
   "metadata": {},
   "outputs": [
    {
     "data": {
      "text/plain": [
       "('speed', 120)"
      ]
     },
     "execution_count": 180,
     "metadata": {},
     "output_type": "execute_result"
    }
   ],
   "source": [
    "D.popitem() # it deletes last item in a dict and returns it"
   ]
  },
  {
   "cell_type": "code",
   "execution_count": 181,
   "id": "98e7a974",
   "metadata": {},
   "outputs": [
    {
     "data": {
      "text/plain": [
       "('Color', 'Blue')"
      ]
     },
     "execution_count": 181,
     "metadata": {},
     "output_type": "execute_result"
    }
   ],
   "source": [
    "D.popitem()"
   ]
  },
  {
   "cell_type": "code",
   "execution_count": 182,
   "id": "f7e92195",
   "metadata": {},
   "outputs": [
    {
     "data": {
      "text/plain": [
       "{'Brand': 'Benz', 'Model': 'Premium', 'Year': 2020}"
      ]
     },
     "execution_count": 182,
     "metadata": {},
     "output_type": "execute_result"
    }
   ],
   "source": [
    "D"
   ]
  },
  {
   "cell_type": "code",
   "execution_count": 183,
   "id": "7e7b3dad",
   "metadata": {},
   "outputs": [
    {
     "data": {
      "text/plain": [
       "'Benz'"
      ]
     },
     "execution_count": 183,
     "metadata": {},
     "output_type": "execute_result"
    }
   ],
   "source": [
    "D.pop('Brand') # it deletes an item with key name"
   ]
  },
  {
   "cell_type": "code",
   "execution_count": 184,
   "id": "d31e80cc",
   "metadata": {},
   "outputs": [
    {
     "data": {
      "text/plain": [
       "{'Model': 'Premium', 'Year': 2020}"
      ]
     },
     "execution_count": 184,
     "metadata": {},
     "output_type": "execute_result"
    }
   ],
   "source": [
    "D"
   ]
  },
  {
   "cell_type": "code",
   "execution_count": 185,
   "id": "bb893050",
   "metadata": {},
   "outputs": [],
   "source": [
    "# keys : values"
   ]
  },
  {
   "cell_type": "code",
   "execution_count": 187,
   "id": "c8294317",
   "metadata": {},
   "outputs": [],
   "source": [
    "D = {111:'Benz',\n",
    "    'Model':'Premium',\n",
    "    'Year':2020,\n",
    "    'Color':'Blue'}"
   ]
  },
  {
   "cell_type": "code",
   "execution_count": 188,
   "id": "bcacc901",
   "metadata": {},
   "outputs": [
    {
     "data": {
      "text/plain": [
       "{111: 'Benz', 'Model': 'Premium', 'Year': 2020, 'Color': 'Blue'}"
      ]
     },
     "execution_count": 188,
     "metadata": {},
     "output_type": "execute_result"
    }
   ],
   "source": [
    "D"
   ]
  },
  {
   "cell_type": "code",
   "execution_count": 189,
   "id": "e54e3c0d",
   "metadata": {},
   "outputs": [],
   "source": [
    "D = {12.5:'Benz',\n",
    "    'Model':'Premium',\n",
    "    'Year':2020,\n",
    "    'Color':'Blue'}"
   ]
  },
  {
   "cell_type": "code",
   "execution_count": 190,
   "id": "bda59f49",
   "metadata": {},
   "outputs": [
    {
     "data": {
      "text/plain": [
       "{12.5: 'Benz', 'Model': 'Premium', 'Year': 2020, 'Color': 'Blue'}"
      ]
     },
     "execution_count": 190,
     "metadata": {},
     "output_type": "execute_result"
    }
   ],
   "source": [
    "D"
   ]
  },
  {
   "cell_type": "code",
   "execution_count": 191,
   "id": "89103862",
   "metadata": {},
   "outputs": [],
   "source": [
    "D = {2+6j:'Benz',\n",
    "    'Model':'Premium',\n",
    "    'Year':2020,\n",
    "    'Color':'Blue'}"
   ]
  },
  {
   "cell_type": "code",
   "execution_count": 192,
   "id": "9504b837",
   "metadata": {},
   "outputs": [
    {
     "data": {
      "text/plain": [
       "{(2+6j): 'Benz', 'Model': 'Premium', 'Year': 2020, 'Color': 'Blue'}"
      ]
     },
     "execution_count": 192,
     "metadata": {},
     "output_type": "execute_result"
    }
   ],
   "source": [
    "D"
   ]
  },
  {
   "cell_type": "code",
   "execution_count": 196,
   "id": "1a2e9c24",
   "metadata": {},
   "outputs": [
    {
     "ename": "TypeError",
     "evalue": "unhashable type: 'list'",
     "output_type": "error",
     "traceback": [
      "\u001b[1;31m---------------------------------------------------------------------------\u001b[0m",
      "\u001b[1;31mTypeError\u001b[0m                                 Traceback (most recent call last)",
      "\u001b[1;32m<ipython-input-196-feece4ecff91>\u001b[0m in \u001b[0;36m<module>\u001b[1;34m\u001b[0m\n\u001b[1;32m----> 1\u001b[1;33m D = {[2,3,4]:'Benz',\n\u001b[0m\u001b[0;32m      2\u001b[0m     \u001b[1;34m'Model'\u001b[0m\u001b[1;33m:\u001b[0m\u001b[1;34m'Premium'\u001b[0m\u001b[1;33m,\u001b[0m\u001b[1;33m\u001b[0m\u001b[1;33m\u001b[0m\u001b[0m\n\u001b[0;32m      3\u001b[0m     \u001b[1;34m'Year'\u001b[0m\u001b[1;33m:\u001b[0m\u001b[1;36m2020\u001b[0m\u001b[1;33m,\u001b[0m\u001b[1;33m\u001b[0m\u001b[1;33m\u001b[0m\u001b[0m\n\u001b[0;32m      4\u001b[0m     'Color':'Blue'}\n",
      "\u001b[1;31mTypeError\u001b[0m: unhashable type: 'list'"
     ]
    }
   ],
   "source": [
    "D = {[2,3,4]:'Benz',\n",
    "    'Model':'Premium',\n",
    "    'Year':2020,\n",
    "    'Color':'Blue'}\n",
    "# list can not be used as key"
   ]
  },
  {
   "cell_type": "code",
   "execution_count": 195,
   "id": "802e7752",
   "metadata": {},
   "outputs": [
    {
     "data": {
      "text/plain": [
       "{(2, 3, 4): 'Benz', 'Model': 'Premium', 'Year': 2020, 'Color': 'Blue'}"
      ]
     },
     "execution_count": 195,
     "metadata": {},
     "output_type": "execute_result"
    }
   ],
   "source": [
    "D = {(1,2,3):'Benz',\n",
    "    'Model':'Premium',\n",
    "    'Year':2020,\n",
    "    'Color':'Blue'}\n",
    "# we can use tuple as a key"
   ]
  },
  {
   "cell_type": "code",
   "execution_count": 198,
   "id": "52c933c7",
   "metadata": {},
   "outputs": [
    {
     "ename": "TypeError",
     "evalue": "unhashable type: 'set'",
     "output_type": "error",
     "traceback": [
      "\u001b[1;31m---------------------------------------------------------------------------\u001b[0m",
      "\u001b[1;31mTypeError\u001b[0m                                 Traceback (most recent call last)",
      "\u001b[1;32m<ipython-input-198-25855d7bed83>\u001b[0m in \u001b[0;36m<module>\u001b[1;34m\u001b[0m\n\u001b[1;32m----> 1\u001b[1;33m D = {{1,2,3}:'Benz',\n\u001b[0m\u001b[0;32m      2\u001b[0m     \u001b[1;34m'Model'\u001b[0m\u001b[1;33m:\u001b[0m\u001b[1;34m'Premium'\u001b[0m\u001b[1;33m,\u001b[0m\u001b[1;33m\u001b[0m\u001b[1;33m\u001b[0m\u001b[0m\n\u001b[0;32m      3\u001b[0m     \u001b[1;34m'Year'\u001b[0m\u001b[1;33m:\u001b[0m\u001b[1;36m2020\u001b[0m\u001b[1;33m,\u001b[0m\u001b[1;33m\u001b[0m\u001b[1;33m\u001b[0m\u001b[0m\n\u001b[0;32m      4\u001b[0m     'Color':'Blue'}\n\u001b[0;32m      5\u001b[0m \u001b[1;31m# set is not allowed as key\u001b[0m\u001b[1;33m\u001b[0m\u001b[1;33m\u001b[0m\u001b[1;33m\u001b[0m\u001b[0m\n",
      "\u001b[1;31mTypeError\u001b[0m: unhashable type: 'set'"
     ]
    }
   ],
   "source": [
    "D = {{1,2,3}:'Benz',\n",
    "    'Model':'Premium',\n",
    "    'Year':2020,\n",
    "    'Color':'Blue'}\n",
    "# set is not allowed as key"
   ]
  },
  {
   "cell_type": "code",
   "execution_count": 199,
   "id": "3bfdfca8",
   "metadata": {},
   "outputs": [
    {
     "ename": "TypeError",
     "evalue": "unhashable type: 'dict'",
     "output_type": "error",
     "traceback": [
      "\u001b[1;31m---------------------------------------------------------------------------\u001b[0m",
      "\u001b[1;31mTypeError\u001b[0m                                 Traceback (most recent call last)",
      "\u001b[1;32m<ipython-input-199-9ad34ecadb34>\u001b[0m in \u001b[0;36m<module>\u001b[1;34m\u001b[0m\n\u001b[1;32m----> 1\u001b[1;33m D = {{1:22,2:44}:'Benz',\n\u001b[0m\u001b[0;32m      2\u001b[0m     \u001b[1;34m'Model'\u001b[0m\u001b[1;33m:\u001b[0m\u001b[1;34m'Premium'\u001b[0m\u001b[1;33m,\u001b[0m\u001b[1;33m\u001b[0m\u001b[1;33m\u001b[0m\u001b[0m\n\u001b[0;32m      3\u001b[0m     \u001b[1;34m'Year'\u001b[0m\u001b[1;33m:\u001b[0m\u001b[1;36m2020\u001b[0m\u001b[1;33m,\u001b[0m\u001b[1;33m\u001b[0m\u001b[1;33m\u001b[0m\u001b[0m\n\u001b[0;32m      4\u001b[0m     'Color':'Blue'}\n",
      "\u001b[1;31mTypeError\u001b[0m: unhashable type: 'dict'"
     ]
    }
   ],
   "source": [
    "D = {{1:22,2:44}:'Benz',\n",
    "    'Model':'Premium',\n",
    "    'Year':2020,\n",
    "    'Color':'Blue'}\n",
    "#dict is not allowed as key"
   ]
  },
  {
   "cell_type": "markdown",
   "id": "c4d9fb91",
   "metadata": {},
   "source": [
    "Allowed data types for keys : int, float, complex number, string, tuple"
   ]
  },
  {
   "cell_type": "code",
   "execution_count": 202,
   "id": "51ee4d78",
   "metadata": {},
   "outputs": [],
   "source": [
    "D = {'Model':111,\n",
    "    'Model':'Premium',\n",
    "    'Year':2020,\n",
    "    'Color':'Blue'}"
   ]
  },
  {
   "cell_type": "code",
   "execution_count": 204,
   "id": "1d7470f0",
   "metadata": {},
   "outputs": [
    {
     "data": {
      "text/plain": [
       "{'Model': 'Premium', 'Year': 2020, 'Color': 'Blue'}"
      ]
     },
     "execution_count": 204,
     "metadata": {},
     "output_type": "execute_result"
    }
   ],
   "source": [
    "D"
   ]
  },
  {
   "cell_type": "code",
   "execution_count": 209,
   "id": "67592806",
   "metadata": {},
   "outputs": [],
   "source": [
    "D1 = {'Brand':111,\n",
    "    'Model':'Premium',\n",
    "    'Year':2020,\n",
    "    'Color':'Blue'}"
   ]
  },
  {
   "cell_type": "code",
   "execution_count": 210,
   "id": "9867ed95",
   "metadata": {},
   "outputs": [
    {
     "data": {
      "text/plain": [
       "{'Brand': 111, 'Model': 'Premium', 'Year': 2020, 'Color': 'Blue'}"
      ]
     },
     "execution_count": 210,
     "metadata": {},
     "output_type": "execute_result"
    }
   ],
   "source": [
    "D1"
   ]
  },
  {
   "cell_type": "code",
   "execution_count": 213,
   "id": "31067c06",
   "metadata": {},
   "outputs": [],
   "source": [
    "D = {'brand':12.8,\n",
    "    'Model':'Premium',\n",
    "    'Year':2020,\n",
    "    'Color':'Blue'}"
   ]
  },
  {
   "cell_type": "code",
   "execution_count": 214,
   "id": "c8cc35f4",
   "metadata": {},
   "outputs": [
    {
     "data": {
      "text/plain": [
       "{'brand': 12.8, 'Model': 'Premium', 'Year': 2020, 'Color': 'Blue'}"
      ]
     },
     "execution_count": 214,
     "metadata": {},
     "output_type": "execute_result"
    }
   ],
   "source": [
    "D"
   ]
  },
  {
   "cell_type": "code",
   "execution_count": 215,
   "id": "7aca91ed",
   "metadata": {},
   "outputs": [],
   "source": [
    "D = {'brand':4+8j,\n",
    "    'Model':'Premium',\n",
    "    'Year':2020,\n",
    "    'Color':'Blue'}"
   ]
  },
  {
   "cell_type": "code",
   "execution_count": 216,
   "id": "5d074d85",
   "metadata": {},
   "outputs": [
    {
     "data": {
      "text/plain": [
       "{'brand': (4+8j), 'Model': 'Premium', 'Year': 2020, 'Color': 'Blue'}"
      ]
     },
     "execution_count": 216,
     "metadata": {},
     "output_type": "execute_result"
    }
   ],
   "source": [
    "D"
   ]
  },
  {
   "cell_type": "code",
   "execution_count": 217,
   "id": "db7aef3d",
   "metadata": {},
   "outputs": [],
   "source": [
    "D = {'brand':[1,2,3],\n",
    "    'Model':'Premium',\n",
    "    'Year':2020,\n",
    "    'Color':'Blue'}"
   ]
  },
  {
   "cell_type": "code",
   "execution_count": 218,
   "id": "c5059550",
   "metadata": {},
   "outputs": [
    {
     "data": {
      "text/plain": [
       "{'brand': [1, 2, 3], 'Model': 'Premium', 'Year': 2020, 'Color': 'Blue'}"
      ]
     },
     "execution_count": 218,
     "metadata": {},
     "output_type": "execute_result"
    }
   ],
   "source": [
    "D"
   ]
  },
  {
   "cell_type": "code",
   "execution_count": 219,
   "id": "47b103ea",
   "metadata": {},
   "outputs": [],
   "source": [
    "D = {'brand':(1,2,3),\n",
    "    'Model':'Premium',\n",
    "    'Year':2020,\n",
    "    'Color':'Blue'}"
   ]
  },
  {
   "cell_type": "code",
   "execution_count": 220,
   "id": "f24bd86c",
   "metadata": {},
   "outputs": [
    {
     "data": {
      "text/plain": [
       "{'brand': (1, 2, 3), 'Model': 'Premium', 'Year': 2020, 'Color': 'Blue'}"
      ]
     },
     "execution_count": 220,
     "metadata": {},
     "output_type": "execute_result"
    }
   ],
   "source": [
    "D"
   ]
  },
  {
   "cell_type": "code",
   "execution_count": 221,
   "id": "8a90ef99",
   "metadata": {},
   "outputs": [],
   "source": [
    "D = {'brand':{1,2,3},\n",
    "    'Model':'Premium',\n",
    "    'Year':2020,\n",
    "    'Color':'Blue'}"
   ]
  },
  {
   "cell_type": "code",
   "execution_count": 222,
   "id": "2c1643ec",
   "metadata": {},
   "outputs": [
    {
     "data": {
      "text/plain": [
       "{'brand': {1, 2, 3}, 'Model': 'Premium', 'Year': 2020, 'Color': 'Blue'}"
      ]
     },
     "execution_count": 222,
     "metadata": {},
     "output_type": "execute_result"
    }
   ],
   "source": [
    "D"
   ]
  },
  {
   "cell_type": "code",
   "execution_count": 223,
   "id": "12cb6890",
   "metadata": {},
   "outputs": [],
   "source": [
    "D = {'brand':{1:22,2:44},\n",
    "    'Model':'Premium',\n",
    "    'Year':2020,\n",
    "    'Color':'Blue'}"
   ]
  },
  {
   "cell_type": "code",
   "execution_count": 224,
   "id": "9a7d0d33",
   "metadata": {},
   "outputs": [
    {
     "data": {
      "text/plain": [
       "{'brand': {1: 22, 2: 44}, 'Model': 'Premium', 'Year': 2020, 'Color': 'Blue'}"
      ]
     },
     "execution_count": 224,
     "metadata": {},
     "output_type": "execute_result"
    }
   ],
   "source": [
    "D"
   ]
  },
  {
   "cell_type": "code",
   "execution_count": 225,
   "id": "155d2f73",
   "metadata": {},
   "outputs": [],
   "source": [
    "D = {'brand':True,\n",
    "    'Model':'Premium',\n",
    "    'Year':2020,\n",
    "    'Color':'Blue'}"
   ]
  },
  {
   "cell_type": "code",
   "execution_count": 226,
   "id": "1b45bcac",
   "metadata": {},
   "outputs": [
    {
     "data": {
      "text/plain": [
       "{'brand': True, 'Model': 'Premium', 'Year': 2020, 'Color': 'Blue'}"
      ]
     },
     "execution_count": 226,
     "metadata": {},
     "output_type": "execute_result"
    }
   ],
   "source": [
    "D"
   ]
  },
  {
   "cell_type": "markdown",
   "id": "fda34de1",
   "metadata": {},
   "source": [
    "Allowed data types for dict values:\n",
    "1. int \n",
    "2. float\n",
    "2. complex\n",
    "4. strings\n",
    "5. list, tuple, set ,dict"
   ]
  },
  {
   "cell_type": "code",
   "execution_count": 230,
   "id": "4bc48eb4",
   "metadata": {},
   "outputs": [],
   "source": [
    "# key duplication is not allowed in DICT\n",
    "D = {\n",
    "    'Model':'Premium',\n",
    "    'Model':'sedan',\n",
    "    'Year':2020,\n",
    "    'Color':'Blue'}"
   ]
  },
  {
   "cell_type": "code",
   "execution_count": 231,
   "id": "005349c8",
   "metadata": {},
   "outputs": [
    {
     "data": {
      "text/plain": [
       "{'Model': 'sedan', 'Year': 2020, 'Color': 'Blue'}"
      ]
     },
     "execution_count": 231,
     "metadata": {},
     "output_type": "execute_result"
    }
   ],
   "source": [
    "D"
   ]
  },
  {
   "cell_type": "code",
   "execution_count": 232,
   "id": "48778d8d",
   "metadata": {},
   "outputs": [],
   "source": [
    "#duplicate values are allowed\n",
    "D = {'brand':12.8,\n",
    "    'Model':2020,\n",
    "    'Year':2020,\n",
    "    'Color':'Blue'}"
   ]
  },
  {
   "cell_type": "code",
   "execution_count": 233,
   "id": "45b6c3f3",
   "metadata": {},
   "outputs": [
    {
     "data": {
      "text/plain": [
       "{'brand': 12.8, 'Model': 2020, 'Year': 2020, 'Color': 'Blue'}"
      ]
     },
     "execution_count": 233,
     "metadata": {},
     "output_type": "execute_result"
    }
   ],
   "source": [
    "D"
   ]
  },
  {
   "cell_type": "code",
   "execution_count": 234,
   "id": "3bbf1e47",
   "metadata": {},
   "outputs": [],
   "source": [
    "#deleting a dictionary\n",
    "del D"
   ]
  },
  {
   "cell_type": "code",
   "execution_count": 235,
   "id": "74a5fcf2",
   "metadata": {},
   "outputs": [
    {
     "ename": "NameError",
     "evalue": "name 'D' is not defined",
     "output_type": "error",
     "traceback": [
      "\u001b[1;31m---------------------------------------------------------------------------\u001b[0m",
      "\u001b[1;31mNameError\u001b[0m                                 Traceback (most recent call last)",
      "\u001b[1;32m<ipython-input-235-39e0574a4abf>\u001b[0m in \u001b[0;36m<module>\u001b[1;34m\u001b[0m\n\u001b[1;32m----> 1\u001b[1;33m \u001b[0mD\u001b[0m\u001b[1;33m\u001b[0m\u001b[1;33m\u001b[0m\u001b[0m\n\u001b[0m",
      "\u001b[1;31mNameError\u001b[0m: name 'D' is not defined"
     ]
    }
   ],
   "source": [
    "D"
   ]
  },
  {
   "cell_type": "code",
   "execution_count": 236,
   "id": "e3f22fa0",
   "metadata": {},
   "outputs": [],
   "source": [
    "# list as an item to a list"
   ]
  },
  {
   "cell_type": "code",
   "execution_count": 237,
   "id": "5322e79f",
   "metadata": {},
   "outputs": [],
   "source": [
    "L = [1,3,4,6,['satya','uday','vamsi','akil']]"
   ]
  },
  {
   "cell_type": "code",
   "execution_count": 238,
   "id": "8c3a6381",
   "metadata": {},
   "outputs": [
    {
     "data": {
      "text/plain": [
       "'vamsi'"
      ]
     },
     "execution_count": 238,
     "metadata": {},
     "output_type": "execute_result"
    }
   ],
   "source": [
    "L[4][2]"
   ]
  },
  {
   "cell_type": "code",
   "execution_count": 239,
   "id": "6b5a3790",
   "metadata": {},
   "outputs": [],
   "source": [
    "# tuple as an item to a list"
   ]
  },
  {
   "cell_type": "code",
   "execution_count": 240,
   "id": "0cf87a0c",
   "metadata": {},
   "outputs": [],
   "source": [
    "L = [1,2,4,6,(67,'mango','apple',23.7)]"
   ]
  },
  {
   "cell_type": "code",
   "execution_count": 241,
   "id": "080ad287",
   "metadata": {},
   "outputs": [
    {
     "data": {
      "text/plain": [
       "'mango'"
      ]
     },
     "execution_count": 241,
     "metadata": {},
     "output_type": "execute_result"
    }
   ],
   "source": [
    "L[4][1]"
   ]
  },
  {
   "cell_type": "code",
   "execution_count": 242,
   "id": "1ce9f534",
   "metadata": {},
   "outputs": [],
   "source": [
    "# set as an item to a list"
   ]
  },
  {
   "cell_type": "code",
   "execution_count": 243,
   "id": "633de1a8",
   "metadata": {},
   "outputs": [],
   "source": [
    "L = [1,2,4,6,{67,'mango','apple',23.7}]"
   ]
  },
  {
   "cell_type": "code",
   "execution_count": 244,
   "id": "47e7aa3d",
   "metadata": {},
   "outputs": [
    {
     "data": {
      "text/plain": [
       "{23.7, 67, 'apple', 'mango'}"
      ]
     },
     "execution_count": 244,
     "metadata": {},
     "output_type": "execute_result"
    }
   ],
   "source": [
    "L[4]"
   ]
  },
  {
   "cell_type": "code",
   "execution_count": 245,
   "id": "899916ad",
   "metadata": {},
   "outputs": [],
   "source": [
    "# unpacking a tuple"
   ]
  },
  {
   "cell_type": "code",
   "execution_count": 252,
   "id": "15de1caf",
   "metadata": {},
   "outputs": [],
   "source": [
    "T =(17,26,38)"
   ]
  },
  {
   "cell_type": "code",
   "execution_count": 253,
   "id": "63aa1642",
   "metadata": {},
   "outputs": [
    {
     "data": {
      "text/plain": [
       "tuple"
      ]
     },
     "execution_count": 253,
     "metadata": {},
     "output_type": "execute_result"
    }
   ],
   "source": [
    "type(T)"
   ]
  },
  {
   "cell_type": "code",
   "execution_count": 254,
   "id": "eb70ef32",
   "metadata": {},
   "outputs": [],
   "source": [
    "a , b , c = T"
   ]
  },
  {
   "cell_type": "code",
   "execution_count": 255,
   "id": "d852d934",
   "metadata": {},
   "outputs": [
    {
     "data": {
      "text/plain": [
       "17"
      ]
     },
     "execution_count": 255,
     "metadata": {},
     "output_type": "execute_result"
    }
   ],
   "source": [
    "a"
   ]
  },
  {
   "cell_type": "code",
   "execution_count": 256,
   "id": "d95a2735",
   "metadata": {},
   "outputs": [
    {
     "data": {
      "text/plain": [
       "26"
      ]
     },
     "execution_count": 256,
     "metadata": {},
     "output_type": "execute_result"
    }
   ],
   "source": [
    "b"
   ]
  },
  {
   "cell_type": "code",
   "execution_count": 257,
   "id": "acbfe08d",
   "metadata": {},
   "outputs": [
    {
     "data": {
      "text/plain": [
       "38"
      ]
     },
     "execution_count": 257,
     "metadata": {},
     "output_type": "execute_result"
    }
   ],
   "source": [
    "c"
   ]
  },
  {
   "cell_type": "code",
   "execution_count": 258,
   "id": "714588ad",
   "metadata": {},
   "outputs": [],
   "source": [
    "# list as an item to a tuple"
   ]
  },
  {
   "cell_type": "code",
   "execution_count": 259,
   "id": "fe83c095",
   "metadata": {},
   "outputs": [],
   "source": [
    "T = (23,45,67,[45,12,78])"
   ]
  },
  {
   "cell_type": "code",
   "execution_count": 260,
   "id": "1a4775a9",
   "metadata": {},
   "outputs": [
    {
     "data": {
      "text/plain": [
       "(23, 45, 67, [45, 12, 78])"
      ]
     },
     "execution_count": 260,
     "metadata": {},
     "output_type": "execute_result"
    }
   ],
   "source": [
    "T"
   ]
  },
  {
   "cell_type": "code",
   "execution_count": 261,
   "id": "f668d0ac",
   "metadata": {},
   "outputs": [
    {
     "data": {
      "text/plain": [
       "12"
      ]
     },
     "execution_count": 261,
     "metadata": {},
     "output_type": "execute_result"
    }
   ],
   "source": [
    "T[3][1]"
   ]
  },
  {
   "cell_type": "code",
   "execution_count": 262,
   "id": "e2387955",
   "metadata": {},
   "outputs": [],
   "source": [
    "#tuple as an item to tuple"
   ]
  },
  {
   "cell_type": "code",
   "execution_count": 263,
   "id": "2b62bf3f",
   "metadata": {},
   "outputs": [],
   "source": [
    "T = (23,45,67,(45,12,78))"
   ]
  },
  {
   "cell_type": "code",
   "execution_count": 264,
   "id": "5c7394b8",
   "metadata": {},
   "outputs": [
    {
     "data": {
      "text/plain": [
       "(23, 45, 67, (45, 12, 78))"
      ]
     },
     "execution_count": 264,
     "metadata": {},
     "output_type": "execute_result"
    }
   ],
   "source": [
    "T"
   ]
  },
  {
   "cell_type": "code",
   "execution_count": 265,
   "id": "a09253c7",
   "metadata": {},
   "outputs": [
    {
     "data": {
      "text/plain": [
       "(45, 12, 78)"
      ]
     },
     "execution_count": 265,
     "metadata": {},
     "output_type": "execute_result"
    }
   ],
   "source": [
    "T[3]"
   ]
  },
  {
   "cell_type": "code",
   "execution_count": 266,
   "id": "2ab2a43d",
   "metadata": {},
   "outputs": [],
   "source": [
    "# set as an item to tuple\n",
    "T = (23,45,67,{45,12,78})"
   ]
  },
  {
   "cell_type": "code",
   "execution_count": 267,
   "id": "1324dcce",
   "metadata": {},
   "outputs": [],
   "source": [
    "T = (12)"
   ]
  },
  {
   "cell_type": "code",
   "execution_count": 268,
   "id": "b1eca98a",
   "metadata": {},
   "outputs": [
    {
     "data": {
      "text/plain": [
       "int"
      ]
     },
     "execution_count": 268,
     "metadata": {},
     "output_type": "execute_result"
    }
   ],
   "source": [
    "type(T)"
   ]
  },
  {
   "cell_type": "code",
   "execution_count": 269,
   "id": "561cfa39",
   "metadata": {},
   "outputs": [],
   "source": [
    "T = (12,) # tuple with single item"
   ]
  },
  {
   "cell_type": "code",
   "execution_count": 270,
   "id": "9b51308f",
   "metadata": {},
   "outputs": [
    {
     "data": {
      "text/plain": [
       "tuple"
      ]
     },
     "execution_count": 270,
     "metadata": {},
     "output_type": "execute_result"
    }
   ],
   "source": [
    "type(T)"
   ]
  },
  {
   "cell_type": "code",
   "execution_count": null,
   "id": "6518e0ba",
   "metadata": {},
   "outputs": [],
   "source": []
  }
 ],
 "metadata": {
  "kernelspec": {
   "display_name": "Python 3",
   "language": "python",
   "name": "python3"
  },
  "language_info": {
   "codemirror_mode": {
    "name": "ipython",
    "version": 3
   },
   "file_extension": ".py",
   "mimetype": "text/x-python",
   "name": "python",
   "nbconvert_exporter": "python",
   "pygments_lexer": "ipython3",
   "version": "3.8.8"
  }
 },
 "nbformat": 4,
 "nbformat_minor": 5
}
