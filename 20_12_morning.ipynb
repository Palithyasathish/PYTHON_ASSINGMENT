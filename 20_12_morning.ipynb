{
 "cells": [
  {
   "cell_type": "code",
   "execution_count": 1,
   "id": "557564ad",
   "metadata": {},
   "outputs": [],
   "source": [
    "import numpy as np"
   ]
  },
  {
   "cell_type": "code",
   "execution_count": 2,
   "id": "2816e30d",
   "metadata": {},
   "outputs": [],
   "source": [
    "a = np.array([['satya','vamsi'],['bhavan','goutham']])"
   ]
  },
  {
   "cell_type": "code",
   "execution_count": 3,
   "id": "75f1764b",
   "metadata": {},
   "outputs": [
    {
     "data": {
      "text/plain": [
       "array([['satya', 'vamsi'],\n",
       "       ['bhavan', 'goutham']], dtype='<U7')"
      ]
     },
     "execution_count": 3,
     "metadata": {},
     "output_type": "execute_result"
    }
   ],
   "source": [
    "a"
   ]
  },
  {
   "cell_type": "code",
   "execution_count": 4,
   "id": "124743cf",
   "metadata": {},
   "outputs": [
    {
     "data": {
      "text/plain": [
       "numpy.ndarray"
      ]
     },
     "execution_count": 4,
     "metadata": {},
     "output_type": "execute_result"
    }
   ],
   "source": [
    "type(a)"
   ]
  },
  {
   "cell_type": "code",
   "execution_count": 5,
   "id": "5c999b33",
   "metadata": {},
   "outputs": [],
   "source": [
    "import pandas as pd "
   ]
  },
  {
   "cell_type": "markdown",
   "id": "686951fc",
   "metadata": {},
   "source": [
    "# series"
   ]
  },
  {
   "cell_type": "code",
   "execution_count": 6,
   "id": "f26fa164",
   "metadata": {},
   "outputs": [],
   "source": [
    "#creating a series"
   ]
  },
  {
   "cell_type": "code",
   "execution_count": 7,
   "id": "1a4b9730",
   "metadata": {},
   "outputs": [],
   "source": [
    "a = np.array([34,56,78,90])"
   ]
  },
  {
   "cell_type": "code",
   "execution_count": 8,
   "id": "e2479e65",
   "metadata": {},
   "outputs": [
    {
     "data": {
      "text/plain": [
       "array([34, 56, 78, 90])"
      ]
     },
     "execution_count": 8,
     "metadata": {},
     "output_type": "execute_result"
    }
   ],
   "source": [
    "a"
   ]
  },
  {
   "cell_type": "code",
   "execution_count": 9,
   "id": "fa61c575",
   "metadata": {},
   "outputs": [
    {
     "data": {
      "text/plain": [
       "numpy.ndarray"
      ]
     },
     "execution_count": 9,
     "metadata": {},
     "output_type": "execute_result"
    }
   ],
   "source": [
    "type(a)"
   ]
  },
  {
   "cell_type": "code",
   "execution_count": 10,
   "id": "3c7cf046",
   "metadata": {},
   "outputs": [],
   "source": [
    "S = pd.Series(a)"
   ]
  },
  {
   "cell_type": "code",
   "execution_count": 11,
   "id": "cd198a3b",
   "metadata": {},
   "outputs": [
    {
     "data": {
      "text/plain": [
       "0    34\n",
       "1    56\n",
       "2    78\n",
       "3    90\n",
       "dtype: int32"
      ]
     },
     "execution_count": 11,
     "metadata": {},
     "output_type": "execute_result"
    }
   ],
   "source": [
    "S"
   ]
  },
  {
   "cell_type": "code",
   "execution_count": 12,
   "id": "91717be0",
   "metadata": {},
   "outputs": [],
   "source": [
    "# create a series with indexes [a,b,c,d,e,f]"
   ]
  },
  {
   "cell_type": "code",
   "execution_count": 14,
   "id": "7f353417",
   "metadata": {},
   "outputs": [],
   "source": [
    "S = pd.Series([23,34,5,67,89,12],index = ['a','b','c','d','e','f'])"
   ]
  },
  {
   "cell_type": "code",
   "execution_count": 15,
   "id": "03405ff3",
   "metadata": {},
   "outputs": [
    {
     "data": {
      "text/plain": [
       "a    23\n",
       "b    34\n",
       "c     5\n",
       "d    67\n",
       "e    89\n",
       "f    12\n",
       "dtype: int64"
      ]
     },
     "execution_count": 15,
     "metadata": {},
     "output_type": "execute_result"
    }
   ],
   "source": [
    "S"
   ]
  },
  {
   "cell_type": "code",
   "execution_count": 18,
   "id": "d895e0a7",
   "metadata": {},
   "outputs": [
    {
     "data": {
      "text/plain": [
       "pandas.core.series.Series"
      ]
     },
     "execution_count": 18,
     "metadata": {},
     "output_type": "execute_result"
    }
   ],
   "source": [
    "type(S)"
   ]
  },
  {
   "cell_type": "code",
   "execution_count": 19,
   "id": "c56caa83",
   "metadata": {},
   "outputs": [
    {
     "data": {
      "text/plain": [
       "6"
      ]
     },
     "execution_count": 19,
     "metadata": {},
     "output_type": "execute_result"
    }
   ],
   "source": [
    "S.size"
   ]
  },
  {
   "cell_type": "code",
   "execution_count": 21,
   "id": "2194c2d8",
   "metadata": {},
   "outputs": [],
   "source": [
    "a = np.random.random(10)\n",
    "b = np.arange(10)\n",
    "S = pd.Series(a,b)"
   ]
  },
  {
   "cell_type": "code",
   "execution_count": 22,
   "id": "737f5ad4",
   "metadata": {},
   "outputs": [
    {
     "data": {
      "text/plain": [
       "0    0.689200\n",
       "1    0.169383\n",
       "2    0.177768\n",
       "3    0.756333\n",
       "4    0.813131\n",
       "5    0.758139\n",
       "6    0.423662\n",
       "7    0.053179\n",
       "8    0.856305\n",
       "9    0.355781\n",
       "dtype: float64"
      ]
     },
     "execution_count": 22,
     "metadata": {},
     "output_type": "execute_result"
    }
   ],
   "source": [
    "S"
   ]
  },
  {
   "cell_type": "code",
   "execution_count": 23,
   "id": "203f4d44",
   "metadata": {},
   "outputs": [],
   "source": [
    "S = pd.Series(np.random.random(10),np.arange(10))"
   ]
  },
  {
   "cell_type": "code",
   "execution_count": 24,
   "id": "f8a4146a",
   "metadata": {},
   "outputs": [
    {
     "data": {
      "text/plain": [
       "0    0.775467\n",
       "1    0.640901\n",
       "2    0.382814\n",
       "3    0.759356\n",
       "4    0.834592\n",
       "5    0.223592\n",
       "6    0.228781\n",
       "7    0.332514\n",
       "8    0.567192\n",
       "9    0.991692\n",
       "dtype: float64"
      ]
     },
     "execution_count": 24,
     "metadata": {},
     "output_type": "execute_result"
    }
   ],
   "source": [
    "S"
   ]
  },
  {
   "cell_type": "code",
   "execution_count": 25,
   "id": "a5be5934",
   "metadata": {},
   "outputs": [],
   "source": [
    "# create a series using a dictionary"
   ]
  },
  {
   "cell_type": "code",
   "execution_count": 26,
   "id": "935d057a",
   "metadata": {},
   "outputs": [],
   "source": [
    "a = {1:'satya',2:'Niranjan',3:'vikas',4:'uday'}"
   ]
  },
  {
   "cell_type": "code",
   "execution_count": 27,
   "id": "9a947680",
   "metadata": {},
   "outputs": [
    {
     "data": {
      "text/plain": [
       "{1: 'satya', 2: 'Niranjan', 3: 'vikas', 4: 'uday'}"
      ]
     },
     "execution_count": 27,
     "metadata": {},
     "output_type": "execute_result"
    }
   ],
   "source": [
    "a"
   ]
  },
  {
   "cell_type": "code",
   "execution_count": 28,
   "id": "220a0441",
   "metadata": {},
   "outputs": [],
   "source": [
    "S = pd.Series(a)"
   ]
  },
  {
   "cell_type": "code",
   "execution_count": 29,
   "id": "c54a3e9f",
   "metadata": {},
   "outputs": [
    {
     "data": {
      "text/plain": [
       "1       satya\n",
       "2    Niranjan\n",
       "3       vikas\n",
       "4        uday\n",
       "dtype: object"
      ]
     },
     "execution_count": 29,
     "metadata": {},
     "output_type": "execute_result"
    }
   ],
   "source": [
    "S"
   ]
  },
  {
   "cell_type": "markdown",
   "id": "274d9edd",
   "metadata": {},
   "source": [
    "# Slicing"
   ]
  },
  {
   "cell_type": "code",
   "execution_count": 30,
   "id": "654f8eed",
   "metadata": {},
   "outputs": [
    {
     "data": {
      "text/plain": [
       "1       satya\n",
       "2    Niranjan\n",
       "3       vikas\n",
       "4        uday\n",
       "dtype: object"
      ]
     },
     "execution_count": 30,
     "metadata": {},
     "output_type": "execute_result"
    }
   ],
   "source": [
    "S"
   ]
  },
  {
   "cell_type": "code",
   "execution_count": 31,
   "id": "4385d334",
   "metadata": {},
   "outputs": [],
   "source": [
    "S = pd.Series([12,45,67,89,90,23,45,32,12],index = np.arange(9))"
   ]
  },
  {
   "cell_type": "code",
   "execution_count": 32,
   "id": "56b44fdb",
   "metadata": {},
   "outputs": [
    {
     "data": {
      "text/plain": [
       "0    12\n",
       "1    45\n",
       "2    67\n",
       "3    89\n",
       "4    90\n",
       "5    23\n",
       "6    45\n",
       "7    32\n",
       "8    12\n",
       "dtype: int64"
      ]
     },
     "execution_count": 32,
     "metadata": {},
     "output_type": "execute_result"
    }
   ],
   "source": [
    "S"
   ]
  },
  {
   "cell_type": "code",
   "execution_count": 33,
   "id": "3adcf8a9",
   "metadata": {},
   "outputs": [],
   "source": [
    "# return all elements of a series"
   ]
  },
  {
   "cell_type": "code",
   "execution_count": 34,
   "id": "0a48dd2a",
   "metadata": {},
   "outputs": [
    {
     "data": {
      "text/plain": [
       "0    12\n",
       "1    45\n",
       "2    67\n",
       "3    89\n",
       "4    90\n",
       "5    23\n",
       "6    45\n",
       "7    32\n",
       "8    12\n",
       "dtype: int64"
      ]
     },
     "execution_count": 34,
     "metadata": {},
     "output_type": "execute_result"
    }
   ],
   "source": [
    "S[:]"
   ]
  },
  {
   "cell_type": "code",
   "execution_count": 35,
   "id": "a9a2aaaf",
   "metadata": {},
   "outputs": [],
   "source": [
    "# return first 3 elements of a series"
   ]
  },
  {
   "cell_type": "code",
   "execution_count": 36,
   "id": "49627dbd",
   "metadata": {},
   "outputs": [
    {
     "data": {
      "text/plain": [
       "0    12\n",
       "1    45\n",
       "2    67\n",
       "dtype: int64"
      ]
     },
     "execution_count": 36,
     "metadata": {},
     "output_type": "execute_result"
    }
   ],
   "source": [
    "S[0:3]"
   ]
  },
  {
   "cell_type": "code",
   "execution_count": 37,
   "id": "ec4e4f6b",
   "metadata": {},
   "outputs": [],
   "source": [
    "# return last element of the series"
   ]
  },
  {
   "cell_type": "code",
   "execution_count": 38,
   "id": "dc106262",
   "metadata": {},
   "outputs": [
    {
     "data": {
      "text/plain": [
       "8    12\n",
       "dtype: int64"
      ]
     },
     "execution_count": 38,
     "metadata": {},
     "output_type": "execute_result"
    }
   ],
   "source": [
    "S[-1:]"
   ]
  },
  {
   "cell_type": "code",
   "execution_count": 39,
   "id": "5976988a",
   "metadata": {},
   "outputs": [],
   "source": [
    "# return last 2 element of the series"
   ]
  },
  {
   "cell_type": "code",
   "execution_count": 40,
   "id": "6f7ce907",
   "metadata": {},
   "outputs": [
    {
     "data": {
      "text/plain": [
       "7    32\n",
       "8    12\n",
       "dtype: int64"
      ]
     },
     "execution_count": 40,
     "metadata": {},
     "output_type": "execute_result"
    }
   ],
   "source": [
    "S[-2:]"
   ]
  },
  {
   "cell_type": "code",
   "execution_count": 41,
   "id": "6e94d5f3",
   "metadata": {},
   "outputs": [],
   "source": [
    "# return all elements of the series except last two"
   ]
  },
  {
   "cell_type": "code",
   "execution_count": 42,
   "id": "611f02d5",
   "metadata": {},
   "outputs": [
    {
     "data": {
      "text/plain": [
       "0    12\n",
       "1    45\n",
       "2    67\n",
       "3    89\n",
       "4    90\n",
       "5    23\n",
       "6    45\n",
       "dtype: int64"
      ]
     },
     "execution_count": 42,
     "metadata": {},
     "output_type": "execute_result"
    }
   ],
   "source": [
    "S[:-2]"
   ]
  },
  {
   "cell_type": "code",
   "execution_count": 43,
   "id": "65acc43d",
   "metadata": {},
   "outputs": [
    {
     "data": {
      "text/plain": [
       "0    12\n",
       "1    45\n",
       "2    67\n",
       "3    89\n",
       "4    90\n",
       "5    23\n",
       "6    45\n",
       "7    32\n",
       "dtype: int64"
      ]
     },
     "execution_count": 43,
     "metadata": {},
     "output_type": "execute_result"
    }
   ],
   "source": [
    "S[:-1]"
   ]
  },
  {
   "cell_type": "markdown",
   "id": "d66923b3",
   "metadata": {},
   "source": [
    "# append a series"
   ]
  },
  {
   "cell_type": "code",
   "execution_count": 44,
   "id": "bba71b98",
   "metadata": {},
   "outputs": [],
   "source": [
    "s1 = pd.Series([23,45,67],index = [1,2,3])\n",
    "s2 = pd.Series([45,12,36],index = ['a','b','c'])"
   ]
  },
  {
   "cell_type": "code",
   "execution_count": 45,
   "id": "34adce26",
   "metadata": {},
   "outputs": [
    {
     "data": {
      "text/plain": [
       "(1    23\n",
       " 2    45\n",
       " 3    67\n",
       " dtype: int64,\n",
       " a    45\n",
       " b    12\n",
       " c    36\n",
       " dtype: int64)"
      ]
     },
     "execution_count": 45,
     "metadata": {},
     "output_type": "execute_result"
    }
   ],
   "source": [
    "s1 , s2"
   ]
  },
  {
   "cell_type": "code",
   "execution_count": 46,
   "id": "78940069",
   "metadata": {},
   "outputs": [],
   "source": [
    "s3 = s1.append(s2)"
   ]
  },
  {
   "cell_type": "code",
   "execution_count": 47,
   "id": "448a8b83",
   "metadata": {},
   "outputs": [
    {
     "data": {
      "text/plain": [
       "1    23\n",
       "2    45\n",
       "3    67\n",
       "a    45\n",
       "b    12\n",
       "c    36\n",
       "dtype: int64"
      ]
     },
     "execution_count": 47,
     "metadata": {},
     "output_type": "execute_result"
    }
   ],
   "source": [
    "s3"
   ]
  },
  {
   "cell_type": "code",
   "execution_count": 48,
   "id": "ba43cd0d",
   "metadata": {},
   "outputs": [
    {
     "data": {
      "text/plain": [
       "1    23\n",
       "2    45\n",
       "3    67\n",
       "a    45\n",
       "b    12\n",
       "c    36\n",
       "dtype: int64"
      ]
     },
     "execution_count": 48,
     "metadata": {},
     "output_type": "execute_result"
    }
   ],
   "source": [
    "s3"
   ]
  },
  {
   "cell_type": "code",
   "execution_count": 49,
   "id": "16a460f5",
   "metadata": {},
   "outputs": [
    {
     "data": {
      "text/plain": [
       "1    23\n",
       "2    45\n",
       "3    67\n",
       "b    12\n",
       "c    36\n",
       "dtype: int64"
      ]
     },
     "execution_count": 49,
     "metadata": {},
     "output_type": "execute_result"
    }
   ],
   "source": [
    "s3.drop('a')"
   ]
  },
  {
   "cell_type": "code",
   "execution_count": 50,
   "id": "44b70abe",
   "metadata": {},
   "outputs": [
    {
     "data": {
      "text/plain": [
       "1    23\n",
       "2    45\n",
       "3    67\n",
       "a    45\n",
       "b    12\n",
       "c    36\n",
       "dtype: int64"
      ]
     },
     "execution_count": 50,
     "metadata": {},
     "output_type": "execute_result"
    }
   ],
   "source": [
    "s3"
   ]
  },
  {
   "cell_type": "code",
   "execution_count": 51,
   "id": "652bb4c5",
   "metadata": {},
   "outputs": [],
   "source": [
    "s3.drop('a',inplace = True)"
   ]
  },
  {
   "cell_type": "code",
   "execution_count": 52,
   "id": "1c4fd4ae",
   "metadata": {},
   "outputs": [
    {
     "data": {
      "text/plain": [
       "1    23\n",
       "2    45\n",
       "3    67\n",
       "b    12\n",
       "c    36\n",
       "dtype: int64"
      ]
     },
     "execution_count": 52,
     "metadata": {},
     "output_type": "execute_result"
    }
   ],
   "source": [
    "s3"
   ]
  },
  {
   "cell_type": "code",
   "execution_count": 53,
   "id": "aa85b02e",
   "metadata": {},
   "outputs": [],
   "source": [
    "# inplace = False ===> it deosn't effect original series\n",
    "# inplace = True  ===> it effects original series"
   ]
  },
  {
   "cell_type": "code",
   "execution_count": 54,
   "id": "d74b72c8",
   "metadata": {},
   "outputs": [],
   "source": [
    "#append an iten to series"
   ]
  },
  {
   "cell_type": "code",
   "execution_count": 58,
   "id": "eda91686",
   "metadata": {},
   "outputs": [],
   "source": [
    "s4 =s3.append(pd.Series({'d':50}))"
   ]
  },
  {
   "cell_type": "code",
   "execution_count": 59,
   "id": "68a36e16",
   "metadata": {},
   "outputs": [
    {
     "data": {
      "text/plain": [
       "1    23\n",
       "2    45\n",
       "3    67\n",
       "b    12\n",
       "c    36\n",
       "d    50\n",
       "dtype: int64"
      ]
     },
     "execution_count": 59,
     "metadata": {},
     "output_type": "execute_result"
    }
   ],
   "source": [
    "s4"
   ]
  },
  {
   "cell_type": "markdown",
   "id": "7e12edbf",
   "metadata": {},
   "source": [
    "# operations on series"
   ]
  },
  {
   "cell_type": "code",
   "execution_count": 61,
   "id": "23f1ee88",
   "metadata": {},
   "outputs": [],
   "source": [
    "s1 = pd.Series(np.array([10,20,30]))\n",
    "s2 = pd.Series(np.array([40,50,60]))"
   ]
  },
  {
   "cell_type": "code",
   "execution_count": 62,
   "id": "32dc6385",
   "metadata": {},
   "outputs": [
    {
     "data": {
      "text/plain": [
       "(0    10\n",
       " 1    20\n",
       " 2    30\n",
       " dtype: int32,\n",
       " 0    40\n",
       " 1    50\n",
       " 2    60\n",
       " dtype: int32)"
      ]
     },
     "execution_count": 62,
     "metadata": {},
     "output_type": "execute_result"
    }
   ],
   "source": [
    "s1, s2"
   ]
  },
  {
   "cell_type": "code",
   "execution_count": 63,
   "id": "ce0cadcb",
   "metadata": {},
   "outputs": [
    {
     "data": {
      "text/plain": [
       "0    50\n",
       "1    70\n",
       "2    90\n",
       "dtype: int32"
      ]
     },
     "execution_count": 63,
     "metadata": {},
     "output_type": "execute_result"
    }
   ],
   "source": [
    "s1.add(s2)"
   ]
  },
  {
   "cell_type": "code",
   "execution_count": 64,
   "id": "45f26d62",
   "metadata": {},
   "outputs": [
    {
     "data": {
      "text/plain": [
       "0    50\n",
       "1    70\n",
       "2    90\n",
       "dtype: int32"
      ]
     },
     "execution_count": 64,
     "metadata": {},
     "output_type": "execute_result"
    }
   ],
   "source": [
    "s1+s2"
   ]
  },
  {
   "cell_type": "code",
   "execution_count": 65,
   "id": "87fa71fd",
   "metadata": {},
   "outputs": [
    {
     "data": {
      "text/plain": [
       "0   -30\n",
       "1   -30\n",
       "2   -30\n",
       "dtype: int32"
      ]
     },
     "execution_count": 65,
     "metadata": {},
     "output_type": "execute_result"
    }
   ],
   "source": [
    "s1.sub(s2)"
   ]
  },
  {
   "cell_type": "code",
   "execution_count": 66,
   "id": "399c053f",
   "metadata": {},
   "outputs": [
    {
     "data": {
      "text/plain": [
       "0    30\n",
       "1    30\n",
       "2    30\n",
       "dtype: int32"
      ]
     },
     "execution_count": 66,
     "metadata": {},
     "output_type": "execute_result"
    }
   ],
   "source": [
    "s2.sub(s1)"
   ]
  },
  {
   "cell_type": "code",
   "execution_count": 67,
   "id": "2c76e39a",
   "metadata": {},
   "outputs": [
    {
     "data": {
      "text/plain": [
       "0   -30\n",
       "1   -30\n",
       "2   -30\n",
       "dtype: int32"
      ]
     },
     "execution_count": 67,
     "metadata": {},
     "output_type": "execute_result"
    }
   ],
   "source": [
    "s1.subtract(s2)"
   ]
  },
  {
   "cell_type": "code",
   "execution_count": 68,
   "id": "e85070c2",
   "metadata": {},
   "outputs": [
    {
     "data": {
      "text/plain": [
       "0   -30\n",
       "1   -30\n",
       "2   -30\n",
       "dtype: int32"
      ]
     },
     "execution_count": 68,
     "metadata": {},
     "output_type": "execute_result"
    }
   ],
   "source": [
    "s1 - s2"
   ]
  },
  {
   "cell_type": "code",
   "execution_count": 69,
   "id": "a4ac8864",
   "metadata": {},
   "outputs": [
    {
     "data": {
      "text/plain": [
       "0     400\n",
       "1    1000\n",
       "2    1800\n",
       "dtype: int32"
      ]
     },
     "execution_count": 69,
     "metadata": {},
     "output_type": "execute_result"
    }
   ],
   "source": [
    "s1.mul(s2)"
   ]
  },
  {
   "cell_type": "code",
   "execution_count": 70,
   "id": "e1903b10",
   "metadata": {},
   "outputs": [
    {
     "data": {
      "text/plain": [
       "0     400\n",
       "1    1000\n",
       "2    1800\n",
       "dtype: int32"
      ]
     },
     "execution_count": 70,
     "metadata": {},
     "output_type": "execute_result"
    }
   ],
   "source": [
    "s1.multiply(s2)"
   ]
  },
  {
   "cell_type": "code",
   "execution_count": 71,
   "id": "240ae06b",
   "metadata": {},
   "outputs": [
    {
     "data": {
      "text/plain": [
       "0     400\n",
       "1    1000\n",
       "2    1800\n",
       "dtype: int32"
      ]
     },
     "execution_count": 71,
     "metadata": {},
     "output_type": "execute_result"
    }
   ],
   "source": [
    "s1*s2"
   ]
  },
  {
   "cell_type": "code",
   "execution_count": 72,
   "id": "64529587",
   "metadata": {},
   "outputs": [
    {
     "data": {
      "text/plain": [
       "0    10\n",
       "1    20\n",
       "2    30\n",
       "dtype: int32"
      ]
     },
     "execution_count": 72,
     "metadata": {},
     "output_type": "execute_result"
    }
   ],
   "source": [
    "s1"
   ]
  },
  {
   "cell_type": "code",
   "execution_count": 73,
   "id": "5d767166",
   "metadata": {},
   "outputs": [
    {
     "data": {
      "text/plain": [
       "0    100\n",
       "1    110\n",
       "2    120\n",
       "dtype: int32"
      ]
     },
     "execution_count": 73,
     "metadata": {},
     "output_type": "execute_result"
    }
   ],
   "source": [
    "s1.add(90)"
   ]
  },
  {
   "cell_type": "code",
   "execution_count": 74,
   "id": "5a197a49",
   "metadata": {},
   "outputs": [
    {
     "data": {
      "text/plain": [
       "0    10\n",
       "1    20\n",
       "2    30\n",
       "dtype: int32"
      ]
     },
     "execution_count": 74,
     "metadata": {},
     "output_type": "execute_result"
    }
   ],
   "source": [
    "s1"
   ]
  },
  {
   "cell_type": "code",
   "execution_count": 75,
   "id": "be158f08",
   "metadata": {},
   "outputs": [
    {
     "data": {
      "text/plain": [
       "0    1000\n",
       "1    2000\n",
       "2    3000\n",
       "dtype: int32"
      ]
     },
     "execution_count": 75,
     "metadata": {},
     "output_type": "execute_result"
    }
   ],
   "source": [
    "s1.multiply(100)"
   ]
  },
  {
   "cell_type": "code",
   "execution_count": 76,
   "id": "4dc3b3b4",
   "metadata": {},
   "outputs": [],
   "source": [
    "# series comparision"
   ]
  },
  {
   "cell_type": "code",
   "execution_count": 80,
   "id": "9431cce0",
   "metadata": {},
   "outputs": [
    {
     "data": {
      "text/plain": [
       "False"
      ]
     },
     "execution_count": 80,
     "metadata": {},
     "output_type": "execute_result"
    }
   ],
   "source": [
    "s1.equals(s2)"
   ]
  },
  {
   "cell_type": "code",
   "execution_count": 78,
   "id": "7b071182",
   "metadata": {},
   "outputs": [
    {
     "data": {
      "text/plain": [
       "20.0"
      ]
     },
     "execution_count": 78,
     "metadata": {},
     "output_type": "execute_result"
    }
   ],
   "source": [
    "s1.mean()"
   ]
  },
  {
   "cell_type": "code",
   "execution_count": null,
   "id": "e28aec28",
   "metadata": {},
   "outputs": [],
   "source": []
  }
 ],
 "metadata": {
  "kernelspec": {
   "display_name": "Python 3",
   "language": "python",
   "name": "python3"
  },
  "language_info": {
   "codemirror_mode": {
    "name": "ipython",
    "version": 3
   },
   "file_extension": ".py",
   "mimetype": "text/x-python",
   "name": "python",
   "nbconvert_exporter": "python",
   "pygments_lexer": "ipython3",
   "version": "3.8.8"
  }
 },
 "nbformat": 4,
 "nbformat_minor": 5
}
