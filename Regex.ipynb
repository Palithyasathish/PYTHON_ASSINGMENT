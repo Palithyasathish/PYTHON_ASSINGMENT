{
 "cells": [
  {
   "cell_type": "markdown",
   "id": "76ed144c",
   "metadata": {},
   "source": [
    "# RegEx"
   ]
  },
  {
   "cell_type": "code",
   "execution_count": 1,
   "id": "fb5e19ba",
   "metadata": {},
   "outputs": [],
   "source": [
    "# Regular expression is a sequence of charcters that forms a search pattern.\n",
    "# Regular expressions are used to check if a string contains the specified search pattern"
   ]
  },
  {
   "cell_type": "code",
   "execution_count": 2,
   "id": "f5a4f875",
   "metadata": {},
   "outputs": [],
   "source": [
    "# re - package "
   ]
  },
  {
   "cell_type": "code",
   "execution_count": 3,
   "id": "a7e2740c",
   "metadata": {},
   "outputs": [],
   "source": [
    "import re"
   ]
  },
  {
   "cell_type": "code",
   "execution_count": 4,
   "id": "e8612d40",
   "metadata": {},
   "outputs": [],
   "source": [
    "x = 'The sun raises in the east'\n",
    "y = re.search('The sun',x)"
   ]
  },
  {
   "cell_type": "code",
   "execution_count": 5,
   "id": "bc77ee41",
   "metadata": {},
   "outputs": [
    {
     "data": {
      "text/plain": [
       "<re.Match object; span=(0, 7), match='The sun'>"
      ]
     },
     "execution_count": 5,
     "metadata": {},
     "output_type": "execute_result"
    }
   ],
   "source": [
    "y"
   ]
  },
  {
   "cell_type": "markdown",
   "id": "7451eb19",
   "metadata": {},
   "source": [
    "# RegEx Functions"
   ]
  },
  {
   "cell_type": "markdown",
   "id": "4491494e",
   "metadata": {},
   "source": [
    "1. findall -------Returns a list containing all matches \n",
    "2. search  -------Returns a match object if there is a match anywhere in \n",
    "                  the string\n",
    "3. split   -------Returns a list where the string has been split at each \n",
    "                  Match \n",
    "4. sub     -------Replaces one or many matches with a string"
   ]
  },
  {
   "cell_type": "markdown",
   "id": "4989143a",
   "metadata": {},
   "source": [
    "# Metacharacters"
   ]
  },
  {
   "cell_type": "raw",
   "id": "dcfbf0e7",
   "metadata": {},
   "source": [
    "1. [] - A set of characters \n",
    "2. \\  - signals a special sequence\n",
    "3. .  - Any character (Except new line character)\n",
    "4. ^  - Starts with \n",
    "5. $  - Ends with \n",
    "6. *  - Zero or more occurances\n",
    "7. +  - One or more occurances\n",
    "8. ?  - Zero or one occurance\n",
    "9. {} - Extactly the specified number of occurances\n",
    "10. | -Either or\n",
    "11. () - capture and group"
   ]
  },
  {
   "cell_type": "code",
   "execution_count": 6,
   "id": "109d853d",
   "metadata": {},
   "outputs": [
    {
     "name": "stdout",
     "output_type": "stream",
     "text": [
      "['h', 'e', 'a', 'i', 'e', 'i', 'h', 'e', 'e', 'a']\n"
     ]
    }
   ],
   "source": [
    "# set of characters []\n",
    "x = 'The sun raises in the east'\n",
    "# find all lower case characters alphabetically between \"a\" and 'K'\n",
    "y = re.findall(\"[a-k]\",x)\n",
    "print(y)"
   ]
  },
  {
   "cell_type": "code",
   "execution_count": 7,
   "id": "43dda369",
   "metadata": {},
   "outputs": [
    {
     "name": "stdout",
     "output_type": "stream",
     "text": [
      "['h', 'e', 'n', 'a', 'i', 'e', 'i', 'n', 'h', 'e', 'e', 'a']\n"
     ]
    }
   ],
   "source": [
    "y = re.findall(\"[a-n]\",x)\n",
    "print(y)"
   ]
  },
  {
   "cell_type": "code",
   "execution_count": 8,
   "id": "6defea32",
   "metadata": {},
   "outputs": [
    {
     "name": "stdout",
     "output_type": "stream",
     "text": [
      "['3', '4']\n"
     ]
    }
   ],
   "source": [
    "data = \" That will cost aroung 34 rupees\"\n",
    "#find all digit characters\n",
    "y = re.findall('\\d',data)\n",
    "print(y)"
   ]
  },
  {
   "cell_type": "code",
   "execution_count": 42,
   "id": "d4189aff",
   "metadata": {},
   "outputs": [],
   "source": [
    "x = \"hello innomatics\"\n",
    "# search a sequence that starts with \"he\" followed by two (any) \n",
    "#characters , and an 'o'"
   ]
  },
  {
   "cell_type": "code",
   "execution_count": 43,
   "id": "966ebca6",
   "metadata": {},
   "outputs": [
    {
     "name": "stdout",
     "output_type": "stream",
     "text": [
      "['hello']\n"
     ]
    }
   ],
   "source": [
    "s = re.findall(\"h....\",x)\n",
    "print(s)"
   ]
  },
  {
   "cell_type": "code",
   "execution_count": 45,
   "id": "1ff126da",
   "metadata": {},
   "outputs": [
    {
     "name": "stdout",
     "output_type": "stream",
     "text": [
      "Yes!, The give string starts with hello\n"
     ]
    }
   ],
   "source": [
    "# starts with \n",
    "x = 'hello innomatics hyderabad'\n",
    "# check if string starts with hello \n",
    "y = re.findall(\"^hello\",x)\n",
    "if y:\n",
    "    print('Yes!, The give string starts with hello')\n",
    "else:\n",
    "    print('No!, The given string not starts with hello')"
   ]
  },
  {
   "cell_type": "code",
   "execution_count": 50,
   "id": "c53931b1",
   "metadata": {},
   "outputs": [
    {
     "name": "stdout",
     "output_type": "stream",
     "text": [
      "Yes!, The give string starts with inn\n"
     ]
    }
   ],
   "source": [
    "# starts with \n",
    "x = 'innomatics hyderabad welcomes you'\n",
    "# check if string starts with hello \n",
    "y = re.findall(\"^inn\",x)\n",
    "if y:\n",
    "    print('Yes!, The give string starts with inn')\n",
    "else:\n",
    "    print('No!, The given string not starts with inn')"
   ]
  },
  {
   "cell_type": "code",
   "execution_count": 69,
   "id": "816f21ab",
   "metadata": {},
   "outputs": [
    {
     "name": "stdout",
     "output_type": "stream",
     "text": [
      "Yes! string ends with search pattern\n"
     ]
    }
   ],
   "source": [
    "# ends with\n",
    "x = 'innomatics hyderabad welcomes you{}'\n",
    "y = re.findall('{}$',x)\n",
    "if y :\n",
    "    print('Yes! string ends with search pattern')\n",
    "else:\n",
    "    print('No! string not ends with search pattern')"
   ]
  },
  {
   "cell_type": "code",
   "execution_count": 70,
   "id": "8d57efac",
   "metadata": {},
   "outputs": [],
   "source": [
    "# * zero or more occurances "
   ]
  },
  {
   "cell_type": "code",
   "execution_count": 100,
   "id": "706622b5",
   "metadata": {},
   "outputs": [
    {
     "name": "stdout",
     "output_type": "stream",
     "text": [
      "['innomatic']\n"
     ]
    }
   ],
   "source": [
    "x = 'helloc innomaticis'\n",
    "# search for a sequence that starts with \"he\" followed by 0 or more any\n",
    "# characters and an \"o\"\n",
    "y = re.findall(\"i.*c\",x)\n",
    "print(y)"
   ]
  },
  {
   "cell_type": "code",
   "execution_count": 135,
   "id": "4d331ef1",
   "metadata": {},
   "outputs": [
    {
     "name": "stdout",
     "output_type": "stream",
     "text": [
      "['hello']\n"
     ]
    }
   ],
   "source": [
    "#+ one or more occurances\n",
    "x = 'hello satyakumar'\n",
    "# search a sequence thats starts with \"he \" followed by one or more\n",
    "# (any) characters and an 'o'\n",
    "y = re.findall('he.+o',x)\n",
    "print(y)"
   ]
  },
  {
   "cell_type": "code",
   "execution_count": 146,
   "id": "651e8f7d",
   "metadata": {},
   "outputs": [
    {
     "name": "stdout",
     "output_type": "stream",
     "text": [
      "['hyder']\n"
     ]
    }
   ],
   "source": [
    "x = 'hyderabad is good city and famous for biryani'\n",
    "#Search for a pattern that starts with \"hy follwed by 0 or 1 any \n",
    "#character and an \"d\"\n",
    "y = re.findall(\"hy.?r\",x)\n",
    "print(y)"
   ]
  },
  {
   "cell_type": "code",
   "execution_count": 154,
   "id": "43e62352",
   "metadata": {},
   "outputs": [
    {
     "name": "stdout",
     "output_type": "stream",
     "text": [
      "['Innomatics']\n"
     ]
    }
   ],
   "source": [
    "# {} exactly the specified number of occurances\n",
    "data = 'hello Innomatics, Hyderabad. hello Hyderabad'\n",
    "# search for a pattern that starts with \"he\"  followed by exactly two \n",
    "#characters and an 'o'\n",
    "y = re.findall('In.{7}s',data)\n",
    "print(y)"
   ]
  },
  {
   "cell_type": "code",
   "execution_count": 158,
   "id": "aa2462c5",
   "metadata": {},
   "outputs": [],
   "source": [
    "# either or \n",
    "x = \"I live in hyderabad and travels to banglore. I dont in bng\"\n",
    "# check if the string contains either \"live|stay\""
   ]
  },
  {
   "cell_type": "code",
   "execution_count": 159,
   "id": "9b5e0aae",
   "metadata": {},
   "outputs": [
    {
     "name": "stdout",
     "output_type": "stream",
     "text": [
      "['live']\n"
     ]
    }
   ],
   "source": [
    "y = re.findall(\"live|stay\",x)\n",
    "print(y)"
   ]
  },
  {
   "cell_type": "markdown",
   "id": "0416c1b3",
   "metadata": {},
   "source": [
    "# findall()"
   ]
  },
  {
   "cell_type": "code",
   "execution_count": 160,
   "id": "f5ca8627",
   "metadata": {},
   "outputs": [],
   "source": [
    "# findall() return a list containing all matches\n",
    "# The list contains the matches in the order they are found\n",
    "# if no matches are found , an empty list is returned"
   ]
  },
  {
   "cell_type": "code",
   "execution_count": 161,
   "id": "4cdb89fb",
   "metadata": {},
   "outputs": [
    {
     "name": "stdout",
     "output_type": "stream",
     "text": [
      "['a', 'a', 'a']\n"
     ]
    }
   ],
   "source": [
    "x = 'This is datascience class'\n",
    "y = re.findall('a',x)\n",
    "print(y)"
   ]
  },
  {
   "cell_type": "code",
   "execution_count": 162,
   "id": "f82fa8ac",
   "metadata": {},
   "outputs": [
    {
     "name": "stdout",
     "output_type": "stream",
     "text": [
      "[]\n"
     ]
    }
   ],
   "source": [
    "x = 'This is datascience class'\n",
    "y = re.findall('x',x)\n",
    "print(y)"
   ]
  },
  {
   "cell_type": "code",
   "execution_count": 163,
   "id": "2c70b532",
   "metadata": {},
   "outputs": [
    {
     "name": "stdout",
     "output_type": "stream",
     "text": [
      "['h', 'i', 'i', 'd', 'a', 'a', 'c', 'i', 'e', 'c', 'e', 'c', 'l', 'a']\n"
     ]
    }
   ],
   "source": [
    "x = 'This is datascience class'\n",
    "y = re.findall('[a-m]',x)\n",
    "print(y)"
   ]
  },
  {
   "cell_type": "markdown",
   "id": "cc8c1f49",
   "metadata": {},
   "source": [
    "# Search() "
   ]
  },
  {
   "cell_type": "code",
   "execution_count": 164,
   "id": "0ffe3069",
   "metadata": {},
   "outputs": [],
   "source": [
    "# The search function searches the string for a match and returns \n",
    "# a match object if there is a match\n",
    "# if there is more than one match , only the first occurance of the \n",
    "#match will be returned"
   ]
  },
  {
   "cell_type": "code",
   "execution_count": 165,
   "id": "03ea090c",
   "metadata": {},
   "outputs": [
    {
     "name": "stdout",
     "output_type": "stream",
     "text": [
      "<re.Match object; span=(0, 9), match='Hyderabad'>\n"
     ]
    }
   ],
   "source": [
    "# more than one match\n",
    "x = \"\"\"Hyderabad is famous for pearls and biryani.It is the \n",
    "capital of  Telangana state. Hyderabad has good transportation\"\"\"\n",
    "y = re.search('Hyderabad',x)\n",
    "print(y)"
   ]
  },
  {
   "cell_type": "code",
   "execution_count": 167,
   "id": "8ebf2d6d",
   "metadata": {},
   "outputs": [
    {
     "name": "stdout",
     "output_type": "stream",
     "text": [
      "<re.Match object; span=(3, 4), match='e'>\n"
     ]
    }
   ],
   "source": [
    "# search for first occurance of \"e\"\n",
    "y = re.search('e',x)\n",
    "print(y)"
   ]
  },
  {
   "cell_type": "code",
   "execution_count": 169,
   "id": "258ac1e7",
   "metadata": {},
   "outputs": [
    {
     "name": "stdout",
     "output_type": "stream",
     "text": [
      "<re.Match object; span=(53, 54), match='\\n'>\n"
     ]
    }
   ],
   "source": [
    "#search for first new line character\n",
    "x = \"\"\"Hyderabad is famous for pearls and biryani.It is the \n",
    "capital of  Telangana state. Hyderabad has good transportation\"\"\"\n",
    "y = re.search('\\n',x)\n",
    "print(y)"
   ]
  },
  {
   "cell_type": "code",
   "execution_count": 170,
   "id": "1eba95da",
   "metadata": {},
   "outputs": [
    {
     "name": "stdout",
     "output_type": "stream",
     "text": [
      "<re.Match object; span=(9, 10), match=' '>\n"
     ]
    }
   ],
   "source": [
    "# search for first white space character\n",
    "x = \"\"\"Hyderabad is famous for pearls and biryani.It is the \n",
    "capital of  Telangana state. Hyderabad has good transportation\"\"\"\n",
    "y = re.search('\\s',x)\n",
    "print(y)"
   ]
  },
  {
   "cell_type": "markdown",
   "id": "031e6769",
   "metadata": {},
   "source": [
    "# Split()"
   ]
  },
  {
   "cell_type": "code",
   "execution_count": 171,
   "id": "accdd41f",
   "metadata": {},
   "outputs": [],
   "source": [
    "# the split() function returns a list where the string has been split \n",
    "# at each match\n",
    "# we can control the number of occurances by specifying the maxsplit\n",
    "#parameter"
   ]
  },
  {
   "cell_type": "code",
   "execution_count": 173,
   "id": "5ac1430b",
   "metadata": {},
   "outputs": [
    {
     "name": "stdout",
     "output_type": "stream",
     "text": [
      "['Hyderabad', 'is', 'famous', 'for', 'pearls', 'and', 'biryani.It', 'is', 'the', '', 'capital', 'of', 'Telangana', 'state.', 'Hyderabad', 'has', 'good', 'transportation']\n"
     ]
    }
   ],
   "source": [
    "x = \"\"\"Hyderabad is famous for pearls and biryani.It is the \n",
    "capital of Telangana state.Hyderabad has good transportation\"\"\"\n",
    "y = re.split('\\s',x)\n",
    "print(y)"
   ]
  },
  {
   "cell_type": "code",
   "execution_count": 174,
   "id": "96a5d99f",
   "metadata": {},
   "outputs": [
    {
     "name": "stdout",
     "output_type": "stream",
     "text": [
      "['Hyderabad is famous for ', 'pearls and biryani.It is the ', 'capital of Telangana state.', 'Hyderabad has good transportation']\n"
     ]
    }
   ],
   "source": [
    "x = \"\"\"Hyderabad is famous for \n",
    "pearls and biryani.It is the \n",
    "capital of Telangana state.\n",
    "Hyderabad has good transportation\"\"\"\n",
    "y = re.split('\\n',x)\n",
    "print(y)"
   ]
  },
  {
   "cell_type": "code",
   "execution_count": 175,
   "id": "08accadb",
   "metadata": {},
   "outputs": [
    {
     "name": "stdout",
     "output_type": "stream",
     "text": [
      "['Hyder', 'b', 'd is f', 'mous for \\npe', 'rls ', 'nd biry', 'ni.It is the \\nc', 'pit', 'l of Tel', 'ng', 'n', ' st', 'te.\\nHyder', 'b', 'd h', 's good tr', 'nsport', 'tion']\n"
     ]
    }
   ],
   "source": [
    "x = \"\"\"Hyderabad is famous for \n",
    "pearls and biryani.It is the \n",
    "capital of Telangana state.\n",
    "Hyderabad has good transportation\"\"\"\n",
    "y = re.split('a',x)\n",
    "print(y)"
   ]
  },
  {
   "cell_type": "code",
   "execution_count": 176,
   "id": "01ceacc7",
   "metadata": {},
   "outputs": [
    {
     "name": "stdout",
     "output_type": "stream",
     "text": [
      "['Hyderabad', 'is famous for pearls and biryani.It is the \\ncapital of Telangana state.Hyderabad has good transportation']\n"
     ]
    }
   ],
   "source": [
    "# split the string at first occurance of match\n",
    "x = \"\"\"Hyderabad is famous for pearls and biryani.It is the \n",
    "capital of Telangana state.Hyderabad has good transportation\"\"\"\n",
    "y = re.split('\\s',x,1)\n",
    "print(y)"
   ]
  },
  {
   "cell_type": "code",
   "execution_count": 177,
   "id": "7d229c0a",
   "metadata": {},
   "outputs": [
    {
     "name": "stdout",
     "output_type": "stream",
     "text": [
      "['Hyderabad', 'is', 'famous for pearls and biryani.It is the \\ncapital of Telangana state.Hyderabad has good transportation']\n"
     ]
    }
   ],
   "source": [
    "# split the string at first two occurance of match\n",
    "x = \"\"\"Hyderabad is famous for pearls and biryani.It is the \n",
    "capital of Telangana state.Hyderabad has good transportation\"\"\"\n",
    "y = re.split('\\s',x,2)\n",
    "print(y)"
   ]
  },
  {
   "cell_type": "markdown",
   "id": "ee703586",
   "metadata": {},
   "source": [
    "# sub()"
   ]
  },
  {
   "cell_type": "code",
   "execution_count": 179,
   "id": "75b7b381",
   "metadata": {},
   "outputs": [
    {
     "name": "stdout",
     "output_type": "stream",
     "text": [
      "Hai Innomatics, Hai all\n"
     ]
    }
   ],
   "source": [
    "#The sub() function replaces the matches with the text of our choice\n",
    "x = 'Hello Innomatics, Hello all'\n",
    "y = re.sub('Hello','Hai',x)\n",
    "print(y)"
   ]
  },
  {
   "cell_type": "code",
   "execution_count": 184,
   "id": "0af8f55b",
   "metadata": {},
   "outputs": [
    {
     "name": "stdout",
     "output_type": "stream",
     "text": [
      "Hai Innomatics, Hello all\n"
     ]
    }
   ],
   "source": [
    "#The sub() function replaces the matches with the text of our choice\n",
    "x = 'Hello Innomatics, Hello all'\n",
    "y = re.sub('Hello','Hai',x,1)\n",
    "print(y)"
   ]
  },
  {
   "cell_type": "code",
   "execution_count": 186,
   "id": "f5e3cf78",
   "metadata": {},
   "outputs": [
    {
     "name": "stdout",
     "output_type": "stream",
     "text": [
      "Hello10Innomatics,10Hello10all\n"
     ]
    }
   ],
   "source": [
    "x = 'Hello Innomatics, Hello all'\n",
    "y = re.sub(\"\\s\",'10',x)\n",
    "print(y)"
   ]
  },
  {
   "cell_type": "code",
   "execution_count": 187,
   "id": "0070d006",
   "metadata": {},
   "outputs": [
    {
     "data": {
      "text/plain": [
       "<re.Match object; span=(0, 5), match='Hello'>"
      ]
     },
     "execution_count": 187,
     "metadata": {},
     "output_type": "execute_result"
    }
   ],
   "source": [
    "x = 'Hello Innomatics, Hello all'\n",
    "# search a sequence hello in the given string\n",
    "y = re.search('Hello',x)\n",
    "y"
   ]
  },
  {
   "cell_type": "markdown",
   "id": "2e0727f5",
   "metadata": {},
   "source": [
    "# Match Object"
   ]
  },
  {
   "cell_type": "code",
   "execution_count": 188,
   "id": "f444d223",
   "metadata": {},
   "outputs": [],
   "source": [
    "# it is an object containing information about the search and result\n",
    "# the match object have properties used to retrieve information about \n",
    "#search item and result\n"
   ]
  },
  {
   "cell_type": "raw",
   "id": "c4e3e571",
   "metadata": {},
   "source": [
    ".span() returns a tuple containing start and end positions of the match\n",
    ".string() returns string passed to the function\n",
    ".group() returns the part of the string where there was a match"
   ]
  },
  {
   "cell_type": "code",
   "execution_count": 189,
   "id": "adf069b8",
   "metadata": {},
   "outputs": [],
   "source": [
    "x = 'Hello Innomatics, Hello all'\n",
    "# search a sequence hello in the given string\n",
    "y = re.search('Hello',x)\n"
   ]
  },
  {
   "cell_type": "code",
   "execution_count": 190,
   "id": "f4319961",
   "metadata": {},
   "outputs": [
    {
     "data": {
      "text/plain": [
       "(0, 5)"
      ]
     },
     "execution_count": 190,
     "metadata": {},
     "output_type": "execute_result"
    }
   ],
   "source": [
    "y.span()"
   ]
  },
  {
   "cell_type": "code",
   "execution_count": 192,
   "id": "b6f4211d",
   "metadata": {},
   "outputs": [
    {
     "data": {
      "text/plain": [
       "'Hello Innomatics, Hello all'"
      ]
     },
     "execution_count": 192,
     "metadata": {},
     "output_type": "execute_result"
    }
   ],
   "source": [
    "y.string"
   ]
  },
  {
   "cell_type": "code",
   "execution_count": 193,
   "id": "56141f8f",
   "metadata": {},
   "outputs": [
    {
     "data": {
      "text/plain": [
       "'Hello'"
      ]
     },
     "execution_count": 193,
     "metadata": {},
     "output_type": "execute_result"
    }
   ],
   "source": [
    "y.group()"
   ]
  },
  {
   "cell_type": "markdown",
   "id": "0db2b28e",
   "metadata": {},
   "source": [
    "# Character classes"
   ]
  },
  {
   "cell_type": "raw",
   "id": "26c9f614",
   "metadata": {},
   "source": [
    " Character class             Description\n",
    " \\d                          any numeric digit from 0 to 9\n",
    " \\D                          Any character that is not a numeric digit from 0 to 9\n",
    " \\w                          Any Letter, numeric digit, or the underscore character\n",
    " \\W                          Any character that is not a letter , numeric digit,or the underscore\n",
    " \\s                          Any space , tab or new line character\n",
    " \\S                          Any character that is not a space ,tab or new line\n",
    " \\b                          Word boundary. This is a zero width assertion that matches only at \n",
    "                             the begining or end of word"
   ]
  },
  {
   "cell_type": "code",
   "execution_count": null,
   "id": "9f6b71bf",
   "metadata": {},
   "outputs": [],
   "source": []
  }
 ],
 "metadata": {
  "kernelspec": {
   "display_name": "Python 3",
   "language": "python",
   "name": "python3"
  },
  "language_info": {
   "codemirror_mode": {
    "name": "ipython",
    "version": 3
   },
   "file_extension": ".py",
   "mimetype": "text/x-python",
   "name": "python",
   "nbconvert_exporter": "python",
   "pygments_lexer": "ipython3",
   "version": "3.8.8"
  }
 },
 "nbformat": 4,
 "nbformat_minor": 5
}
