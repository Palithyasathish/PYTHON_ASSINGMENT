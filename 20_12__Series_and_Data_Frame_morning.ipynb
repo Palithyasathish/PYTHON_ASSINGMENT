{
  "cells": [
    {
      "cell_type": "code",
      "execution_count": null,
      "id": "557564ad",
      "metadata": {
        "id": "557564ad"
      },
      "outputs": [],
      "source": [
        "import numpy as np"
      ]
    },
    {
      "cell_type": "code",
      "execution_count": null,
      "id": "2816e30d",
      "metadata": {
        "id": "2816e30d"
      },
      "outputs": [],
      "source": [
        "a = np.array([['satya','vamsi'],['bhavan','goutham']])"
      ]
    },
    {
      "cell_type": "code",
      "execution_count": null,
      "id": "75f1764b",
      "metadata": {
        "id": "75f1764b",
        "outputId": "8bfad04c-50f7-48e8-ec2a-63e138e665c1"
      },
      "outputs": [
        {
          "data": {
            "text/plain": [
              "array([['satya', 'vamsi'],\n",
              "       ['bhavan', 'goutham']], dtype='<U7')"
            ]
          },
          "execution_count": 3,
          "metadata": {},
          "output_type": "execute_result"
        }
      ],
      "source": [
        "a"
      ]
    },
    {
      "cell_type": "code",
      "execution_count": null,
      "id": "124743cf",
      "metadata": {
        "id": "124743cf",
        "outputId": "2ae1e3bc-26b3-4fa3-c7b9-a6208ac33270"
      },
      "outputs": [
        {
          "data": {
            "text/plain": [
              "numpy.ndarray"
            ]
          },
          "execution_count": 4,
          "metadata": {},
          "output_type": "execute_result"
        }
      ],
      "source": [
        "type(a)"
      ]
    },
    {
      "cell_type": "code",
      "execution_count": null,
      "id": "5c999b33",
      "metadata": {
        "id": "5c999b33"
      },
      "outputs": [],
      "source": [
        "import pandas as pd "
      ]
    },
    {
      "cell_type": "markdown",
      "id": "686951fc",
      "metadata": {
        "id": "686951fc"
      },
      "source": [
        "# series"
      ]
    },
    {
      "cell_type": "code",
      "execution_count": null,
      "id": "f26fa164",
      "metadata": {
        "id": "f26fa164"
      },
      "outputs": [],
      "source": [
        "#creating a series"
      ]
    },
    {
      "cell_type": "code",
      "execution_count": null,
      "id": "1a4b9730",
      "metadata": {
        "id": "1a4b9730"
      },
      "outputs": [],
      "source": [
        "a = np.array([34,56,78,90])"
      ]
    },
    {
      "cell_type": "code",
      "execution_count": null,
      "id": "e2479e65",
      "metadata": {
        "id": "e2479e65",
        "outputId": "81c8e2de-add6-4750-94a8-a93f8b3e6f78"
      },
      "outputs": [
        {
          "data": {
            "text/plain": [
              "array([34, 56, 78, 90])"
            ]
          },
          "execution_count": 8,
          "metadata": {},
          "output_type": "execute_result"
        }
      ],
      "source": [
        "a"
      ]
    },
    {
      "cell_type": "code",
      "execution_count": null,
      "id": "fa61c575",
      "metadata": {
        "id": "fa61c575",
        "outputId": "c9fa94dd-70e7-46e7-975d-113755bcb9cc"
      },
      "outputs": [
        {
          "data": {
            "text/plain": [
              "numpy.ndarray"
            ]
          },
          "execution_count": 9,
          "metadata": {},
          "output_type": "execute_result"
        }
      ],
      "source": [
        "type(a)"
      ]
    },
    {
      "cell_type": "code",
      "execution_count": null,
      "id": "3c7cf046",
      "metadata": {
        "id": "3c7cf046"
      },
      "outputs": [],
      "source": [
        "S = pd.Series(a)"
      ]
    },
    {
      "cell_type": "code",
      "execution_count": null,
      "id": "cd198a3b",
      "metadata": {
        "id": "cd198a3b",
        "outputId": "daaf2826-301c-466d-d715-1dd4b6f8e066"
      },
      "outputs": [
        {
          "data": {
            "text/plain": [
              "0    34\n",
              "1    56\n",
              "2    78\n",
              "3    90\n",
              "dtype: int32"
            ]
          },
          "execution_count": 11,
          "metadata": {},
          "output_type": "execute_result"
        }
      ],
      "source": [
        "S"
      ]
    },
    {
      "cell_type": "code",
      "execution_count": null,
      "id": "91717be0",
      "metadata": {
        "id": "91717be0"
      },
      "outputs": [],
      "source": [
        "# create a series with indexes [a,b,c,d,e,f]"
      ]
    },
    {
      "cell_type": "code",
      "execution_count": null,
      "id": "7f353417",
      "metadata": {
        "id": "7f353417"
      },
      "outputs": [],
      "source": [
        "S = pd.Series([23,34,5,67,89,12],index = ['a','b','c','d','e','f'])"
      ]
    },
    {
      "cell_type": "code",
      "execution_count": null,
      "id": "03405ff3",
      "metadata": {
        "id": "03405ff3",
        "outputId": "59147ed5-cd55-4701-b079-2b0104fbb388"
      },
      "outputs": [
        {
          "data": {
            "text/plain": [
              "a    23\n",
              "b    34\n",
              "c     5\n",
              "d    67\n",
              "e    89\n",
              "f    12\n",
              "dtype: int64"
            ]
          },
          "execution_count": 15,
          "metadata": {},
          "output_type": "execute_result"
        }
      ],
      "source": [
        "S"
      ]
    },
    {
      "cell_type": "code",
      "execution_count": null,
      "id": "d895e0a7",
      "metadata": {
        "id": "d895e0a7",
        "outputId": "6f91dca9-e0db-4109-e2aa-82bba104536c"
      },
      "outputs": [
        {
          "data": {
            "text/plain": [
              "pandas.core.series.Series"
            ]
          },
          "execution_count": 18,
          "metadata": {},
          "output_type": "execute_result"
        }
      ],
      "source": [
        "type(S)"
      ]
    },
    {
      "cell_type": "code",
      "execution_count": null,
      "id": "c56caa83",
      "metadata": {
        "id": "c56caa83",
        "outputId": "ba5adc3e-5349-45c7-9b20-c366a18a30cc"
      },
      "outputs": [
        {
          "data": {
            "text/plain": [
              "6"
            ]
          },
          "execution_count": 19,
          "metadata": {},
          "output_type": "execute_result"
        }
      ],
      "source": [
        "S.size"
      ]
    },
    {
      "cell_type": "code",
      "execution_count": null,
      "id": "2194c2d8",
      "metadata": {
        "id": "2194c2d8"
      },
      "outputs": [],
      "source": [
        "a = np.random.random(10)\n",
        "b = np.arange(10)\n",
        "S = pd.Series(a,b)"
      ]
    },
    {
      "cell_type": "code",
      "execution_count": null,
      "id": "737f5ad4",
      "metadata": {
        "id": "737f5ad4",
        "outputId": "e27afd29-3094-4201-cdf3-763f33379712"
      },
      "outputs": [
        {
          "data": {
            "text/plain": [
              "0    0.689200\n",
              "1    0.169383\n",
              "2    0.177768\n",
              "3    0.756333\n",
              "4    0.813131\n",
              "5    0.758139\n",
              "6    0.423662\n",
              "7    0.053179\n",
              "8    0.856305\n",
              "9    0.355781\n",
              "dtype: float64"
            ]
          },
          "execution_count": 22,
          "metadata": {},
          "output_type": "execute_result"
        }
      ],
      "source": [
        "S"
      ]
    },
    {
      "cell_type": "code",
      "execution_count": null,
      "id": "203f4d44",
      "metadata": {
        "id": "203f4d44"
      },
      "outputs": [],
      "source": [
        "S = pd.Series(np.random.random(10),np.arange(10))"
      ]
    },
    {
      "cell_type": "code",
      "execution_count": null,
      "id": "f8a4146a",
      "metadata": {
        "id": "f8a4146a",
        "outputId": "a1ed3137-8610-4d3d-fdcb-fec6fe92ad6e"
      },
      "outputs": [
        {
          "data": {
            "text/plain": [
              "0    0.775467\n",
              "1    0.640901\n",
              "2    0.382814\n",
              "3    0.759356\n",
              "4    0.834592\n",
              "5    0.223592\n",
              "6    0.228781\n",
              "7    0.332514\n",
              "8    0.567192\n",
              "9    0.991692\n",
              "dtype: float64"
            ]
          },
          "execution_count": 24,
          "metadata": {},
          "output_type": "execute_result"
        }
      ],
      "source": [
        "S"
      ]
    },
    {
      "cell_type": "code",
      "execution_count": null,
      "id": "a5be5934",
      "metadata": {
        "id": "a5be5934"
      },
      "outputs": [],
      "source": [
        "# create a series using a dictionary"
      ]
    },
    {
      "cell_type": "code",
      "execution_count": null,
      "id": "935d057a",
      "metadata": {
        "id": "935d057a"
      },
      "outputs": [],
      "source": [
        "a = {1:'satya',2:'Niranjan',3:'vikas',4:'uday'}"
      ]
    },
    {
      "cell_type": "code",
      "execution_count": null,
      "id": "9a947680",
      "metadata": {
        "id": "9a947680",
        "outputId": "de99f4f0-02dd-4301-a0a3-601209b31529"
      },
      "outputs": [
        {
          "data": {
            "text/plain": [
              "{1: 'satya', 2: 'Niranjan', 3: 'vikas', 4: 'uday'}"
            ]
          },
          "execution_count": 27,
          "metadata": {},
          "output_type": "execute_result"
        }
      ],
      "source": [
        "a"
      ]
    },
    {
      "cell_type": "code",
      "execution_count": null,
      "id": "220a0441",
      "metadata": {
        "id": "220a0441"
      },
      "outputs": [],
      "source": [
        "S = pd.Series(a)"
      ]
    },
    {
      "cell_type": "code",
      "execution_count": null,
      "id": "c54a3e9f",
      "metadata": {
        "id": "c54a3e9f",
        "outputId": "f3532471-c11f-4a6c-dead-6de42af9bee8"
      },
      "outputs": [
        {
          "data": {
            "text/plain": [
              "1       satya\n",
              "2    Niranjan\n",
              "3       vikas\n",
              "4        uday\n",
              "dtype: object"
            ]
          },
          "execution_count": 29,
          "metadata": {},
          "output_type": "execute_result"
        }
      ],
      "source": [
        "S"
      ]
    },
    {
      "cell_type": "markdown",
      "id": "274d9edd",
      "metadata": {
        "id": "274d9edd"
      },
      "source": [
        "# Slicing"
      ]
    },
    {
      "cell_type": "code",
      "execution_count": null,
      "id": "654f8eed",
      "metadata": {
        "id": "654f8eed",
        "outputId": "f576e601-1fc8-4558-e6a3-69116f843c53"
      },
      "outputs": [
        {
          "data": {
            "text/plain": [
              "1       satya\n",
              "2    Niranjan\n",
              "3       vikas\n",
              "4        uday\n",
              "dtype: object"
            ]
          },
          "execution_count": 30,
          "metadata": {},
          "output_type": "execute_result"
        }
      ],
      "source": [
        "S"
      ]
    },
    {
      "cell_type": "code",
      "execution_count": null,
      "id": "4385d334",
      "metadata": {
        "id": "4385d334"
      },
      "outputs": [],
      "source": [
        "S = pd.Series([12,45,67,89,90,23,45,32,12],index = np.arange(9))"
      ]
    },
    {
      "cell_type": "code",
      "execution_count": null,
      "id": "56b44fdb",
      "metadata": {
        "id": "56b44fdb",
        "outputId": "9528e377-9d33-4918-f9af-0ea5d5d9cdbc"
      },
      "outputs": [
        {
          "data": {
            "text/plain": [
              "0    12\n",
              "1    45\n",
              "2    67\n",
              "3    89\n",
              "4    90\n",
              "5    23\n",
              "6    45\n",
              "7    32\n",
              "8    12\n",
              "dtype: int64"
            ]
          },
          "execution_count": 32,
          "metadata": {},
          "output_type": "execute_result"
        }
      ],
      "source": [
        "S"
      ]
    },
    {
      "cell_type": "code",
      "execution_count": null,
      "id": "3adcf8a9",
      "metadata": {
        "id": "3adcf8a9"
      },
      "outputs": [],
      "source": [
        "# return all elements of a series"
      ]
    },
    {
      "cell_type": "code",
      "execution_count": null,
      "id": "0a48dd2a",
      "metadata": {
        "id": "0a48dd2a",
        "outputId": "df471973-8694-4d9e-9684-525bf7360ff5"
      },
      "outputs": [
        {
          "data": {
            "text/plain": [
              "0    12\n",
              "1    45\n",
              "2    67\n",
              "3    89\n",
              "4    90\n",
              "5    23\n",
              "6    45\n",
              "7    32\n",
              "8    12\n",
              "dtype: int64"
            ]
          },
          "execution_count": 34,
          "metadata": {},
          "output_type": "execute_result"
        }
      ],
      "source": [
        "S[:]"
      ]
    },
    {
      "cell_type": "code",
      "execution_count": null,
      "id": "a9a2aaaf",
      "metadata": {
        "id": "a9a2aaaf"
      },
      "outputs": [],
      "source": [
        "# return first 3 elements of a series"
      ]
    },
    {
      "cell_type": "code",
      "execution_count": null,
      "id": "49627dbd",
      "metadata": {
        "id": "49627dbd",
        "outputId": "212309a3-901d-4d0b-ffd3-85c999e427fa"
      },
      "outputs": [
        {
          "data": {
            "text/plain": [
              "0    12\n",
              "1    45\n",
              "2    67\n",
              "dtype: int64"
            ]
          },
          "execution_count": 36,
          "metadata": {},
          "output_type": "execute_result"
        }
      ],
      "source": [
        "S[0:3]"
      ]
    },
    {
      "cell_type": "code",
      "execution_count": null,
      "id": "ec4e4f6b",
      "metadata": {
        "id": "ec4e4f6b"
      },
      "outputs": [],
      "source": [
        "# return last element of the series"
      ]
    },
    {
      "cell_type": "code",
      "execution_count": null,
      "id": "dc106262",
      "metadata": {
        "id": "dc106262",
        "outputId": "6de02599-65dc-4ac6-abdb-2b2e1066392d"
      },
      "outputs": [
        {
          "data": {
            "text/plain": [
              "8    12\n",
              "dtype: int64"
            ]
          },
          "execution_count": 38,
          "metadata": {},
          "output_type": "execute_result"
        }
      ],
      "source": [
        "S[-1:]"
      ]
    },
    {
      "cell_type": "code",
      "execution_count": null,
      "id": "5976988a",
      "metadata": {
        "id": "5976988a"
      },
      "outputs": [],
      "source": [
        "# return last 2 element of the series"
      ]
    },
    {
      "cell_type": "code",
      "execution_count": null,
      "id": "6f7ce907",
      "metadata": {
        "id": "6f7ce907",
        "outputId": "ac7d0e52-79e5-4b14-f8ec-30ad2875ba76"
      },
      "outputs": [
        {
          "data": {
            "text/plain": [
              "7    32\n",
              "8    12\n",
              "dtype: int64"
            ]
          },
          "execution_count": 40,
          "metadata": {},
          "output_type": "execute_result"
        }
      ],
      "source": [
        "S[-2:]"
      ]
    },
    {
      "cell_type": "code",
      "execution_count": null,
      "id": "6e94d5f3",
      "metadata": {
        "id": "6e94d5f3"
      },
      "outputs": [],
      "source": [
        "# return all elements of the series except last two"
      ]
    },
    {
      "cell_type": "code",
      "execution_count": null,
      "id": "611f02d5",
      "metadata": {
        "id": "611f02d5",
        "outputId": "5128ddc6-f926-4d41-cfb1-bce661c228df"
      },
      "outputs": [
        {
          "data": {
            "text/plain": [
              "0    12\n",
              "1    45\n",
              "2    67\n",
              "3    89\n",
              "4    90\n",
              "5    23\n",
              "6    45\n",
              "dtype: int64"
            ]
          },
          "execution_count": 42,
          "metadata": {},
          "output_type": "execute_result"
        }
      ],
      "source": [
        "S[:-2]"
      ]
    },
    {
      "cell_type": "code",
      "execution_count": null,
      "id": "65acc43d",
      "metadata": {
        "id": "65acc43d",
        "outputId": "e3616994-69b9-4fee-b941-85660d593e39"
      },
      "outputs": [
        {
          "data": {
            "text/plain": [
              "0    12\n",
              "1    45\n",
              "2    67\n",
              "3    89\n",
              "4    90\n",
              "5    23\n",
              "6    45\n",
              "7    32\n",
              "dtype: int64"
            ]
          },
          "execution_count": 43,
          "metadata": {},
          "output_type": "execute_result"
        }
      ],
      "source": [
        "S[:-1]"
      ]
    },
    {
      "cell_type": "markdown",
      "id": "d66923b3",
      "metadata": {
        "id": "d66923b3"
      },
      "source": [
        "# append a series"
      ]
    },
    {
      "cell_type": "code",
      "execution_count": null,
      "id": "bba71b98",
      "metadata": {
        "id": "bba71b98"
      },
      "outputs": [],
      "source": [
        "s1 = pd.Series([23,45,67],index = [1,2,3])\n",
        "s2 = pd.Series([45,12,36],index = ['a','b','c'])"
      ]
    },
    {
      "cell_type": "code",
      "execution_count": null,
      "id": "34adce26",
      "metadata": {
        "id": "34adce26",
        "outputId": "4992fc82-18c9-4c56-fe1d-80d9701c7b56"
      },
      "outputs": [
        {
          "data": {
            "text/plain": [
              "(1    23\n",
              " 2    45\n",
              " 3    67\n",
              " dtype: int64,\n",
              " a    45\n",
              " b    12\n",
              " c    36\n",
              " dtype: int64)"
            ]
          },
          "execution_count": 45,
          "metadata": {},
          "output_type": "execute_result"
        }
      ],
      "source": [
        "s1 , s2"
      ]
    },
    {
      "cell_type": "code",
      "execution_count": null,
      "id": "78940069",
      "metadata": {
        "id": "78940069"
      },
      "outputs": [],
      "source": [
        "s3 = s1.append(s2)"
      ]
    },
    {
      "cell_type": "code",
      "execution_count": null,
      "id": "448a8b83",
      "metadata": {
        "id": "448a8b83",
        "outputId": "f2b74af0-d3fe-4e36-dda2-9f37a1ae775b"
      },
      "outputs": [
        {
          "data": {
            "text/plain": [
              "1    23\n",
              "2    45\n",
              "3    67\n",
              "a    45\n",
              "b    12\n",
              "c    36\n",
              "dtype: int64"
            ]
          },
          "execution_count": 47,
          "metadata": {},
          "output_type": "execute_result"
        }
      ],
      "source": [
        "s3"
      ]
    },
    {
      "cell_type": "code",
      "execution_count": null,
      "id": "ba43cd0d",
      "metadata": {
        "id": "ba43cd0d",
        "outputId": "2b11581b-c552-45bb-9e9f-b780c88d4d9d"
      },
      "outputs": [
        {
          "data": {
            "text/plain": [
              "1    23\n",
              "2    45\n",
              "3    67\n",
              "a    45\n",
              "b    12\n",
              "c    36\n",
              "dtype: int64"
            ]
          },
          "execution_count": 48,
          "metadata": {},
          "output_type": "execute_result"
        }
      ],
      "source": [
        "s3"
      ]
    },
    {
      "cell_type": "code",
      "execution_count": null,
      "id": "16a460f5",
      "metadata": {
        "id": "16a460f5",
        "outputId": "c4ff3340-2edb-49bb-b822-61158289ea87"
      },
      "outputs": [
        {
          "data": {
            "text/plain": [
              "1    23\n",
              "2    45\n",
              "3    67\n",
              "b    12\n",
              "c    36\n",
              "dtype: int64"
            ]
          },
          "execution_count": 49,
          "metadata": {},
          "output_type": "execute_result"
        }
      ],
      "source": [
        "s3.drop('a')"
      ]
    },
    {
      "cell_type": "code",
      "execution_count": null,
      "id": "44b70abe",
      "metadata": {
        "id": "44b70abe",
        "outputId": "608263a0-3d9f-4b79-97d5-6d75c4110697"
      },
      "outputs": [
        {
          "data": {
            "text/plain": [
              "1    23\n",
              "2    45\n",
              "3    67\n",
              "a    45\n",
              "b    12\n",
              "c    36\n",
              "dtype: int64"
            ]
          },
          "execution_count": 50,
          "metadata": {},
          "output_type": "execute_result"
        }
      ],
      "source": [
        "s3"
      ]
    },
    {
      "cell_type": "code",
      "execution_count": null,
      "id": "652bb4c5",
      "metadata": {
        "id": "652bb4c5"
      },
      "outputs": [],
      "source": [
        "s3.drop('a',inplace = True)"
      ]
    },
    {
      "cell_type": "code",
      "execution_count": null,
      "id": "1c4fd4ae",
      "metadata": {
        "id": "1c4fd4ae",
        "outputId": "114c8dfa-ff2f-429f-e9a6-fe38713721b4"
      },
      "outputs": [
        {
          "data": {
            "text/plain": [
              "1    23\n",
              "2    45\n",
              "3    67\n",
              "b    12\n",
              "c    36\n",
              "dtype: int64"
            ]
          },
          "execution_count": 52,
          "metadata": {},
          "output_type": "execute_result"
        }
      ],
      "source": [
        "s3"
      ]
    },
    {
      "cell_type": "code",
      "execution_count": null,
      "id": "aa85b02e",
      "metadata": {
        "id": "aa85b02e"
      },
      "outputs": [],
      "source": [
        "# inplace = False ===> it deosn't effect original series\n",
        "# inplace = True  ===> it effects original series"
      ]
    },
    {
      "cell_type": "code",
      "execution_count": null,
      "id": "d74b72c8",
      "metadata": {
        "id": "d74b72c8"
      },
      "outputs": [],
      "source": [
        "#append an iten to series"
      ]
    },
    {
      "cell_type": "code",
      "execution_count": null,
      "id": "eda91686",
      "metadata": {
        "id": "eda91686"
      },
      "outputs": [],
      "source": [
        "s4 =s3.append(pd.Series({'d':50}))"
      ]
    },
    {
      "cell_type": "code",
      "execution_count": null,
      "id": "68a36e16",
      "metadata": {
        "id": "68a36e16",
        "outputId": "2f04e2c9-467f-4b9a-970f-5bb1e0a29ea2"
      },
      "outputs": [
        {
          "data": {
            "text/plain": [
              "1    23\n",
              "2    45\n",
              "3    67\n",
              "b    12\n",
              "c    36\n",
              "d    50\n",
              "dtype: int64"
            ]
          },
          "execution_count": 59,
          "metadata": {},
          "output_type": "execute_result"
        }
      ],
      "source": [
        "s4"
      ]
    },
    {
      "cell_type": "markdown",
      "id": "7e12edbf",
      "metadata": {
        "id": "7e12edbf"
      },
      "source": [
        "# operations on series"
      ]
    },
    {
      "cell_type": "code",
      "execution_count": null,
      "id": "23f1ee88",
      "metadata": {
        "id": "23f1ee88"
      },
      "outputs": [],
      "source": [
        "s1 = pd.Series(np.array([10,20,30]))\n",
        "s2 = pd.Series(np.array([40,50,60]))"
      ]
    },
    {
      "cell_type": "code",
      "execution_count": null,
      "id": "32dc6385",
      "metadata": {
        "id": "32dc6385",
        "outputId": "1fdd5319-e69a-4d00-d751-22ea1e7055ee"
      },
      "outputs": [
        {
          "data": {
            "text/plain": [
              "(0    10\n",
              " 1    20\n",
              " 2    30\n",
              " dtype: int32,\n",
              " 0    40\n",
              " 1    50\n",
              " 2    60\n",
              " dtype: int32)"
            ]
          },
          "execution_count": 62,
          "metadata": {},
          "output_type": "execute_result"
        }
      ],
      "source": [
        "s1, s2"
      ]
    },
    {
      "cell_type": "code",
      "execution_count": null,
      "id": "ce0cadcb",
      "metadata": {
        "id": "ce0cadcb",
        "outputId": "73fe8171-e175-4967-a0b7-1804594ca1fa"
      },
      "outputs": [
        {
          "data": {
            "text/plain": [
              "0    50\n",
              "1    70\n",
              "2    90\n",
              "dtype: int32"
            ]
          },
          "execution_count": 63,
          "metadata": {},
          "output_type": "execute_result"
        }
      ],
      "source": [
        "s1.add(s2)"
      ]
    },
    {
      "cell_type": "code",
      "execution_count": null,
      "id": "45f26d62",
      "metadata": {
        "id": "45f26d62",
        "outputId": "2147b865-d819-432c-c500-36288800bdbe"
      },
      "outputs": [
        {
          "data": {
            "text/plain": [
              "0    50\n",
              "1    70\n",
              "2    90\n",
              "dtype: int32"
            ]
          },
          "execution_count": 64,
          "metadata": {},
          "output_type": "execute_result"
        }
      ],
      "source": [
        "s1+s2"
      ]
    },
    {
      "cell_type": "code",
      "execution_count": null,
      "id": "87fa71fd",
      "metadata": {
        "id": "87fa71fd",
        "outputId": "285d7091-d155-4e5c-d8df-688de13b7bc0"
      },
      "outputs": [
        {
          "data": {
            "text/plain": [
              "0   -30\n",
              "1   -30\n",
              "2   -30\n",
              "dtype: int32"
            ]
          },
          "execution_count": 65,
          "metadata": {},
          "output_type": "execute_result"
        }
      ],
      "source": [
        "s1.sub(s2)"
      ]
    },
    {
      "cell_type": "code",
      "execution_count": null,
      "id": "399c053f",
      "metadata": {
        "id": "399c053f",
        "outputId": "497fdf77-458e-440c-bc3e-68c04cb9013e"
      },
      "outputs": [
        {
          "data": {
            "text/plain": [
              "0    30\n",
              "1    30\n",
              "2    30\n",
              "dtype: int32"
            ]
          },
          "execution_count": 66,
          "metadata": {},
          "output_type": "execute_result"
        }
      ],
      "source": [
        "s2.sub(s1)"
      ]
    },
    {
      "cell_type": "code",
      "execution_count": null,
      "id": "2c76e39a",
      "metadata": {
        "id": "2c76e39a",
        "outputId": "eeaaf074-07e5-4887-b975-1bfca4be89ee"
      },
      "outputs": [
        {
          "data": {
            "text/plain": [
              "0   -30\n",
              "1   -30\n",
              "2   -30\n",
              "dtype: int32"
            ]
          },
          "execution_count": 67,
          "metadata": {},
          "output_type": "execute_result"
        }
      ],
      "source": [
        "s1.subtract(s2)"
      ]
    },
    {
      "cell_type": "code",
      "execution_count": null,
      "id": "e85070c2",
      "metadata": {
        "id": "e85070c2",
        "outputId": "12ee07a5-06c4-4bb1-eed9-01c75feb93b9"
      },
      "outputs": [
        {
          "data": {
            "text/plain": [
              "0   -30\n",
              "1   -30\n",
              "2   -30\n",
              "dtype: int32"
            ]
          },
          "execution_count": 68,
          "metadata": {},
          "output_type": "execute_result"
        }
      ],
      "source": [
        "s1 - s2"
      ]
    },
    {
      "cell_type": "code",
      "execution_count": null,
      "id": "a4ac8864",
      "metadata": {
        "id": "a4ac8864",
        "outputId": "b12d14c1-de38-4f6d-f231-660ed7862c9f"
      },
      "outputs": [
        {
          "data": {
            "text/plain": [
              "0     400\n",
              "1    1000\n",
              "2    1800\n",
              "dtype: int32"
            ]
          },
          "execution_count": 69,
          "metadata": {},
          "output_type": "execute_result"
        }
      ],
      "source": [
        "s1.mul(s2)"
      ]
    },
    {
      "cell_type": "code",
      "execution_count": null,
      "id": "e1903b10",
      "metadata": {
        "id": "e1903b10",
        "outputId": "e69c775a-0abd-43b1-effb-e7c7b66f16cc"
      },
      "outputs": [
        {
          "data": {
            "text/plain": [
              "0     400\n",
              "1    1000\n",
              "2    1800\n",
              "dtype: int32"
            ]
          },
          "execution_count": 70,
          "metadata": {},
          "output_type": "execute_result"
        }
      ],
      "source": [
        "s1.multiply(s2)"
      ]
    },
    {
      "cell_type": "code",
      "execution_count": null,
      "id": "240ae06b",
      "metadata": {
        "id": "240ae06b",
        "outputId": "22664db4-efde-4aad-c0af-f20253661ccd"
      },
      "outputs": [
        {
          "data": {
            "text/plain": [
              "0     400\n",
              "1    1000\n",
              "2    1800\n",
              "dtype: int32"
            ]
          },
          "execution_count": 71,
          "metadata": {},
          "output_type": "execute_result"
        }
      ],
      "source": [
        "s1*s2"
      ]
    },
    {
      "cell_type": "code",
      "execution_count": null,
      "id": "64529587",
      "metadata": {
        "id": "64529587",
        "outputId": "3d6e3fd5-7e65-4b23-c9c6-1300585efdf3"
      },
      "outputs": [
        {
          "data": {
            "text/plain": [
              "0    10\n",
              "1    20\n",
              "2    30\n",
              "dtype: int32"
            ]
          },
          "execution_count": 72,
          "metadata": {},
          "output_type": "execute_result"
        }
      ],
      "source": [
        "s1"
      ]
    },
    {
      "cell_type": "code",
      "execution_count": null,
      "id": "5d767166",
      "metadata": {
        "id": "5d767166",
        "outputId": "26adba31-af10-4ab4-bc92-6344a3095bc7"
      },
      "outputs": [
        {
          "data": {
            "text/plain": [
              "0    100\n",
              "1    110\n",
              "2    120\n",
              "dtype: int32"
            ]
          },
          "execution_count": 73,
          "metadata": {},
          "output_type": "execute_result"
        }
      ],
      "source": [
        "s1.add(90)"
      ]
    },
    {
      "cell_type": "code",
      "execution_count": null,
      "id": "5a197a49",
      "metadata": {
        "id": "5a197a49",
        "outputId": "8b5160af-75ce-431f-e470-8277c8ce4f7c"
      },
      "outputs": [
        {
          "data": {
            "text/plain": [
              "0    10\n",
              "1    20\n",
              "2    30\n",
              "dtype: int32"
            ]
          },
          "execution_count": 74,
          "metadata": {},
          "output_type": "execute_result"
        }
      ],
      "source": [
        "s1"
      ]
    },
    {
      "cell_type": "code",
      "execution_count": null,
      "id": "be158f08",
      "metadata": {
        "id": "be158f08",
        "outputId": "53c4dbc5-9380-4032-99ee-6d56d7b4ea89"
      },
      "outputs": [
        {
          "data": {
            "text/plain": [
              "0    1000\n",
              "1    2000\n",
              "2    3000\n",
              "dtype: int32"
            ]
          },
          "execution_count": 75,
          "metadata": {},
          "output_type": "execute_result"
        }
      ],
      "source": [
        "s1.multiply(100)"
      ]
    },
    {
      "cell_type": "code",
      "execution_count": null,
      "id": "4dc3b3b4",
      "metadata": {
        "id": "4dc3b3b4"
      },
      "outputs": [],
      "source": [
        "# series comparision"
      ]
    },
    {
      "cell_type": "code",
      "execution_count": null,
      "id": "9431cce0",
      "metadata": {
        "id": "9431cce0",
        "outputId": "afae013b-1fdf-42b4-c44d-a12496fe1029"
      },
      "outputs": [
        {
          "data": {
            "text/plain": [
              "False"
            ]
          },
          "execution_count": 80,
          "metadata": {},
          "output_type": "execute_result"
        }
      ],
      "source": [
        "s1.equals(s2)"
      ]
    },
    {
      "cell_type": "code",
      "execution_count": null,
      "id": "7b071182",
      "metadata": {
        "id": "7b071182",
        "outputId": "8790e43b-3247-488e-f783-77f57e8e19d9"
      },
      "outputs": [
        {
          "data": {
            "text/plain": [
              "20.0"
            ]
          },
          "execution_count": 78,
          "metadata": {},
          "output_type": "execute_result"
        }
      ],
      "source": [
        "s1.mean()"
      ]
    },
    {
      "cell_type": "code",
      "execution_count": null,
      "id": "e28aec28",
      "metadata": {
        "id": "e28aec28"
      },
      "outputs": [],
      "source": [
        ""
      ]
    }
  ],
  "metadata": {
    "kernelspec": {
      "display_name": "Python 3",
      "language": "python",
      "name": "python3"
    },
    "language_info": {
      "codemirror_mode": {
        "name": "ipython",
        "version": 3
      },
      "file_extension": ".py",
      "mimetype": "text/x-python",
      "name": "python",
      "nbconvert_exporter": "python",
      "pygments_lexer": "ipython3",
      "version": "3.8.8"
    },
    "colab": {
      "name": "20_12__Series and Data Frame_morning.ipynb",
      "provenance": []
    }
  },
  "nbformat": 4,
  "nbformat_minor": 5
}