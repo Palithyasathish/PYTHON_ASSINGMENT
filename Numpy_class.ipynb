{
 "cells": [
  {
   "cell_type": "code",
   "execution_count": 2,
   "id": "a14f2a2d",
   "metadata": {},
   "outputs": [],
   "source": [
    "import numpy as np"
   ]
  },
  {
   "cell_type": "code",
   "execution_count": 3,
   "id": "15b30261",
   "metadata": {},
   "outputs": [],
   "source": [
    "# creating a numpy array"
   ]
  },
  {
   "cell_type": "code",
   "execution_count": 4,
   "id": "f4d096d3",
   "metadata": {},
   "outputs": [],
   "source": [
    "a = np.array([12,34,56,78,90,12])"
   ]
  },
  {
   "cell_type": "code",
   "execution_count": 5,
   "id": "df400dfb",
   "metadata": {},
   "outputs": [
    {
     "data": {
      "text/plain": [
       "array([12, 34, 56, 78, 90, 12])"
      ]
     },
     "execution_count": 5,
     "metadata": {},
     "output_type": "execute_result"
    }
   ],
   "source": [
    "a"
   ]
  },
  {
   "cell_type": "code",
   "execution_count": 6,
   "id": "03c88f71",
   "metadata": {},
   "outputs": [
    {
     "data": {
      "text/plain": [
       "numpy.ndarray"
      ]
     },
     "execution_count": 6,
     "metadata": {},
     "output_type": "execute_result"
    }
   ],
   "source": [
    "type(a)"
   ]
  },
  {
   "cell_type": "code",
   "execution_count": 7,
   "id": "ea0e29bf",
   "metadata": {},
   "outputs": [],
   "source": [
    "b = [34,56,78,12,45,56]\n",
    "c = np.array(b) # converting a list into an array"
   ]
  },
  {
   "cell_type": "code",
   "execution_count": 8,
   "id": "d798ac59",
   "metadata": {},
   "outputs": [
    {
     "data": {
      "text/plain": [
       "array([34, 56, 78, 12, 45, 56])"
      ]
     },
     "execution_count": 8,
     "metadata": {},
     "output_type": "execute_result"
    }
   ],
   "source": [
    "c"
   ]
  },
  {
   "cell_type": "code",
   "execution_count": 9,
   "id": "1a0e7270",
   "metadata": {},
   "outputs": [
    {
     "data": {
      "text/plain": [
       "array([12, 34, 56, 78, 90, 12])"
      ]
     },
     "execution_count": 9,
     "metadata": {},
     "output_type": "execute_result"
    }
   ],
   "source": [
    "a"
   ]
  },
  {
   "cell_type": "code",
   "execution_count": 10,
   "id": "a7b0e755",
   "metadata": {},
   "outputs": [
    {
     "data": {
      "text/plain": [
       "<memory at 0x000001C4319D0D00>"
      ]
     },
     "execution_count": 10,
     "metadata": {},
     "output_type": "execute_result"
    }
   ],
   "source": [
    "# memory address of an array\n",
    "a.data"
   ]
  },
  {
   "cell_type": "code",
   "execution_count": 11,
   "id": "13638701",
   "metadata": {},
   "outputs": [
    {
     "data": {
      "text/plain": [
       "numpy.ndarray"
      ]
     },
     "execution_count": 11,
     "metadata": {},
     "output_type": "execute_result"
    }
   ],
   "source": [
    "#type of an array\n",
    "type(a)"
   ]
  },
  {
   "cell_type": "code",
   "execution_count": 13,
   "id": "b096d8c6",
   "metadata": {},
   "outputs": [
    {
     "data": {
      "text/plain": [
       "dtype('int32')"
      ]
     },
     "execution_count": 13,
     "metadata": {},
     "output_type": "execute_result"
    }
   ],
   "source": [
    "#datatype of an array\n",
    "a.dtype"
   ]
  },
  {
   "cell_type": "code",
   "execution_count": 14,
   "id": "6a9bdfb3",
   "metadata": {},
   "outputs": [
    {
     "data": {
      "text/plain": [
       "array([12., 34., 56., 78., 90., 12.])"
      ]
     },
     "execution_count": 14,
     "metadata": {},
     "output_type": "execute_result"
    }
   ],
   "source": [
    "# convert integer array into floating array\n",
    "a.astype(float)"
   ]
  },
  {
   "cell_type": "code",
   "execution_count": 15,
   "id": "65ee7caf",
   "metadata": {},
   "outputs": [],
   "source": [
    "# arange()- it generates evenly spaced elements in given range\n",
    "# generate evenly spaced elements between 10 to 20 with space 1"
   ]
  },
  {
   "cell_type": "code",
   "execution_count": 16,
   "id": "6023b2ac",
   "metadata": {},
   "outputs": [
    {
     "data": {
      "text/plain": [
       "array([10, 11, 12, 13, 14, 15, 16, 17, 18, 19])"
      ]
     },
     "execution_count": 16,
     "metadata": {},
     "output_type": "execute_result"
    }
   ],
   "source": [
    "np.arange(10,20)"
   ]
  },
  {
   "cell_type": "code",
   "execution_count": 17,
   "id": "84197fc1",
   "metadata": {},
   "outputs": [
    {
     "data": {
      "text/plain": [
       "array([ 0, 10, 20, 30, 40, 50, 60, 70, 80, 90])"
      ]
     },
     "execution_count": 17,
     "metadata": {},
     "output_type": "execute_result"
    }
   ],
   "source": [
    "np.arange(0,100,10)"
   ]
  },
  {
   "cell_type": "code",
   "execution_count": 18,
   "id": "ab3bb61f",
   "metadata": {},
   "outputs": [],
   "source": [
    "#generate evenly spaced elements from 100 to 10 in descending order with space -10"
   ]
  },
  {
   "cell_type": "code",
   "execution_count": 19,
   "id": "05049685",
   "metadata": {},
   "outputs": [
    {
     "data": {
      "text/plain": [
       "array([100,  90,  80,  70,  60,  50,  40,  30,  20])"
      ]
     },
     "execution_count": 19,
     "metadata": {},
     "output_type": "execute_result"
    }
   ],
   "source": [
    "np.arange(100,10,-10)"
   ]
  },
  {
   "cell_type": "code",
   "execution_count": 20,
   "id": "4790d466",
   "metadata": {},
   "outputs": [
    {
     "data": {
      "text/plain": [
       "array([12, 34, 56, 78, 90, 12])"
      ]
     },
     "execution_count": 20,
     "metadata": {},
     "output_type": "execute_result"
    }
   ],
   "source": [
    "a"
   ]
  },
  {
   "cell_type": "code",
   "execution_count": 22,
   "id": "3872da27",
   "metadata": {},
   "outputs": [
    {
     "data": {
      "text/plain": [
       "4"
      ]
     },
     "execution_count": 22,
     "metadata": {},
     "output_type": "execute_result"
    }
   ],
   "source": [
    "a.itemsize #returns no.of bytes occupied by each element"
   ]
  },
  {
   "cell_type": "code",
   "execution_count": 23,
   "id": "0666221e",
   "metadata": {},
   "outputs": [
    {
     "data": {
      "text/plain": [
       "24"
      ]
     },
     "execution_count": 23,
     "metadata": {},
     "output_type": "execute_result"
    }
   ],
   "source": [
    "a.nbytes #total no.of bytes occupied by an array"
   ]
  },
  {
   "cell_type": "code",
   "execution_count": 24,
   "id": "0bcf3acc",
   "metadata": {},
   "outputs": [
    {
     "data": {
      "text/plain": [
       "array([0., 0., 0., 0., 0., 0., 0., 0., 0., 0.])"
      ]
     },
     "execution_count": 24,
     "metadata": {},
     "output_type": "execute_result"
    }
   ],
   "source": [
    "np.zeros(10) # returns zeros array of 10 elements"
   ]
  },
  {
   "cell_type": "code",
   "execution_count": 25,
   "id": "449667ac",
   "metadata": {},
   "outputs": [
    {
     "data": {
      "text/plain": [
       "array([[0., 0.],\n",
       "       [0., 0.],\n",
       "       [0., 0.]])"
      ]
     },
     "execution_count": 25,
     "metadata": {},
     "output_type": "execute_result"
    }
   ],
   "source": [
    "np.zeros([3,2])"
   ]
  },
  {
   "cell_type": "code",
   "execution_count": 27,
   "id": "0778871e",
   "metadata": {},
   "outputs": [],
   "source": [
    "x = np.zeros([4,5])"
   ]
  },
  {
   "cell_type": "code",
   "execution_count": 28,
   "id": "ecfce158",
   "metadata": {},
   "outputs": [
    {
     "data": {
      "text/plain": [
       "array([[0., 0., 0., 0., 0.],\n",
       "       [0., 0., 0., 0., 0.],\n",
       "       [0., 0., 0., 0., 0.],\n",
       "       [0., 0., 0., 0., 0.]])"
      ]
     },
     "execution_count": 28,
     "metadata": {},
     "output_type": "execute_result"
    }
   ],
   "source": [
    "x"
   ]
  },
  {
   "cell_type": "code",
   "execution_count": 29,
   "id": "b9124541",
   "metadata": {},
   "outputs": [
    {
     "data": {
      "text/plain": [
       "numpy.ndarray"
      ]
     },
     "execution_count": 29,
     "metadata": {},
     "output_type": "execute_result"
    }
   ],
   "source": [
    "type(x)"
   ]
  },
  {
   "cell_type": "code",
   "execution_count": 31,
   "id": "628e6d8e",
   "metadata": {},
   "outputs": [
    {
     "data": {
      "text/plain": [
       "20"
      ]
     },
     "execution_count": 31,
     "metadata": {},
     "output_type": "execute_result"
    }
   ],
   "source": [
    "x.size"
   ]
  },
  {
   "cell_type": "code",
   "execution_count": 32,
   "id": "e1394feb",
   "metadata": {},
   "outputs": [
    {
     "data": {
      "text/plain": [
       "array([[0., 0., 0., 0., 0.],\n",
       "       [0., 0., 0., 0., 0.],\n",
       "       [0., 0., 0., 0., 0.],\n",
       "       [0., 0., 0., 0., 0.]])"
      ]
     },
     "execution_count": 32,
     "metadata": {},
     "output_type": "execute_result"
    }
   ],
   "source": [
    "x"
   ]
  },
  {
   "cell_type": "code",
   "execution_count": 33,
   "id": "aab1f9b3",
   "metadata": {},
   "outputs": [
    {
     "data": {
      "text/plain": [
       "4"
      ]
     },
     "execution_count": 33,
     "metadata": {},
     "output_type": "execute_result"
    }
   ],
   "source": [
    "len(x)"
   ]
  },
  {
   "cell_type": "code",
   "execution_count": 34,
   "id": "dbf328d6",
   "metadata": {},
   "outputs": [
    {
     "data": {
      "text/plain": [
       "(4, 5)"
      ]
     },
     "execution_count": 34,
     "metadata": {},
     "output_type": "execute_result"
    }
   ],
   "source": [
    "x.shape"
   ]
  },
  {
   "cell_type": "code",
   "execution_count": 35,
   "id": "aefed246",
   "metadata": {},
   "outputs": [
    {
     "data": {
      "text/plain": [
       "2"
      ]
     },
     "execution_count": 35,
     "metadata": {},
     "output_type": "execute_result"
    }
   ],
   "source": [
    "x.ndim"
   ]
  },
  {
   "cell_type": "code",
   "execution_count": 36,
   "id": "d85ace70",
   "metadata": {},
   "outputs": [],
   "source": [
    "a = np.array([12,34,56,78,90,13])"
   ]
  },
  {
   "cell_type": "code",
   "execution_count": 37,
   "id": "47e72314",
   "metadata": {},
   "outputs": [
    {
     "data": {
      "text/plain": [
       "array([12, 34, 56, 78, 90, 13])"
      ]
     },
     "execution_count": 37,
     "metadata": {},
     "output_type": "execute_result"
    }
   ],
   "source": [
    "a"
   ]
  },
  {
   "cell_type": "code",
   "execution_count": 38,
   "id": "8e177bf4",
   "metadata": {},
   "outputs": [
    {
     "data": {
      "text/plain": [
       "1"
      ]
     },
     "execution_count": 38,
     "metadata": {},
     "output_type": "execute_result"
    }
   ],
   "source": [
    "a.ndim # returns the dimensions of an array"
   ]
  },
  {
   "cell_type": "code",
   "execution_count": 39,
   "id": "8730abf8",
   "metadata": {},
   "outputs": [],
   "source": [
    "# creating 2d array"
   ]
  },
  {
   "cell_type": "code",
   "execution_count": 40,
   "id": "720d5650",
   "metadata": {},
   "outputs": [],
   "source": [
    "b = np.array([[12,34],[23,45],[56,78]])"
   ]
  },
  {
   "cell_type": "code",
   "execution_count": 41,
   "id": "b84865e8",
   "metadata": {},
   "outputs": [
    {
     "data": {
      "text/plain": [
       "array([[12, 34],\n",
       "       [23, 45],\n",
       "       [56, 78]])"
      ]
     },
     "execution_count": 41,
     "metadata": {},
     "output_type": "execute_result"
    }
   ],
   "source": [
    "b"
   ]
  },
  {
   "cell_type": "code",
   "execution_count": 42,
   "id": "484986a1",
   "metadata": {},
   "outputs": [
    {
     "data": {
      "text/plain": [
       "2"
      ]
     },
     "execution_count": 42,
     "metadata": {},
     "output_type": "execute_result"
    }
   ],
   "source": [
    "b.ndim"
   ]
  },
  {
   "cell_type": "code",
   "execution_count": 43,
   "id": "eaff61f7",
   "metadata": {},
   "outputs": [
    {
     "data": {
      "text/plain": [
       "array([1., 1., 1., 1., 1., 1., 1., 1., 1., 1.])"
      ]
     },
     "execution_count": 43,
     "metadata": {},
     "output_type": "execute_result"
    }
   ],
   "source": [
    "# creating ones array\n",
    "np.ones(10)"
   ]
  },
  {
   "cell_type": "code",
   "execution_count": 44,
   "id": "0d2141b9",
   "metadata": {},
   "outputs": [
    {
     "data": {
      "text/plain": [
       "array([[1., 1., 1.],\n",
       "       [1., 1., 1.],\n",
       "       [1., 1., 1.]])"
      ]
     },
     "execution_count": 44,
     "metadata": {},
     "output_type": "execute_result"
    }
   ],
   "source": [
    "np.ones([3,3])"
   ]
  },
  {
   "cell_type": "code",
   "execution_count": 45,
   "id": "adda0586",
   "metadata": {},
   "outputs": [],
   "source": [
    "# repeat()- repeats an item in an array"
   ]
  },
  {
   "cell_type": "code",
   "execution_count": 46,
   "id": "6d8f4f84",
   "metadata": {},
   "outputs": [
    {
     "data": {
      "text/plain": [
       "array([10, 10, 10, 10, 10])"
      ]
     },
     "execution_count": 46,
     "metadata": {},
     "output_type": "execute_result"
    }
   ],
   "source": [
    "np.repeat(10,5)"
   ]
  },
  {
   "cell_type": "code",
   "execution_count": 47,
   "id": "433933fb",
   "metadata": {},
   "outputs": [],
   "source": [
    "a = np.array([10,20,30])"
   ]
  },
  {
   "cell_type": "code",
   "execution_count": 48,
   "id": "687ab645",
   "metadata": {},
   "outputs": [
    {
     "data": {
      "text/plain": [
       "array([10, 10, 10, 20, 20, 20, 30, 30, 30])"
      ]
     },
     "execution_count": 48,
     "metadata": {},
     "output_type": "execute_result"
    }
   ],
   "source": [
    "np.repeat(a,3)"
   ]
  },
  {
   "cell_type": "code",
   "execution_count": 49,
   "id": "ed7d031d",
   "metadata": {},
   "outputs": [],
   "source": [
    "a = np.arange(1,50)"
   ]
  },
  {
   "cell_type": "code",
   "execution_count": 50,
   "id": "e2ff64e1",
   "metadata": {},
   "outputs": [
    {
     "data": {
      "text/plain": [
       "array([ 1,  2,  3,  4,  5,  6,  7,  8,  9, 10, 11, 12, 13, 14, 15, 16, 17,\n",
       "       18, 19, 20, 21, 22, 23, 24, 25, 26, 27, 28, 29, 30, 31, 32, 33, 34,\n",
       "       35, 36, 37, 38, 39, 40, 41, 42, 43, 44, 45, 46, 47, 48, 49])"
      ]
     },
     "execution_count": 50,
     "metadata": {},
     "output_type": "execute_result"
    }
   ],
   "source": [
    "a"
   ]
  },
  {
   "cell_type": "code",
   "execution_count": 51,
   "id": "6512bdc3",
   "metadata": {},
   "outputs": [
    {
     "data": {
      "text/plain": [
       "array([ 1,  3,  5,  7,  9, 11, 13, 15, 17, 19, 21, 23, 25, 27, 29, 31, 33,\n",
       "       35, 37, 39, 41, 43, 45, 47, 49])"
      ]
     },
     "execution_count": 51,
     "metadata": {},
     "output_type": "execute_result"
    }
   ],
   "source": [
    "a[a%2==1]"
   ]
  },
  {
   "cell_type": "code",
   "execution_count": 52,
   "id": "86cf7e0f",
   "metadata": {},
   "outputs": [],
   "source": [
    "b = np.arange(20,70)"
   ]
  },
  {
   "cell_type": "code",
   "execution_count": 53,
   "id": "b2c9ccb6",
   "metadata": {},
   "outputs": [
    {
     "data": {
      "text/plain": [
       "array([20, 22, 24, 26, 28, 30, 32, 34, 36, 38, 40, 42, 44, 46, 48, 50, 52,\n",
       "       54, 56, 58, 60, 62, 64, 66, 68])"
      ]
     },
     "execution_count": 53,
     "metadata": {},
     "output_type": "execute_result"
    }
   ],
   "source": [
    "b[b%2==0]"
   ]
  },
  {
   "cell_type": "code",
   "execution_count": 54,
   "id": "74555a5b",
   "metadata": {},
   "outputs": [],
   "source": [
    "#linspace()- it returns linearly spaced elements in a given range"
   ]
  },
  {
   "cell_type": "code",
   "execution_count": 55,
   "id": "10171b07",
   "metadata": {},
   "outputs": [
    {
     "data": {
      "text/plain": [
       "array([10.        , 13.33333333, 16.66666667, 20.        ])"
      ]
     },
     "execution_count": 55,
     "metadata": {},
     "output_type": "execute_result"
    }
   ],
   "source": [
    "np.linspace(10,20,4)"
   ]
  },
  {
   "cell_type": "code",
   "execution_count": 56,
   "id": "4bf4c571",
   "metadata": {},
   "outputs": [
    {
     "data": {
      "text/plain": [
       "array([  1.        ,   6.21052632,  11.42105263,  16.63157895,\n",
       "        21.84210526,  27.05263158,  32.26315789,  37.47368421,\n",
       "        42.68421053,  47.89473684,  53.10526316,  58.31578947,\n",
       "        63.52631579,  68.73684211,  73.94736842,  79.15789474,\n",
       "        84.36842105,  89.57894737,  94.78947368, 100.        ])"
      ]
     },
     "execution_count": 56,
     "metadata": {},
     "output_type": "execute_result"
    }
   ],
   "source": [
    "np.linspace(1,100,20)"
   ]
  },
  {
   "cell_type": "code",
   "execution_count": 57,
   "id": "82f5fc68",
   "metadata": {},
   "outputs": [],
   "source": [
    "# s\n",
    "sum()- returns sum of an array"
   ]
  },
  {
   "cell_type": "code",
   "execution_count": 59,
   "id": "14b95a33",
   "metadata": {},
   "outputs": [],
   "source": [
    "a = np.array([12,34,56,78,12,34])"
   ]
  },
  {
   "cell_type": "code",
   "execution_count": 60,
   "id": "b90f86ec",
   "metadata": {},
   "outputs": [
    {
     "data": {
      "text/plain": [
       "226"
      ]
     },
     "execution_count": 60,
     "metadata": {},
     "output_type": "execute_result"
    }
   ],
   "source": [
    "a.sum()"
   ]
  },
  {
   "cell_type": "code",
   "execution_count": 61,
   "id": "256c7ee5",
   "metadata": {},
   "outputs": [
    {
     "data": {
      "text/plain": [
       "7450"
      ]
     },
     "execution_count": 61,
     "metadata": {},
     "output_type": "execute_result"
    }
   ],
   "source": [
    "a = np.arange(100,200)\n",
    "a[a%2==0].sum()"
   ]
  },
  {
   "cell_type": "code",
   "execution_count": 64,
   "id": "8269e1db",
   "metadata": {},
   "outputs": [
    {
     "data": {
      "text/plain": [
       "50.0"
      ]
     },
     "execution_count": 64,
     "metadata": {},
     "output_type": "execute_result"
    }
   ],
   "source": [
    "a = np.arange(1,100)\n",
    "b= a[a%2==1]\n",
    "b.sum()/len(b)"
   ]
  },
  {
   "cell_type": "code",
   "execution_count": 65,
   "id": "7e49f87d",
   "metadata": {},
   "outputs": [
    {
     "data": {
      "text/plain": [
       "array([ 1,  2,  3,  4,  5,  6,  7,  8,  9, 10, 11, 12, 13, 14, 15, 16, 17,\n",
       "       18, 19, 20, 21, 22, 23, 24, 25, 26, 27, 28, 29, 30, 31, 32, 33, 34,\n",
       "       35, 36, 37, 38, 39, 40, 41, 42, 43, 44, 45, 46, 47, 48, 49, 50, 51,\n",
       "       52, 53, 54, 55, 56, 57, 58, 59, 60, 61, 62, 63, 64, 65, 66, 67, 68,\n",
       "       69, 70, 71, 72, 73, 74, 75, 76, 77, 78, 79, 80, 81, 82, 83, 84, 85,\n",
       "       86, 87, 88, 89, 90, 91, 92, 93, 94, 95, 96, 97, 98, 99])"
      ]
     },
     "execution_count": 65,
     "metadata": {},
     "output_type": "execute_result"
    }
   ],
   "source": [
    "a"
   ]
  },
  {
   "cell_type": "code",
   "execution_count": 66,
   "id": "cd2626b6",
   "metadata": {},
   "outputs": [
    {
     "data": {
      "text/plain": [
       "4950"
      ]
     },
     "execution_count": 66,
     "metadata": {},
     "output_type": "execute_result"
    }
   ],
   "source": [
    "a.sum()"
   ]
  },
  {
   "cell_type": "code",
   "execution_count": 67,
   "id": "f3410d95",
   "metadata": {},
   "outputs": [
    {
     "data": {
      "text/plain": [
       "array([   1,    3,    6,   10,   15,   21,   28,   36,   45,   55,   66,\n",
       "         78,   91,  105,  120,  136,  153,  171,  190,  210,  231,  253,\n",
       "        276,  300,  325,  351,  378,  406,  435,  465,  496,  528,  561,\n",
       "        595,  630,  666,  703,  741,  780,  820,  861,  903,  946,  990,\n",
       "       1035, 1081, 1128, 1176, 1225, 1275, 1326, 1378, 1431, 1485, 1540,\n",
       "       1596, 1653, 1711, 1770, 1830, 1891, 1953, 2016, 2080, 2145, 2211,\n",
       "       2278, 2346, 2415, 2485, 2556, 2628, 2701, 2775, 2850, 2926, 3003,\n",
       "       3081, 3160, 3240, 3321, 3403, 3486, 3570, 3655, 3741, 3828, 3916,\n",
       "       4005, 4095, 4186, 4278, 4371, 4465, 4560, 4656, 4753, 4851, 4950],\n",
       "      dtype=int32)"
      ]
     },
     "execution_count": 67,
     "metadata": {},
     "output_type": "execute_result"
    }
   ],
   "source": [
    "a.cumsum()"
   ]
  },
  {
   "cell_type": "code",
   "execution_count": 68,
   "id": "0821d860",
   "metadata": {},
   "outputs": [],
   "source": [
    "a = np.arange(1,10)"
   ]
  },
  {
   "cell_type": "code",
   "execution_count": 69,
   "id": "ff9c5879",
   "metadata": {},
   "outputs": [
    {
     "data": {
      "text/plain": [
       "array([1, 2, 3, 4, 5, 6, 7, 8, 9])"
      ]
     },
     "execution_count": 69,
     "metadata": {},
     "output_type": "execute_result"
    }
   ],
   "source": [
    "a"
   ]
  },
  {
   "cell_type": "code",
   "execution_count": 70,
   "id": "edc51a4d",
   "metadata": {},
   "outputs": [
    {
     "data": {
      "text/plain": [
       "45"
      ]
     },
     "execution_count": 70,
     "metadata": {},
     "output_type": "execute_result"
    }
   ],
   "source": [
    "a.sum()"
   ]
  },
  {
   "cell_type": "code",
   "execution_count": 71,
   "id": "be40ea99",
   "metadata": {},
   "outputs": [
    {
     "data": {
      "text/plain": [
       "array([ 1,  3,  6, 10, 15, 21, 28, 36, 45], dtype=int32)"
      ]
     },
     "execution_count": 71,
     "metadata": {},
     "output_type": "execute_result"
    }
   ],
   "source": [
    "a.cumsum()"
   ]
  },
  {
   "cell_type": "code",
   "execution_count": 72,
   "id": "43e67864",
   "metadata": {},
   "outputs": [
    {
     "data": {
      "text/plain": [
       "array([1, 2, 3, 4, 5, 6, 7, 8, 9])"
      ]
     },
     "execution_count": 72,
     "metadata": {},
     "output_type": "execute_result"
    }
   ],
   "source": [
    "a"
   ]
  },
  {
   "cell_type": "code",
   "execution_count": 73,
   "id": "572d4967",
   "metadata": {},
   "outputs": [
    {
     "name": "stdout",
     "output_type": "stream",
     "text": [
      "[12, 35, 80, 147, 236, 247]\n"
     ]
    }
   ],
   "source": [
    "L = [12,23,45,67,89,11]\n",
    "L1 = []\n",
    "summ = 0\n",
    "for i in L:\n",
    "    summ = summ+i\n",
    "    L1.append(summ)\n",
    "print(L1)\n",
    "    "
   ]
  },
  {
   "cell_type": "code",
   "execution_count": 74,
   "id": "0b8b09bd",
   "metadata": {},
   "outputs": [],
   "source": [
    "a = np.arange(10,20)"
   ]
  },
  {
   "cell_type": "code",
   "execution_count": 75,
   "id": "1bd4f1df",
   "metadata": {},
   "outputs": [
    {
     "data": {
      "text/plain": [
       "array([10, 11, 12, 13, 14, 15, 16, 17, 18, 19])"
      ]
     },
     "execution_count": 75,
     "metadata": {},
     "output_type": "execute_result"
    }
   ],
   "source": [
    "a"
   ]
  },
  {
   "cell_type": "code",
   "execution_count": 76,
   "id": "31c516ca",
   "metadata": {},
   "outputs": [
    {
     "data": {
      "text/plain": [
       "array([ 10,  21,  33,  46,  60,  75,  91, 108, 126, 145], dtype=int32)"
      ]
     },
     "execution_count": 76,
     "metadata": {},
     "output_type": "execute_result"
    }
   ],
   "source": [
    "a.cumsum()# returns cummulative sum"
   ]
  },
  {
   "cell_type": "code",
   "execution_count": 78,
   "id": "a2d95eca",
   "metadata": {},
   "outputs": [],
   "source": [
    "# genarating random numbers\n",
    "#random.random() - returns an array of random numbers in btw 0 -1"
   ]
  },
  {
   "cell_type": "code",
   "execution_count": 80,
   "id": "7f3b39ec",
   "metadata": {},
   "outputs": [
    {
     "data": {
      "text/plain": [
       "array([0.82050212, 0.92022293, 0.53386559, 0.9272768 , 0.08116256])"
      ]
     },
     "execution_count": 80,
     "metadata": {},
     "output_type": "execute_result"
    }
   ],
   "source": [
    "np.random.random(5)"
   ]
  },
  {
   "cell_type": "code",
   "execution_count": 81,
   "id": "86a3116f",
   "metadata": {},
   "outputs": [],
   "source": [
    "a = np.random.random(20)"
   ]
  },
  {
   "cell_type": "code",
   "execution_count": 82,
   "id": "3c2f99c6",
   "metadata": {},
   "outputs": [
    {
     "data": {
      "text/plain": [
       "array([0.94755982, 0.83754101, 0.67599946, 0.09092911, 0.94496899,\n",
       "       0.73017349, 0.28565973, 0.67107572, 0.23003787, 0.22733155,\n",
       "       0.81075108, 0.62050451, 0.55230416, 0.78192983, 0.89677295,\n",
       "       0.82388113, 0.0562895 , 0.49632426, 0.05558109, 0.84439634])"
      ]
     },
     "execution_count": 82,
     "metadata": {},
     "output_type": "execute_result"
    }
   ],
   "source": [
    "a"
   ]
  },
  {
   "cell_type": "code",
   "execution_count": 83,
   "id": "120cb4c4",
   "metadata": {},
   "outputs": [
    {
     "data": {
      "text/plain": [
       "array([ 0.94755982,  1.78510083,  2.46110029,  2.5520294 ,  3.49699839,\n",
       "        4.22717188,  4.51283162,  5.18390734,  5.41394521,  5.64127676,\n",
       "        6.45202783,  7.07253235,  7.6248365 ,  8.40676633,  9.30353928,\n",
       "       10.12742041, 10.18370991, 10.68003417, 10.73561525, 11.5800116 ])"
      ]
     },
     "execution_count": 83,
     "metadata": {},
     "output_type": "execute_result"
    }
   ],
   "source": [
    "a.cumsum()"
   ]
  },
  {
   "cell_type": "code",
   "execution_count": 84,
   "id": "e8f4c502",
   "metadata": {},
   "outputs": [
    {
     "data": {
      "text/plain": [
       "array([0.68950928, 0.57797539, 0.04968657, 0.1790961 , 0.50718443])"
      ]
     },
     "execution_count": 84,
     "metadata": {},
     "output_type": "execute_result"
    }
   ],
   "source": [
    "np.random.seed(196)\n",
    "np.random.random(5)"
   ]
  },
  {
   "cell_type": "code",
   "execution_count": 92,
   "id": "333b2953",
   "metadata": {},
   "outputs": [
    {
     "data": {
      "text/plain": [
       "array([0.15416284, 0.7400497 , 0.26331502, 0.53373939])"
      ]
     },
     "execution_count": 92,
     "metadata": {},
     "output_type": "execute_result"
    }
   ],
   "source": [
    "np.random.seed(12)\n",
    "np.random.random(4)"
   ]
  },
  {
   "cell_type": "code",
   "execution_count": null,
   "id": "12efb595",
   "metadata": {},
   "outputs": [],
   "source": [
    "#seed()-used to produce same random numbers on each run"
   ]
  },
  {
   "cell_type": "code",
   "execution_count": 93,
   "id": "c49b337a",
   "metadata": {},
   "outputs": [],
   "source": [
    "# generate an array of random integers"
   ]
  },
  {
   "cell_type": "code",
   "execution_count": 94,
   "id": "7fef4f2f",
   "metadata": {},
   "outputs": [],
   "source": [
    "#randint()-generates an array of random integers"
   ]
  },
  {
   "cell_type": "code",
   "execution_count": 99,
   "id": "daaa1ede",
   "metadata": {},
   "outputs": [
    {
     "data": {
      "text/plain": [
       "array([317,  79, 471, 136,  14,  72, 138, 229, 290, 253])"
      ]
     },
     "execution_count": 99,
     "metadata": {},
     "output_type": "execute_result"
    }
   ],
   "source": [
    "np.random.seed(14440)\n",
    "np.random.randint(10,500,10)"
   ]
  },
  {
   "cell_type": "code",
   "execution_count": 101,
   "id": "1871a884",
   "metadata": {},
   "outputs": [
    {
     "name": "stdout",
     "output_type": "stream",
     "text": [
      "yes\n"
     ]
    }
   ],
   "source": [
    "np.random.seed(5)\n",
    "a = np.random.randint(200,600,100)\n",
    "if 456 in a:\n",
    "    print('yes')\n",
    "else:\n",
    "    print('no')"
   ]
  },
  {
   "cell_type": "code",
   "execution_count": 103,
   "id": "4e47d932",
   "metadata": {
    "scrolled": true
   },
   "outputs": [
    {
     "name": "stdout",
     "output_type": "stream",
     "text": [
      "90\n",
      "90\n",
      "90\n",
      "all ages are same\n"
     ]
    }
   ],
   "source": [
    "a=int(input())\n",
    "b=int(input())\n",
    "c=int(input())\n",
    "if a==b==c:\n",
    " print('all ages are same')\n",
    "elif a>=b and a>=c:\n",
    " if (a==b) or(b==c) and b>=c:\n",
    "  print('%d is eldest'%a)\n",
    "  print('%d is youngest'%c)\n",
    " else:\n",
    "  print('%d is eldest'%a)\n",
    "  print('%d is youngest'%b)\n",
    "elif b>=a and b>=c:\n",
    " if (a==b) or(b==c) and a>=c:\n",
    "  print('%d is eldest'%b)\n",
    "  print('%d is youngest'%c)\n",
    " else:\n",
    "  print('%d is eldest'%b)\n",
    "  print('%d is youngest'%a)\n",
    "else:\n",
    " if (a==b) or(b==c) and b>=a:\n",
    "  print('%d is eldest'%c)\n",
    "  print('%d is youngest'%b)\n",
    " else:\n",
    "  print('%d is eldest'%c)\n",
    "  print('%d is youngest'%a)    \n",
    "    \n",
    "    "
   ]
  },
  {
   "cell_type": "code",
   "execution_count": 104,
   "id": "0975feb6",
   "metadata": {},
   "outputs": [],
   "source": [
    "a = np.arange(1,20)"
   ]
  },
  {
   "cell_type": "code",
   "execution_count": 105,
   "id": "a1da18c9",
   "metadata": {},
   "outputs": [
    {
     "data": {
      "text/plain": [
       "array([ 1,  2,  3,  4,  5,  6,  7,  8,  9, 10, 11, 12, 13, 14, 15, 16, 17,\n",
       "       18, 19])"
      ]
     },
     "execution_count": 105,
     "metadata": {},
     "output_type": "execute_result"
    }
   ],
   "source": [
    "a"
   ]
  },
  {
   "cell_type": "code",
   "execution_count": 106,
   "id": "a508d915",
   "metadata": {},
   "outputs": [],
   "source": [
    "#max() -returns maximum number in an array"
   ]
  },
  {
   "cell_type": "code",
   "execution_count": 107,
   "id": "5540b0a6",
   "metadata": {},
   "outputs": [
    {
     "data": {
      "text/plain": [
       "19"
      ]
     },
     "execution_count": 107,
     "metadata": {},
     "output_type": "execute_result"
    }
   ],
   "source": [
    "a.max()"
   ]
  },
  {
   "cell_type": "code",
   "execution_count": 108,
   "id": "2b91ffed",
   "metadata": {},
   "outputs": [
    {
     "data": {
      "text/plain": [
       "1"
      ]
     },
     "execution_count": 108,
     "metadata": {},
     "output_type": "execute_result"
    }
   ],
   "source": [
    "a.min()"
   ]
  },
  {
   "cell_type": "code",
   "execution_count": 109,
   "id": "7b2fd603",
   "metadata": {},
   "outputs": [
    {
     "data": {
      "text/plain": [
       "array([ 1,  2,  3,  4,  5,  6,  7,  8,  9, 10, 11, 12, 13, 14, 15, 16, 17,\n",
       "       18, 19])"
      ]
     },
     "execution_count": 109,
     "metadata": {},
     "output_type": "execute_result"
    }
   ],
   "source": [
    "a"
   ]
  },
  {
   "cell_type": "code",
   "execution_count": 110,
   "id": "5888f68d",
   "metadata": {},
   "outputs": [],
   "source": [
    "# generate 10 random numbers"
   ]
  },
  {
   "cell_type": "code",
   "execution_count": 111,
   "id": "e0ea296d",
   "metadata": {},
   "outputs": [],
   "source": [
    "a =np.random.random(10)"
   ]
  },
  {
   "cell_type": "code",
   "execution_count": 112,
   "id": "8588c151",
   "metadata": {},
   "outputs": [
    {
     "data": {
      "text/plain": [
       "array([0.92668262, 0.91262676, 0.82481072, 0.09420273, 0.36104842,\n",
       "       0.03550903, 0.54635835, 0.79614272, 0.0511428 , 0.18866774])"
      ]
     },
     "execution_count": 112,
     "metadata": {},
     "output_type": "execute_result"
    }
   ],
   "source": [
    "a"
   ]
  },
  {
   "cell_type": "code",
   "execution_count": 113,
   "id": "2904b137",
   "metadata": {},
   "outputs": [
    {
     "data": {
      "text/plain": [
       "array([0., 0., 0., 0., 0., 0., 0., 0., 0., 0.])"
      ]
     },
     "execution_count": 113,
     "metadata": {},
     "output_type": "execute_result"
    }
   ],
   "source": [
    "np.trunc(a)# truncates decimal part and retuns integer part only"
   ]
  },
  {
   "cell_type": "code",
   "execution_count": 114,
   "id": "c6dcbea8",
   "metadata": {},
   "outputs": [
    {
     "data": {
      "text/plain": [
       "array([0., 0., 0., 0., 0., 0., 0., 0., 0., 0.])"
      ]
     },
     "execution_count": 114,
     "metadata": {},
     "output_type": "execute_result"
    }
   ],
   "source": [
    "np.floor(a)"
   ]
  },
  {
   "cell_type": "code",
   "execution_count": 119,
   "id": "9b8996aa",
   "metadata": {},
   "outputs": [
    {
     "data": {
      "text/plain": [
       "array([ 0.46770521,  0.10134479, -0.05935198, -2.38669774,  1.22217056,\n",
       "       -0.81391201,  0.95626186, -0.63851056, -0.14312642, -0.22418983,\n",
       "       -1.03849524, -0.17170905,  0.47634618, -0.41417827, -1.26408334,\n",
       "       -0.57321556,  0.24981732,  1.14720208,  0.83594396,  0.28740365,\n",
       "       -0.9955963 ,  0.90688947,  0.02421074, -0.23998173,  0.91011056,\n",
       "        0.61784475,  0.49961804, -1.15154425, -0.6105164 , -1.70388541,\n",
       "        0.19443738,  0.02824125,  0.93256051,  0.21204332, -0.36794457,\n",
       "        2.1114884 , -1.02957349, -1.33628031, -0.61056736,  0.52469426,\n",
       "       -0.34930813, -0.44073846, -1.1212876 ,  1.47284473, -0.62337224,\n",
       "       -1.08070195, -0.12253009, -0.8077431 , -0.23255622,  1.33515034])"
      ]
     },
     "execution_count": 119,
     "metadata": {},
     "output_type": "execute_result"
    }
   ],
   "source": [
    "np.random.randn(50)"
   ]
  },
  {
   "cell_type": "code",
   "execution_count": 120,
   "id": "bc292dd0",
   "metadata": {},
   "outputs": [
    {
     "data": {
      "text/plain": [
       "array([0.92668262, 0.91262676, 0.82481072, 0.09420273, 0.36104842,\n",
       "       0.03550903, 0.54635835, 0.79614272, 0.0511428 , 0.18866774])"
      ]
     },
     "execution_count": 120,
     "metadata": {},
     "output_type": "execute_result"
    }
   ],
   "source": [
    "a"
   ]
  },
  {
   "cell_type": "code",
   "execution_count": 122,
   "id": "699ef1de",
   "metadata": {},
   "outputs": [],
   "source": [
    "np.random.seed(5)\n",
    "a = np.random.randint(100,200,30)"
   ]
  },
  {
   "cell_type": "code",
   "execution_count": 123,
   "id": "d3b71286",
   "metadata": {},
   "outputs": [
    {
     "data": {
      "text/plain": [
       "array([199, 178, 161, 116, 173, 108, 162, 127, 130, 180, 107, 176, 115,\n",
       "       153, 180, 127, 144, 177, 175, 165, 147, 130, 184, 186, 118, 109,\n",
       "       141, 162, 101, 182])"
      ]
     },
     "execution_count": 123,
     "metadata": {},
     "output_type": "execute_result"
    }
   ],
   "source": [
    "a"
   ]
  },
  {
   "cell_type": "code",
   "execution_count": 124,
   "id": "33c052f7",
   "metadata": {},
   "outputs": [
    {
     "data": {
      "text/plain": [
       "101"
      ]
     },
     "execution_count": 124,
     "metadata": {},
     "output_type": "execute_result"
    }
   ],
   "source": [
    "a.min()"
   ]
  },
  {
   "cell_type": "code",
   "execution_count": 125,
   "id": "fbd20850",
   "metadata": {},
   "outputs": [
    {
     "data": {
      "text/plain": [
       "28"
      ]
     },
     "execution_count": 125,
     "metadata": {},
     "output_type": "execute_result"
    }
   ],
   "source": [
    "a.argmin() # returns index of min value in an array"
   ]
  },
  {
   "cell_type": "code",
   "execution_count": 126,
   "id": "06cc16c3",
   "metadata": {},
   "outputs": [
    {
     "data": {
      "text/plain": [
       "30"
      ]
     },
     "execution_count": 126,
     "metadata": {},
     "output_type": "execute_result"
    }
   ],
   "source": [
    "len(a)"
   ]
  },
  {
   "cell_type": "code",
   "execution_count": 127,
   "id": "81c986f6",
   "metadata": {},
   "outputs": [],
   "source": [
    "#argmax()- returns index of max value in an array"
   ]
  },
  {
   "cell_type": "code",
   "execution_count": 128,
   "id": "568f0174",
   "metadata": {},
   "outputs": [
    {
     "data": {
      "text/plain": [
       "0"
      ]
     },
     "execution_count": 128,
     "metadata": {},
     "output_type": "execute_result"
    }
   ],
   "source": [
    "a.argmax()"
   ]
  },
  {
   "cell_type": "code",
   "execution_count": 129,
   "id": "4f3070ef",
   "metadata": {},
   "outputs": [],
   "source": [
    "#mean()- returns mean of an array"
   ]
  },
  {
   "cell_type": "code",
   "execution_count": 130,
   "id": "a21068c9",
   "metadata": {},
   "outputs": [
    {
     "data": {
      "text/plain": [
       "150.43333333333334"
      ]
     },
     "execution_count": 130,
     "metadata": {},
     "output_type": "execute_result"
    }
   ],
   "source": [
    "a.mean()"
   ]
  },
  {
   "cell_type": "code",
   "execution_count": 132,
   "id": "20a46ada",
   "metadata": {},
   "outputs": [
    {
     "data": {
      "text/plain": [
       "157.0"
      ]
     },
     "execution_count": 132,
     "metadata": {},
     "output_type": "execute_result"
    }
   ],
   "source": [
    "np.median(a) # returns median value of an array"
   ]
  },
  {
   "cell_type": "code",
   "execution_count": 133,
   "id": "86400150",
   "metadata": {},
   "outputs": [],
   "source": [
    "#mode()- frequntly occured item in an array"
   ]
  },
  {
   "cell_type": "code",
   "execution_count": 137,
   "id": "fd9483a9",
   "metadata": {},
   "outputs": [
    {
     "data": {
      "text/plain": [
       "array([101, 107, 108, 109, 115, 116, 118, 127, 130, 141, 144, 147, 153,\n",
       "       161, 162, 165, 173, 175, 176, 177, 178, 180, 182, 184, 186, 199])"
      ]
     },
     "execution_count": 137,
     "metadata": {},
     "output_type": "execute_result"
    }
   ],
   "source": [
    "np.unique(a)"
   ]
  },
  {
   "cell_type": "code",
   "execution_count": 140,
   "id": "4a02227a",
   "metadata": {},
   "outputs": [],
   "source": [
    "a = np.array([10,34,10,20,34,10,20])"
   ]
  },
  {
   "cell_type": "code",
   "execution_count": 141,
   "id": "d5ecf81e",
   "metadata": {},
   "outputs": [
    {
     "data": {
      "text/plain": [
       "array([10, 20, 34])"
      ]
     },
     "execution_count": 141,
     "metadata": {},
     "output_type": "execute_result"
    }
   ],
   "source": [
    "np.unique(a) # returns unique values in an array"
   ]
  },
  {
   "cell_type": "code",
   "execution_count": 142,
   "id": "7b77b1a2",
   "metadata": {},
   "outputs": [],
   "source": [
    "# create a 2dim array"
   ]
  },
  {
   "cell_type": "code",
   "execution_count": 143,
   "id": "bd7c2b66",
   "metadata": {},
   "outputs": [],
   "source": [
    "a = np.array([[34,12,45],[12,11,22],[1,2,3]])"
   ]
  },
  {
   "cell_type": "code",
   "execution_count": 144,
   "id": "9c6fa76b",
   "metadata": {},
   "outputs": [
    {
     "data": {
      "text/plain": [
       "array([[34, 12, 45],\n",
       "       [12, 11, 22],\n",
       "       [ 1,  2,  3]])"
      ]
     },
     "execution_count": 144,
     "metadata": {},
     "output_type": "execute_result"
    }
   ],
   "source": [
    "a"
   ]
  },
  {
   "cell_type": "code",
   "execution_count": 145,
   "id": "2e1b1526",
   "metadata": {},
   "outputs": [
    {
     "data": {
      "text/plain": [
       "142"
      ]
     },
     "execution_count": 145,
     "metadata": {},
     "output_type": "execute_result"
    }
   ],
   "source": [
    "a.sum()"
   ]
  },
  {
   "cell_type": "code",
   "execution_count": 146,
   "id": "c56fec78",
   "metadata": {},
   "outputs": [
    {
     "data": {
      "text/plain": [
       "array([91, 45,  6])"
      ]
     },
     "execution_count": 146,
     "metadata": {},
     "output_type": "execute_result"
    }
   ],
   "source": [
    "a.sum(1) # row wise sum"
   ]
  },
  {
   "cell_type": "code",
   "execution_count": 147,
   "id": "0af56b4b",
   "metadata": {},
   "outputs": [
    {
     "data": {
      "text/plain": [
       "array([47, 25, 70])"
      ]
     },
     "execution_count": 147,
     "metadata": {},
     "output_type": "execute_result"
    }
   ],
   "source": [
    "a.sum(0)#col wise sum"
   ]
  },
  {
   "cell_type": "code",
   "execution_count": 148,
   "id": "82a608b3",
   "metadata": {},
   "outputs": [
    {
     "data": {
      "text/plain": [
       "array([91, 45,  6])"
      ]
     },
     "execution_count": 148,
     "metadata": {},
     "output_type": "execute_result"
    }
   ],
   "source": [
    "a.sum(axis=1) # row wise sum"
   ]
  },
  {
   "cell_type": "code",
   "execution_count": 149,
   "id": "dd84614d",
   "metadata": {},
   "outputs": [
    {
     "data": {
      "text/plain": [
       "array([47, 25, 70])"
      ]
     },
     "execution_count": 149,
     "metadata": {},
     "output_type": "execute_result"
    }
   ],
   "source": [
    "a.sum(axis=0)# colwise sum"
   ]
  },
  {
   "cell_type": "code",
   "execution_count": null,
   "id": "9aec42ed",
   "metadata": {},
   "outputs": [],
   "source": []
  }
 ],
 "metadata": {
  "kernelspec": {
   "display_name": "Python 3",
   "language": "python",
   "name": "python3"
  },
  "language_info": {
   "codemirror_mode": {
    "name": "ipython",
    "version": 3
   },
   "file_extension": ".py",
   "mimetype": "text/x-python",
   "name": "python",
   "nbconvert_exporter": "python",
   "pygments_lexer": "ipython3",
   "version": "3.8.8"
  }
 },
 "nbformat": 4,
 "nbformat_minor": 5
}
