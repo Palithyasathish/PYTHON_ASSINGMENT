{
  "cells": [
    {
      "cell_type": "code",
      "execution_count": null,
      "id": "d339628b",
      "metadata": {
        "id": "d339628b"
      },
      "outputs": [],
      "source": [
        "import numpy as np\n",
        "import pandas as pd"
      ]
    },
    {
      "cell_type": "code",
      "execution_count": null,
      "id": "0a4bbb51",
      "metadata": {
        "id": "0a4bbb51"
      },
      "outputs": [],
      "source": [
        "S = pd.Series([1,2,1,2,2,2,3,3,4,4,4,1,1,2],index = np.arange(14))"
      ]
    },
    {
      "cell_type": "code",
      "execution_count": null,
      "id": "87a7271b",
      "metadata": {
        "id": "87a7271b",
        "outputId": "29186c04-675a-40cc-dc9e-19a90716f23b"
      },
      "outputs": [
        {
          "data": {
            "text/plain": [
              "0     1\n",
              "1     2\n",
              "2     1\n",
              "3     2\n",
              "4     2\n",
              "5     2\n",
              "6     3\n",
              "7     3\n",
              "8     4\n",
              "9     4\n",
              "10    4\n",
              "11    1\n",
              "12    1\n",
              "13    2\n",
              "dtype: int64"
            ]
          },
          "execution_count": 3,
          "metadata": {},
          "output_type": "execute_result"
        }
      ],
      "source": [
        "S"
      ]
    },
    {
      "cell_type": "code",
      "execution_count": null,
      "id": "3f61f98e",
      "metadata": {
        "id": "3f61f98e",
        "outputId": "29f98b7e-9c7e-4c20-bf01-278047ea1b3b"
      },
      "outputs": [
        {
          "data": {
            "text/plain": [
              "2    5\n",
              "1    4\n",
              "4    3\n",
              "3    2\n",
              "dtype: int64"
            ]
          },
          "execution_count": 4,
          "metadata": {},
          "output_type": "execute_result"
        }
      ],
      "source": [
        "S.value_counts()"
      ]
    },
    {
      "cell_type": "markdown",
      "id": "d8840dea",
      "metadata": {
        "id": "d8840dea"
      },
      "source": [
        "# DataFrame"
      ]
    },
    {
      "cell_type": "code",
      "execution_count": null,
      "id": "89b6d843",
      "metadata": {
        "id": "89b6d843"
      },
      "outputs": [],
      "source": [
        "df = pd.DataFrame()"
      ]
    },
    {
      "cell_type": "code",
      "execution_count": null,
      "id": "7936a8e1",
      "metadata": {
        "id": "7936a8e1",
        "outputId": "f24cbf7d-074d-4b45-905a-ee54614e74d6"
      },
      "outputs": [
        {
          "data": {
            "text/html": [
              "<div>\n",
              "<style scoped>\n",
              "    .dataframe tbody tr th:only-of-type {\n",
              "        vertical-align: middle;\n",
              "    }\n",
              "\n",
              "    .dataframe tbody tr th {\n",
              "        vertical-align: top;\n",
              "    }\n",
              "\n",
              "    .dataframe thead th {\n",
              "        text-align: right;\n",
              "    }\n",
              "</style>\n",
              "<table border=\"1\" class=\"dataframe\">\n",
              "  <thead>\n",
              "    <tr style=\"text-align: right;\">\n",
              "      <th></th>\n",
              "    </tr>\n",
              "  </thead>\n",
              "  <tbody>\n",
              "  </tbody>\n",
              "</table>\n",
              "</div>"
            ],
            "text/plain": [
              "Empty DataFrame\n",
              "Columns: []\n",
              "Index: []"
            ]
          },
          "execution_count": 6,
          "metadata": {},
          "output_type": "execute_result"
        }
      ],
      "source": [
        "df"
      ]
    },
    {
      "cell_type": "code",
      "execution_count": null,
      "id": "59f70e62",
      "metadata": {
        "id": "59f70e62"
      },
      "outputs": [],
      "source": [
        "df = pd.DataFrame(['Python','java','C','C++'])"
      ]
    },
    {
      "cell_type": "code",
      "execution_count": null,
      "id": "f2ea6861",
      "metadata": {
        "id": "f2ea6861",
        "outputId": "0cc94409-24a8-49ef-86ae-87b820949395"
      },
      "outputs": [
        {
          "data": {
            "text/html": [
              "<div>\n",
              "<style scoped>\n",
              "    .dataframe tbody tr th:only-of-type {\n",
              "        vertical-align: middle;\n",
              "    }\n",
              "\n",
              "    .dataframe tbody tr th {\n",
              "        vertical-align: top;\n",
              "    }\n",
              "\n",
              "    .dataframe thead th {\n",
              "        text-align: right;\n",
              "    }\n",
              "</style>\n",
              "<table border=\"1\" class=\"dataframe\">\n",
              "  <thead>\n",
              "    <tr style=\"text-align: right;\">\n",
              "      <th></th>\n",
              "      <th>0</th>\n",
              "    </tr>\n",
              "  </thead>\n",
              "  <tbody>\n",
              "    <tr>\n",
              "      <th>0</th>\n",
              "      <td>Python</td>\n",
              "    </tr>\n",
              "    <tr>\n",
              "      <th>1</th>\n",
              "      <td>java</td>\n",
              "    </tr>\n",
              "    <tr>\n",
              "      <th>2</th>\n",
              "      <td>C</td>\n",
              "    </tr>\n",
              "    <tr>\n",
              "      <th>3</th>\n",
              "      <td>C++</td>\n",
              "    </tr>\n",
              "  </tbody>\n",
              "</table>\n",
              "</div>"
            ],
            "text/plain": [
              "        0\n",
              "0  Python\n",
              "1    java\n",
              "2       C\n",
              "3     C++"
            ]
          },
          "execution_count": 8,
          "metadata": {},
          "output_type": "execute_result"
        }
      ],
      "source": [
        "df"
      ]
    },
    {
      "cell_type": "code",
      "execution_count": null,
      "id": "7647b69a",
      "metadata": {
        "id": "7647b69a"
      },
      "outputs": [],
      "source": [
        "ratings = [1,3,4,2]\n",
        "df[1]=ratings"
      ]
    },
    {
      "cell_type": "code",
      "execution_count": null,
      "id": "f01d4f76",
      "metadata": {
        "id": "f01d4f76",
        "outputId": "ee6ee9d9-21b5-4340-ef15-823a7ecd4dd4"
      },
      "outputs": [
        {
          "data": {
            "text/html": [
              "<div>\n",
              "<style scoped>\n",
              "    .dataframe tbody tr th:only-of-type {\n",
              "        vertical-align: middle;\n",
              "    }\n",
              "\n",
              "    .dataframe tbody tr th {\n",
              "        vertical-align: top;\n",
              "    }\n",
              "\n",
              "    .dataframe thead th {\n",
              "        text-align: right;\n",
              "    }\n",
              "</style>\n",
              "<table border=\"1\" class=\"dataframe\">\n",
              "  <thead>\n",
              "    <tr style=\"text-align: right;\">\n",
              "      <th></th>\n",
              "      <th>0</th>\n",
              "      <th>1</th>\n",
              "    </tr>\n",
              "  </thead>\n",
              "  <tbody>\n",
              "    <tr>\n",
              "      <th>0</th>\n",
              "      <td>Python</td>\n",
              "      <td>1</td>\n",
              "    </tr>\n",
              "    <tr>\n",
              "      <th>1</th>\n",
              "      <td>java</td>\n",
              "      <td>3</td>\n",
              "    </tr>\n",
              "    <tr>\n",
              "      <th>2</th>\n",
              "      <td>C</td>\n",
              "      <td>4</td>\n",
              "    </tr>\n",
              "    <tr>\n",
              "      <th>3</th>\n",
              "      <td>C++</td>\n",
              "      <td>2</td>\n",
              "    </tr>\n",
              "  </tbody>\n",
              "</table>\n",
              "</div>"
            ],
            "text/plain": [
              "        0  1\n",
              "0  Python  1\n",
              "1    java  3\n",
              "2       C  4\n",
              "3     C++  2"
            ]
          },
          "execution_count": 10,
          "metadata": {},
          "output_type": "execute_result"
        }
      ],
      "source": [
        "df"
      ]
    },
    {
      "cell_type": "code",
      "execution_count": null,
      "id": "5de656d5",
      "metadata": {
        "id": "5de656d5"
      },
      "outputs": [],
      "source": [
        "df[2]=['simple','medium','Basic','Typical']"
      ]
    },
    {
      "cell_type": "code",
      "execution_count": null,
      "id": "35f0e3de",
      "metadata": {
        "id": "35f0e3de",
        "outputId": "1644d821-f59d-416c-9a53-84e38c7d203e"
      },
      "outputs": [
        {
          "data": {
            "text/html": [
              "<div>\n",
              "<style scoped>\n",
              "    .dataframe tbody tr th:only-of-type {\n",
              "        vertical-align: middle;\n",
              "    }\n",
              "\n",
              "    .dataframe tbody tr th {\n",
              "        vertical-align: top;\n",
              "    }\n",
              "\n",
              "    .dataframe thead th {\n",
              "        text-align: right;\n",
              "    }\n",
              "</style>\n",
              "<table border=\"1\" class=\"dataframe\">\n",
              "  <thead>\n",
              "    <tr style=\"text-align: right;\">\n",
              "      <th></th>\n",
              "      <th>0</th>\n",
              "      <th>1</th>\n",
              "      <th>2</th>\n",
              "    </tr>\n",
              "  </thead>\n",
              "  <tbody>\n",
              "    <tr>\n",
              "      <th>0</th>\n",
              "      <td>Python</td>\n",
              "      <td>1</td>\n",
              "      <td>simple</td>\n",
              "    </tr>\n",
              "    <tr>\n",
              "      <th>1</th>\n",
              "      <td>java</td>\n",
              "      <td>3</td>\n",
              "      <td>medium</td>\n",
              "    </tr>\n",
              "    <tr>\n",
              "      <th>2</th>\n",
              "      <td>C</td>\n",
              "      <td>4</td>\n",
              "      <td>Basic</td>\n",
              "    </tr>\n",
              "    <tr>\n",
              "      <th>3</th>\n",
              "      <td>C++</td>\n",
              "      <td>2</td>\n",
              "      <td>Typical</td>\n",
              "    </tr>\n",
              "  </tbody>\n",
              "</table>\n",
              "</div>"
            ],
            "text/plain": [
              "        0  1        2\n",
              "0  Python  1   simple\n",
              "1    java  3   medium\n",
              "2       C  4    Basic\n",
              "3     C++  2  Typical"
            ]
          },
          "execution_count": 12,
          "metadata": {},
          "output_type": "execute_result"
        }
      ],
      "source": [
        "df"
      ]
    },
    {
      "cell_type": "code",
      "execution_count": null,
      "id": "7e975acb",
      "metadata": {
        "id": "7e975acb"
      },
      "outputs": [],
      "source": [
        "df.columns=['Language','Rating','Type']"
      ]
    },
    {
      "cell_type": "code",
      "execution_count": null,
      "id": "709e4ae3",
      "metadata": {
        "id": "709e4ae3",
        "outputId": "e55bbc66-164b-4ab8-e4e8-81d545ea4563"
      },
      "outputs": [
        {
          "data": {
            "text/html": [
              "<div>\n",
              "<style scoped>\n",
              "    .dataframe tbody tr th:only-of-type {\n",
              "        vertical-align: middle;\n",
              "    }\n",
              "\n",
              "    .dataframe tbody tr th {\n",
              "        vertical-align: top;\n",
              "    }\n",
              "\n",
              "    .dataframe thead th {\n",
              "        text-align: right;\n",
              "    }\n",
              "</style>\n",
              "<table border=\"1\" class=\"dataframe\">\n",
              "  <thead>\n",
              "    <tr style=\"text-align: right;\">\n",
              "      <th></th>\n",
              "      <th>Language</th>\n",
              "      <th>Rating</th>\n",
              "      <th>Type</th>\n",
              "    </tr>\n",
              "  </thead>\n",
              "  <tbody>\n",
              "    <tr>\n",
              "      <th>0</th>\n",
              "      <td>Python</td>\n",
              "      <td>1</td>\n",
              "      <td>simple</td>\n",
              "    </tr>\n",
              "    <tr>\n",
              "      <th>1</th>\n",
              "      <td>java</td>\n",
              "      <td>3</td>\n",
              "      <td>medium</td>\n",
              "    </tr>\n",
              "    <tr>\n",
              "      <th>2</th>\n",
              "      <td>C</td>\n",
              "      <td>4</td>\n",
              "      <td>Basic</td>\n",
              "    </tr>\n",
              "    <tr>\n",
              "      <th>3</th>\n",
              "      <td>C++</td>\n",
              "      <td>2</td>\n",
              "      <td>Typical</td>\n",
              "    </tr>\n",
              "  </tbody>\n",
              "</table>\n",
              "</div>"
            ],
            "text/plain": [
              "  Language  Rating     Type\n",
              "0   Python       1   simple\n",
              "1     java       3   medium\n",
              "2        C       4    Basic\n",
              "3      C++       2  Typical"
            ]
          },
          "execution_count": 14,
          "metadata": {},
          "output_type": "execute_result"
        }
      ],
      "source": [
        "df"
      ]
    },
    {
      "cell_type": "code",
      "execution_count": null,
      "id": "b33a9102",
      "metadata": {
        "id": "b33a9102",
        "outputId": "0dd429da-9ad2-4656-fc5c-2fda88863f34"
      },
      "outputs": [
        {
          "data": {
            "text/plain": [
              "0    Python\n",
              "1      java\n",
              "2         C\n",
              "3       C++\n",
              "Name: Language, dtype: object"
            ]
          },
          "execution_count": 15,
          "metadata": {},
          "output_type": "execute_result"
        }
      ],
      "source": [
        "df['Language']"
      ]
    },
    {
      "cell_type": "code",
      "execution_count": null,
      "id": "3c45fd4f",
      "metadata": {
        "id": "3c45fd4f",
        "outputId": "39fbd33d-fecd-46ef-bf21-0366c0d9df72"
      },
      "outputs": [
        {
          "data": {
            "text/plain": [
              "0    1\n",
              "1    3\n",
              "2    4\n",
              "3    2\n",
              "Name: Rating, dtype: int64"
            ]
          },
          "execution_count": 16,
          "metadata": {},
          "output_type": "execute_result"
        }
      ],
      "source": [
        "df['Rating']"
      ]
    },
    {
      "cell_type": "code",
      "execution_count": null,
      "id": "cbf57c4e",
      "metadata": {
        "id": "cbf57c4e",
        "outputId": "3ea495b3-5589-43e8-a856-8c6d3d039d20"
      },
      "outputs": [
        {
          "data": {
            "text/plain": [
              "0     simple\n",
              "1     medium\n",
              "2      Basic\n",
              "3    Typical\n",
              "Name: Type, dtype: object"
            ]
          },
          "execution_count": 17,
          "metadata": {},
          "output_type": "execute_result"
        }
      ],
      "source": [
        "df['Type']"
      ]
    },
    {
      "cell_type": "code",
      "execution_count": null,
      "id": "0730cc49",
      "metadata": {
        "id": "0730cc49"
      },
      "outputs": [],
      "source": [
        "# create a dataframe from dictionary "
      ]
    },
    {
      "cell_type": "code",
      "execution_count": null,
      "id": "0674ae3b",
      "metadata": {
        "id": "0674ae3b"
      },
      "outputs": [],
      "source": [
        "data = [{1:'a',2:'b',3:'c'}]\n",
        "df1 = pd.DataFrame(data)"
      ]
    },
    {
      "cell_type": "code",
      "execution_count": null,
      "id": "1ce7c60b",
      "metadata": {
        "id": "1ce7c60b",
        "outputId": "dadcc351-3374-42ef-f735-57f1d41e11f2"
      },
      "outputs": [
        {
          "data": {
            "text/html": [
              "<div>\n",
              "<style scoped>\n",
              "    .dataframe tbody tr th:only-of-type {\n",
              "        vertical-align: middle;\n",
              "    }\n",
              "\n",
              "    .dataframe tbody tr th {\n",
              "        vertical-align: top;\n",
              "    }\n",
              "\n",
              "    .dataframe thead th {\n",
              "        text-align: right;\n",
              "    }\n",
              "</style>\n",
              "<table border=\"1\" class=\"dataframe\">\n",
              "  <thead>\n",
              "    <tr style=\"text-align: right;\">\n",
              "      <th></th>\n",
              "      <th>1</th>\n",
              "      <th>2</th>\n",
              "      <th>3</th>\n",
              "    </tr>\n",
              "  </thead>\n",
              "  <tbody>\n",
              "    <tr>\n",
              "      <th>0</th>\n",
              "      <td>a</td>\n",
              "      <td>b</td>\n",
              "      <td>c</td>\n",
              "    </tr>\n",
              "  </tbody>\n",
              "</table>\n",
              "</div>"
            ],
            "text/plain": [
              "   1  2  3\n",
              "0  a  b  c"
            ]
          },
          "execution_count": 21,
          "metadata": {},
          "output_type": "execute_result"
        }
      ],
      "source": [
        "df1"
      ]
    },
    {
      "cell_type": "code",
      "execution_count": null,
      "id": "65e2b575",
      "metadata": {
        "id": "65e2b575"
      },
      "outputs": [],
      "source": [
        "data = [{1:'a',2:'b'},{1:'c',2:'d'},{1:'e',2:'f'}]"
      ]
    },
    {
      "cell_type": "code",
      "execution_count": null,
      "id": "450a2979",
      "metadata": {
        "id": "450a2979"
      },
      "outputs": [],
      "source": [
        "df2 = pd.DataFrame(data)"
      ]
    },
    {
      "cell_type": "code",
      "execution_count": null,
      "id": "ec796e4d",
      "metadata": {
        "id": "ec796e4d",
        "outputId": "0a4a81e9-36bb-49d0-a2c4-fcd1ac11f058"
      },
      "outputs": [
        {
          "data": {
            "text/html": [
              "<div>\n",
              "<style scoped>\n",
              "    .dataframe tbody tr th:only-of-type {\n",
              "        vertical-align: middle;\n",
              "    }\n",
              "\n",
              "    .dataframe tbody tr th {\n",
              "        vertical-align: top;\n",
              "    }\n",
              "\n",
              "    .dataframe thead th {\n",
              "        text-align: right;\n",
              "    }\n",
              "</style>\n",
              "<table border=\"1\" class=\"dataframe\">\n",
              "  <thead>\n",
              "    <tr style=\"text-align: right;\">\n",
              "      <th></th>\n",
              "      <th>1</th>\n",
              "      <th>2</th>\n",
              "    </tr>\n",
              "  </thead>\n",
              "  <tbody>\n",
              "    <tr>\n",
              "      <th>0</th>\n",
              "      <td>a</td>\n",
              "      <td>b</td>\n",
              "    </tr>\n",
              "    <tr>\n",
              "      <th>1</th>\n",
              "      <td>c</td>\n",
              "      <td>d</td>\n",
              "    </tr>\n",
              "    <tr>\n",
              "      <th>2</th>\n",
              "      <td>e</td>\n",
              "      <td>f</td>\n",
              "    </tr>\n",
              "  </tbody>\n",
              "</table>\n",
              "</div>"
            ],
            "text/plain": [
              "   1  2\n",
              "0  a  b\n",
              "1  c  d\n",
              "2  e  f"
            ]
          },
          "execution_count": 24,
          "metadata": {},
          "output_type": "execute_result"
        }
      ],
      "source": [
        "df2"
      ]
    },
    {
      "cell_type": "code",
      "execution_count": null,
      "id": "659966e9",
      "metadata": {
        "id": "659966e9"
      },
      "outputs": [],
      "source": [
        "#create a dataframe of random numbers with data indices"
      ]
    },
    {
      "cell_type": "code",
      "execution_count": null,
      "id": "7daea884",
      "metadata": {
        "id": "7daea884"
      },
      "outputs": [],
      "source": [
        "# create a range of dates"
      ]
    },
    {
      "cell_type": "code",
      "execution_count": null,
      "id": "1160818b",
      "metadata": {
        "id": "1160818b"
      },
      "outputs": [],
      "source": [
        "dates = pd.date_range(start = '2021-12-21',end = '2021-12-26')"
      ]
    },
    {
      "cell_type": "code",
      "execution_count": null,
      "id": "58d2a2eb",
      "metadata": {
        "id": "58d2a2eb",
        "outputId": "0317fb2f-74d1-4ab9-d99e-1e9ad5bee554"
      },
      "outputs": [
        {
          "data": {
            "text/plain": [
              "DatetimeIndex(['2021-12-21', '2021-12-22', '2021-12-23', '2021-12-24',\n",
              "               '2021-12-25', '2021-12-26'],\n",
              "              dtype='datetime64[ns]', freq='D')"
            ]
          },
          "execution_count": 28,
          "metadata": {},
          "output_type": "execute_result"
        }
      ],
      "source": [
        "dates"
      ]
    },
    {
      "cell_type": "code",
      "execution_count": null,
      "id": "c8284094",
      "metadata": {
        "id": "c8284094"
      },
      "outputs": [],
      "source": [
        "dates = pd.date_range(start = '2021-12-21',periods = 5)"
      ]
    },
    {
      "cell_type": "code",
      "execution_count": null,
      "id": "c36cc8c0",
      "metadata": {
        "id": "c36cc8c0",
        "outputId": "92aaab19-d626-4046-8736-291c82d4f806"
      },
      "outputs": [
        {
          "data": {
            "text/plain": [
              "DatetimeIndex(['2021-12-21', '2021-12-22', '2021-12-23', '2021-12-24',\n",
              "               '2021-12-25'],\n",
              "              dtype='datetime64[ns]', freq='D')"
            ]
          },
          "execution_count": 30,
          "metadata": {},
          "output_type": "execute_result"
        }
      ],
      "source": [
        "dates"
      ]
    },
    {
      "cell_type": "code",
      "execution_count": null,
      "id": "dd4e2b27",
      "metadata": {
        "id": "dd4e2b27"
      },
      "outputs": [],
      "source": [
        "dates = pd.date_range('today',periods = 7)"
      ]
    },
    {
      "cell_type": "code",
      "execution_count": null,
      "id": "e77ace15",
      "metadata": {
        "id": "e77ace15",
        "outputId": "7799be4f-7433-4c72-f01a-87ae24812939"
      },
      "outputs": [
        {
          "data": {
            "text/plain": [
              "DatetimeIndex(['2021-12-21 10:43:50.491586', '2021-12-22 10:43:50.491586',\n",
              "               '2021-12-23 10:43:50.491586', '2021-12-24 10:43:50.491586',\n",
              "               '2021-12-25 10:43:50.491586', '2021-12-26 10:43:50.491586',\n",
              "               '2021-12-27 10:43:50.491586'],\n",
              "              dtype='datetime64[ns]', freq='D')"
            ]
          },
          "execution_count": 32,
          "metadata": {},
          "output_type": "execute_result"
        }
      ],
      "source": [
        "dates\n"
      ]
    },
    {
      "cell_type": "code",
      "execution_count": null,
      "id": "ab91af32",
      "metadata": {
        "id": "ab91af32"
      },
      "outputs": [],
      "source": [
        "dates = pd.date_range(start = '2021-12-21',periods =7)"
      ]
    },
    {
      "cell_type": "code",
      "execution_count": null,
      "id": "b2374cc5",
      "metadata": {
        "id": "b2374cc5",
        "outputId": "491879c2-c225-4465-a069-91716470b16f"
      },
      "outputs": [
        {
          "data": {
            "text/plain": [
              "DatetimeIndex(['2021-12-21', '2021-12-22', '2021-12-23', '2021-12-24',\n",
              "               '2021-12-25', '2021-12-26', '2021-12-27'],\n",
              "              dtype='datetime64[ns]', freq='D')"
            ]
          },
          "execution_count": 34,
          "metadata": {},
          "output_type": "execute_result"
        }
      ],
      "source": [
        "dates"
      ]
    },
    {
      "cell_type": "code",
      "execution_count": null,
      "id": "c947690a",
      "metadata": {
        "id": "c947690a"
      },
      "outputs": [],
      "source": [
        "M = np.random.random((7,7))"
      ]
    },
    {
      "cell_type": "code",
      "execution_count": null,
      "id": "c63d52be",
      "metadata": {
        "id": "c63d52be",
        "outputId": "62a3087b-6a89-4a5b-a247-06952c5dd3e1"
      },
      "outputs": [
        {
          "data": {
            "text/plain": [
              "array([[0.42415725, 0.1510046 , 0.43302171, 0.927524  , 0.68990686,\n",
              "        0.01063168, 0.15559882],\n",
              "       [0.0057369 , 0.92093906, 0.28657263, 0.10362386, 0.09567043,\n",
              "        0.77176555, 0.45213264],\n",
              "       [0.85904637, 0.58168955, 0.76178259, 0.89437481, 0.17326334,\n",
              "        0.54819771, 0.5584342 ],\n",
              "       [0.66781564, 0.88732841, 0.85079913, 0.87207141, 0.75706712,\n",
              "        0.81580166, 0.36601817],\n",
              "       [0.03181797, 0.4515949 , 0.79507545, 0.91259789, 0.13227661,\n",
              "        0.60606223, 0.35549192],\n",
              "       [0.51040823, 0.6567242 , 0.62127442, 0.65660009, 0.17455879,\n",
              "        0.38154456, 0.07505636],\n",
              "       [0.1271438 , 0.63611685, 0.05499727, 0.16161749, 0.51503247,\n",
              "        0.71584092, 0.69950913]])"
            ]
          },
          "execution_count": 36,
          "metadata": {},
          "output_type": "execute_result"
        }
      ],
      "source": [
        "M"
      ]
    },
    {
      "cell_type": "code",
      "execution_count": null,
      "id": "24eb8f3f",
      "metadata": {
        "id": "24eb8f3f"
      },
      "outputs": [],
      "source": [
        "dframe = pd.DataFrame(M,index=dates)"
      ]
    },
    {
      "cell_type": "code",
      "execution_count": null,
      "id": "94789819",
      "metadata": {
        "id": "94789819",
        "outputId": "e526e74e-fae7-4214-8231-02341cca7c8b"
      },
      "outputs": [
        {
          "data": {
            "text/html": [
              "<div>\n",
              "<style scoped>\n",
              "    .dataframe tbody tr th:only-of-type {\n",
              "        vertical-align: middle;\n",
              "    }\n",
              "\n",
              "    .dataframe tbody tr th {\n",
              "        vertical-align: top;\n",
              "    }\n",
              "\n",
              "    .dataframe thead th {\n",
              "        text-align: right;\n",
              "    }\n",
              "</style>\n",
              "<table border=\"1\" class=\"dataframe\">\n",
              "  <thead>\n",
              "    <tr style=\"text-align: right;\">\n",
              "      <th></th>\n",
              "      <th>0</th>\n",
              "      <th>1</th>\n",
              "      <th>2</th>\n",
              "      <th>3</th>\n",
              "      <th>4</th>\n",
              "      <th>5</th>\n",
              "      <th>6</th>\n",
              "    </tr>\n",
              "  </thead>\n",
              "  <tbody>\n",
              "    <tr>\n",
              "      <th>2021-12-21</th>\n",
              "      <td>0.424157</td>\n",
              "      <td>0.151005</td>\n",
              "      <td>0.433022</td>\n",
              "      <td>0.927524</td>\n",
              "      <td>0.689907</td>\n",
              "      <td>0.010632</td>\n",
              "      <td>0.155599</td>\n",
              "    </tr>\n",
              "    <tr>\n",
              "      <th>2021-12-22</th>\n",
              "      <td>0.005737</td>\n",
              "      <td>0.920939</td>\n",
              "      <td>0.286573</td>\n",
              "      <td>0.103624</td>\n",
              "      <td>0.095670</td>\n",
              "      <td>0.771766</td>\n",
              "      <td>0.452133</td>\n",
              "    </tr>\n",
              "    <tr>\n",
              "      <th>2021-12-23</th>\n",
              "      <td>0.859046</td>\n",
              "      <td>0.581690</td>\n",
              "      <td>0.761783</td>\n",
              "      <td>0.894375</td>\n",
              "      <td>0.173263</td>\n",
              "      <td>0.548198</td>\n",
              "      <td>0.558434</td>\n",
              "    </tr>\n",
              "    <tr>\n",
              "      <th>2021-12-24</th>\n",
              "      <td>0.667816</td>\n",
              "      <td>0.887328</td>\n",
              "      <td>0.850799</td>\n",
              "      <td>0.872071</td>\n",
              "      <td>0.757067</td>\n",
              "      <td>0.815802</td>\n",
              "      <td>0.366018</td>\n",
              "    </tr>\n",
              "    <tr>\n",
              "      <th>2021-12-25</th>\n",
              "      <td>0.031818</td>\n",
              "      <td>0.451595</td>\n",
              "      <td>0.795075</td>\n",
              "      <td>0.912598</td>\n",
              "      <td>0.132277</td>\n",
              "      <td>0.606062</td>\n",
              "      <td>0.355492</td>\n",
              "    </tr>\n",
              "    <tr>\n",
              "      <th>2021-12-26</th>\n",
              "      <td>0.510408</td>\n",
              "      <td>0.656724</td>\n",
              "      <td>0.621274</td>\n",
              "      <td>0.656600</td>\n",
              "      <td>0.174559</td>\n",
              "      <td>0.381545</td>\n",
              "      <td>0.075056</td>\n",
              "    </tr>\n",
              "    <tr>\n",
              "      <th>2021-12-27</th>\n",
              "      <td>0.127144</td>\n",
              "      <td>0.636117</td>\n",
              "      <td>0.054997</td>\n",
              "      <td>0.161617</td>\n",
              "      <td>0.515032</td>\n",
              "      <td>0.715841</td>\n",
              "      <td>0.699509</td>\n",
              "    </tr>\n",
              "  </tbody>\n",
              "</table>\n",
              "</div>"
            ],
            "text/plain": [
              "                   0         1         2         3         4         5  \\\n",
              "2021-12-21  0.424157  0.151005  0.433022  0.927524  0.689907  0.010632   \n",
              "2021-12-22  0.005737  0.920939  0.286573  0.103624  0.095670  0.771766   \n",
              "2021-12-23  0.859046  0.581690  0.761783  0.894375  0.173263  0.548198   \n",
              "2021-12-24  0.667816  0.887328  0.850799  0.872071  0.757067  0.815802   \n",
              "2021-12-25  0.031818  0.451595  0.795075  0.912598  0.132277  0.606062   \n",
              "2021-12-26  0.510408  0.656724  0.621274  0.656600  0.174559  0.381545   \n",
              "2021-12-27  0.127144  0.636117  0.054997  0.161617  0.515032  0.715841   \n",
              "\n",
              "                   6  \n",
              "2021-12-21  0.155599  \n",
              "2021-12-22  0.452133  \n",
              "2021-12-23  0.558434  \n",
              "2021-12-24  0.366018  \n",
              "2021-12-25  0.355492  \n",
              "2021-12-26  0.075056  \n",
              "2021-12-27  0.699509  "
            ]
          },
          "execution_count": 38,
          "metadata": {},
          "output_type": "execute_result"
        }
      ],
      "source": [
        "dframe"
      ]
    },
    {
      "cell_type": "code",
      "execution_count": null,
      "id": "ced8f6ee",
      "metadata": {
        "id": "ced8f6ee"
      },
      "outputs": [],
      "source": [
        "dframe.columns = ['C1','C2','C3','C4','C5','C6','C7']"
      ]
    },
    {
      "cell_type": "code",
      "execution_count": null,
      "id": "65a7c27b",
      "metadata": {
        "id": "65a7c27b",
        "outputId": "8224982c-1842-44a4-c0bd-0171f6c61392"
      },
      "outputs": [
        {
          "data": {
            "text/html": [
              "<div>\n",
              "<style scoped>\n",
              "    .dataframe tbody tr th:only-of-type {\n",
              "        vertical-align: middle;\n",
              "    }\n",
              "\n",
              "    .dataframe tbody tr th {\n",
              "        vertical-align: top;\n",
              "    }\n",
              "\n",
              "    .dataframe thead th {\n",
              "        text-align: right;\n",
              "    }\n",
              "</style>\n",
              "<table border=\"1\" class=\"dataframe\">\n",
              "  <thead>\n",
              "    <tr style=\"text-align: right;\">\n",
              "      <th></th>\n",
              "      <th>C1</th>\n",
              "      <th>C2</th>\n",
              "      <th>C3</th>\n",
              "      <th>C4</th>\n",
              "      <th>C5</th>\n",
              "      <th>C6</th>\n",
              "      <th>C7</th>\n",
              "    </tr>\n",
              "  </thead>\n",
              "  <tbody>\n",
              "    <tr>\n",
              "      <th>2021-12-21</th>\n",
              "      <td>0.424157</td>\n",
              "      <td>0.151005</td>\n",
              "      <td>0.433022</td>\n",
              "      <td>0.927524</td>\n",
              "      <td>0.689907</td>\n",
              "      <td>0.010632</td>\n",
              "      <td>0.155599</td>\n",
              "    </tr>\n",
              "    <tr>\n",
              "      <th>2021-12-22</th>\n",
              "      <td>0.005737</td>\n",
              "      <td>0.920939</td>\n",
              "      <td>0.286573</td>\n",
              "      <td>0.103624</td>\n",
              "      <td>0.095670</td>\n",
              "      <td>0.771766</td>\n",
              "      <td>0.452133</td>\n",
              "    </tr>\n",
              "    <tr>\n",
              "      <th>2021-12-23</th>\n",
              "      <td>0.859046</td>\n",
              "      <td>0.581690</td>\n",
              "      <td>0.761783</td>\n",
              "      <td>0.894375</td>\n",
              "      <td>0.173263</td>\n",
              "      <td>0.548198</td>\n",
              "      <td>0.558434</td>\n",
              "    </tr>\n",
              "    <tr>\n",
              "      <th>2021-12-24</th>\n",
              "      <td>0.667816</td>\n",
              "      <td>0.887328</td>\n",
              "      <td>0.850799</td>\n",
              "      <td>0.872071</td>\n",
              "      <td>0.757067</td>\n",
              "      <td>0.815802</td>\n",
              "      <td>0.366018</td>\n",
              "    </tr>\n",
              "    <tr>\n",
              "      <th>2021-12-25</th>\n",
              "      <td>0.031818</td>\n",
              "      <td>0.451595</td>\n",
              "      <td>0.795075</td>\n",
              "      <td>0.912598</td>\n",
              "      <td>0.132277</td>\n",
              "      <td>0.606062</td>\n",
              "      <td>0.355492</td>\n",
              "    </tr>\n",
              "    <tr>\n",
              "      <th>2021-12-26</th>\n",
              "      <td>0.510408</td>\n",
              "      <td>0.656724</td>\n",
              "      <td>0.621274</td>\n",
              "      <td>0.656600</td>\n",
              "      <td>0.174559</td>\n",
              "      <td>0.381545</td>\n",
              "      <td>0.075056</td>\n",
              "    </tr>\n",
              "    <tr>\n",
              "      <th>2021-12-27</th>\n",
              "      <td>0.127144</td>\n",
              "      <td>0.636117</td>\n",
              "      <td>0.054997</td>\n",
              "      <td>0.161617</td>\n",
              "      <td>0.515032</td>\n",
              "      <td>0.715841</td>\n",
              "      <td>0.699509</td>\n",
              "    </tr>\n",
              "  </tbody>\n",
              "</table>\n",
              "</div>"
            ],
            "text/plain": [
              "                  C1        C2        C3        C4        C5        C6  \\\n",
              "2021-12-21  0.424157  0.151005  0.433022  0.927524  0.689907  0.010632   \n",
              "2021-12-22  0.005737  0.920939  0.286573  0.103624  0.095670  0.771766   \n",
              "2021-12-23  0.859046  0.581690  0.761783  0.894375  0.173263  0.548198   \n",
              "2021-12-24  0.667816  0.887328  0.850799  0.872071  0.757067  0.815802   \n",
              "2021-12-25  0.031818  0.451595  0.795075  0.912598  0.132277  0.606062   \n",
              "2021-12-26  0.510408  0.656724  0.621274  0.656600  0.174559  0.381545   \n",
              "2021-12-27  0.127144  0.636117  0.054997  0.161617  0.515032  0.715841   \n",
              "\n",
              "                  C7  \n",
              "2021-12-21  0.155599  \n",
              "2021-12-22  0.452133  \n",
              "2021-12-23  0.558434  \n",
              "2021-12-24  0.366018  \n",
              "2021-12-25  0.355492  \n",
              "2021-12-26  0.075056  \n",
              "2021-12-27  0.699509  "
            ]
          },
          "execution_count": 40,
          "metadata": {},
          "output_type": "execute_result"
        }
      ],
      "source": [
        "dframe"
      ]
    },
    {
      "cell_type": "code",
      "execution_count": null,
      "id": "12bdaf34",
      "metadata": {
        "id": "12bdaf34",
        "outputId": "9293ef60-813b-4fe6-b2aa-3e420e0bbcfb"
      },
      "outputs": [
        {
          "data": {
            "text/plain": [
              "2021-12-21    0.424157\n",
              "2021-12-22    0.005737\n",
              "2021-12-23    0.859046\n",
              "2021-12-24    0.667816\n",
              "2021-12-25    0.031818\n",
              "2021-12-26    0.510408\n",
              "2021-12-27    0.127144\n",
              "Freq: D, Name: C1, dtype: float64"
            ]
          },
          "execution_count": 41,
          "metadata": {},
          "output_type": "execute_result"
        }
      ],
      "source": [
        "dframe['C1']"
      ]
    },
    {
      "cell_type": "code",
      "execution_count": null,
      "id": "76cef609",
      "metadata": {
        "id": "76cef609",
        "outputId": "d06fdfa3-d8f4-4980-d8a4-5e078fb0873c"
      },
      "outputs": [
        {
          "data": {
            "text/plain": [
              "DatetimeIndex(['2021-12-21', '2021-12-22', '2021-12-23', '2021-12-24',\n",
              "               '2021-12-25', '2021-12-26', '2021-12-27'],\n",
              "              dtype='datetime64[ns]', freq='D')"
            ]
          },
          "execution_count": 42,
          "metadata": {},
          "output_type": "execute_result"
        }
      ],
      "source": [
        "dframe.index # list index"
      ]
    },
    {
      "cell_type": "code",
      "execution_count": null,
      "id": "f7c5f433",
      "metadata": {
        "id": "f7c5f433",
        "outputId": "f15a831b-98f3-476b-d9ff-741917209d23"
      },
      "outputs": [
        {
          "data": {
            "text/plain": [
              "Index(['C1', 'C2', 'C3', 'C4', 'C5', 'C6', 'C7'], dtype='object')"
            ]
          },
          "execution_count": 43,
          "metadata": {},
          "output_type": "execute_result"
        }
      ],
      "source": [
        "dframe.columns # list of columns"
      ]
    },
    {
      "cell_type": "code",
      "execution_count": null,
      "id": "6026e73e",
      "metadata": {
        "id": "6026e73e"
      },
      "outputs": [],
      "source": [
        "#data type of each column"
      ]
    },
    {
      "cell_type": "code",
      "execution_count": null,
      "id": "f71a856f",
      "metadata": {
        "id": "f71a856f",
        "outputId": "115e9cf1-6e88-4f4a-fcbc-9d2c418b4b75"
      },
      "outputs": [
        {
          "data": {
            "text/plain": [
              "C1    float64\n",
              "C2    float64\n",
              "C3    float64\n",
              "C4    float64\n",
              "C5    float64\n",
              "C6    float64\n",
              "C7    float64\n",
              "dtype: object"
            ]
          },
          "execution_count": 45,
          "metadata": {},
          "output_type": "execute_result"
        }
      ],
      "source": [
        "dframe.dtypes"
      ]
    },
    {
      "cell_type": "code",
      "execution_count": null,
      "id": "4aebb3d8",
      "metadata": {
        "id": "4aebb3d8",
        "outputId": "1c597ef0-3a84-4f0e-8dde-c8f7240bbf9c"
      },
      "outputs": [
        {
          "data": {
            "text/html": [
              "<div>\n",
              "<style scoped>\n",
              "    .dataframe tbody tr th:only-of-type {\n",
              "        vertical-align: middle;\n",
              "    }\n",
              "\n",
              "    .dataframe tbody tr th {\n",
              "        vertical-align: top;\n",
              "    }\n",
              "\n",
              "    .dataframe thead th {\n",
              "        text-align: right;\n",
              "    }\n",
              "</style>\n",
              "<table border=\"1\" class=\"dataframe\">\n",
              "  <thead>\n",
              "    <tr style=\"text-align: right;\">\n",
              "      <th></th>\n",
              "      <th>C1</th>\n",
              "      <th>C2</th>\n",
              "      <th>C3</th>\n",
              "      <th>C4</th>\n",
              "      <th>C5</th>\n",
              "      <th>C6</th>\n",
              "      <th>C7</th>\n",
              "    </tr>\n",
              "  </thead>\n",
              "  <tbody>\n",
              "    <tr>\n",
              "      <th>2021-12-22</th>\n",
              "      <td>0.005737</td>\n",
              "      <td>0.920939</td>\n",
              "      <td>0.286573</td>\n",
              "      <td>0.103624</td>\n",
              "      <td>0.095670</td>\n",
              "      <td>0.771766</td>\n",
              "      <td>0.452133</td>\n",
              "    </tr>\n",
              "    <tr>\n",
              "      <th>2021-12-25</th>\n",
              "      <td>0.031818</td>\n",
              "      <td>0.451595</td>\n",
              "      <td>0.795075</td>\n",
              "      <td>0.912598</td>\n",
              "      <td>0.132277</td>\n",
              "      <td>0.606062</td>\n",
              "      <td>0.355492</td>\n",
              "    </tr>\n",
              "    <tr>\n",
              "      <th>2021-12-27</th>\n",
              "      <td>0.127144</td>\n",
              "      <td>0.636117</td>\n",
              "      <td>0.054997</td>\n",
              "      <td>0.161617</td>\n",
              "      <td>0.515032</td>\n",
              "      <td>0.715841</td>\n",
              "      <td>0.699509</td>\n",
              "    </tr>\n",
              "    <tr>\n",
              "      <th>2021-12-21</th>\n",
              "      <td>0.424157</td>\n",
              "      <td>0.151005</td>\n",
              "      <td>0.433022</td>\n",
              "      <td>0.927524</td>\n",
              "      <td>0.689907</td>\n",
              "      <td>0.010632</td>\n",
              "      <td>0.155599</td>\n",
              "    </tr>\n",
              "    <tr>\n",
              "      <th>2021-12-26</th>\n",
              "      <td>0.510408</td>\n",
              "      <td>0.656724</td>\n",
              "      <td>0.621274</td>\n",
              "      <td>0.656600</td>\n",
              "      <td>0.174559</td>\n",
              "      <td>0.381545</td>\n",
              "      <td>0.075056</td>\n",
              "    </tr>\n",
              "    <tr>\n",
              "      <th>2021-12-24</th>\n",
              "      <td>0.667816</td>\n",
              "      <td>0.887328</td>\n",
              "      <td>0.850799</td>\n",
              "      <td>0.872071</td>\n",
              "      <td>0.757067</td>\n",
              "      <td>0.815802</td>\n",
              "      <td>0.366018</td>\n",
              "    </tr>\n",
              "    <tr>\n",
              "      <th>2021-12-23</th>\n",
              "      <td>0.859046</td>\n",
              "      <td>0.581690</td>\n",
              "      <td>0.761783</td>\n",
              "      <td>0.894375</td>\n",
              "      <td>0.173263</td>\n",
              "      <td>0.548198</td>\n",
              "      <td>0.558434</td>\n",
              "    </tr>\n",
              "  </tbody>\n",
              "</table>\n",
              "</div>"
            ],
            "text/plain": [
              "                  C1        C2        C3        C4        C5        C6  \\\n",
              "2021-12-22  0.005737  0.920939  0.286573  0.103624  0.095670  0.771766   \n",
              "2021-12-25  0.031818  0.451595  0.795075  0.912598  0.132277  0.606062   \n",
              "2021-12-27  0.127144  0.636117  0.054997  0.161617  0.515032  0.715841   \n",
              "2021-12-21  0.424157  0.151005  0.433022  0.927524  0.689907  0.010632   \n",
              "2021-12-26  0.510408  0.656724  0.621274  0.656600  0.174559  0.381545   \n",
              "2021-12-24  0.667816  0.887328  0.850799  0.872071  0.757067  0.815802   \n",
              "2021-12-23  0.859046  0.581690  0.761783  0.894375  0.173263  0.548198   \n",
              "\n",
              "                  C7  \n",
              "2021-12-22  0.452133  \n",
              "2021-12-25  0.355492  \n",
              "2021-12-27  0.699509  \n",
              "2021-12-21  0.155599  \n",
              "2021-12-26  0.075056  \n",
              "2021-12-24  0.366018  \n",
              "2021-12-23  0.558434  "
            ]
          },
          "execution_count": 46,
          "metadata": {},
          "output_type": "execute_result"
        }
      ],
      "source": [
        "# sort dataframe by column C1 in ascending order\n",
        "dframe.sort_values(by='C1')"
      ]
    },
    {
      "cell_type": "code",
      "execution_count": null,
      "id": "77004e41",
      "metadata": {
        "id": "77004e41"
      },
      "outputs": [],
      "source": [
        "# sort dataframe by column c1 in dscending order"
      ]
    },
    {
      "cell_type": "code",
      "execution_count": null,
      "id": "335048e4",
      "metadata": {
        "id": "335048e4",
        "outputId": "df8cfac7-b116-46cc-fcae-47d4d17d8cac"
      },
      "outputs": [
        {
          "data": {
            "text/html": [
              "<div>\n",
              "<style scoped>\n",
              "    .dataframe tbody tr th:only-of-type {\n",
              "        vertical-align: middle;\n",
              "    }\n",
              "\n",
              "    .dataframe tbody tr th {\n",
              "        vertical-align: top;\n",
              "    }\n",
              "\n",
              "    .dataframe thead th {\n",
              "        text-align: right;\n",
              "    }\n",
              "</style>\n",
              "<table border=\"1\" class=\"dataframe\">\n",
              "  <thead>\n",
              "    <tr style=\"text-align: right;\">\n",
              "      <th></th>\n",
              "      <th>C1</th>\n",
              "      <th>C2</th>\n",
              "      <th>C3</th>\n",
              "      <th>C4</th>\n",
              "      <th>C5</th>\n",
              "      <th>C6</th>\n",
              "      <th>C7</th>\n",
              "    </tr>\n",
              "  </thead>\n",
              "  <tbody>\n",
              "    <tr>\n",
              "      <th>2021-12-23</th>\n",
              "      <td>0.859046</td>\n",
              "      <td>0.581690</td>\n",
              "      <td>0.761783</td>\n",
              "      <td>0.894375</td>\n",
              "      <td>0.173263</td>\n",
              "      <td>0.548198</td>\n",
              "      <td>0.558434</td>\n",
              "    </tr>\n",
              "    <tr>\n",
              "      <th>2021-12-24</th>\n",
              "      <td>0.667816</td>\n",
              "      <td>0.887328</td>\n",
              "      <td>0.850799</td>\n",
              "      <td>0.872071</td>\n",
              "      <td>0.757067</td>\n",
              "      <td>0.815802</td>\n",
              "      <td>0.366018</td>\n",
              "    </tr>\n",
              "    <tr>\n",
              "      <th>2021-12-26</th>\n",
              "      <td>0.510408</td>\n",
              "      <td>0.656724</td>\n",
              "      <td>0.621274</td>\n",
              "      <td>0.656600</td>\n",
              "      <td>0.174559</td>\n",
              "      <td>0.381545</td>\n",
              "      <td>0.075056</td>\n",
              "    </tr>\n",
              "    <tr>\n",
              "      <th>2021-12-21</th>\n",
              "      <td>0.424157</td>\n",
              "      <td>0.151005</td>\n",
              "      <td>0.433022</td>\n",
              "      <td>0.927524</td>\n",
              "      <td>0.689907</td>\n",
              "      <td>0.010632</td>\n",
              "      <td>0.155599</td>\n",
              "    </tr>\n",
              "    <tr>\n",
              "      <th>2021-12-27</th>\n",
              "      <td>0.127144</td>\n",
              "      <td>0.636117</td>\n",
              "      <td>0.054997</td>\n",
              "      <td>0.161617</td>\n",
              "      <td>0.515032</td>\n",
              "      <td>0.715841</td>\n",
              "      <td>0.699509</td>\n",
              "    </tr>\n",
              "    <tr>\n",
              "      <th>2021-12-25</th>\n",
              "      <td>0.031818</td>\n",
              "      <td>0.451595</td>\n",
              "      <td>0.795075</td>\n",
              "      <td>0.912598</td>\n",
              "      <td>0.132277</td>\n",
              "      <td>0.606062</td>\n",
              "      <td>0.355492</td>\n",
              "    </tr>\n",
              "    <tr>\n",
              "      <th>2021-12-22</th>\n",
              "      <td>0.005737</td>\n",
              "      <td>0.920939</td>\n",
              "      <td>0.286573</td>\n",
              "      <td>0.103624</td>\n",
              "      <td>0.095670</td>\n",
              "      <td>0.771766</td>\n",
              "      <td>0.452133</td>\n",
              "    </tr>\n",
              "  </tbody>\n",
              "</table>\n",
              "</div>"
            ],
            "text/plain": [
              "                  C1        C2        C3        C4        C5        C6  \\\n",
              "2021-12-23  0.859046  0.581690  0.761783  0.894375  0.173263  0.548198   \n",
              "2021-12-24  0.667816  0.887328  0.850799  0.872071  0.757067  0.815802   \n",
              "2021-12-26  0.510408  0.656724  0.621274  0.656600  0.174559  0.381545   \n",
              "2021-12-21  0.424157  0.151005  0.433022  0.927524  0.689907  0.010632   \n",
              "2021-12-27  0.127144  0.636117  0.054997  0.161617  0.515032  0.715841   \n",
              "2021-12-25  0.031818  0.451595  0.795075  0.912598  0.132277  0.606062   \n",
              "2021-12-22  0.005737  0.920939  0.286573  0.103624  0.095670  0.771766   \n",
              "\n",
              "                  C7  \n",
              "2021-12-23  0.558434  \n",
              "2021-12-24  0.366018  \n",
              "2021-12-26  0.075056  \n",
              "2021-12-21  0.155599  \n",
              "2021-12-27  0.699509  \n",
              "2021-12-25  0.355492  \n",
              "2021-12-22  0.452133  "
            ]
          },
          "execution_count": 48,
          "metadata": {},
          "output_type": "execute_result"
        }
      ],
      "source": [
        "dframe.sort_values(by='C1',ascending = False)"
      ]
    },
    {
      "cell_type": "code",
      "execution_count": null,
      "id": "2ea8c9e2",
      "metadata": {
        "id": "2ea8c9e2",
        "outputId": "ffa30cac-c2fd-41f3-e7ae-f55a97df9568"
      },
      "outputs": [
        {
          "data": {
            "text/html": [
              "<div>\n",
              "<style scoped>\n",
              "    .dataframe tbody tr th:only-of-type {\n",
              "        vertical-align: middle;\n",
              "    }\n",
              "\n",
              "    .dataframe tbody tr th {\n",
              "        vertical-align: top;\n",
              "    }\n",
              "\n",
              "    .dataframe thead th {\n",
              "        text-align: right;\n",
              "    }\n",
              "</style>\n",
              "<table border=\"1\" class=\"dataframe\">\n",
              "  <thead>\n",
              "    <tr style=\"text-align: right;\">\n",
              "      <th></th>\n",
              "      <th>C1</th>\n",
              "      <th>C2</th>\n",
              "      <th>C3</th>\n",
              "      <th>C4</th>\n",
              "      <th>C5</th>\n",
              "      <th>C6</th>\n",
              "      <th>C7</th>\n",
              "    </tr>\n",
              "  </thead>\n",
              "  <tbody>\n",
              "    <tr>\n",
              "      <th>2021-12-21</th>\n",
              "      <td>0.424157</td>\n",
              "      <td>0.151005</td>\n",
              "      <td>0.433022</td>\n",
              "      <td>0.927524</td>\n",
              "      <td>0.689907</td>\n",
              "      <td>0.010632</td>\n",
              "      <td>0.155599</td>\n",
              "    </tr>\n",
              "    <tr>\n",
              "      <th>2021-12-22</th>\n",
              "      <td>0.005737</td>\n",
              "      <td>0.920939</td>\n",
              "      <td>0.286573</td>\n",
              "      <td>0.103624</td>\n",
              "      <td>0.095670</td>\n",
              "      <td>0.771766</td>\n",
              "      <td>0.452133</td>\n",
              "    </tr>\n",
              "    <tr>\n",
              "      <th>2021-12-23</th>\n",
              "      <td>0.859046</td>\n",
              "      <td>0.581690</td>\n",
              "      <td>0.761783</td>\n",
              "      <td>0.894375</td>\n",
              "      <td>0.173263</td>\n",
              "      <td>0.548198</td>\n",
              "      <td>0.558434</td>\n",
              "    </tr>\n",
              "    <tr>\n",
              "      <th>2021-12-24</th>\n",
              "      <td>0.667816</td>\n",
              "      <td>0.887328</td>\n",
              "      <td>0.850799</td>\n",
              "      <td>0.872071</td>\n",
              "      <td>0.757067</td>\n",
              "      <td>0.815802</td>\n",
              "      <td>0.366018</td>\n",
              "    </tr>\n",
              "    <tr>\n",
              "      <th>2021-12-25</th>\n",
              "      <td>0.031818</td>\n",
              "      <td>0.451595</td>\n",
              "      <td>0.795075</td>\n",
              "      <td>0.912598</td>\n",
              "      <td>0.132277</td>\n",
              "      <td>0.606062</td>\n",
              "      <td>0.355492</td>\n",
              "    </tr>\n",
              "    <tr>\n",
              "      <th>2021-12-26</th>\n",
              "      <td>0.510408</td>\n",
              "      <td>0.656724</td>\n",
              "      <td>0.621274</td>\n",
              "      <td>0.656600</td>\n",
              "      <td>0.174559</td>\n",
              "      <td>0.381545</td>\n",
              "      <td>0.075056</td>\n",
              "    </tr>\n",
              "    <tr>\n",
              "      <th>2021-12-27</th>\n",
              "      <td>0.127144</td>\n",
              "      <td>0.636117</td>\n",
              "      <td>0.054997</td>\n",
              "      <td>0.161617</td>\n",
              "      <td>0.515032</td>\n",
              "      <td>0.715841</td>\n",
              "      <td>0.699509</td>\n",
              "    </tr>\n",
              "  </tbody>\n",
              "</table>\n",
              "</div>"
            ],
            "text/plain": [
              "                  C1        C2        C3        C4        C5        C6  \\\n",
              "2021-12-21  0.424157  0.151005  0.433022  0.927524  0.689907  0.010632   \n",
              "2021-12-22  0.005737  0.920939  0.286573  0.103624  0.095670  0.771766   \n",
              "2021-12-23  0.859046  0.581690  0.761783  0.894375  0.173263  0.548198   \n",
              "2021-12-24  0.667816  0.887328  0.850799  0.872071  0.757067  0.815802   \n",
              "2021-12-25  0.031818  0.451595  0.795075  0.912598  0.132277  0.606062   \n",
              "2021-12-26  0.510408  0.656724  0.621274  0.656600  0.174559  0.381545   \n",
              "2021-12-27  0.127144  0.636117  0.054997  0.161617  0.515032  0.715841   \n",
              "\n",
              "                  C7  \n",
              "2021-12-21  0.155599  \n",
              "2021-12-22  0.452133  \n",
              "2021-12-23  0.558434  \n",
              "2021-12-24  0.366018  \n",
              "2021-12-25  0.355492  \n",
              "2021-12-26  0.075056  \n",
              "2021-12-27  0.699509  "
            ]
          },
          "execution_count": 49,
          "metadata": {},
          "output_type": "execute_result"
        }
      ],
      "source": [
        "dframe"
      ]
    },
    {
      "cell_type": "code",
      "execution_count": null,
      "id": "e9916957",
      "metadata": {
        "id": "e9916957"
      },
      "outputs": [],
      "source": [
        "dframe1 = dframe"
      ]
    },
    {
      "cell_type": "code",
      "execution_count": null,
      "id": "16706756",
      "metadata": {
        "id": "16706756",
        "outputId": "b1ad8b5f-87bb-42ee-cd14-7d84104c58a0"
      },
      "outputs": [
        {
          "data": {
            "text/html": [
              "<div>\n",
              "<style scoped>\n",
              "    .dataframe tbody tr th:only-of-type {\n",
              "        vertical-align: middle;\n",
              "    }\n",
              "\n",
              "    .dataframe tbody tr th {\n",
              "        vertical-align: top;\n",
              "    }\n",
              "\n",
              "    .dataframe thead th {\n",
              "        text-align: right;\n",
              "    }\n",
              "</style>\n",
              "<table border=\"1\" class=\"dataframe\">\n",
              "  <thead>\n",
              "    <tr style=\"text-align: right;\">\n",
              "      <th></th>\n",
              "      <th>C1</th>\n",
              "      <th>C2</th>\n",
              "      <th>C3</th>\n",
              "      <th>C4</th>\n",
              "      <th>C5</th>\n",
              "      <th>C6</th>\n",
              "      <th>C7</th>\n",
              "    </tr>\n",
              "  </thead>\n",
              "  <tbody>\n",
              "    <tr>\n",
              "      <th>2021-12-21</th>\n",
              "      <td>0.424157</td>\n",
              "      <td>0.151005</td>\n",
              "      <td>0.433022</td>\n",
              "      <td>0.927524</td>\n",
              "      <td>0.689907</td>\n",
              "      <td>0.010632</td>\n",
              "      <td>0.155599</td>\n",
              "    </tr>\n",
              "    <tr>\n",
              "      <th>2021-12-22</th>\n",
              "      <td>0.005737</td>\n",
              "      <td>0.920939</td>\n",
              "      <td>0.286573</td>\n",
              "      <td>0.103624</td>\n",
              "      <td>0.095670</td>\n",
              "      <td>0.771766</td>\n",
              "      <td>0.452133</td>\n",
              "    </tr>\n",
              "    <tr>\n",
              "      <th>2021-12-23</th>\n",
              "      <td>0.859046</td>\n",
              "      <td>0.581690</td>\n",
              "      <td>0.761783</td>\n",
              "      <td>0.894375</td>\n",
              "      <td>0.173263</td>\n",
              "      <td>0.548198</td>\n",
              "      <td>0.558434</td>\n",
              "    </tr>\n",
              "    <tr>\n",
              "      <th>2021-12-24</th>\n",
              "      <td>0.667816</td>\n",
              "      <td>0.887328</td>\n",
              "      <td>0.850799</td>\n",
              "      <td>0.872071</td>\n",
              "      <td>0.757067</td>\n",
              "      <td>0.815802</td>\n",
              "      <td>0.366018</td>\n",
              "    </tr>\n",
              "    <tr>\n",
              "      <th>2021-12-25</th>\n",
              "      <td>0.031818</td>\n",
              "      <td>0.451595</td>\n",
              "      <td>0.795075</td>\n",
              "      <td>0.912598</td>\n",
              "      <td>0.132277</td>\n",
              "      <td>0.606062</td>\n",
              "      <td>0.355492</td>\n",
              "    </tr>\n",
              "    <tr>\n",
              "      <th>2021-12-26</th>\n",
              "      <td>0.510408</td>\n",
              "      <td>0.656724</td>\n",
              "      <td>0.621274</td>\n",
              "      <td>0.656600</td>\n",
              "      <td>0.174559</td>\n",
              "      <td>0.381545</td>\n",
              "      <td>0.075056</td>\n",
              "    </tr>\n",
              "    <tr>\n",
              "      <th>2021-12-27</th>\n",
              "      <td>0.127144</td>\n",
              "      <td>0.636117</td>\n",
              "      <td>0.054997</td>\n",
              "      <td>0.161617</td>\n",
              "      <td>0.515032</td>\n",
              "      <td>0.715841</td>\n",
              "      <td>0.699509</td>\n",
              "    </tr>\n",
              "  </tbody>\n",
              "</table>\n",
              "</div>"
            ],
            "text/plain": [
              "                  C1        C2        C3        C4        C5        C6  \\\n",
              "2021-12-21  0.424157  0.151005  0.433022  0.927524  0.689907  0.010632   \n",
              "2021-12-22  0.005737  0.920939  0.286573  0.103624  0.095670  0.771766   \n",
              "2021-12-23  0.859046  0.581690  0.761783  0.894375  0.173263  0.548198   \n",
              "2021-12-24  0.667816  0.887328  0.850799  0.872071  0.757067  0.815802   \n",
              "2021-12-25  0.031818  0.451595  0.795075  0.912598  0.132277  0.606062   \n",
              "2021-12-26  0.510408  0.656724  0.621274  0.656600  0.174559  0.381545   \n",
              "2021-12-27  0.127144  0.636117  0.054997  0.161617  0.515032  0.715841   \n",
              "\n",
              "                  C7  \n",
              "2021-12-21  0.155599  \n",
              "2021-12-22  0.452133  \n",
              "2021-12-23  0.558434  \n",
              "2021-12-24  0.366018  \n",
              "2021-12-25  0.355492  \n",
              "2021-12-26  0.075056  \n",
              "2021-12-27  0.699509  "
            ]
          },
          "execution_count": 51,
          "metadata": {},
          "output_type": "execute_result"
        }
      ],
      "source": [
        "dframe"
      ]
    },
    {
      "cell_type": "code",
      "execution_count": null,
      "id": "a761d8a8",
      "metadata": {
        "id": "a761d8a8"
      },
      "outputs": [],
      "source": [
        "# delete column in data frame"
      ]
    },
    {
      "cell_type": "code",
      "execution_count": null,
      "id": "6dbdde45",
      "metadata": {
        "id": "6dbdde45"
      },
      "outputs": [],
      "source": [
        "del dframe['C6']"
      ]
    },
    {
      "cell_type": "code",
      "execution_count": null,
      "id": "19c590e7",
      "metadata": {
        "id": "19c590e7",
        "outputId": "c3729177-7cfc-450c-96b8-ed5b6b3ffb35"
      },
      "outputs": [
        {
          "data": {
            "text/html": [
              "<div>\n",
              "<style scoped>\n",
              "    .dataframe tbody tr th:only-of-type {\n",
              "        vertical-align: middle;\n",
              "    }\n",
              "\n",
              "    .dataframe tbody tr th {\n",
              "        vertical-align: top;\n",
              "    }\n",
              "\n",
              "    .dataframe thead th {\n",
              "        text-align: right;\n",
              "    }\n",
              "</style>\n",
              "<table border=\"1\" class=\"dataframe\">\n",
              "  <thead>\n",
              "    <tr style=\"text-align: right;\">\n",
              "      <th></th>\n",
              "      <th>C1</th>\n",
              "      <th>C2</th>\n",
              "      <th>C3</th>\n",
              "      <th>C4</th>\n",
              "      <th>C5</th>\n",
              "      <th>C7</th>\n",
              "    </tr>\n",
              "  </thead>\n",
              "  <tbody>\n",
              "    <tr>\n",
              "      <th>2021-12-21</th>\n",
              "      <td>0.424157</td>\n",
              "      <td>0.151005</td>\n",
              "      <td>0.433022</td>\n",
              "      <td>0.927524</td>\n",
              "      <td>0.689907</td>\n",
              "      <td>0.155599</td>\n",
              "    </tr>\n",
              "    <tr>\n",
              "      <th>2021-12-22</th>\n",
              "      <td>0.005737</td>\n",
              "      <td>0.920939</td>\n",
              "      <td>0.286573</td>\n",
              "      <td>0.103624</td>\n",
              "      <td>0.095670</td>\n",
              "      <td>0.452133</td>\n",
              "    </tr>\n",
              "    <tr>\n",
              "      <th>2021-12-23</th>\n",
              "      <td>0.859046</td>\n",
              "      <td>0.581690</td>\n",
              "      <td>0.761783</td>\n",
              "      <td>0.894375</td>\n",
              "      <td>0.173263</td>\n",
              "      <td>0.558434</td>\n",
              "    </tr>\n",
              "    <tr>\n",
              "      <th>2021-12-24</th>\n",
              "      <td>0.667816</td>\n",
              "      <td>0.887328</td>\n",
              "      <td>0.850799</td>\n",
              "      <td>0.872071</td>\n",
              "      <td>0.757067</td>\n",
              "      <td>0.366018</td>\n",
              "    </tr>\n",
              "    <tr>\n",
              "      <th>2021-12-25</th>\n",
              "      <td>0.031818</td>\n",
              "      <td>0.451595</td>\n",
              "      <td>0.795075</td>\n",
              "      <td>0.912598</td>\n",
              "      <td>0.132277</td>\n",
              "      <td>0.355492</td>\n",
              "    </tr>\n",
              "    <tr>\n",
              "      <th>2021-12-26</th>\n",
              "      <td>0.510408</td>\n",
              "      <td>0.656724</td>\n",
              "      <td>0.621274</td>\n",
              "      <td>0.656600</td>\n",
              "      <td>0.174559</td>\n",
              "      <td>0.075056</td>\n",
              "    </tr>\n",
              "    <tr>\n",
              "      <th>2021-12-27</th>\n",
              "      <td>0.127144</td>\n",
              "      <td>0.636117</td>\n",
              "      <td>0.054997</td>\n",
              "      <td>0.161617</td>\n",
              "      <td>0.515032</td>\n",
              "      <td>0.699509</td>\n",
              "    </tr>\n",
              "  </tbody>\n",
              "</table>\n",
              "</div>"
            ],
            "text/plain": [
              "                  C1        C2        C3        C4        C5        C7\n",
              "2021-12-21  0.424157  0.151005  0.433022  0.927524  0.689907  0.155599\n",
              "2021-12-22  0.005737  0.920939  0.286573  0.103624  0.095670  0.452133\n",
              "2021-12-23  0.859046  0.581690  0.761783  0.894375  0.173263  0.558434\n",
              "2021-12-24  0.667816  0.887328  0.850799  0.872071  0.757067  0.366018\n",
              "2021-12-25  0.031818  0.451595  0.795075  0.912598  0.132277  0.355492\n",
              "2021-12-26  0.510408  0.656724  0.621274  0.656600  0.174559  0.075056\n",
              "2021-12-27  0.127144  0.636117  0.054997  0.161617  0.515032  0.699509"
            ]
          },
          "execution_count": 54,
          "metadata": {},
          "output_type": "execute_result"
        }
      ],
      "source": [
        "dframe"
      ]
    },
    {
      "cell_type": "code",
      "execution_count": null,
      "id": "4b7f6f7d",
      "metadata": {
        "id": "4b7f6f7d",
        "outputId": "d05ecd43-c2f8-4711-ff8d-475363b84507"
      },
      "outputs": [
        {
          "data": {
            "text/plain": [
              "2021-12-21    0.927524\n",
              "2021-12-22    0.103624\n",
              "2021-12-23    0.894375\n",
              "2021-12-24    0.872071\n",
              "2021-12-25    0.912598\n",
              "2021-12-26    0.656600\n",
              "2021-12-27    0.161617\n",
              "Freq: D, Name: C4, dtype: float64"
            ]
          },
          "execution_count": 56,
          "metadata": {},
          "output_type": "execute_result"
        }
      ],
      "source": [
        "dframe.pop('C4')"
      ]
    },
    {
      "cell_type": "code",
      "execution_count": null,
      "id": "b0a425c7",
      "metadata": {
        "id": "b0a425c7",
        "outputId": "e4ae8dd1-98db-4b59-bc5f-057e6523187c"
      },
      "outputs": [
        {
          "data": {
            "text/html": [
              "<div>\n",
              "<style scoped>\n",
              "    .dataframe tbody tr th:only-of-type {\n",
              "        vertical-align: middle;\n",
              "    }\n",
              "\n",
              "    .dataframe tbody tr th {\n",
              "        vertical-align: top;\n",
              "    }\n",
              "\n",
              "    .dataframe thead th {\n",
              "        text-align: right;\n",
              "    }\n",
              "</style>\n",
              "<table border=\"1\" class=\"dataframe\">\n",
              "  <thead>\n",
              "    <tr style=\"text-align: right;\">\n",
              "      <th></th>\n",
              "      <th>C1</th>\n",
              "      <th>C3</th>\n",
              "      <th>C5</th>\n",
              "      <th>C7</th>\n",
              "    </tr>\n",
              "  </thead>\n",
              "  <tbody>\n",
              "    <tr>\n",
              "      <th>2021-12-21</th>\n",
              "      <td>0.424157</td>\n",
              "      <td>0.433022</td>\n",
              "      <td>0.689907</td>\n",
              "      <td>0.155599</td>\n",
              "    </tr>\n",
              "    <tr>\n",
              "      <th>2021-12-22</th>\n",
              "      <td>0.005737</td>\n",
              "      <td>0.286573</td>\n",
              "      <td>0.095670</td>\n",
              "      <td>0.452133</td>\n",
              "    </tr>\n",
              "    <tr>\n",
              "      <th>2021-12-23</th>\n",
              "      <td>0.859046</td>\n",
              "      <td>0.761783</td>\n",
              "      <td>0.173263</td>\n",
              "      <td>0.558434</td>\n",
              "    </tr>\n",
              "    <tr>\n",
              "      <th>2021-12-24</th>\n",
              "      <td>0.667816</td>\n",
              "      <td>0.850799</td>\n",
              "      <td>0.757067</td>\n",
              "      <td>0.366018</td>\n",
              "    </tr>\n",
              "    <tr>\n",
              "      <th>2021-12-25</th>\n",
              "      <td>0.031818</td>\n",
              "      <td>0.795075</td>\n",
              "      <td>0.132277</td>\n",
              "      <td>0.355492</td>\n",
              "    </tr>\n",
              "    <tr>\n",
              "      <th>2021-12-26</th>\n",
              "      <td>0.510408</td>\n",
              "      <td>0.621274</td>\n",
              "      <td>0.174559</td>\n",
              "      <td>0.075056</td>\n",
              "    </tr>\n",
              "    <tr>\n",
              "      <th>2021-12-27</th>\n",
              "      <td>0.127144</td>\n",
              "      <td>0.054997</td>\n",
              "      <td>0.515032</td>\n",
              "      <td>0.699509</td>\n",
              "    </tr>\n",
              "  </tbody>\n",
              "</table>\n",
              "</div>"
            ],
            "text/plain": [
              "                  C1        C3        C5        C7\n",
              "2021-12-21  0.424157  0.433022  0.689907  0.155599\n",
              "2021-12-22  0.005737  0.286573  0.095670  0.452133\n",
              "2021-12-23  0.859046  0.761783  0.173263  0.558434\n",
              "2021-12-24  0.667816  0.850799  0.757067  0.366018\n",
              "2021-12-25  0.031818  0.795075  0.132277  0.355492\n",
              "2021-12-26  0.510408  0.621274  0.174559  0.075056\n",
              "2021-12-27  0.127144  0.054997  0.515032  0.699509"
            ]
          },
          "execution_count": 59,
          "metadata": {},
          "output_type": "execute_result"
        }
      ],
      "source": [
        "dframe.drop(['C2'],axis=1)"
      ]
    },
    {
      "cell_type": "code",
      "execution_count": null,
      "id": "fa69c238",
      "metadata": {
        "id": "fa69c238"
      },
      "outputs": [],
      "source": [
        "#delete rows in data frame"
      ]
    },
    {
      "cell_type": "code",
      "execution_count": null,
      "id": "6b76f04f",
      "metadata": {
        "id": "6b76f04f",
        "outputId": "22fc8040-8149-4249-afe5-7ccd5d3533fd"
      },
      "outputs": [
        {
          "data": {
            "text/html": [
              "<div>\n",
              "<style scoped>\n",
              "    .dataframe tbody tr th:only-of-type {\n",
              "        vertical-align: middle;\n",
              "    }\n",
              "\n",
              "    .dataframe tbody tr th {\n",
              "        vertical-align: top;\n",
              "    }\n",
              "\n",
              "    .dataframe thead th {\n",
              "        text-align: right;\n",
              "    }\n",
              "</style>\n",
              "<table border=\"1\" class=\"dataframe\">\n",
              "  <thead>\n",
              "    <tr style=\"text-align: right;\">\n",
              "      <th></th>\n",
              "      <th>C1</th>\n",
              "      <th>C2</th>\n",
              "      <th>C3</th>\n",
              "      <th>C5</th>\n",
              "      <th>C7</th>\n",
              "    </tr>\n",
              "  </thead>\n",
              "  <tbody>\n",
              "    <tr>\n",
              "      <th>2021-12-21</th>\n",
              "      <td>0.424157</td>\n",
              "      <td>0.151005</td>\n",
              "      <td>0.433022</td>\n",
              "      <td>0.689907</td>\n",
              "      <td>0.155599</td>\n",
              "    </tr>\n",
              "    <tr>\n",
              "      <th>2021-12-22</th>\n",
              "      <td>0.005737</td>\n",
              "      <td>0.920939</td>\n",
              "      <td>0.286573</td>\n",
              "      <td>0.095670</td>\n",
              "      <td>0.452133</td>\n",
              "    </tr>\n",
              "    <tr>\n",
              "      <th>2021-12-23</th>\n",
              "      <td>0.859046</td>\n",
              "      <td>0.581690</td>\n",
              "      <td>0.761783</td>\n",
              "      <td>0.173263</td>\n",
              "      <td>0.558434</td>\n",
              "    </tr>\n",
              "    <tr>\n",
              "      <th>2021-12-24</th>\n",
              "      <td>0.667816</td>\n",
              "      <td>0.887328</td>\n",
              "      <td>0.850799</td>\n",
              "      <td>0.757067</td>\n",
              "      <td>0.366018</td>\n",
              "    </tr>\n",
              "    <tr>\n",
              "      <th>2021-12-25</th>\n",
              "      <td>0.031818</td>\n",
              "      <td>0.451595</td>\n",
              "      <td>0.795075</td>\n",
              "      <td>0.132277</td>\n",
              "      <td>0.355492</td>\n",
              "    </tr>\n",
              "    <tr>\n",
              "      <th>2021-12-26</th>\n",
              "      <td>0.510408</td>\n",
              "      <td>0.656724</td>\n",
              "      <td>0.621274</td>\n",
              "      <td>0.174559</td>\n",
              "      <td>0.075056</td>\n",
              "    </tr>\n",
              "    <tr>\n",
              "      <th>2021-12-27</th>\n",
              "      <td>0.127144</td>\n",
              "      <td>0.636117</td>\n",
              "      <td>0.054997</td>\n",
              "      <td>0.515032</td>\n",
              "      <td>0.699509</td>\n",
              "    </tr>\n",
              "  </tbody>\n",
              "</table>\n",
              "</div>"
            ],
            "text/plain": [
              "                  C1        C2        C3        C5        C7\n",
              "2021-12-21  0.424157  0.151005  0.433022  0.689907  0.155599\n",
              "2021-12-22  0.005737  0.920939  0.286573  0.095670  0.452133\n",
              "2021-12-23  0.859046  0.581690  0.761783  0.173263  0.558434\n",
              "2021-12-24  0.667816  0.887328  0.850799  0.757067  0.366018\n",
              "2021-12-25  0.031818  0.451595  0.795075  0.132277  0.355492\n",
              "2021-12-26  0.510408  0.656724  0.621274  0.174559  0.075056\n",
              "2021-12-27  0.127144  0.636117  0.054997  0.515032  0.699509"
            ]
          },
          "execution_count": 67,
          "metadata": {},
          "output_type": "execute_result"
        }
      ],
      "source": [
        "dframe"
      ]
    },
    {
      "cell_type": "code",
      "execution_count": null,
      "id": "0a9fe307",
      "metadata": {
        "id": "0a9fe307"
      },
      "outputs": [],
      "source": [
        "df11 = pd.DataFrame([12,34,56,78,90])"
      ]
    },
    {
      "cell_type": "code",
      "execution_count": null,
      "id": "c7820091",
      "metadata": {
        "id": "c7820091",
        "outputId": "bd703c33-17e1-48ec-fbbe-3ae1e4eb096b"
      },
      "outputs": [
        {
          "data": {
            "text/html": [
              "<div>\n",
              "<style scoped>\n",
              "    .dataframe tbody tr th:only-of-type {\n",
              "        vertical-align: middle;\n",
              "    }\n",
              "\n",
              "    .dataframe tbody tr th {\n",
              "        vertical-align: top;\n",
              "    }\n",
              "\n",
              "    .dataframe thead th {\n",
              "        text-align: right;\n",
              "    }\n",
              "</style>\n",
              "<table border=\"1\" class=\"dataframe\">\n",
              "  <thead>\n",
              "    <tr style=\"text-align: right;\">\n",
              "      <th></th>\n",
              "      <th>0</th>\n",
              "    </tr>\n",
              "  </thead>\n",
              "  <tbody>\n",
              "    <tr>\n",
              "      <th>0</th>\n",
              "      <td>12</td>\n",
              "    </tr>\n",
              "    <tr>\n",
              "      <th>1</th>\n",
              "      <td>34</td>\n",
              "    </tr>\n",
              "    <tr>\n",
              "      <th>4</th>\n",
              "      <td>90</td>\n",
              "    </tr>\n",
              "  </tbody>\n",
              "</table>\n",
              "</div>"
            ],
            "text/plain": [
              "    0\n",
              "0  12\n",
              "1  34\n",
              "4  90"
            ]
          },
          "execution_count": 72,
          "metadata": {},
          "output_type": "execute_result"
        }
      ],
      "source": [
        "df11.drop([2,3],axis =0)"
      ]
    },
    {
      "cell_type": "code",
      "execution_count": null,
      "id": "8e902bb5",
      "metadata": {
        "id": "8e902bb5",
        "outputId": "a7038549-75a1-48c2-c8e8-460763f030e1"
      },
      "outputs": [
        {
          "data": {
            "text/html": [
              "<div>\n",
              "<style scoped>\n",
              "    .dataframe tbody tr th:only-of-type {\n",
              "        vertical-align: middle;\n",
              "    }\n",
              "\n",
              "    .dataframe tbody tr th {\n",
              "        vertical-align: top;\n",
              "    }\n",
              "\n",
              "    .dataframe thead th {\n",
              "        text-align: right;\n",
              "    }\n",
              "</style>\n",
              "<table border=\"1\" class=\"dataframe\">\n",
              "  <thead>\n",
              "    <tr style=\"text-align: right;\">\n",
              "      <th></th>\n",
              "      <th>0</th>\n",
              "    </tr>\n",
              "  </thead>\n",
              "  <tbody>\n",
              "    <tr>\n",
              "      <th>0</th>\n",
              "      <td>12</td>\n",
              "    </tr>\n",
              "    <tr>\n",
              "      <th>1</th>\n",
              "      <td>34</td>\n",
              "    </tr>\n",
              "    <tr>\n",
              "      <th>2</th>\n",
              "      <td>56</td>\n",
              "    </tr>\n",
              "    <tr>\n",
              "      <th>3</th>\n",
              "      <td>78</td>\n",
              "    </tr>\n",
              "    <tr>\n",
              "      <th>4</th>\n",
              "      <td>90</td>\n",
              "    </tr>\n",
              "  </tbody>\n",
              "</table>\n",
              "</div>"
            ],
            "text/plain": [
              "    0\n",
              "0  12\n",
              "1  34\n",
              "2  56\n",
              "3  78\n",
              "4  90"
            ]
          },
          "execution_count": 73,
          "metadata": {},
          "output_type": "execute_result"
        }
      ],
      "source": [
        "df11"
      ]
    },
    {
      "cell_type": "code",
      "execution_count": null,
      "id": "21611a8a",
      "metadata": {
        "id": "21611a8a",
        "outputId": "fe660b22-4f96-49c9-fd59-f5ac1820cc60"
      },
      "outputs": [
        {
          "data": {
            "text/html": [
              "<div>\n",
              "<style scoped>\n",
              "    .dataframe tbody tr th:only-of-type {\n",
              "        vertical-align: middle;\n",
              "    }\n",
              "\n",
              "    .dataframe tbody tr th {\n",
              "        vertical-align: top;\n",
              "    }\n",
              "\n",
              "    .dataframe thead th {\n",
              "        text-align: right;\n",
              "    }\n",
              "</style>\n",
              "<table border=\"1\" class=\"dataframe\">\n",
              "  <thead>\n",
              "    <tr style=\"text-align: right;\">\n",
              "      <th></th>\n",
              "      <th>0</th>\n",
              "    </tr>\n",
              "  </thead>\n",
              "  <tbody>\n",
              "    <tr>\n",
              "      <th>0</th>\n",
              "      <td>12</td>\n",
              "    </tr>\n",
              "    <tr>\n",
              "      <th>1</th>\n",
              "      <td>34</td>\n",
              "    </tr>\n",
              "    <tr>\n",
              "      <th>2</th>\n",
              "      <td>56</td>\n",
              "    </tr>\n",
              "  </tbody>\n",
              "</table>\n",
              "</div>"
            ],
            "text/plain": [
              "    0\n",
              "0  12\n",
              "1  34\n",
              "2  56"
            ]
          },
          "execution_count": 74,
          "metadata": {},
          "output_type": "execute_result"
        }
      ],
      "source": [
        "df11.drop([3,4],axis =0 )"
      ]
    },
    {
      "cell_type": "code",
      "execution_count": null,
      "id": "0641c7d6",
      "metadata": {
        "id": "0641c7d6",
        "outputId": "3106221c-b86e-4af0-da17-6a25d50158d8"
      },
      "outputs": [
        {
          "data": {
            "text/html": [
              "<div>\n",
              "<style scoped>\n",
              "    .dataframe tbody tr th:only-of-type {\n",
              "        vertical-align: middle;\n",
              "    }\n",
              "\n",
              "    .dataframe tbody tr th {\n",
              "        vertical-align: top;\n",
              "    }\n",
              "\n",
              "    .dataframe thead th {\n",
              "        text-align: right;\n",
              "    }\n",
              "</style>\n",
              "<table border=\"1\" class=\"dataframe\">\n",
              "  <thead>\n",
              "    <tr style=\"text-align: right;\">\n",
              "      <th></th>\n",
              "      <th>C1</th>\n",
              "      <th>C2</th>\n",
              "      <th>C3</th>\n",
              "      <th>C5</th>\n",
              "      <th>C7</th>\n",
              "    </tr>\n",
              "  </thead>\n",
              "  <tbody>\n",
              "    <tr>\n",
              "      <th>2021-12-21</th>\n",
              "      <td>0.424157</td>\n",
              "      <td>0.151005</td>\n",
              "      <td>0.433022</td>\n",
              "      <td>0.689907</td>\n",
              "      <td>0.155599</td>\n",
              "    </tr>\n",
              "    <tr>\n",
              "      <th>2021-12-22</th>\n",
              "      <td>0.005737</td>\n",
              "      <td>0.920939</td>\n",
              "      <td>0.286573</td>\n",
              "      <td>0.095670</td>\n",
              "      <td>0.452133</td>\n",
              "    </tr>\n",
              "    <tr>\n",
              "      <th>2021-12-23</th>\n",
              "      <td>0.859046</td>\n",
              "      <td>0.581690</td>\n",
              "      <td>0.761783</td>\n",
              "      <td>0.173263</td>\n",
              "      <td>0.558434</td>\n",
              "    </tr>\n",
              "    <tr>\n",
              "      <th>2021-12-24</th>\n",
              "      <td>0.667816</td>\n",
              "      <td>0.887328</td>\n",
              "      <td>0.850799</td>\n",
              "      <td>0.757067</td>\n",
              "      <td>0.366018</td>\n",
              "    </tr>\n",
              "    <tr>\n",
              "      <th>2021-12-25</th>\n",
              "      <td>0.031818</td>\n",
              "      <td>0.451595</td>\n",
              "      <td>0.795075</td>\n",
              "      <td>0.132277</td>\n",
              "      <td>0.355492</td>\n",
              "    </tr>\n",
              "    <tr>\n",
              "      <th>2021-12-26</th>\n",
              "      <td>0.510408</td>\n",
              "      <td>0.656724</td>\n",
              "      <td>0.621274</td>\n",
              "      <td>0.174559</td>\n",
              "      <td>0.075056</td>\n",
              "    </tr>\n",
              "    <tr>\n",
              "      <th>2021-12-27</th>\n",
              "      <td>0.127144</td>\n",
              "      <td>0.636117</td>\n",
              "      <td>0.054997</td>\n",
              "      <td>0.515032</td>\n",
              "      <td>0.699509</td>\n",
              "    </tr>\n",
              "  </tbody>\n",
              "</table>\n",
              "</div>"
            ],
            "text/plain": [
              "                  C1        C2        C3        C5        C7\n",
              "2021-12-21  0.424157  0.151005  0.433022  0.689907  0.155599\n",
              "2021-12-22  0.005737  0.920939  0.286573  0.095670  0.452133\n",
              "2021-12-23  0.859046  0.581690  0.761783  0.173263  0.558434\n",
              "2021-12-24  0.667816  0.887328  0.850799  0.757067  0.366018\n",
              "2021-12-25  0.031818  0.451595  0.795075  0.132277  0.355492\n",
              "2021-12-26  0.510408  0.656724  0.621274  0.174559  0.075056\n",
              "2021-12-27  0.127144  0.636117  0.054997  0.515032  0.699509"
            ]
          },
          "execution_count": 75,
          "metadata": {},
          "output_type": "execute_result"
        }
      ],
      "source": [
        "dframe"
      ]
    },
    {
      "cell_type": "code",
      "execution_count": null,
      "id": "61fd18c9",
      "metadata": {
        "id": "61fd18c9",
        "outputId": "b011d7fd-4ee6-47a2-cc33-0cf4690d9075"
      },
      "outputs": [
        {
          "data": {
            "text/html": [
              "<div>\n",
              "<style scoped>\n",
              "    .dataframe tbody tr th:only-of-type {\n",
              "        vertical-align: middle;\n",
              "    }\n",
              "\n",
              "    .dataframe tbody tr th {\n",
              "        vertical-align: top;\n",
              "    }\n",
              "\n",
              "    .dataframe thead th {\n",
              "        text-align: right;\n",
              "    }\n",
              "</style>\n",
              "<table border=\"1\" class=\"dataframe\">\n",
              "  <thead>\n",
              "    <tr style=\"text-align: right;\">\n",
              "      <th></th>\n",
              "      <th>C1</th>\n",
              "      <th>C2</th>\n",
              "      <th>C3</th>\n",
              "      <th>C5</th>\n",
              "      <th>C7</th>\n",
              "    </tr>\n",
              "  </thead>\n",
              "  <tbody>\n",
              "    <tr>\n",
              "      <th>2021-12-21</th>\n",
              "      <td>0.424157</td>\n",
              "      <td>0.151005</td>\n",
              "      <td>0.433022</td>\n",
              "      <td>0.689907</td>\n",
              "      <td>0.155599</td>\n",
              "    </tr>\n",
              "    <tr>\n",
              "      <th>2021-12-22</th>\n",
              "      <td>0.005737</td>\n",
              "      <td>0.920939</td>\n",
              "      <td>0.286573</td>\n",
              "      <td>0.095670</td>\n",
              "      <td>0.452133</td>\n",
              "    </tr>\n",
              "    <tr>\n",
              "      <th>2021-12-23</th>\n",
              "      <td>0.859046</td>\n",
              "      <td>0.581690</td>\n",
              "      <td>0.761783</td>\n",
              "      <td>0.173263</td>\n",
              "      <td>0.558434</td>\n",
              "    </tr>\n",
              "    <tr>\n",
              "      <th>2021-12-24</th>\n",
              "      <td>0.667816</td>\n",
              "      <td>0.887328</td>\n",
              "      <td>0.850799</td>\n",
              "      <td>0.757067</td>\n",
              "      <td>0.366018</td>\n",
              "    </tr>\n",
              "    <tr>\n",
              "      <th>2021-12-25</th>\n",
              "      <td>0.031818</td>\n",
              "      <td>0.451595</td>\n",
              "      <td>0.795075</td>\n",
              "      <td>0.132277</td>\n",
              "      <td>0.355492</td>\n",
              "    </tr>\n",
              "    <tr>\n",
              "      <th>2021-12-26</th>\n",
              "      <td>0.510408</td>\n",
              "      <td>0.656724</td>\n",
              "      <td>0.621274</td>\n",
              "      <td>0.174559</td>\n",
              "      <td>0.075056</td>\n",
              "    </tr>\n",
              "    <tr>\n",
              "      <th>2021-12-27</th>\n",
              "      <td>0.127144</td>\n",
              "      <td>0.636117</td>\n",
              "      <td>0.054997</td>\n",
              "      <td>0.515032</td>\n",
              "      <td>0.699509</td>\n",
              "    </tr>\n",
              "  </tbody>\n",
              "</table>\n",
              "</div>"
            ],
            "text/plain": [
              "                  C1        C2        C3        C5        C7\n",
              "2021-12-21  0.424157  0.151005  0.433022  0.689907  0.155599\n",
              "2021-12-22  0.005737  0.920939  0.286573  0.095670  0.452133\n",
              "2021-12-23  0.859046  0.581690  0.761783  0.173263  0.558434\n",
              "2021-12-24  0.667816  0.887328  0.850799  0.757067  0.366018\n",
              "2021-12-25  0.031818  0.451595  0.795075  0.132277  0.355492\n",
              "2021-12-26  0.510408  0.656724  0.621274  0.174559  0.075056\n",
              "2021-12-27  0.127144  0.636117  0.054997  0.515032  0.699509"
            ]
          },
          "execution_count": 76,
          "metadata": {},
          "output_type": "execute_result"
        }
      ],
      "source": [
        "dframe1"
      ]
    },
    {
      "cell_type": "code",
      "execution_count": null,
      "id": "81c00c32",
      "metadata": {
        "id": "81c00c32"
      },
      "outputs": [],
      "source": [
        "dframe = pd.DataFrame(M,index = dates)"
      ]
    },
    {
      "cell_type": "code",
      "execution_count": null,
      "id": "5c200591",
      "metadata": {
        "id": "5c200591"
      },
      "outputs": [],
      "source": [
        "dframe.columns = ['C1','C2','C3','C4','C5','C6','C7']"
      ]
    },
    {
      "cell_type": "code",
      "execution_count": null,
      "id": "f78e3d28",
      "metadata": {
        "id": "f78e3d28",
        "outputId": "68c30049-c9f4-4a3f-8ecc-e038d1ec36d5"
      },
      "outputs": [
        {
          "data": {
            "text/html": [
              "<div>\n",
              "<style scoped>\n",
              "    .dataframe tbody tr th:only-of-type {\n",
              "        vertical-align: middle;\n",
              "    }\n",
              "\n",
              "    .dataframe tbody tr th {\n",
              "        vertical-align: top;\n",
              "    }\n",
              "\n",
              "    .dataframe thead th {\n",
              "        text-align: right;\n",
              "    }\n",
              "</style>\n",
              "<table border=\"1\" class=\"dataframe\">\n",
              "  <thead>\n",
              "    <tr style=\"text-align: right;\">\n",
              "      <th></th>\n",
              "      <th>C1</th>\n",
              "      <th>C2</th>\n",
              "      <th>C3</th>\n",
              "      <th>C4</th>\n",
              "      <th>C5</th>\n",
              "      <th>C6</th>\n",
              "      <th>C7</th>\n",
              "    </tr>\n",
              "  </thead>\n",
              "  <tbody>\n",
              "    <tr>\n",
              "      <th>2021-12-21</th>\n",
              "      <td>0.424157</td>\n",
              "      <td>0.151005</td>\n",
              "      <td>0.433022</td>\n",
              "      <td>0.927524</td>\n",
              "      <td>0.689907</td>\n",
              "      <td>0.010632</td>\n",
              "      <td>0.155599</td>\n",
              "    </tr>\n",
              "    <tr>\n",
              "      <th>2021-12-22</th>\n",
              "      <td>0.005737</td>\n",
              "      <td>0.920939</td>\n",
              "      <td>0.286573</td>\n",
              "      <td>0.103624</td>\n",
              "      <td>0.095670</td>\n",
              "      <td>0.771766</td>\n",
              "      <td>0.452133</td>\n",
              "    </tr>\n",
              "    <tr>\n",
              "      <th>2021-12-23</th>\n",
              "      <td>0.859046</td>\n",
              "      <td>0.581690</td>\n",
              "      <td>0.761783</td>\n",
              "      <td>0.894375</td>\n",
              "      <td>0.173263</td>\n",
              "      <td>0.548198</td>\n",
              "      <td>0.558434</td>\n",
              "    </tr>\n",
              "    <tr>\n",
              "      <th>2021-12-24</th>\n",
              "      <td>0.667816</td>\n",
              "      <td>0.887328</td>\n",
              "      <td>0.850799</td>\n",
              "      <td>0.872071</td>\n",
              "      <td>0.757067</td>\n",
              "      <td>0.815802</td>\n",
              "      <td>0.366018</td>\n",
              "    </tr>\n",
              "    <tr>\n",
              "      <th>2021-12-25</th>\n",
              "      <td>0.031818</td>\n",
              "      <td>0.451595</td>\n",
              "      <td>0.795075</td>\n",
              "      <td>0.912598</td>\n",
              "      <td>0.132277</td>\n",
              "      <td>0.606062</td>\n",
              "      <td>0.355492</td>\n",
              "    </tr>\n",
              "    <tr>\n",
              "      <th>2021-12-26</th>\n",
              "      <td>0.510408</td>\n",
              "      <td>0.656724</td>\n",
              "      <td>0.621274</td>\n",
              "      <td>0.656600</td>\n",
              "      <td>0.174559</td>\n",
              "      <td>0.381545</td>\n",
              "      <td>0.075056</td>\n",
              "    </tr>\n",
              "    <tr>\n",
              "      <th>2021-12-27</th>\n",
              "      <td>0.127144</td>\n",
              "      <td>0.636117</td>\n",
              "      <td>0.054997</td>\n",
              "      <td>0.161617</td>\n",
              "      <td>0.515032</td>\n",
              "      <td>0.715841</td>\n",
              "      <td>0.699509</td>\n",
              "    </tr>\n",
              "  </tbody>\n",
              "</table>\n",
              "</div>"
            ],
            "text/plain": [
              "                  C1        C2        C3        C4        C5        C6  \\\n",
              "2021-12-21  0.424157  0.151005  0.433022  0.927524  0.689907  0.010632   \n",
              "2021-12-22  0.005737  0.920939  0.286573  0.103624  0.095670  0.771766   \n",
              "2021-12-23  0.859046  0.581690  0.761783  0.894375  0.173263  0.548198   \n",
              "2021-12-24  0.667816  0.887328  0.850799  0.872071  0.757067  0.815802   \n",
              "2021-12-25  0.031818  0.451595  0.795075  0.912598  0.132277  0.606062   \n",
              "2021-12-26  0.510408  0.656724  0.621274  0.656600  0.174559  0.381545   \n",
              "2021-12-27  0.127144  0.636117  0.054997  0.161617  0.515032  0.715841   \n",
              "\n",
              "                  C7  \n",
              "2021-12-21  0.155599  \n",
              "2021-12-22  0.452133  \n",
              "2021-12-23  0.558434  \n",
              "2021-12-24  0.366018  \n",
              "2021-12-25  0.355492  \n",
              "2021-12-26  0.075056  \n",
              "2021-12-27  0.699509  "
            ]
          },
          "execution_count": 80,
          "metadata": {},
          "output_type": "execute_result"
        }
      ],
      "source": [
        "dframe"
      ]
    },
    {
      "cell_type": "markdown",
      "id": "d1560c5f",
      "metadata": {
        "id": "d1560c5f"
      },
      "source": [
        "# data selection in data frame"
      ]
    },
    {
      "cell_type": "code",
      "execution_count": null,
      "id": "37e4bdc2",
      "metadata": {
        "id": "37e4bdc2",
        "outputId": "4dc4620f-c790-4e69-8360-052b55fe4a02"
      },
      "outputs": [
        {
          "data": {
            "text/html": [
              "<div>\n",
              "<style scoped>\n",
              "    .dataframe tbody tr th:only-of-type {\n",
              "        vertical-align: middle;\n",
              "    }\n",
              "\n",
              "    .dataframe tbody tr th {\n",
              "        vertical-align: top;\n",
              "    }\n",
              "\n",
              "    .dataframe thead th {\n",
              "        text-align: right;\n",
              "    }\n",
              "</style>\n",
              "<table border=\"1\" class=\"dataframe\">\n",
              "  <thead>\n",
              "    <tr style=\"text-align: right;\">\n",
              "      <th></th>\n",
              "      <th>Language</th>\n",
              "      <th>Rating</th>\n",
              "      <th>Type</th>\n",
              "    </tr>\n",
              "  </thead>\n",
              "  <tbody>\n",
              "    <tr>\n",
              "      <th>0</th>\n",
              "      <td>Python</td>\n",
              "      <td>1</td>\n",
              "      <td>simple</td>\n",
              "    </tr>\n",
              "    <tr>\n",
              "      <th>1</th>\n",
              "      <td>java</td>\n",
              "      <td>3</td>\n",
              "      <td>medium</td>\n",
              "    </tr>\n",
              "    <tr>\n",
              "      <th>2</th>\n",
              "      <td>C</td>\n",
              "      <td>4</td>\n",
              "      <td>Basic</td>\n",
              "    </tr>\n",
              "    <tr>\n",
              "      <th>3</th>\n",
              "      <td>C++</td>\n",
              "      <td>2</td>\n",
              "      <td>Typical</td>\n",
              "    </tr>\n",
              "  </tbody>\n",
              "</table>\n",
              "</div>"
            ],
            "text/plain": [
              "  Language  Rating     Type\n",
              "0   Python       1   simple\n",
              "1     java       3   medium\n",
              "2        C       4    Basic\n",
              "3      C++       2  Typical"
            ]
          },
          "execution_count": 81,
          "metadata": {},
          "output_type": "execute_result"
        }
      ],
      "source": [
        "df"
      ]
    },
    {
      "cell_type": "code",
      "execution_count": null,
      "id": "8a4d293c",
      "metadata": {
        "id": "8a4d293c"
      },
      "outputs": [],
      "source": [
        "# data selection using row lable"
      ]
    },
    {
      "cell_type": "code",
      "execution_count": null,
      "id": "f34d5138",
      "metadata": {
        "id": "f34d5138",
        "outputId": "7d34a5fa-0a52-483b-a1c0-0230f9f790da"
      },
      "outputs": [
        {
          "data": {
            "text/plain": [
              "Language        C\n",
              "Rating          4\n",
              "Type        Basic\n",
              "Name: 2, dtype: object"
            ]
          },
          "execution_count": 83,
          "metadata": {},
          "output_type": "execute_result"
        }
      ],
      "source": [
        "df.loc[2]"
      ]
    },
    {
      "cell_type": "code",
      "execution_count": null,
      "id": "9f3dfd61",
      "metadata": {
        "id": "9f3dfd61"
      },
      "outputs": [],
      "source": [
        "# data selection using position ( integer index)"
      ]
    },
    {
      "cell_type": "code",
      "execution_count": null,
      "id": "2887952c",
      "metadata": {
        "id": "2887952c",
        "outputId": "07e7b8c4-0763-4c2b-9d4d-3e8a97bd2e26"
      },
      "outputs": [
        {
          "data": {
            "text/plain": [
              "Language      java\n",
              "Rating           3\n",
              "Type        medium\n",
              "Name: 1, dtype: object"
            ]
          },
          "execution_count": 85,
          "metadata": {},
          "output_type": "execute_result"
        }
      ],
      "source": [
        "df.iloc[1]"
      ]
    },
    {
      "cell_type": "code",
      "execution_count": null,
      "id": "59dc794f",
      "metadata": {
        "id": "59dc794f",
        "outputId": "fe64a775-a168-4709-f698-01923824f6ee"
      },
      "outputs": [
        {
          "data": {
            "text/html": [
              "<div>\n",
              "<style scoped>\n",
              "    .dataframe tbody tr th:only-of-type {\n",
              "        vertical-align: middle;\n",
              "    }\n",
              "\n",
              "    .dataframe tbody tr th {\n",
              "        vertical-align: top;\n",
              "    }\n",
              "\n",
              "    .dataframe thead th {\n",
              "        text-align: right;\n",
              "    }\n",
              "</style>\n",
              "<table border=\"1\" class=\"dataframe\">\n",
              "  <thead>\n",
              "    <tr style=\"text-align: right;\">\n",
              "      <th></th>\n",
              "      <th>Language</th>\n",
              "      <th>Rating</th>\n",
              "      <th>Type</th>\n",
              "    </tr>\n",
              "  </thead>\n",
              "  <tbody>\n",
              "    <tr>\n",
              "      <th>0</th>\n",
              "      <td>Python</td>\n",
              "      <td>1</td>\n",
              "      <td>simple</td>\n",
              "    </tr>\n",
              "    <tr>\n",
              "      <th>1</th>\n",
              "      <td>java</td>\n",
              "      <td>3</td>\n",
              "      <td>medium</td>\n",
              "    </tr>\n",
              "    <tr>\n",
              "      <th>2</th>\n",
              "      <td>C</td>\n",
              "      <td>4</td>\n",
              "      <td>Basic</td>\n",
              "    </tr>\n",
              "    <tr>\n",
              "      <th>3</th>\n",
              "      <td>C++</td>\n",
              "      <td>2</td>\n",
              "      <td>Typical</td>\n",
              "    </tr>\n",
              "  </tbody>\n",
              "</table>\n",
              "</div>"
            ],
            "text/plain": [
              "  Language  Rating     Type\n",
              "0   Python       1   simple\n",
              "1     java       3   medium\n",
              "2        C       4    Basic\n",
              "3      C++       2  Typical"
            ]
          },
          "execution_count": 86,
          "metadata": {},
          "output_type": "execute_result"
        }
      ],
      "source": [
        "df"
      ]
    },
    {
      "cell_type": "code",
      "execution_count": null,
      "id": "4792d12c",
      "metadata": {
        "id": "4792d12c"
      },
      "outputs": [],
      "source": [
        ""
      ]
    },
    {
      "cell_type": "code",
      "execution_count": null,
      "id": "24a73591",
      "metadata": {
        "id": "24a73591",
        "outputId": "eefee911-6f6c-41d1-f3d2-34748e063b5b"
      },
      "outputs": [
        {
          "data": {
            "text/html": [
              "<div>\n",
              "<style scoped>\n",
              "    .dataframe tbody tr th:only-of-type {\n",
              "        vertical-align: middle;\n",
              "    }\n",
              "\n",
              "    .dataframe tbody tr th {\n",
              "        vertical-align: top;\n",
              "    }\n",
              "\n",
              "    .dataframe thead th {\n",
              "        text-align: right;\n",
              "    }\n",
              "</style>\n",
              "<table border=\"1\" class=\"dataframe\">\n",
              "  <thead>\n",
              "    <tr style=\"text-align: right;\">\n",
              "      <th></th>\n",
              "      <th>Language</th>\n",
              "      <th>Rating</th>\n",
              "      <th>Type</th>\n",
              "    </tr>\n",
              "  </thead>\n",
              "  <tbody>\n",
              "    <tr>\n",
              "      <th>0</th>\n",
              "      <td>Python</td>\n",
              "      <td>1</td>\n",
              "      <td>simple</td>\n",
              "    </tr>\n",
              "    <tr>\n",
              "      <th>1</th>\n",
              "      <td>java</td>\n",
              "      <td>3</td>\n",
              "      <td>medium</td>\n",
              "    </tr>\n",
              "    <tr>\n",
              "      <th>2</th>\n",
              "      <td>C</td>\n",
              "      <td>4</td>\n",
              "      <td>Basic</td>\n",
              "    </tr>\n",
              "    <tr>\n",
              "      <th>3</th>\n",
              "      <td>C++</td>\n",
              "      <td>2</td>\n",
              "      <td>Typical</td>\n",
              "    </tr>\n",
              "  </tbody>\n",
              "</table>\n",
              "</div>"
            ],
            "text/plain": [
              "  Language  Rating     Type\n",
              "0   Python       1   simple\n",
              "1     java       3   medium\n",
              "2        C       4    Basic\n",
              "3      C++       2  Typical"
            ]
          },
          "execution_count": 88,
          "metadata": {},
          "output_type": "execute_result"
        }
      ],
      "source": [
        "df"
      ]
    },
    {
      "cell_type": "code",
      "execution_count": null,
      "id": "97dd3c83",
      "metadata": {
        "id": "97dd3c83"
      },
      "outputs": [],
      "source": [
        "df12 = pd.DataFrame(['satya','vamsi','uday','pranay'],index= ['a','b','c','d'])"
      ]
    },
    {
      "cell_type": "code",
      "execution_count": null,
      "id": "618004d7",
      "metadata": {
        "id": "618004d7",
        "outputId": "2daac3fd-c07b-4b72-fe4a-48ca19d420f8"
      },
      "outputs": [
        {
          "data": {
            "text/html": [
              "<div>\n",
              "<style scoped>\n",
              "    .dataframe tbody tr th:only-of-type {\n",
              "        vertical-align: middle;\n",
              "    }\n",
              "\n",
              "    .dataframe tbody tr th {\n",
              "        vertical-align: top;\n",
              "    }\n",
              "\n",
              "    .dataframe thead th {\n",
              "        text-align: right;\n",
              "    }\n",
              "</style>\n",
              "<table border=\"1\" class=\"dataframe\">\n",
              "  <thead>\n",
              "    <tr style=\"text-align: right;\">\n",
              "      <th></th>\n",
              "      <th>0</th>\n",
              "    </tr>\n",
              "  </thead>\n",
              "  <tbody>\n",
              "    <tr>\n",
              "      <th>a</th>\n",
              "      <td>satya</td>\n",
              "    </tr>\n",
              "    <tr>\n",
              "      <th>b</th>\n",
              "      <td>vamsi</td>\n",
              "    </tr>\n",
              "    <tr>\n",
              "      <th>c</th>\n",
              "      <td>uday</td>\n",
              "    </tr>\n",
              "    <tr>\n",
              "      <th>d</th>\n",
              "      <td>pranay</td>\n",
              "    </tr>\n",
              "  </tbody>\n",
              "</table>\n",
              "</div>"
            ],
            "text/plain": [
              "        0\n",
              "a   satya\n",
              "b   vamsi\n",
              "c    uday\n",
              "d  pranay"
            ]
          },
          "execution_count": 95,
          "metadata": {},
          "output_type": "execute_result"
        }
      ],
      "source": [
        "df12"
      ]
    },
    {
      "cell_type": "code",
      "execution_count": null,
      "id": "2c3e4711",
      "metadata": {
        "id": "2c3e4711",
        "outputId": "e462339c-89a7-4072-b8c5-0ed098bc5026"
      },
      "outputs": [
        {
          "data": {
            "text/plain": [
              "0    satya\n",
              "Name: a, dtype: object"
            ]
          },
          "execution_count": 96,
          "metadata": {},
          "output_type": "execute_result"
        }
      ],
      "source": [
        "df12.loc['a']"
      ]
    },
    {
      "cell_type": "code",
      "execution_count": null,
      "id": "322ae954",
      "metadata": {
        "id": "322ae954",
        "outputId": "67c57b52-2190-47a4-8f1a-23da94bd03ba"
      },
      "outputs": [
        {
          "data": {
            "text/plain": [
              "0    pranay\n",
              "Name: d, dtype: object"
            ]
          },
          "execution_count": 97,
          "metadata": {},
          "output_type": "execute_result"
        }
      ],
      "source": [
        "df12.iloc[3]"
      ]
    },
    {
      "cell_type": "code",
      "execution_count": null,
      "id": "22ba518d",
      "metadata": {
        "id": "22ba518d",
        "outputId": "2e354f5b-1065-452b-f376-a951fa04402b"
      },
      "outputs": [
        {
          "data": {
            "text/html": [
              "<div>\n",
              "<style scoped>\n",
              "    .dataframe tbody tr th:only-of-type {\n",
              "        vertical-align: middle;\n",
              "    }\n",
              "\n",
              "    .dataframe tbody tr th {\n",
              "        vertical-align: top;\n",
              "    }\n",
              "\n",
              "    .dataframe thead th {\n",
              "        text-align: right;\n",
              "    }\n",
              "</style>\n",
              "<table border=\"1\" class=\"dataframe\">\n",
              "  <thead>\n",
              "    <tr style=\"text-align: right;\">\n",
              "      <th></th>\n",
              "      <th>0</th>\n",
              "    </tr>\n",
              "  </thead>\n",
              "  <tbody>\n",
              "    <tr>\n",
              "      <th>a</th>\n",
              "      <td>satya</td>\n",
              "    </tr>\n",
              "    <tr>\n",
              "      <th>b</th>\n",
              "      <td>vamsi</td>\n",
              "    </tr>\n",
              "    <tr>\n",
              "      <th>c</th>\n",
              "      <td>uday</td>\n",
              "    </tr>\n",
              "    <tr>\n",
              "      <th>d</th>\n",
              "      <td>pranay</td>\n",
              "    </tr>\n",
              "  </tbody>\n",
              "</table>\n",
              "</div>"
            ],
            "text/plain": [
              "        0\n",
              "a   satya\n",
              "b   vamsi\n",
              "c    uday\n",
              "d  pranay"
            ]
          },
          "execution_count": 98,
          "metadata": {},
          "output_type": "execute_result"
        }
      ],
      "source": [
        "df12"
      ]
    },
    {
      "cell_type": "code",
      "execution_count": null,
      "id": "327a4fef",
      "metadata": {
        "id": "327a4fef",
        "outputId": "e9d131c0-b149-49dc-fec1-79213a97429f"
      },
      "outputs": [
        {
          "data": {
            "text/html": [
              "<div>\n",
              "<style scoped>\n",
              "    .dataframe tbody tr th:only-of-type {\n",
              "        vertical-align: middle;\n",
              "    }\n",
              "\n",
              "    .dataframe tbody tr th {\n",
              "        vertical-align: top;\n",
              "    }\n",
              "\n",
              "    .dataframe thead th {\n",
              "        text-align: right;\n",
              "    }\n",
              "</style>\n",
              "<table border=\"1\" class=\"dataframe\">\n",
              "  <thead>\n",
              "    <tr style=\"text-align: right;\">\n",
              "      <th></th>\n",
              "      <th>0</th>\n",
              "    </tr>\n",
              "  </thead>\n",
              "  <tbody>\n",
              "    <tr>\n",
              "      <th>b</th>\n",
              "      <td>vamsi</td>\n",
              "    </tr>\n",
              "    <tr>\n",
              "      <th>c</th>\n",
              "      <td>uday</td>\n",
              "    </tr>\n",
              "  </tbody>\n",
              "</table>\n",
              "</div>"
            ],
            "text/plain": [
              "       0\n",
              "b  vamsi\n",
              "c   uday"
            ]
          },
          "execution_count": 100,
          "metadata": {},
          "output_type": "execute_result"
        }
      ],
      "source": [
        "df12.loc['b':'c']"
      ]
    },
    {
      "cell_type": "code",
      "execution_count": null,
      "id": "74687e34",
      "metadata": {
        "id": "74687e34"
      },
      "outputs": [],
      "source": [
        "data = pd.read_csv('iris.csv')"
      ]
    },
    {
      "cell_type": "code",
      "execution_count": null,
      "id": "f816e527",
      "metadata": {
        "id": "f816e527",
        "outputId": "61082875-1fb2-43a3-d23d-3e74be1e8ff5"
      },
      "outputs": [
        {
          "data": {
            "text/html": [
              "<div>\n",
              "<style scoped>\n",
              "    .dataframe tbody tr th:only-of-type {\n",
              "        vertical-align: middle;\n",
              "    }\n",
              "\n",
              "    .dataframe tbody tr th {\n",
              "        vertical-align: top;\n",
              "    }\n",
              "\n",
              "    .dataframe thead th {\n",
              "        text-align: right;\n",
              "    }\n",
              "</style>\n",
              "<table border=\"1\" class=\"dataframe\">\n",
              "  <thead>\n",
              "    <tr style=\"text-align: right;\">\n",
              "      <th></th>\n",
              "      <th>sepal.length</th>\n",
              "      <th>sepal.width</th>\n",
              "      <th>petal.length</th>\n",
              "      <th>petal.width</th>\n",
              "      <th>variety</th>\n",
              "    </tr>\n",
              "  </thead>\n",
              "  <tbody>\n",
              "    <tr>\n",
              "      <th>0</th>\n",
              "      <td>5.1</td>\n",
              "      <td>3.5</td>\n",
              "      <td>1.4</td>\n",
              "      <td>0.2</td>\n",
              "      <td>Setosa</td>\n",
              "    </tr>\n",
              "    <tr>\n",
              "      <th>1</th>\n",
              "      <td>4.9</td>\n",
              "      <td>3.0</td>\n",
              "      <td>1.4</td>\n",
              "      <td>0.2</td>\n",
              "      <td>Setosa</td>\n",
              "    </tr>\n",
              "    <tr>\n",
              "      <th>2</th>\n",
              "      <td>4.7</td>\n",
              "      <td>3.2</td>\n",
              "      <td>1.3</td>\n",
              "      <td>0.2</td>\n",
              "      <td>Setosa</td>\n",
              "    </tr>\n",
              "    <tr>\n",
              "      <th>3</th>\n",
              "      <td>4.6</td>\n",
              "      <td>3.1</td>\n",
              "      <td>1.5</td>\n",
              "      <td>0.2</td>\n",
              "      <td>Setosa</td>\n",
              "    </tr>\n",
              "    <tr>\n",
              "      <th>4</th>\n",
              "      <td>5.0</td>\n",
              "      <td>3.6</td>\n",
              "      <td>1.4</td>\n",
              "      <td>0.2</td>\n",
              "      <td>Setosa</td>\n",
              "    </tr>\n",
              "    <tr>\n",
              "      <th>...</th>\n",
              "      <td>...</td>\n",
              "      <td>...</td>\n",
              "      <td>...</td>\n",
              "      <td>...</td>\n",
              "      <td>...</td>\n",
              "    </tr>\n",
              "    <tr>\n",
              "      <th>145</th>\n",
              "      <td>6.7</td>\n",
              "      <td>3.0</td>\n",
              "      <td>5.2</td>\n",
              "      <td>2.3</td>\n",
              "      <td>Virginica</td>\n",
              "    </tr>\n",
              "    <tr>\n",
              "      <th>146</th>\n",
              "      <td>6.3</td>\n",
              "      <td>2.5</td>\n",
              "      <td>5.0</td>\n",
              "      <td>1.9</td>\n",
              "      <td>Virginica</td>\n",
              "    </tr>\n",
              "    <tr>\n",
              "      <th>147</th>\n",
              "      <td>6.5</td>\n",
              "      <td>3.0</td>\n",
              "      <td>5.2</td>\n",
              "      <td>2.0</td>\n",
              "      <td>Virginica</td>\n",
              "    </tr>\n",
              "    <tr>\n",
              "      <th>148</th>\n",
              "      <td>6.2</td>\n",
              "      <td>3.4</td>\n",
              "      <td>5.4</td>\n",
              "      <td>2.3</td>\n",
              "      <td>Virginica</td>\n",
              "    </tr>\n",
              "    <tr>\n",
              "      <th>149</th>\n",
              "      <td>5.9</td>\n",
              "      <td>3.0</td>\n",
              "      <td>5.1</td>\n",
              "      <td>1.8</td>\n",
              "      <td>Virginica</td>\n",
              "    </tr>\n",
              "  </tbody>\n",
              "</table>\n",
              "<p>150 rows × 5 columns</p>\n",
              "</div>"
            ],
            "text/plain": [
              "     sepal.length  sepal.width  petal.length  petal.width    variety\n",
              "0             5.1          3.5           1.4          0.2     Setosa\n",
              "1             4.9          3.0           1.4          0.2     Setosa\n",
              "2             4.7          3.2           1.3          0.2     Setosa\n",
              "3             4.6          3.1           1.5          0.2     Setosa\n",
              "4             5.0          3.6           1.4          0.2     Setosa\n",
              "..            ...          ...           ...          ...        ...\n",
              "145           6.7          3.0           5.2          2.3  Virginica\n",
              "146           6.3          2.5           5.0          1.9  Virginica\n",
              "147           6.5          3.0           5.2          2.0  Virginica\n",
              "148           6.2          3.4           5.4          2.3  Virginica\n",
              "149           5.9          3.0           5.1          1.8  Virginica\n",
              "\n",
              "[150 rows x 5 columns]"
            ]
          },
          "execution_count": 102,
          "metadata": {},
          "output_type": "execute_result"
        }
      ],
      "source": [
        "data"
      ]
    },
    {
      "cell_type": "code",
      "execution_count": null,
      "id": "e2b67311",
      "metadata": {
        "id": "e2b67311",
        "outputId": "8b25efca-cf1f-4220-fcd6-0de6d7abe84f"
      },
      "outputs": [
        {
          "data": {
            "text/html": [
              "<div>\n",
              "<style scoped>\n",
              "    .dataframe tbody tr th:only-of-type {\n",
              "        vertical-align: middle;\n",
              "    }\n",
              "\n",
              "    .dataframe tbody tr th {\n",
              "        vertical-align: top;\n",
              "    }\n",
              "\n",
              "    .dataframe thead th {\n",
              "        text-align: right;\n",
              "    }\n",
              "</style>\n",
              "<table border=\"1\" class=\"dataframe\">\n",
              "  <thead>\n",
              "    <tr style=\"text-align: right;\">\n",
              "      <th></th>\n",
              "      <th>sepal.length</th>\n",
              "      <th>sepal.width</th>\n",
              "      <th>petal.length</th>\n",
              "      <th>petal.width</th>\n",
              "      <th>variety</th>\n",
              "    </tr>\n",
              "  </thead>\n",
              "  <tbody>\n",
              "    <tr>\n",
              "      <th>0</th>\n",
              "      <td>5.1</td>\n",
              "      <td>3.5</td>\n",
              "      <td>1.4</td>\n",
              "      <td>0.2</td>\n",
              "      <td>Setosa</td>\n",
              "    </tr>\n",
              "    <tr>\n",
              "      <th>1</th>\n",
              "      <td>4.9</td>\n",
              "      <td>3.0</td>\n",
              "      <td>1.4</td>\n",
              "      <td>0.2</td>\n",
              "      <td>Setosa</td>\n",
              "    </tr>\n",
              "    <tr>\n",
              "      <th>2</th>\n",
              "      <td>4.7</td>\n",
              "      <td>3.2</td>\n",
              "      <td>1.3</td>\n",
              "      <td>0.2</td>\n",
              "      <td>Setosa</td>\n",
              "    </tr>\n",
              "    <tr>\n",
              "      <th>3</th>\n",
              "      <td>4.6</td>\n",
              "      <td>3.1</td>\n",
              "      <td>1.5</td>\n",
              "      <td>0.2</td>\n",
              "      <td>Setosa</td>\n",
              "    </tr>\n",
              "    <tr>\n",
              "      <th>4</th>\n",
              "      <td>5.0</td>\n",
              "      <td>3.6</td>\n",
              "      <td>1.4</td>\n",
              "      <td>0.2</td>\n",
              "      <td>Setosa</td>\n",
              "    </tr>\n",
              "  </tbody>\n",
              "</table>\n",
              "</div>"
            ],
            "text/plain": [
              "   sepal.length  sepal.width  petal.length  petal.width variety\n",
              "0           5.1          3.5           1.4          0.2  Setosa\n",
              "1           4.9          3.0           1.4          0.2  Setosa\n",
              "2           4.7          3.2           1.3          0.2  Setosa\n",
              "3           4.6          3.1           1.5          0.2  Setosa\n",
              "4           5.0          3.6           1.4          0.2  Setosa"
            ]
          },
          "execution_count": 103,
          "metadata": {},
          "output_type": "execute_result"
        }
      ],
      "source": [
        "data.head()"
      ]
    },
    {
      "cell_type": "code",
      "execution_count": null,
      "id": "a8499310",
      "metadata": {
        "id": "a8499310",
        "outputId": "bb09e3be-81b0-4a95-8b52-44dc411f07a6"
      },
      "outputs": [
        {
          "data": {
            "text/html": [
              "<div>\n",
              "<style scoped>\n",
              "    .dataframe tbody tr th:only-of-type {\n",
              "        vertical-align: middle;\n",
              "    }\n",
              "\n",
              "    .dataframe tbody tr th {\n",
              "        vertical-align: top;\n",
              "    }\n",
              "\n",
              "    .dataframe thead th {\n",
              "        text-align: right;\n",
              "    }\n",
              "</style>\n",
              "<table border=\"1\" class=\"dataframe\">\n",
              "  <thead>\n",
              "    <tr style=\"text-align: right;\">\n",
              "      <th></th>\n",
              "      <th>sepal.length</th>\n",
              "      <th>sepal.width</th>\n",
              "      <th>petal.length</th>\n",
              "      <th>petal.width</th>\n",
              "      <th>variety</th>\n",
              "    </tr>\n",
              "  </thead>\n",
              "  <tbody>\n",
              "    <tr>\n",
              "      <th>0</th>\n",
              "      <td>5.1</td>\n",
              "      <td>3.5</td>\n",
              "      <td>1.4</td>\n",
              "      <td>0.2</td>\n",
              "      <td>Setosa</td>\n",
              "    </tr>\n",
              "    <tr>\n",
              "      <th>1</th>\n",
              "      <td>4.9</td>\n",
              "      <td>3.0</td>\n",
              "      <td>1.4</td>\n",
              "      <td>0.2</td>\n",
              "      <td>Setosa</td>\n",
              "    </tr>\n",
              "    <tr>\n",
              "      <th>2</th>\n",
              "      <td>4.7</td>\n",
              "      <td>3.2</td>\n",
              "      <td>1.3</td>\n",
              "      <td>0.2</td>\n",
              "      <td>Setosa</td>\n",
              "    </tr>\n",
              "    <tr>\n",
              "      <th>3</th>\n",
              "      <td>4.6</td>\n",
              "      <td>3.1</td>\n",
              "      <td>1.5</td>\n",
              "      <td>0.2</td>\n",
              "      <td>Setosa</td>\n",
              "    </tr>\n",
              "    <tr>\n",
              "      <th>4</th>\n",
              "      <td>5.0</td>\n",
              "      <td>3.6</td>\n",
              "      <td>1.4</td>\n",
              "      <td>0.2</td>\n",
              "      <td>Setosa</td>\n",
              "    </tr>\n",
              "    <tr>\n",
              "      <th>5</th>\n",
              "      <td>5.4</td>\n",
              "      <td>3.9</td>\n",
              "      <td>1.7</td>\n",
              "      <td>0.4</td>\n",
              "      <td>Setosa</td>\n",
              "    </tr>\n",
              "    <tr>\n",
              "      <th>6</th>\n",
              "      <td>4.6</td>\n",
              "      <td>3.4</td>\n",
              "      <td>1.4</td>\n",
              "      <td>0.3</td>\n",
              "      <td>Setosa</td>\n",
              "    </tr>\n",
              "    <tr>\n",
              "      <th>7</th>\n",
              "      <td>5.0</td>\n",
              "      <td>3.4</td>\n",
              "      <td>1.5</td>\n",
              "      <td>0.2</td>\n",
              "      <td>Setosa</td>\n",
              "    </tr>\n",
              "    <tr>\n",
              "      <th>8</th>\n",
              "      <td>4.4</td>\n",
              "      <td>2.9</td>\n",
              "      <td>1.4</td>\n",
              "      <td>0.2</td>\n",
              "      <td>Setosa</td>\n",
              "    </tr>\n",
              "    <tr>\n",
              "      <th>9</th>\n",
              "      <td>4.9</td>\n",
              "      <td>3.1</td>\n",
              "      <td>1.5</td>\n",
              "      <td>0.1</td>\n",
              "      <td>Setosa</td>\n",
              "    </tr>\n",
              "  </tbody>\n",
              "</table>\n",
              "</div>"
            ],
            "text/plain": [
              "   sepal.length  sepal.width  petal.length  petal.width variety\n",
              "0           5.1          3.5           1.4          0.2  Setosa\n",
              "1           4.9          3.0           1.4          0.2  Setosa\n",
              "2           4.7          3.2           1.3          0.2  Setosa\n",
              "3           4.6          3.1           1.5          0.2  Setosa\n",
              "4           5.0          3.6           1.4          0.2  Setosa\n",
              "5           5.4          3.9           1.7          0.4  Setosa\n",
              "6           4.6          3.4           1.4          0.3  Setosa\n",
              "7           5.0          3.4           1.5          0.2  Setosa\n",
              "8           4.4          2.9           1.4          0.2  Setosa\n",
              "9           4.9          3.1           1.5          0.1  Setosa"
            ]
          },
          "execution_count": 104,
          "metadata": {},
          "output_type": "execute_result"
        }
      ],
      "source": [
        "data.head(10)"
      ]
    },
    {
      "cell_type": "code",
      "execution_count": null,
      "id": "67298184",
      "metadata": {
        "id": "67298184",
        "outputId": "87affaad-6cf4-4208-d400-7fb40427f802"
      },
      "outputs": [
        {
          "data": {
            "text/html": [
              "<div>\n",
              "<style scoped>\n",
              "    .dataframe tbody tr th:only-of-type {\n",
              "        vertical-align: middle;\n",
              "    }\n",
              "\n",
              "    .dataframe tbody tr th {\n",
              "        vertical-align: top;\n",
              "    }\n",
              "\n",
              "    .dataframe thead th {\n",
              "        text-align: right;\n",
              "    }\n",
              "</style>\n",
              "<table border=\"1\" class=\"dataframe\">\n",
              "  <thead>\n",
              "    <tr style=\"text-align: right;\">\n",
              "      <th></th>\n",
              "      <th>sepal.length</th>\n",
              "      <th>sepal.width</th>\n",
              "      <th>petal.length</th>\n",
              "      <th>petal.width</th>\n",
              "      <th>variety</th>\n",
              "    </tr>\n",
              "  </thead>\n",
              "  <tbody>\n",
              "    <tr>\n",
              "      <th>145</th>\n",
              "      <td>6.7</td>\n",
              "      <td>3.0</td>\n",
              "      <td>5.2</td>\n",
              "      <td>2.3</td>\n",
              "      <td>Virginica</td>\n",
              "    </tr>\n",
              "    <tr>\n",
              "      <th>146</th>\n",
              "      <td>6.3</td>\n",
              "      <td>2.5</td>\n",
              "      <td>5.0</td>\n",
              "      <td>1.9</td>\n",
              "      <td>Virginica</td>\n",
              "    </tr>\n",
              "    <tr>\n",
              "      <th>147</th>\n",
              "      <td>6.5</td>\n",
              "      <td>3.0</td>\n",
              "      <td>5.2</td>\n",
              "      <td>2.0</td>\n",
              "      <td>Virginica</td>\n",
              "    </tr>\n",
              "    <tr>\n",
              "      <th>148</th>\n",
              "      <td>6.2</td>\n",
              "      <td>3.4</td>\n",
              "      <td>5.4</td>\n",
              "      <td>2.3</td>\n",
              "      <td>Virginica</td>\n",
              "    </tr>\n",
              "    <tr>\n",
              "      <th>149</th>\n",
              "      <td>5.9</td>\n",
              "      <td>3.0</td>\n",
              "      <td>5.1</td>\n",
              "      <td>1.8</td>\n",
              "      <td>Virginica</td>\n",
              "    </tr>\n",
              "  </tbody>\n",
              "</table>\n",
              "</div>"
            ],
            "text/plain": [
              "     sepal.length  sepal.width  petal.length  petal.width    variety\n",
              "145           6.7          3.0           5.2          2.3  Virginica\n",
              "146           6.3          2.5           5.0          1.9  Virginica\n",
              "147           6.5          3.0           5.2          2.0  Virginica\n",
              "148           6.2          3.4           5.4          2.3  Virginica\n",
              "149           5.9          3.0           5.1          1.8  Virginica"
            ]
          },
          "execution_count": 105,
          "metadata": {},
          "output_type": "execute_result"
        }
      ],
      "source": [
        "data.tail()"
      ]
    },
    {
      "cell_type": "code",
      "execution_count": null,
      "id": "4b480f5d",
      "metadata": {
        "id": "4b480f5d",
        "outputId": "484b72fb-f8ee-420a-c5ec-bf9c03b40a4f"
      },
      "outputs": [
        {
          "name": "stdout",
          "output_type": "stream",
          "text": [
            "<class 'pandas.core.frame.DataFrame'>\n",
            "RangeIndex: 150 entries, 0 to 149\n",
            "Data columns (total 5 columns):\n",
            " #   Column        Non-Null Count  Dtype  \n",
            "---  ------        --------------  -----  \n",
            " 0   sepal.length  150 non-null    float64\n",
            " 1   sepal.width   150 non-null    float64\n",
            " 2   petal.length  150 non-null    float64\n",
            " 3   petal.width   150 non-null    float64\n",
            " 4   variety       150 non-null    object \n",
            "dtypes: float64(4), object(1)\n",
            "memory usage: 6.0+ KB\n"
          ]
        }
      ],
      "source": [
        "data.info()"
      ]
    },
    {
      "cell_type": "code",
      "execution_count": null,
      "id": "f6e745e9",
      "metadata": {
        "id": "f6e745e9",
        "outputId": "9bccfbfb-6417-4d85-e6bd-24e58bf0e619"
      },
      "outputs": [
        {
          "data": {
            "text/html": [
              "<div>\n",
              "<style scoped>\n",
              "    .dataframe tbody tr th:only-of-type {\n",
              "        vertical-align: middle;\n",
              "    }\n",
              "\n",
              "    .dataframe tbody tr th {\n",
              "        vertical-align: top;\n",
              "    }\n",
              "\n",
              "    .dataframe thead th {\n",
              "        text-align: right;\n",
              "    }\n",
              "</style>\n",
              "<table border=\"1\" class=\"dataframe\">\n",
              "  <thead>\n",
              "    <tr style=\"text-align: right;\">\n",
              "      <th></th>\n",
              "      <th>sepal.length</th>\n",
              "      <th>sepal.width</th>\n",
              "      <th>petal.length</th>\n",
              "      <th>petal.width</th>\n",
              "    </tr>\n",
              "  </thead>\n",
              "  <tbody>\n",
              "    <tr>\n",
              "      <th>count</th>\n",
              "      <td>150.000000</td>\n",
              "      <td>150.000000</td>\n",
              "      <td>150.000000</td>\n",
              "      <td>150.000000</td>\n",
              "    </tr>\n",
              "    <tr>\n",
              "      <th>mean</th>\n",
              "      <td>5.843333</td>\n",
              "      <td>3.057333</td>\n",
              "      <td>3.758000</td>\n",
              "      <td>1.199333</td>\n",
              "    </tr>\n",
              "    <tr>\n",
              "      <th>std</th>\n",
              "      <td>0.828066</td>\n",
              "      <td>0.435866</td>\n",
              "      <td>1.765298</td>\n",
              "      <td>0.762238</td>\n",
              "    </tr>\n",
              "    <tr>\n",
              "      <th>min</th>\n",
              "      <td>4.300000</td>\n",
              "      <td>2.000000</td>\n",
              "      <td>1.000000</td>\n",
              "      <td>0.100000</td>\n",
              "    </tr>\n",
              "    <tr>\n",
              "      <th>25%</th>\n",
              "      <td>5.100000</td>\n",
              "      <td>2.800000</td>\n",
              "      <td>1.600000</td>\n",
              "      <td>0.300000</td>\n",
              "    </tr>\n",
              "    <tr>\n",
              "      <th>50%</th>\n",
              "      <td>5.800000</td>\n",
              "      <td>3.000000</td>\n",
              "      <td>4.350000</td>\n",
              "      <td>1.300000</td>\n",
              "    </tr>\n",
              "    <tr>\n",
              "      <th>75%</th>\n",
              "      <td>6.400000</td>\n",
              "      <td>3.300000</td>\n",
              "      <td>5.100000</td>\n",
              "      <td>1.800000</td>\n",
              "    </tr>\n",
              "    <tr>\n",
              "      <th>max</th>\n",
              "      <td>7.900000</td>\n",
              "      <td>4.400000</td>\n",
              "      <td>6.900000</td>\n",
              "      <td>2.500000</td>\n",
              "    </tr>\n",
              "  </tbody>\n",
              "</table>\n",
              "</div>"
            ],
            "text/plain": [
              "       sepal.length  sepal.width  petal.length  petal.width\n",
              "count    150.000000   150.000000    150.000000   150.000000\n",
              "mean       5.843333     3.057333      3.758000     1.199333\n",
              "std        0.828066     0.435866      1.765298     0.762238\n",
              "min        4.300000     2.000000      1.000000     0.100000\n",
              "25%        5.100000     2.800000      1.600000     0.300000\n",
              "50%        5.800000     3.000000      4.350000     1.300000\n",
              "75%        6.400000     3.300000      5.100000     1.800000\n",
              "max        7.900000     4.400000      6.900000     2.500000"
            ]
          },
          "execution_count": 108,
          "metadata": {},
          "output_type": "execute_result"
        }
      ],
      "source": [
        "data.describe()"
      ]
    },
    {
      "cell_type": "code",
      "execution_count": null,
      "id": "8e194216",
      "metadata": {
        "id": "8e194216",
        "outputId": "64b36700-796f-4c4f-c3b7-f7be14e85a5e"
      },
      "outputs": [
        {
          "data": {
            "text/plain": [
              "0     5.1\n",
              "1     4.9\n",
              "2     4.7\n",
              "3     4.6\n",
              "4     5.0\n",
              "5     5.4\n",
              "6     4.6\n",
              "7     5.0\n",
              "8     4.4\n",
              "9     4.9\n",
              "10    5.4\n",
              "11    4.8\n",
              "12    4.8\n",
              "13    4.3\n",
              "14    5.8\n",
              "15    5.7\n",
              "16    5.4\n",
              "17    5.1\n",
              "18    5.7\n",
              "19    5.1\n",
              "Name: sepal.length, dtype: float64"
            ]
          },
          "execution_count": 111,
          "metadata": {},
          "output_type": "execute_result"
        }
      ],
      "source": [
        "data['sepal.length'].head(20)"
      ]
    },
    {
      "cell_type": "code",
      "execution_count": null,
      "id": "c7824494",
      "metadata": {
        "id": "c7824494",
        "outputId": "98cede96-5919-4ef2-85a4-5ba4fe57d554"
      },
      "outputs": [
        {
          "data": {
            "text/html": [
              "<div>\n",
              "<style scoped>\n",
              "    .dataframe tbody tr th:only-of-type {\n",
              "        vertical-align: middle;\n",
              "    }\n",
              "\n",
              "    .dataframe tbody tr th {\n",
              "        vertical-align: top;\n",
              "    }\n",
              "\n",
              "    .dataframe thead th {\n",
              "        text-align: right;\n",
              "    }\n",
              "</style>\n",
              "<table border=\"1\" class=\"dataframe\">\n",
              "  <thead>\n",
              "    <tr style=\"text-align: right;\">\n",
              "      <th></th>\n",
              "      <th>sepal.length</th>\n",
              "      <th>sepal.width</th>\n",
              "      <th>petal.length</th>\n",
              "      <th>petal.width</th>\n",
              "      <th>variety</th>\n",
              "    </tr>\n",
              "  </thead>\n",
              "  <tbody>\n",
              "    <tr>\n",
              "      <th>105</th>\n",
              "      <td>7.6</td>\n",
              "      <td>3.0</td>\n",
              "      <td>6.6</td>\n",
              "      <td>2.1</td>\n",
              "      <td>Virginica</td>\n",
              "    </tr>\n",
              "    <tr>\n",
              "      <th>107</th>\n",
              "      <td>7.3</td>\n",
              "      <td>2.9</td>\n",
              "      <td>6.3</td>\n",
              "      <td>1.8</td>\n",
              "      <td>Virginica</td>\n",
              "    </tr>\n",
              "    <tr>\n",
              "      <th>109</th>\n",
              "      <td>7.2</td>\n",
              "      <td>3.6</td>\n",
              "      <td>6.1</td>\n",
              "      <td>2.5</td>\n",
              "      <td>Virginica</td>\n",
              "    </tr>\n",
              "    <tr>\n",
              "      <th>117</th>\n",
              "      <td>7.7</td>\n",
              "      <td>3.8</td>\n",
              "      <td>6.7</td>\n",
              "      <td>2.2</td>\n",
              "      <td>Virginica</td>\n",
              "    </tr>\n",
              "    <tr>\n",
              "      <th>118</th>\n",
              "      <td>7.7</td>\n",
              "      <td>2.6</td>\n",
              "      <td>6.9</td>\n",
              "      <td>2.3</td>\n",
              "      <td>Virginica</td>\n",
              "    </tr>\n",
              "    <tr>\n",
              "      <th>122</th>\n",
              "      <td>7.7</td>\n",
              "      <td>2.8</td>\n",
              "      <td>6.7</td>\n",
              "      <td>2.0</td>\n",
              "      <td>Virginica</td>\n",
              "    </tr>\n",
              "    <tr>\n",
              "      <th>130</th>\n",
              "      <td>7.4</td>\n",
              "      <td>2.8</td>\n",
              "      <td>6.1</td>\n",
              "      <td>1.9</td>\n",
              "      <td>Virginica</td>\n",
              "    </tr>\n",
              "    <tr>\n",
              "      <th>131</th>\n",
              "      <td>7.9</td>\n",
              "      <td>3.8</td>\n",
              "      <td>6.4</td>\n",
              "      <td>2.0</td>\n",
              "      <td>Virginica</td>\n",
              "    </tr>\n",
              "    <tr>\n",
              "      <th>135</th>\n",
              "      <td>7.7</td>\n",
              "      <td>3.0</td>\n",
              "      <td>6.1</td>\n",
              "      <td>2.3</td>\n",
              "      <td>Virginica</td>\n",
              "    </tr>\n",
              "  </tbody>\n",
              "</table>\n",
              "</div>"
            ],
            "text/plain": [
              "     sepal.length  sepal.width  petal.length  petal.width    variety\n",
              "105           7.6          3.0           6.6          2.1  Virginica\n",
              "107           7.3          2.9           6.3          1.8  Virginica\n",
              "109           7.2          3.6           6.1          2.5  Virginica\n",
              "117           7.7          3.8           6.7          2.2  Virginica\n",
              "118           7.7          2.6           6.9          2.3  Virginica\n",
              "122           7.7          2.8           6.7          2.0  Virginica\n",
              "130           7.4          2.8           6.1          1.9  Virginica\n",
              "131           7.9          3.8           6.4          2.0  Virginica\n",
              "135           7.7          3.0           6.1          2.3  Virginica"
            ]
          },
          "execution_count": 117,
          "metadata": {},
          "output_type": "execute_result"
        }
      ],
      "source": [
        "data[data['petal.length']>6]"
      ]
    },
    {
      "cell_type": "code",
      "execution_count": null,
      "id": "d6d8963a",
      "metadata": {
        "id": "d6d8963a",
        "outputId": "74aa7199-638d-44f8-cdec-ab2b46ca6812"
      },
      "outputs": [
        {
          "data": {
            "text/plain": [
              "3.057333333333334"
            ]
          },
          "execution_count": 118,
          "metadata": {},
          "output_type": "execute_result"
        }
      ],
      "source": [
        "data['sepal.width'].mean()"
      ]
    },
    {
      "cell_type": "code",
      "execution_count": null,
      "id": "f8a343e1",
      "metadata": {
        "id": "f8a343e1"
      },
      "outputs": [],
      "source": [
        ""
      ]
    }
  ],
  "metadata": {
    "kernelspec": {
      "display_name": "Python 3",
      "language": "python",
      "name": "python3"
    },
    "language_info": {
      "codemirror_mode": {
        "name": "ipython",
        "version": 3
      },
      "file_extension": ".py",
      "mimetype": "text/x-python",
      "name": "python",
      "nbconvert_exporter": "python",
      "pygments_lexer": "ipython3",
      "version": "3.8.8"
    },
    "colab": {
      "name": "21_12_Pandas_Data Slicing_and_More_morning.ipynb",
      "provenance": []
    }
  },
  "nbformat": 4,
  "nbformat_minor": 5
}