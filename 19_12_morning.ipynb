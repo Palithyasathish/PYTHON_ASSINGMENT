{
 "cells": [
  {
   "cell_type": "code",
   "execution_count": 3,
   "id": "3545edb2",
   "metadata": {},
   "outputs": [
    {
     "name": "stdout",
     "output_type": "stream",
     "text": [
      "Enter your number: 123\n",
      "given number is not armstrong number\n"
     ]
    }
   ],
   "source": [
    "num = int(input('Enter your number: '))\n",
    "S = num\n",
    "summ = 0\n",
    "while num>0:\n",
    "    digit = num%10\n",
    "    summ = summ+digit**3\n",
    "    num = num//10\n",
    "if summ == S:\n",
    "    print('Given number is armstrong number:')\n",
    "else:\n",
    "    print('given number is not armstrong number')"
   ]
  },
  {
   "cell_type": "code",
   "execution_count": 4,
   "id": "e0e01196",
   "metadata": {},
   "outputs": [],
   "source": [
    "even_sum = 0\n",
    "odd_sum = 0\n",
    "even_count = 0\n",
    "odd_count = 0"
   ]
  },
  {
   "cell_type": "code",
   "execution_count": 8,
   "id": "03b4c6dc",
   "metadata": {},
   "outputs": [
    {
     "name": "stdout",
     "output_type": "stream",
     "text": [
      "Even number sum is :  5318\n",
      "odd number sum is :  5180\n",
      "Even number count is :  106\n",
      "odd number count is :  104\n"
     ]
    }
   ],
   "source": [
    "\n",
    "for i in range(1,100):\n",
    "    if i % 2 == 0:\n",
    "        even_count = even_count+1\n",
    "        even_sum = even_sum+i\n",
    "    else:\n",
    "        odd_count = odd_count+1\n",
    "        odd_sum = odd_sum+i\n",
    "print('Even number sum is : ', even_sum)\n",
    "print('odd number sum is : ', odd_sum)\n",
    "print('Even number count is : ', even_count)\n",
    "print('odd number count is : ', odd_count)"
   ]
  },
  {
   "cell_type": "code",
   "execution_count": 9,
   "id": "ffbb08fc",
   "metadata": {},
   "outputs": [
    {
     "name": "stdout",
     "output_type": "stream",
     "text": [
      "Even number sum is :  2450\n",
      "odd number sum is :  2500\n",
      "Even number count is :  49\n",
      "odd number count is :  50\n"
     ]
    }
   ],
   "source": [
    "even_sum = 0\n",
    "odd_sum = 0\n",
    "even_count = 0\n",
    "odd_count = 0\n",
    "for i in range(1,100):\n",
    "    if i % 2 == 0:\n",
    "        even_count = even_count+1\n",
    "        even_sum = even_sum+i\n",
    "    else:\n",
    "        odd_count = odd_count+1\n",
    "        odd_sum = odd_sum+i\n",
    "print('Even number sum is : ', even_sum)\n",
    "print('odd number sum is : ', odd_sum)\n",
    "print('Even number count is : ', even_count)\n",
    "print('odd number count is : ', odd_count)"
   ]
  },
  {
   "cell_type": "code",
   "execution_count": 10,
   "id": "c52d47a2",
   "metadata": {},
   "outputs": [
    {
     "name": "stdout",
     "output_type": "stream",
     "text": [
      "Even number sum is :  2450\n",
      "odd number sum is :  2500\n",
      "Even number count is :  49\n",
      "odd number count is :  50\n",
      "Even numbers list is:  [2, 4, 6, 8, 10, 12, 14, 16, 18, 20, 22, 24, 26, 28, 30, 32, 34, 36, 38, 40, 42, 44, 46, 48, 50, 52, 54, 56, 58, 60, 62, 64, 66, 68, 70, 72, 74, 76, 78, 80, 82, 84, 86, 88, 90, 92, 94, 96, 98]\n",
      "odd numbers list is:  [1, 3, 5, 7, 9, 11, 13, 15, 17, 19, 21, 23, 25, 27, 29, 31, 33, 35, 37, 39, 41, 43, 45, 47, 49, 51, 53, 55, 57, 59, 61, 63, 65, 67, 69, 71, 73, 75, 77, 79, 81, 83, 85, 87, 89, 91, 93, 95, 97, 99]\n"
     ]
    }
   ],
   "source": [
    "even_sum = 0\n",
    "odd_sum = 0\n",
    "even_count = 0\n",
    "odd_count = 0\n",
    "\n",
    "even_list = []\n",
    "odd_list =[]\n",
    "\n",
    "for i in range(1,100):\n",
    "    if i % 2 == 0:\n",
    "        even_count = even_count+1\n",
    "        even_sum = even_sum+i\n",
    "        even_list.append(i)\n",
    "    else:\n",
    "        odd_count = odd_count+1\n",
    "        odd_sum = odd_sum+i\n",
    "        odd_list.append(i)\n",
    "print('Even number sum is : ', even_sum)\n",
    "print('odd number sum is : ', odd_sum)\n",
    "print('Even number count is : ', even_count)\n",
    "print('odd number count is : ', odd_count)\n",
    "print('Even numbers list is: ',even_list)\n",
    "print('odd numbers list is: ',odd_list)"
   ]
  },
  {
   "cell_type": "code",
   "execution_count": 12,
   "id": "5480badb",
   "metadata": {},
   "outputs": [
    {
     "name": "stdout",
     "output_type": "stream",
     "text": [
      "Enter your string: this is python class\n",
      "Vowels count is:  4\n",
      "consonants count is :  13\n"
     ]
    }
   ],
   "source": [
    "S = input('Enter your string: ')\n",
    "vowels = ['a','e','i','o','u']\n",
    "vowels_count = 0\n",
    "consonants_count = 0\n",
    "for i in S.lower():\n",
    "    if i in vowels and i !=' ':\n",
    "        vowels_count = vowels_count+1\n",
    "    else:\n",
    "        if i != ' ':\n",
    "            consonants_count = consonants_count+1\n",
    "print('Vowels count is: ',vowels_count)\n",
    "print('consonants count is : ', consonants_count)"
   ]
  },
  {
   "cell_type": "code",
   "execution_count": 13,
   "id": "aed506c6",
   "metadata": {},
   "outputs": [],
   "source": [
    "S = 'python programming is good'"
   ]
  },
  {
   "cell_type": "code",
   "execution_count": 14,
   "id": "0bb5d88e",
   "metadata": {},
   "outputs": [],
   "source": [
    "L = S.split()"
   ]
  },
  {
   "cell_type": "code",
   "execution_count": 15,
   "id": "23874def",
   "metadata": {},
   "outputs": [
    {
     "data": {
      "text/plain": [
       "['python', 'programming', 'is', 'good']"
      ]
     },
     "execution_count": 15,
     "metadata": {},
     "output_type": "execute_result"
    }
   ],
   "source": [
    "L"
   ]
  },
  {
   "cell_type": "code",
   "execution_count": 16,
   "id": "a7a0019a",
   "metadata": {},
   "outputs": [],
   "source": [
    "L1 = ''.join(L)"
   ]
  },
  {
   "cell_type": "code",
   "execution_count": 17,
   "id": "cf6e680d",
   "metadata": {},
   "outputs": [
    {
     "data": {
      "text/plain": [
       "'pythonprogrammingisgood'"
      ]
     },
     "execution_count": 17,
     "metadata": {},
     "output_type": "execute_result"
    }
   ],
   "source": [
    "L1"
   ]
  },
  {
   "cell_type": "code",
   "execution_count": 22,
   "id": "519630b3",
   "metadata": {
    "scrolled": false
   },
   "outputs": [
    {
     "name": "stdout",
     "output_type": "stream",
     "text": [
      "* \n",
      "* * \n",
      "* * * \n",
      "* * * * \n",
      "* * * * * \n"
     ]
    }
   ],
   "source": [
    "n = 5\n",
    "for i in range(1,n+1):\n",
    "    for j in range(0,i):\n",
    "        print('*',end=' ')\n",
    "    print()"
   ]
  },
  {
   "cell_type": "code",
   "execution_count": 23,
   "id": "42005e0a",
   "metadata": {},
   "outputs": [
    {
     "name": "stdout",
     "output_type": "stream",
     "text": [
      "1 \n",
      "1 1 \n",
      "1 1 1 \n",
      "1 1 1 1 \n",
      "1 1 1 1 1 \n"
     ]
    }
   ],
   "source": [
    "n = 5\n",
    "for i in range(1,n+1):\n",
    "    for j in range(0,i):\n",
    "        print(1,end=' ')\n",
    "    print()"
   ]
  },
  {
   "cell_type": "code",
   "execution_count": 24,
   "id": "ba600c2c",
   "metadata": {},
   "outputs": [
    {
     "name": "stdout",
     "output_type": "stream",
     "text": [
      "1 \n",
      "2 2 \n",
      "3 3 3 \n",
      "4 4 4 4 \n",
      "5 5 5 5 5 \n"
     ]
    }
   ],
   "source": [
    "n = 5\n",
    "for i in range(1,n+1):\n",
    "    for j in range(0,i):\n",
    "        print(i,end=' ')\n",
    "    print()"
   ]
  },
  {
   "cell_type": "code",
   "execution_count": 34,
   "id": "baeae1f5",
   "metadata": {},
   "outputs": [
    {
     "name": "stdout",
     "output_type": "stream",
     "text": [
      "1 \n",
      "2 3 \n",
      "4 5 6 \n",
      "7 8 9 10 \n",
      "11 12 13 14 15 \n"
     ]
    }
   ],
   "source": [
    "n = 5\n",
    "num =1\n",
    "for i in range(0,n):\n",
    "    #num =1\n",
    "    for j in range(0,i+1):\n",
    "        print(num,end=' ')\n",
    "        num = num+1\n",
    "    print()"
   ]
  },
  {
   "cell_type": "code",
   "execution_count": 35,
   "id": "461e3b76",
   "metadata": {},
   "outputs": [
    {
     "name": "stdout",
     "output_type": "stream",
     "text": [
      "1 \n",
      "1 2 \n",
      "1 2 3 \n",
      "1 2 3 4 \n",
      "1 2 3 4 5 \n"
     ]
    }
   ],
   "source": [
    "n = 5\n",
    "for i in range(n):\n",
    "    for j in range(i+1):\n",
    "        print(j+1,end=' ')\n",
    "    print()"
   ]
  },
  {
   "cell_type": "code",
   "execution_count": 41,
   "id": "a7fb7ba2",
   "metadata": {},
   "outputs": [
    {
     "name": "stdout",
     "output_type": "stream",
     "text": [
      "5 5 5 5 5 \n",
      "4 4 4 4 \n",
      "3 3 3 \n",
      "2 2 \n",
      "1 \n"
     ]
    }
   ],
   "source": [
    "n = 5\n",
    "for i in range(n,0,-1):\n",
    "    for j in range(1,i+1):\n",
    "        print(i,end=' ')\n",
    "    print()"
   ]
  },
  {
   "cell_type": "code",
   "execution_count": null,
   "id": "895c7a7b",
   "metadata": {},
   "outputs": [],
   "source": []
  }
 ],
 "metadata": {
  "kernelspec": {
   "display_name": "Python 3",
   "language": "python",
   "name": "python3"
  },
  "language_info": {
   "codemirror_mode": {
    "name": "ipython",
    "version": 3
   },
   "file_extension": ".py",
   "mimetype": "text/x-python",
   "name": "python",
   "nbconvert_exporter": "python",
   "pygments_lexer": "ipython3",
   "version": "3.8.8"
  }
 },
 "nbformat": 4,
 "nbformat_minor": 5
}
